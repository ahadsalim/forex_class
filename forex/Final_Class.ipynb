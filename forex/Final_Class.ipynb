{
 "cells": [
  {
   "cell_type": "code",
   "execution_count": 4,
   "id": "a1fc6550-b72f-4745-97e5-06f383a1790a",
   "metadata": {},
   "outputs": [],
   "source": [
    "%reload_ext autoreload\n",
    "%autoreload 2\n",
    "\n",
    "import myforexclass as mf"
   ]
  },
  {
   "cell_type": "code",
   "execution_count": 19,
   "id": "ce8a0f51-aaab-4158-bef8-37807c2bd819",
   "metadata": {},
   "outputs": [
    {
     "name": "stderr",
     "output_type": "stream",
     "text": [
      "[*********************100%%**********************]  1 of 1 completed"
     ]
    },
    {
     "name": "stdout",
     "output_type": "stream",
     "text": [
      "Data of ETH-USD downloded.\n"
     ]
    },
    {
     "name": "stderr",
     "output_type": "stream",
     "text": [
      "\n"
     ]
    }
   ],
   "source": [
    "test = mf.forex_backtest_class([\"ETH-USD\"],\"2024-01-01\" , \"2024-02-01\", \"1h\" , 0 , 100000)"
   ]
  },
  {
   "cell_type": "code",
   "execution_count": 26,
   "id": "4d9b6fff-16da-49fa-bfa7-1939fa4667b2",
   "metadata": {},
   "outputs": [
    {
     "name": "stdout",
     "output_type": "stream",
     "text": [
      "                                 Close   returns  cum_return        SMA_S  \\\n",
      "Datetime                                                                    \n",
      "2024-01-01 01:00:00+00:00  2303.165527  0.003340    1.003345          NaN   \n",
      "2024-01-01 02:00:00+00:00  2293.860596 -0.004048    0.999292          NaN   \n",
      "2024-01-01 03:00:00+00:00  2273.409424 -0.008956    0.990382          NaN   \n",
      "2024-01-01 04:00:00+00:00  2278.694092  0.002322    0.992685          NaN   \n",
      "2024-01-01 05:00:00+00:00  2274.898682 -0.001667    0.991031          NaN   \n",
      "...                                ...       ...         ...          ...   \n",
      "2024-01-31 19:00:00+00:00  2322.056396 -0.006340    1.011575  2327.344721   \n",
      "2024-01-31 20:00:00+00:00  2289.769287 -0.014002    0.997509  2327.053289   \n",
      "2024-01-31 21:00:00+00:00  2276.155273 -0.005963    0.991579  2326.403514   \n",
      "2024-01-31 22:00:00+00:00  2285.999023  0.004315    0.995867  2325.850255   \n",
      "2024-01-31 23:00:00+00:00  2282.853760 -0.001377    0.994497  2325.143789   \n",
      "\n",
      "                                 SMA_L  pos  trades   str_sma   str_net  \\\n",
      "Datetime                                                                  \n",
      "2024-01-01 01:00:00+00:00          NaN   -1     0.0       NaN       NaN   \n",
      "2024-01-01 02:00:00+00:00          NaN   -1     0.0  0.004048  0.004048   \n",
      "2024-01-01 03:00:00+00:00          NaN   -1     0.0  0.008956  0.008956   \n",
      "2024-01-01 04:00:00+00:00          NaN   -1     0.0 -0.002322 -0.002322   \n",
      "2024-01-01 05:00:00+00:00          NaN   -1     0.0  0.001667  0.001667   \n",
      "...                                ...  ...     ...       ...       ...   \n",
      "2024-01-31 19:00:00+00:00  2272.489366    1     0.0 -0.006340 -0.006340   \n",
      "2024-01-31 20:00:00+00:00  2272.771296    1     0.0 -0.014002 -0.014002   \n",
      "2024-01-31 21:00:00+00:00  2273.015932    1     0.0 -0.005963 -0.005963   \n",
      "2024-01-31 22:00:00+00:00  2273.437161    1     0.0  0.004315  0.004315   \n",
      "2024-01-31 23:00:00+00:00  2273.839204    1     0.0 -0.001377 -0.001377   \n",
      "\n",
      "                           cum_str_net  \n",
      "Datetime                                \n",
      "2024-01-01 01:00:00+00:00          NaN  \n",
      "2024-01-01 02:00:00+00:00     1.004056  \n",
      "2024-01-01 03:00:00+00:00     1.013089  \n",
      "2024-01-01 04:00:00+00:00     1.010739  \n",
      "2024-01-01 05:00:00+00:00     1.012426  \n",
      "...                                ...  \n",
      "2024-01-31 19:00:00+00:00     1.362027  \n",
      "2024-01-31 20:00:00+00:00     1.343089  \n",
      "2024-01-31 21:00:00+00:00     1.335104  \n",
      "2024-01-31 22:00:00+00:00     1.340878  \n",
      "2024-01-31 23:00:00+00:00     1.339033  \n",
      "\n",
      "[743 rows x 10 columns]\n",
      "6.0\n"
     ]
    }
   ],
   "source": [
    "t=test.sma(\"ETH-USD\",48,172)"
   ]
  },
  {
   "cell_type": "code",
   "execution_count": 27,
   "id": "2a16d1e7-9ac1-4944-ac02-bf66d910da24",
   "metadata": {},
   "outputs": [],
   "source": [
    "test.temp_data.to_csv(\"text.csv\")"
   ]
  },
  {
   "cell_type": "code",
   "execution_count": 28,
   "id": "48de7801-5230-4407-9960-13fce502974b",
   "metadata": {},
   "outputs": [
    {
     "name": "stdout",
     "output_type": "stream",
     "text": [
      "Testing SMA Strategy | ETH-USD | SMA_S= 48 | SMA_L= 172\n",
      "---------------------------------------------------------------------------\n",
      "Initial amount is : 100000\n",
      "2024-01-08 04:00:00 Selling 45 for 2197.87695 with 0 spread. Net price is 2197.87695 and current balance is 198904.46\n",
      "2024-01-09 15:00:00 Buying 90 for 2258.80542 with 0 spread. Net price is 2258.80542 and current balance is -4388.03\n",
      "2024-01-16 16:00:00 Selling 90 for 2572.85986 with 0 spread. Net price is 2572.85986 and current balance is 227169.36\n",
      "2024-01-28 23:00:00 Buying 90 for 2257.06128 with 0 spread. Net price is 2257.06128 and current balance is 24033.84\n",
      "2024-01-31 23:00:00 Closing Position 45 for 2282.85376 with 0 spread. Net price is 2282.85376 and current balance is 126762.2592\n",
      "---------------------------------------------------------------------------\n",
      "*** Summary of trading : ETH-USD ***\n",
      "2024-01-31 23:00:00 | Performance (%) = 26.76\n",
      "2024-01-31 23:00:00 | Number of Trades = 5\n",
      "2024-01-31 23:00:00 | Performance of Buy and Hold Stategy (%)= -0.55\n",
      "2024-01-31 23:00:00 | The annual compound growth rate for 1 months = 0.2676\n",
      "2024-01-31 23:00:00 | Current Balance : 126762.26\n"
     ]
    }
   ],
   "source": [
    "t=test.sma_backtest(\"ETH-USD\",48,172)"
   ]
  },
  {
   "cell_type": "code",
   "execution_count": null,
   "id": "07048134-a1e1-4736-b566-23e2e36e75c8",
   "metadata": {},
   "outputs": [],
   "source": [
    "test.best_param_ema(\"ETH-USD\")"
   ]
  },
  {
   "cell_type": "code",
   "execution_count": null,
   "id": "2f1876d5-5d66-400c-9243-0ce2da62f7f6",
   "metadata": {},
   "outputs": [],
   "source": [
    "t=test.ema_backtest(\"ETH-USD\",9,87)"
   ]
  },
  {
   "cell_type": "code",
   "execution_count": null,
   "id": "29f3f60d-e609-45f3-918a-d2d4e43ce0b3",
   "metadata": {},
   "outputs": [],
   "source": [
    "test.best_param_dema(\"ETH-USD\")"
   ]
  },
  {
   "cell_type": "code",
   "execution_count": null,
   "id": "e174df81-4fd3-445d-9c7a-54957ecbb138",
   "metadata": {},
   "outputs": [],
   "source": [
    "t=test.dema_backtest(\"ETH-USD\",31,54)"
   ]
  },
  {
   "cell_type": "code",
   "execution_count": null,
   "id": "47ca3a4b-dfa2-43c1-bf1b-7632bed3ac02",
   "metadata": {},
   "outputs": [],
   "source": [
    "test.best_param_rsi(\"ETH-USD\")"
   ]
  },
  {
   "cell_type": "code",
   "execution_count": null,
   "id": "16997b3b-5037-4a3b-bae7-7b05e7fdfe0a",
   "metadata": {},
   "outputs": [],
   "source": [
    "t=test.rsi_backtest(\"ETH-USD\",17,25,71)"
   ]
  },
  {
   "cell_type": "code",
   "execution_count": null,
   "id": "c2375b33-2118-4934-a08a-c8536cf99256",
   "metadata": {},
   "outputs": [],
   "source": [
    "test.best_macd(\"ETH-USD\")"
   ]
  },
  {
   "cell_type": "code",
   "execution_count": null,
   "id": "a9e30ce9-c8d2-4a5b-b8ca-58a0c70e7a55",
   "metadata": {},
   "outputs": [],
   "source": [
    "t=test.macd_backtest(\"ETH-USD\",19,39,14)"
   ]
  },
  {
   "cell_type": "code",
   "execution_count": null,
   "id": "c952d675-cf5c-40d7-8fd1-c69c64807964",
   "metadata": {},
   "outputs": [],
   "source": [
    "test.best_bollinger(\"ETH-USD\")"
   ]
  },
  {
   "cell_type": "code",
   "execution_count": null,
   "id": "e364496e-722b-4bba-b9a4-984cd3dc01d3",
   "metadata": {},
   "outputs": [],
   "source": [
    "t=test.bollinger_backtest(\"ETH-USD\",44,3)"
   ]
  },
  {
   "cell_type": "code",
   "execution_count": null,
   "id": "5f04e227-e8f3-4c3e-98e1-ee2eb2c88d35",
   "metadata": {},
   "outputs": [],
   "source": [
    "test.best_stochastic(\"ETH-USD\")"
   ]
  },
  {
   "cell_type": "code",
   "execution_count": null,
   "id": "59000688-133f-4642-8ee1-bf577554ad1b",
   "metadata": {},
   "outputs": [],
   "source": [
    "t=test.stochastic_backtest(\"ETH-USD\",14,2)"
   ]
  },
  {
   "cell_type": "code",
   "execution_count": null,
   "id": "fb735361-dfaf-4b76-bc98-18062496f274",
   "metadata": {},
   "outputs": [],
   "source": [
    "test.atr(\"ETH-USD\",14)"
   ]
  },
  {
   "cell_type": "code",
   "execution_count": null,
   "id": "8a02d023-5223-4d14-b484-1a00e06cb954",
   "metadata": {},
   "outputs": [],
   "source": [
    "test.adx(\"ETH-USD\",14)"
   ]
  },
  {
   "cell_type": "code",
   "execution_count": null,
   "id": "6c5d8184-16d3-4e46-94e8-0167c2856de0",
   "metadata": {},
   "outputs": [],
   "source": [
    "test.obv(\"ETH-USD\")"
   ]
  },
  {
   "cell_type": "code",
   "execution_count": null,
   "id": "f5ce94ef-a6eb-4a8a-8f81-9eddf5a78120",
   "metadata": {},
   "outputs": [],
   "source": [
    "t=test.ichimoku(\"ETH-USD\")\n",
    "print(t[0].tail(50))\n",
    "print(t[1])"
   ]
  },
  {
   "cell_type": "code",
   "execution_count": null,
   "id": "c8b09733-9e22-408e-a730-01d85fd9f08d",
   "metadata": {},
   "outputs": [],
   "source": [
    "test.ichimoku_backtest(\"ETH-USD\")"
   ]
  },
  {
   "cell_type": "code",
   "execution_count": null,
   "id": "e631c268-29fd-48c4-8cb9-18cdbe413db4",
   "metadata": {},
   "outputs": [],
   "source": [
    "test = mf.forex_backtest_class([\"EURUSD=X\"],\"2024-01-01\" , \"2024-07-01\", \"1d\" , 0.0001 , 100000)\n",
    "test.data"
   ]
  },
  {
   "cell_type": "code",
   "execution_count": null,
   "id": "17c532a0-1b5f-4578-901e-581a6a7365f4",
   "metadata": {},
   "outputs": [],
   "source": [
    "test.ichimoku_backtest(\"EURUSD=X\")"
   ]
  },
  {
   "cell_type": "code",
   "execution_count": null,
   "id": "c14f4d3f-38d9-49c8-b1d2-88db436115a6",
   "metadata": {},
   "outputs": [],
   "source": [
    "import MetaTrader5 as mt5\n",
    "import myforexclass as mf\n",
    "import datetime\n",
    "\n",
    "start_year = 2024\n",
    "start_month = 3\n",
    "end_year = 2024\n",
    "end_month = 6\n",
    "interval = \"1h\"\n",
    "tickers=[\"ETH-USD\"]\n",
    "result_data = mf.pd.DataFrame(columns=[\"date\",\"ticker\",\"return_hold\",\"short_sma\",\"long_sma\",\"return_sma\",\"short_ema\",\"long_ema\",\"return_ema\",\n",
    "                                       \"short_dema\",\"long_dema\",\"return_dema\",\"period_rsi\",\"m_down_rsi\",\"m_up_rsi\",\"return_rsi\"])\n",
    "\n",
    "# حلقه برای دریافت داده‌های هر ماه\n",
    "year = start_year\n",
    "month = start_month\n",
    "for ticker in tickers :\n",
    "    while year < end_year or (year == end_year and month <= end_month):\n",
    "        start_month_date = datetime.date(year, month, 1)\n",
    "        print(f\" دریافت داده‌های ماه قبل {month}-{year} نماد {ticker}\")\n",
    "        if month == 12:\n",
    "            end_month_date = datetime.date(year+1, 1, 1) - datetime.timedelta(days=1)\n",
    "            year += 1\n",
    "            month = 1\n",
    "        else:\n",
    "            end_month_date = start_month_date.replace(month=month+1) - datetime.timedelta(days=1)\n",
    "            month += 1\n",
    "\n",
    "        t = mf.forex_backtest_class([ticker],start_month_date , end_month_date , interval )\n",
    "        #******************************** SMA\n",
    "        (s_sma,l_sma)= t.best_param_sma(ticker)\n",
    "        r_sma=t.sma(ticker,s_sma,l_sma)\n",
    "        r_h=t.get_perf_hold(-1)\n",
    "        #******************************* EMA\n",
    "        (s_ema,l_ema)= t.best_param_ema(ticker)\n",
    "        r_ema=t.ema(ticker,s_ema,l_ema)\n",
    "        #******************************* DMA\n",
    "        (s_dema,l_dema)= t.best_param_dema(ticker)\n",
    "        r_dema=t.dema(ticker,s_dema,l_dema)\n",
    "        #******************************* RSI\n",
    "        (p_rsi,d_rsi,u_rsi)= t.best_param_rsi(ticker)\n",
    "        r_rsi=t.rsi(ticker,p_rsi,d_rsi,u_rsi)\n",
    "        \n",
    "        \n",
    "        \n",
    "        new_row = mf.pd.Series([end_month_date,ticker ,r_h,s_sma, l_sma, r_sma,s_ema,l_ema,r_ema,s_dema,l_dema,r_dema,p_rsi,d_rsi,u_rsi,r_rsi], index=result_data.columns)\n",
    "        result_data = mf.pd.concat([result_data, new_row.to_frame().T], ignore_index=True)\n",
    "\n",
    "result_data.set_index('date', inplace=True)\n",
    "print(result_data)"
   ]
  },
  {
   "cell_type": "code",
   "execution_count": 22,
   "id": "eba60a2e-14d8-4f8a-8733-2d1f8aecdcbe",
   "metadata": {},
   "outputs": [
    {
     "data": {
      "text/plain": [
       "(48, 172)"
      ]
     },
     "execution_count": 22,
     "metadata": {},
     "output_type": "execute_result"
    }
   ],
   "source": [
    "t"
   ]
  },
  {
   "cell_type": "code",
   "execution_count": 1,
   "id": "8d01ea0e-e1a9-4ee9-8df7-f8a0e3a1a3d5",
   "metadata": {},
   "outputs": [
    {
     "name": "stderr",
     "output_type": "stream",
     "text": [
      "\n",
      "A module that was compiled using NumPy 1.x cannot be run in\n",
      "NumPy 2.1.1 as it may crash. To support both 1.x and 2.x\n",
      "versions of NumPy, modules must be compiled with NumPy 2.0.\n",
      "Some module may need to rebuild instead e.g. with 'pybind11>=2.12'.\n",
      "\n",
      "If you are a user of the module, the easiest solution will be to\n",
      "downgrade to 'numpy<2' or try to upgrade the affected module.\n",
      "We expect that some modules will need time to support NumPy 2.\n",
      "\n",
      "Traceback (most recent call last):  File \"<frozen runpy>\", line 198, in _run_module_as_main\n",
      "  File \"<frozen runpy>\", line 88, in _run_code\n",
      "  File \"C:\\Users\\ahads\\AppData\\Local\\Programs\\Python\\Python312\\Lib\\site-packages\\ipykernel_launcher.py\", line 18, in <module>\n",
      "    app.launch_new_instance()\n",
      "  File \"C:\\Users\\ahads\\AppData\\Local\\Programs\\Python\\Python312\\Lib\\site-packages\\traitlets\\config\\application.py\", line 1075, in launch_instance\n",
      "    app.start()\n",
      "  File \"C:\\Users\\ahads\\AppData\\Local\\Programs\\Python\\Python312\\Lib\\site-packages\\ipykernel\\kernelapp.py\", line 739, in start\n",
      "    self.io_loop.start()\n",
      "  File \"C:\\Users\\ahads\\AppData\\Local\\Programs\\Python\\Python312\\Lib\\site-packages\\tornado\\platform\\asyncio.py\", line 205, in start\n",
      "    self.asyncio_loop.run_forever()\n",
      "  File \"C:\\Users\\ahads\\AppData\\Local\\Programs\\Python\\Python312\\Lib\\asyncio\\base_events.py\", line 641, in run_forever\n",
      "    self._run_once()\n",
      "  File \"C:\\Users\\ahads\\AppData\\Local\\Programs\\Python\\Python312\\Lib\\asyncio\\base_events.py\", line 1986, in _run_once\n",
      "    handle._run()\n",
      "  File \"C:\\Users\\ahads\\AppData\\Local\\Programs\\Python\\Python312\\Lib\\asyncio\\events.py\", line 88, in _run\n",
      "    self._context.run(self._callback, *self._args)\n",
      "  File \"C:\\Users\\ahads\\AppData\\Local\\Programs\\Python\\Python312\\Lib\\site-packages\\ipykernel\\kernelbase.py\", line 545, in dispatch_queue\n",
      "    await self.process_one()\n",
      "  File \"C:\\Users\\ahads\\AppData\\Local\\Programs\\Python\\Python312\\Lib\\site-packages\\ipykernel\\kernelbase.py\", line 534, in process_one\n",
      "    await dispatch(*args)\n",
      "  File \"C:\\Users\\ahads\\AppData\\Local\\Programs\\Python\\Python312\\Lib\\site-packages\\ipykernel\\kernelbase.py\", line 437, in dispatch_shell\n",
      "    await result\n",
      "  File \"C:\\Users\\ahads\\AppData\\Local\\Programs\\Python\\Python312\\Lib\\site-packages\\ipykernel\\ipkernel.py\", line 362, in execute_request\n",
      "    await super().execute_request(stream, ident, parent)\n",
      "  File \"C:\\Users\\ahads\\AppData\\Local\\Programs\\Python\\Python312\\Lib\\site-packages\\ipykernel\\kernelbase.py\", line 778, in execute_request\n",
      "    reply_content = await reply_content\n",
      "  File \"C:\\Users\\ahads\\AppData\\Local\\Programs\\Python\\Python312\\Lib\\site-packages\\ipykernel\\ipkernel.py\", line 449, in do_execute\n",
      "    res = shell.run_cell(\n",
      "  File \"C:\\Users\\ahads\\AppData\\Local\\Programs\\Python\\Python312\\Lib\\site-packages\\ipykernel\\zmqshell.py\", line 549, in run_cell\n",
      "    return super().run_cell(*args, **kwargs)\n",
      "  File \"C:\\Users\\ahads\\AppData\\Local\\Programs\\Python\\Python312\\Lib\\site-packages\\IPython\\core\\interactiveshell.py\", line 3075, in run_cell\n",
      "    result = self._run_cell(\n",
      "  File \"C:\\Users\\ahads\\AppData\\Local\\Programs\\Python\\Python312\\Lib\\site-packages\\IPython\\core\\interactiveshell.py\", line 3130, in _run_cell\n",
      "    result = runner(coro)\n",
      "  File \"C:\\Users\\ahads\\AppData\\Local\\Programs\\Python\\Python312\\Lib\\site-packages\\IPython\\core\\async_helpers.py\", line 128, in _pseudo_sync_runner\n",
      "    coro.send(None)\n",
      "  File \"C:\\Users\\ahads\\AppData\\Local\\Programs\\Python\\Python312\\Lib\\site-packages\\IPython\\core\\interactiveshell.py\", line 3334, in run_cell_async\n",
      "    has_raised = await self.run_ast_nodes(code_ast.body, cell_name,\n",
      "  File \"C:\\Users\\ahads\\AppData\\Local\\Programs\\Python\\Python312\\Lib\\site-packages\\IPython\\core\\interactiveshell.py\", line 3517, in run_ast_nodes\n",
      "    if await self.run_code(code, result, async_=asy):\n",
      "  File \"C:\\Users\\ahads\\AppData\\Local\\Programs\\Python\\Python312\\Lib\\site-packages\\IPython\\core\\interactiveshell.py\", line 3577, in run_code\n",
      "    exec(code_obj, self.user_global_ns, self.user_ns)\n",
      "  File \"C:\\Users\\ahads\\AppData\\Local\\Temp\\ipykernel_11364\\2119920293.py\", line 1, in <module>\n",
      "    import MetaTrader5 as mt5\n",
      "  File \"C:\\Users\\ahads\\AppData\\Local\\Programs\\Python\\Python312\\Lib\\site-packages\\MetaTrader5\\__init__.py\", line 258, in <module>\n",
      "    from ._core import *\n"
     ]
    },
    {
     "ename": "ImportError",
     "evalue": "\nA module that was compiled using NumPy 1.x cannot be run in\nNumPy 2.1.1 as it may crash. To support both 1.x and 2.x\nversions of NumPy, modules must be compiled with NumPy 2.0.\nSome module may need to rebuild instead e.g. with 'pybind11>=2.12'.\n\nIf you are a user of the module, the easiest solution will be to\ndowngrade to 'numpy<2' or try to upgrade the affected module.\nWe expect that some modules will need time to support NumPy 2.\n\n",
     "output_type": "error",
     "traceback": [
      "\u001b[1;31m---------------------------------------------------------------------------\u001b[0m",
      "\u001b[1;31mImportError\u001b[0m                               Traceback (most recent call last)",
      "File \u001b[1;32m~\\AppData\\Local\\Programs\\Python\\Python312\\Lib\\site-packages\\numpy\\core\\_multiarray_umath.py:44\u001b[0m, in \u001b[0;36m__getattr__\u001b[1;34m(attr_name)\u001b[0m\n\u001b[0;32m     39\u001b[0m     \u001b[38;5;66;03m# Also print the message (with traceback).  This is because old versions\u001b[39;00m\n\u001b[0;32m     40\u001b[0m     \u001b[38;5;66;03m# of NumPy unfortunately set up the import to replace (and hide) the\u001b[39;00m\n\u001b[0;32m     41\u001b[0m     \u001b[38;5;66;03m# error.  The traceback shouldn't be needed, but e.g. pytest plugins\u001b[39;00m\n\u001b[0;32m     42\u001b[0m     \u001b[38;5;66;03m# seem to swallow it and we should be failing anyway...\u001b[39;00m\n\u001b[0;32m     43\u001b[0m     sys\u001b[38;5;241m.\u001b[39mstderr\u001b[38;5;241m.\u001b[39mwrite(msg \u001b[38;5;241m+\u001b[39m tb_msg)\n\u001b[1;32m---> 44\u001b[0m     \u001b[38;5;28;01mraise\u001b[39;00m \u001b[38;5;167;01mImportError\u001b[39;00m(msg)\n\u001b[0;32m     46\u001b[0m ret \u001b[38;5;241m=\u001b[39m \u001b[38;5;28mgetattr\u001b[39m(_multiarray_umath, attr_name, \u001b[38;5;28;01mNone\u001b[39;00m)\n\u001b[0;32m     47\u001b[0m \u001b[38;5;28;01mif\u001b[39;00m ret \u001b[38;5;129;01mis\u001b[39;00m \u001b[38;5;28;01mNone\u001b[39;00m:\n",
      "\u001b[1;31mImportError\u001b[0m: \nA module that was compiled using NumPy 1.x cannot be run in\nNumPy 2.1.1 as it may crash. To support both 1.x and 2.x\nversions of NumPy, modules must be compiled with NumPy 2.0.\nSome module may need to rebuild instead e.g. with 'pybind11>=2.12'.\n\nIf you are a user of the module, the easiest solution will be to\ndowngrade to 'numpy<2' or try to upgrade the affected module.\nWe expect that some modules will need time to support NumPy 2.\n\n"
     ]
    },
    {
     "ename": "ImportError",
     "evalue": "numpy.core.multiarray failed to import",
     "output_type": "error",
     "traceback": [
      "\u001b[1;31m---------------------------------------------------------------------------\u001b[0m",
      "\u001b[1;31mImportError\u001b[0m                               Traceback (most recent call last)",
      "Cell \u001b[1;32mIn[1], line 1\u001b[0m\n\u001b[1;32m----> 1\u001b[0m \u001b[38;5;28;01mimport\u001b[39;00m \u001b[38;5;21;01mMetaTrader5\u001b[39;00m \u001b[38;5;28;01mas\u001b[39;00m \u001b[38;5;21;01mmt5\u001b[39;00m\n\u001b[0;32m      2\u001b[0m \u001b[38;5;66;03m# display data on the MetaTrader 5 package\u001b[39;00m\n\u001b[0;32m      3\u001b[0m \u001b[38;5;28mprint\u001b[39m(\u001b[38;5;124m\"\u001b[39m\u001b[38;5;124mMetaTrader5 package author: \u001b[39m\u001b[38;5;124m\"\u001b[39m,mt5\u001b[38;5;241m.\u001b[39m__author__)\n",
      "File \u001b[1;32m~\\AppData\\Local\\Programs\\Python\\Python312\\Lib\\site-packages\\MetaTrader5\\__init__.py:258\u001b[0m\n\u001b[0;32m    255\u001b[0m RES_E_INTERNAL_FAIL_TIMEOUT         \u001b[38;5;241m=\u001b[39m\u001b[38;5;241m-\u001b[39m\u001b[38;5;241m10005\u001b[39m      \u001b[38;5;66;03m# internal timeout\u001b[39;00m\n\u001b[0;32m    257\u001b[0m \u001b[38;5;66;03m# import C methods to our module\u001b[39;00m\n\u001b[1;32m--> 258\u001b[0m \u001b[38;5;28;01mfrom\u001b[39;00m \u001b[38;5;21;01m.\u001b[39;00m\u001b[38;5;21;01m_core\u001b[39;00m \u001b[38;5;28;01mimport\u001b[39;00m \u001b[38;5;241m*\u001b[39m\n\u001b[0;32m    260\u001b[0m \u001b[38;5;66;03m# internal order send\u001b[39;00m\n\u001b[0;32m    261\u001b[0m \u001b[38;5;28;01mdef\u001b[39;00m \u001b[38;5;21m_RawOrder\u001b[39m(order_type, symbol, volume, price, comment\u001b[38;5;241m=\u001b[39m\u001b[38;5;28;01mNone\u001b[39;00m, ticket\u001b[38;5;241m=\u001b[39m\u001b[38;5;28;01mNone\u001b[39;00m):\n",
      "\u001b[1;31mImportError\u001b[0m: numpy.core.multiarray failed to import"
     ]
    }
   ],
   "source": [
    "import MetaTrader5 as mt5\n",
    "# display data on the MetaTrader 5 package\n",
    "print(\"MetaTrader5 package author: \",mt5.__author__)\n",
    "print(\"MetaTrader5 package version: \",mt5.__version__)\n",
    " \n",
    "# establish connection to the MetaTrader 5 terminal\n",
    "if not mt5.initialize():\n",
    "    print(\"initialize() failed, error code =\",mt5.last_error())\n",
    "    quit()\n",
    " \n",
    "# get the number of financial instruments\n",
    "symbols=mt5.symbols_total()\n",
    "if symbols>0:\n",
    "    print(\"Total symbols =\",symbols)\n",
    "else:\n",
    "    print(\"symbols not found\")\n",
    " \n",
    "# shut down connection to the MetaTrader 5 terminal\n",
    "mt5.shutdown()"
   ]
  },
  {
   "cell_type": "code",
   "execution_count": 3,
   "id": "04a6c2b8-ee20-47f3-8c53-f6ec8f085d12",
   "metadata": {},
   "outputs": [
    {
     "name": "stdout",
     "output_type": "stream",
     "text": [
      "Requirement already satisfied: numpy in c:\\users\\ahads\\appdata\\local\\programs\\python\\python312\\lib\\site-packages (2.1.2)\n"
     ]
    }
   ],
   "source": [
    "!pip install -U numpy"
   ]
  },
  {
   "cell_type": "code",
   "execution_count": null,
   "id": "443c4a3b-e5cc-44b8-8753-792a8106ccdc",
   "metadata": {},
   "outputs": [],
   "source": []
  }
 ],
 "metadata": {
  "kernelspec": {
   "display_name": "Python 3 (ipykernel)",
   "language": "python",
   "name": "python3"
  },
  "language_info": {
   "codemirror_mode": {
    "name": "ipython",
    "version": 3
   },
   "file_extension": ".py",
   "mimetype": "text/x-python",
   "name": "python",
   "nbconvert_exporter": "python",
   "pygments_lexer": "ipython3",
   "version": "3.12.6"
  }
 },
 "nbformat": 4,
 "nbformat_minor": 5
}
