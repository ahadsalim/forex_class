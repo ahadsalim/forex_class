{
 "cells": [
  {
   "cell_type": "code",
   "execution_count": 1,
   "id": "a1fc6550-b72f-4745-97e5-06f383a1790a",
   "metadata": {},
   "outputs": [],
   "source": [
    "%reload_ext autoreload\n",
    "%autoreload 2\n",
    "\n",
    "import myforexclass as mf"
   ]
  },
  {
   "cell_type": "code",
   "execution_count": null,
   "id": "ce8a0f51-aaab-4158-bef8-37807c2bd819",
   "metadata": {},
   "outputs": [],
   "source": [
    "test = mf.forex_backtest_class([\"ETH-USD\"],\"2024-01-01\" , \"2024-02-01\", \"1h\" , 0.0001 , 100000)"
   ]
  },
  {
   "cell_type": "code",
   "execution_count": null,
   "id": "71fbe350-25ae-4dc6-ba4b-61da4dde305c",
   "metadata": {},
   "outputs": [],
   "source": [
    "test.data"
   ]
  },
  {
   "cell_type": "code",
   "execution_count": null,
   "id": "f9b0cfba-8c4c-4dd4-8281-8f011c6acbdd",
   "metadata": {},
   "outputs": [],
   "source": [
    "test.plot_data()"
   ]
  },
  {
   "cell_type": "code",
   "execution_count": null,
   "id": "664c47c7-48ac-4fff-ac83-026745a0ff5d",
   "metadata": {},
   "outputs": [],
   "source": [
    "test.best_sma(\"ETH-USD\")"
   ]
  },
  {
   "cell_type": "code",
   "execution_count": null,
   "id": "48de7801-5230-4407-9960-13fce502974b",
   "metadata": {},
   "outputs": [],
   "source": [
    "t=test.sma_backtest(\"ETH-USD\",37,187)"
   ]
  },
  {
   "cell_type": "code",
   "execution_count": null,
   "id": "07048134-a1e1-4736-b566-23e2e36e75c8",
   "metadata": {},
   "outputs": [],
   "source": [
    "test.best_ema(\"ETH-USD\")"
   ]
  },
  {
   "cell_type": "code",
   "execution_count": null,
   "id": "2f1876d5-5d66-400c-9243-0ce2da62f7f6",
   "metadata": {},
   "outputs": [],
   "source": [
    "t=test.ema_backtest(\"ETH-USD\",9,87)"
   ]
  },
  {
   "cell_type": "code",
   "execution_count": null,
   "id": "29f3f60d-e609-45f3-918a-d2d4e43ce0b3",
   "metadata": {},
   "outputs": [],
   "source": [
    "test.best_dema(\"ETH-USD\")"
   ]
  },
  {
   "cell_type": "code",
   "execution_count": null,
   "id": "e174df81-4fd3-445d-9c7a-54957ecbb138",
   "metadata": {},
   "outputs": [],
   "source": [
    "t=test.dema_backtest(\"ETH-USD\",31,54)"
   ]
  },
  {
   "cell_type": "code",
   "execution_count": null,
   "id": "47ca3a4b-dfa2-43c1-bf1b-7632bed3ac02",
   "metadata": {},
   "outputs": [],
   "source": [
    "test.best_rsi(\"ETH-USD\")"
   ]
  },
  {
   "cell_type": "code",
   "execution_count": null,
   "id": "16997b3b-5037-4a3b-bae7-7b05e7fdfe0a",
   "metadata": {},
   "outputs": [],
   "source": [
    "t=test.rsi_backtest(\"ETH-USD\",17,25,71)"
   ]
  },
  {
   "cell_type": "code",
   "execution_count": null,
   "id": "c2375b33-2118-4934-a08a-c8536cf99256",
   "metadata": {},
   "outputs": [],
   "source": [
    "test.best_macd(\"ETH-USD\")"
   ]
  },
  {
   "cell_type": "code",
   "execution_count": null,
   "id": "a9e30ce9-c8d2-4a5b-b8ca-58a0c70e7a55",
   "metadata": {},
   "outputs": [],
   "source": [
    "t=test.macd_backtest(\"ETH-USD\",19,39,14)"
   ]
  },
  {
   "cell_type": "code",
   "execution_count": null,
   "id": "c952d675-cf5c-40d7-8fd1-c69c64807964",
   "metadata": {},
   "outputs": [],
   "source": [
    "test.best_bollinger(\"ETH-USD\")"
   ]
  },
  {
   "cell_type": "code",
   "execution_count": null,
   "id": "e364496e-722b-4bba-b9a4-984cd3dc01d3",
   "metadata": {},
   "outputs": [],
   "source": [
    "t=test.bollinger_backtest(\"ETH-USD\",44,3)"
   ]
  },
  {
   "cell_type": "code",
   "execution_count": null,
   "id": "5f04e227-e8f3-4c3e-98e1-ee2eb2c88d35",
   "metadata": {},
   "outputs": [],
   "source": [
    "test.best_stochastic(\"ETH-USD\")"
   ]
  },
  {
   "cell_type": "code",
   "execution_count": null,
   "id": "59000688-133f-4642-8ee1-bf577554ad1b",
   "metadata": {},
   "outputs": [],
   "source": [
    "t=test.stochastic_backtest(\"ETH-USD\",14,2)"
   ]
  },
  {
   "cell_type": "code",
   "execution_count": null,
   "id": "fb735361-dfaf-4b76-bc98-18062496f274",
   "metadata": {},
   "outputs": [],
   "source": [
    "test.atr(\"ETH-USD\",14)"
   ]
  },
  {
   "cell_type": "code",
   "execution_count": null,
   "id": "8a02d023-5223-4d14-b484-1a00e06cb954",
   "metadata": {},
   "outputs": [],
   "source": [
    "test.adx(\"ETH-USD\",14)"
   ]
  },
  {
   "cell_type": "code",
   "execution_count": null,
   "id": "6c5d8184-16d3-4e46-94e8-0167c2856de0",
   "metadata": {},
   "outputs": [],
   "source": [
    "test.obv(\"ETH-USD\")"
   ]
  },
  {
   "cell_type": "code",
   "execution_count": null,
   "id": "f5ce94ef-a6eb-4a8a-8f81-9eddf5a78120",
   "metadata": {},
   "outputs": [],
   "source": [
    "t=test.ichimoku(\"ETH-USD\")\n",
    "print(t[0].tail(50))\n",
    "print(t[1])"
   ]
  },
  {
   "cell_type": "code",
   "execution_count": null,
   "id": "c8b09733-9e22-408e-a730-01d85fd9f08d",
   "metadata": {},
   "outputs": [],
   "source": [
    "test.ichimoku_backtest(\"ETH-USD\")"
   ]
  },
  {
   "cell_type": "code",
   "execution_count": 7,
   "id": "e631c268-29fd-48c4-8cb9-18cdbe413db4",
   "metadata": {},
   "outputs": [
    {
     "name": "stderr",
     "output_type": "stream",
     "text": [
      "[*********************100%%**********************]  1 of 1 completed"
     ]
    },
    {
     "name": "stdout",
     "output_type": "stream",
     "text": [
      "Data of EURUSD=X downloded.\n",
      "Testing Ichimuko Strategy | EURUSD=X | s= 14 | m= 26 | l=52\n",
      "---------------------------------------------------------------------------\n",
      "Initial amount is : 100000\n",
      "2024-01-15 Selling 91364 for 1.09457 with 0.0001 spread. Net price is 1.09452 and current balance is 199999.73\n",
      "2024-03-14 Buying 91364 for 1.09553 with 0.0001 spread. Net price is 1.09558 and current balance is 99903.16\n",
      "** Closed last short position !\n",
      "2024-03-14 Buying 91187 for 1.09553 with 0.0001 spread. Net price is 1.09558 and current balance is 0.51\n",
      "2024-04-03 Selling 91187 for 1.07686 with 0.0001 spread. Net price is 1.07681 and current balance is 98191.58\n",
      "** Closed last long position !\n",
      "2024-04-03 Selling 91187 for 1.07686 with 0.0001 spread. Net price is 1.07681 and current balance is 196382.65\n",
      "2024-05-21 Buying 91187 for 1.08608 with 0.0001 spread. Net price is 1.08613 and current balance is 97341.71\n",
      "** Closed last short position !\n",
      "2024-05-21 Buying 89622 for 1.08608 with 0.0001 spread. Net price is 1.08613 and current balance is 0.57\n",
      "2024-06-26 Selling 89622 for 1.07096 with 0.0001 spread. Net price is 1.07091 and current balance is 95977.67\n",
      "** Closed last long position !\n",
      "2024-06-26 Selling 89622 for 1.07096 with 0.0001 spread. Net price is 1.07091 and current balance is 191954.77\n",
      "---------------------------------------------------------------------------\n",
      "*** Summary of trading : EURUSD=X ***\n",
      "2024-06-28 | Closing position of -89622 for 1.07085\n",
      "2024-06-28 | Performance (%) = -4.02\n",
      "2024-06-28 | Number of Trades = 10\n",
      "2024-06-28 | Performance of Buy and Hold Stategy (%)= -3.14\n",
      "2024-06-28 | Current Balance : 95978.57\n"
     ]
    },
    {
     "name": "stderr",
     "output_type": "stream",
     "text": [
      "\n"
     ]
    },
    {
     "data": {
      "text/plain": [
       "(-4.02, 10, -3.14, 95978.57)"
      ]
     },
     "execution_count": 7,
     "metadata": {},
     "output_type": "execute_result"
    }
   ],
   "source": [
    "test = mf.forex_backtest_class([\"EURUSD=X\"],\"2024-01-01\" , \"2024-07-01\", \"1d\" , 0.0001 , 100000)\n",
    "test.data"
   ]
  },
  {
   "cell_type": "code",
   "execution_count": 10,
   "id": "17c532a0-1b5f-4578-901e-581a6a7365f4",
   "metadata": {},
   "outputs": [
    {
     "name": "stdout",
     "output_type": "stream",
     "text": [
      "Testing Ichimuko Strategy | EURUSD=X | s= 14 | m= 26 | l=52\n",
      "---------------------------------------------------------------------------\n",
      "Initial amount is : 100000\n",
      "2024-01-15 Selling 91364 for 1.09457 with 0.0001 spread. Net price is 1.09452 and current balance is 199999.73\n",
      "2024-02-29 Buying 91364 for 1.08388 with 0.0001 spread. Net price is 1.08393 and current balance is 100967.55\n",
      "** Closed last short position !\n",
      "2024-02-29 Buying 93149 for 1.08388 with 0.0001 spread. Net price is 1.08393 and current balance is 0.55\n",
      "2024-03-14 Buying 0 for 1.09553 with 0.0001 spread. Net price is 1.09558 and current balance is 0.55\n",
      "2024-03-27 Selling 93149 for 1.08324 with 0.0001 spread. Net price is 1.08319 and current balance is 100898.62\n",
      "** Closed last long position !\n",
      "2024-03-27 Selling 93149 for 1.08324 with 0.0001 spread. Net price is 1.08319 and current balance is 201796.69\n",
      "2024-04-03 Selling 187402 for 1.07686 with 0.0001 spread. Net price is 1.07681 and current balance is 403593.04\n",
      "2024-05-14 Buying 280551 for 1.07935 with 0.0001 spread. Net price is 1.0794 and current balance is 100766.29\n",
      "** Closed last short position !\n",
      "2024-05-14 Buying 93353 for 1.07935 with 0.0001 spread. Net price is 1.0794 and current balance is 1.06\n",
      "2024-05-21 Buying 0 for 1.08608 with 0.0001 spread. Net price is 1.08613 and current balance is 1.06\n",
      "2024-06-17 Selling 93353 for 1.07022 with 0.0001 spread. Net price is 1.07017 and current balance is 99904.64\n",
      "** Closed last long position !\n",
      "2024-06-17 Selling 93353 for 1.07022 with 0.0001 spread. Net price is 1.07017 and current balance is 199808.22\n",
      "2024-06-26 Selling 186577 for 1.07096 with 0.0001 spread. Net price is 1.07091 and current balance is 399615.4\n",
      "---------------------------------------------------------------------------\n",
      "*** Summary of trading : EURUSD=X ***\n",
      "2024-06-28 | Closing position of -279930 for 1.07085\n",
      "2024-06-28 | Performance (%) = -0.16\n",
      "2024-06-28 | Number of Trades = 14\n",
      "2024-06-28 | Performance of Buy and Hold Stategy (%)= -3.14\n",
      "2024-06-28 | Current Balance : 99838.36\n"
     ]
    },
    {
     "data": {
      "text/plain": [
       "(-0.16, 14, -3.14, 99838.36)"
      ]
     },
     "execution_count": 10,
     "metadata": {},
     "output_type": "execute_result"
    }
   ],
   "source": [
    "test.ichimoku_backtest(\"EURUSD=X\")"
   ]
  },
  {
   "cell_type": "code",
   "execution_count": null,
   "id": "c14f4d3f-38d9-49c8-b1d2-88db436115a6",
   "metadata": {},
   "outputs": [],
   "source": []
  }
 ],
 "metadata": {
  "kernelspec": {
   "display_name": "Python 3 (ipykernel)",
   "language": "python",
   "name": "python3"
  },
  "language_info": {
   "codemirror_mode": {
    "name": "ipython",
    "version": 3
   },
   "file_extension": ".py",
   "mimetype": "text/x-python",
   "name": "python",
   "nbconvert_exporter": "python",
   "pygments_lexer": "ipython3",
   "version": "3.12.3"
  }
 },
 "nbformat": 4,
 "nbformat_minor": 5
}
