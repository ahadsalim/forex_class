{
 "cells": [
  {
   "cell_type": "code",
   "execution_count": 2,
   "id": "a1fc6550-b72f-4745-97e5-06f383a1790a",
   "metadata": {},
   "outputs": [],
   "source": [
    "%reload_ext autoreload\n",
    "%autoreload 2\n",
    "\n",
    "import myforexclass as mf"
   ]
  },
  {
   "cell_type": "code",
   "execution_count": 39,
   "id": "ce8a0f51-aaab-4158-bef8-37807c2bd819",
   "metadata": {},
   "outputs": [
    {
     "name": "stderr",
     "output_type": "stream",
     "text": [
      "[*********************100%%**********************]  1 of 1 completed"
     ]
    },
    {
     "name": "stdout",
     "output_type": "stream",
     "text": [
      "Data of ETH-USD downloded.\n"
     ]
    },
    {
     "name": "stderr",
     "output_type": "stream",
     "text": [
      "\n"
     ]
    }
   ],
   "source": [
    "test = mf.forex_backtest_class([\"ETH-USD\"],\"2023-01-01\" , \"2024-07-01\", \"1d\" , 0.0001 , 100000)"
   ]
  },
  {
   "cell_type": "code",
   "execution_count": null,
   "id": "71fbe350-25ae-4dc6-ba4b-61da4dde305c",
   "metadata": {},
   "outputs": [],
   "source": [
    "test.data"
   ]
  },
  {
   "cell_type": "code",
   "execution_count": null,
   "id": "f9b0cfba-8c4c-4dd4-8281-8f011c6acbdd",
   "metadata": {},
   "outputs": [],
   "source": [
    "test.plot_data()"
   ]
  },
  {
   "cell_type": "code",
   "execution_count": 40,
   "id": "664c47c7-48ac-4fff-ac83-026745a0ff5d",
   "metadata": {},
   "outputs": [
    {
     "data": {
      "text/plain": [
       "0.81102"
      ]
     },
     "execution_count": 40,
     "metadata": {},
     "output_type": "execute_result"
    }
   ],
   "source": [
    "test.sma(\"ETH-USD\" , 37,50)"
   ]
  },
  {
   "cell_type": "code",
   "execution_count": 41,
   "id": "eccf8292-3d23-45df-a59b-640ab6e88293",
   "metadata": {},
   "outputs": [
    {
     "data": {
      "text/html": [
       "<div>\n",
       "<style scoped>\n",
       "    .dataframe tbody tr th:only-of-type {\n",
       "        vertical-align: middle;\n",
       "    }\n",
       "\n",
       "    .dataframe tbody tr th {\n",
       "        vertical-align: top;\n",
       "    }\n",
       "\n",
       "    .dataframe thead th {\n",
       "        text-align: right;\n",
       "    }\n",
       "</style>\n",
       "<table border=\"1\" class=\"dataframe\">\n",
       "  <thead>\n",
       "    <tr style=\"text-align: right;\">\n",
       "      <th></th>\n",
       "      <th>Close</th>\n",
       "      <th>returns</th>\n",
       "      <th>sma_s</th>\n",
       "      <th>sma_l</th>\n",
       "      <th>pos</th>\n",
       "      <th>trades</th>\n",
       "      <th>str_sma</th>\n",
       "      <th>str_net</th>\n",
       "      <th>cum_str_net</th>\n",
       "    </tr>\n",
       "    <tr>\n",
       "      <th>Date</th>\n",
       "      <th></th>\n",
       "      <th></th>\n",
       "      <th></th>\n",
       "      <th></th>\n",
       "      <th></th>\n",
       "      <th></th>\n",
       "      <th></th>\n",
       "      <th></th>\n",
       "      <th></th>\n",
       "    </tr>\n",
       "  </thead>\n",
       "  <tbody>\n",
       "    <tr>\n",
       "      <th>2023-02-21</th>\n",
       "      <td>1658.036377</td>\n",
       "      <td>-0.026567</td>\n",
       "      <td>1611.043358</td>\n",
       "      <td>1543.403093</td>\n",
       "      <td>1</td>\n",
       "      <td>0.0</td>\n",
       "      <td>-0.026567</td>\n",
       "      <td>-0.026567</td>\n",
       "      <td>0.973783</td>\n",
       "    </tr>\n",
       "    <tr>\n",
       "      <th>2023-02-22</th>\n",
       "      <td>1643.231689</td>\n",
       "      <td>-0.008969</td>\n",
       "      <td>1612.837904</td>\n",
       "      <td>1551.972151</td>\n",
       "      <td>1</td>\n",
       "      <td>0.0</td>\n",
       "      <td>-0.008969</td>\n",
       "      <td>-0.008969</td>\n",
       "      <td>0.965088</td>\n",
       "    </tr>\n",
       "    <tr>\n",
       "      <th>2023-02-23</th>\n",
       "      <td>1651.073853</td>\n",
       "      <td>0.004761</td>\n",
       "      <td>1615.087303</td>\n",
       "      <td>1559.863096</td>\n",
       "      <td>1</td>\n",
       "      <td>0.0</td>\n",
       "      <td>0.004761</td>\n",
       "      <td>0.004761</td>\n",
       "      <td>0.969694</td>\n",
       "    </tr>\n",
       "    <tr>\n",
       "      <th>2023-02-24</th>\n",
       "      <td>1608.373169</td>\n",
       "      <td>-0.026203</td>\n",
       "      <td>1617.597201</td>\n",
       "      <td>1567.021787</td>\n",
       "      <td>1</td>\n",
       "      <td>0.0</td>\n",
       "      <td>-0.026203</td>\n",
       "      <td>-0.026203</td>\n",
       "      <td>0.944615</td>\n",
       "    </tr>\n",
       "    <tr>\n",
       "      <th>2023-02-25</th>\n",
       "      <td>1594.914917</td>\n",
       "      <td>-0.008403</td>\n",
       "      <td>1618.742023</td>\n",
       "      <td>1573.532505</td>\n",
       "      <td>1</td>\n",
       "      <td>0.0</td>\n",
       "      <td>-0.008403</td>\n",
       "      <td>-0.008403</td>\n",
       "      <td>0.936711</td>\n",
       "    </tr>\n",
       "    <tr>\n",
       "      <th>...</th>\n",
       "      <td>...</td>\n",
       "      <td>...</td>\n",
       "      <td>...</td>\n",
       "      <td>...</td>\n",
       "      <td>...</td>\n",
       "      <td>...</td>\n",
       "      <td>...</td>\n",
       "      <td>...</td>\n",
       "      <td>...</td>\n",
       "    </tr>\n",
       "    <tr>\n",
       "      <th>2024-06-26</th>\n",
       "      <td>3369.477295</td>\n",
       "      <td>-0.007555</td>\n",
       "      <td>3648.440608</td>\n",
       "      <td>3490.350937</td>\n",
       "      <td>1</td>\n",
       "      <td>0.0</td>\n",
       "      <td>-0.007555</td>\n",
       "      <td>-0.007555</td>\n",
       "      <td>0.796043</td>\n",
       "    </tr>\n",
       "    <tr>\n",
       "      <th>2024-06-27</th>\n",
       "      <td>3444.800537</td>\n",
       "      <td>0.022108</td>\n",
       "      <td>3639.129467</td>\n",
       "      <td>3499.773804</td>\n",
       "      <td>1</td>\n",
       "      <td>0.0</td>\n",
       "      <td>0.022108</td>\n",
       "      <td>0.022108</td>\n",
       "      <td>0.813838</td>\n",
       "    </tr>\n",
       "    <tr>\n",
       "      <th>2024-06-28</th>\n",
       "      <td>3373.635986</td>\n",
       "      <td>-0.020875</td>\n",
       "      <td>3629.302932</td>\n",
       "      <td>3506.526113</td>\n",
       "      <td>1</td>\n",
       "      <td>0.0</td>\n",
       "      <td>-0.020875</td>\n",
       "      <td>-0.020875</td>\n",
       "      <td>0.797026</td>\n",
       "    </tr>\n",
       "    <tr>\n",
       "      <th>2024-06-29</th>\n",
       "      <td>3372.967773</td>\n",
       "      <td>-0.000198</td>\n",
       "      <td>3618.385109</td>\n",
       "      <td>3515.789644</td>\n",
       "      <td>1</td>\n",
       "      <td>0.0</td>\n",
       "      <td>-0.000198</td>\n",
       "      <td>-0.000198</td>\n",
       "      <td>0.796868</td>\n",
       "    </tr>\n",
       "    <tr>\n",
       "      <th>2024-06-30</th>\n",
       "      <td>3432.889160</td>\n",
       "      <td>0.017609</td>\n",
       "      <td>3610.437935</td>\n",
       "      <td>3526.215386</td>\n",
       "      <td>1</td>\n",
       "      <td>0.0</td>\n",
       "      <td>0.017609</td>\n",
       "      <td>0.017609</td>\n",
       "      <td>0.811024</td>\n",
       "    </tr>\n",
       "  </tbody>\n",
       "</table>\n",
       "<p>496 rows × 9 columns</p>\n",
       "</div>"
      ],
      "text/plain": [
       "                  Close   returns        sma_s        sma_l  pos  trades  \\\n",
       "Date                                                                       \n",
       "2023-02-21  1658.036377 -0.026567  1611.043358  1543.403093    1     0.0   \n",
       "2023-02-22  1643.231689 -0.008969  1612.837904  1551.972151    1     0.0   \n",
       "2023-02-23  1651.073853  0.004761  1615.087303  1559.863096    1     0.0   \n",
       "2023-02-24  1608.373169 -0.026203  1617.597201  1567.021787    1     0.0   \n",
       "2023-02-25  1594.914917 -0.008403  1618.742023  1573.532505    1     0.0   \n",
       "...                 ...       ...          ...          ...  ...     ...   \n",
       "2024-06-26  3369.477295 -0.007555  3648.440608  3490.350937    1     0.0   \n",
       "2024-06-27  3444.800537  0.022108  3639.129467  3499.773804    1     0.0   \n",
       "2024-06-28  3373.635986 -0.020875  3629.302932  3506.526113    1     0.0   \n",
       "2024-06-29  3372.967773 -0.000198  3618.385109  3515.789644    1     0.0   \n",
       "2024-06-30  3432.889160  0.017609  3610.437935  3526.215386    1     0.0   \n",
       "\n",
       "             str_sma   str_net  cum_str_net  \n",
       "Date                                         \n",
       "2023-02-21 -0.026567 -0.026567     0.973783  \n",
       "2023-02-22 -0.008969 -0.008969     0.965088  \n",
       "2023-02-23  0.004761  0.004761     0.969694  \n",
       "2023-02-24 -0.026203 -0.026203     0.944615  \n",
       "2023-02-25 -0.008403 -0.008403     0.936711  \n",
       "...              ...       ...          ...  \n",
       "2024-06-26 -0.007555 -0.007555     0.796043  \n",
       "2024-06-27  0.022108  0.022108     0.813838  \n",
       "2024-06-28 -0.020875 -0.020875     0.797026  \n",
       "2024-06-29 -0.000198 -0.000198     0.796868  \n",
       "2024-06-30  0.017609  0.017609     0.811024  \n",
       "\n",
       "[496 rows x 9 columns]"
      ]
     },
     "execution_count": 41,
     "metadata": {},
     "output_type": "execute_result"
    }
   ],
   "source": [
    "test.temp_data"
   ]
  },
  {
   "cell_type": "code",
   "execution_count": 45,
   "id": "48de7801-5230-4407-9960-13fce502974b",
   "metadata": {},
   "outputs": [
    {
     "name": "stdout",
     "output_type": "stream",
     "text": [
      "Testing SMA Strategy | ETH-USD | SMA_S= 37 | SMA_L= 50\n",
      "---------------------------------------------------------------------------\n",
      "Initial amount is : 100000\n",
      "2023-02-20 Buying 58 for 1702.67517 with 0.0001 spread. Net price is 1702.67522 and current balance is 1244.84\n",
      "2023-03-10 Selling 58 for 1429.15808 with 0.0001 spread. Net price is 1429.15803 and current balance is 84136.01\n",
      "** Closed last long position !\n",
      "2023-03-10 Selling 58 for 1429.15808 with 0.0001 spread. Net price is 1429.15803 and current balance is 167027.18\n",
      "2023-03-19 Buying 58 for 1785.57654 with 0.0001 spread. Net price is 1785.57659 and current balance is 63463.74\n",
      "** Closed last short position !\n",
      "2023-03-19 Buying 35 for 1785.57654 with 0.0001 spread. Net price is 1785.57659 and current balance is 968.56\n",
      "2023-05-21 Selling 35 for 1804.53137 with 0.0001 spread. Net price is 1804.53132 and current balance is 64127.16\n",
      "** Closed last long position !\n",
      "2023-05-21 Selling 35 for 1804.53137 with 0.0001 spread. Net price is 1804.53132 and current balance is 127285.76\n",
      "2023-06-26 Buying 35 for 1859.43286 with 0.0001 spread. Net price is 1859.43291 and current balance is 62205.61\n",
      "** Closed last short position !\n",
      "2023-06-26 Buying 33 for 1859.43286 with 0.0001 spread. Net price is 1859.43291 and current balance is 844.32\n",
      "2023-07-06 Selling 33 for 1848.63647 with 0.0001 spread. Net price is 1848.63642 and current balance is 61849.32\n",
      "** Closed last long position !\n",
      "2023-07-06 Selling 33 for 1848.63647 with 0.0001 spread. Net price is 1848.63642 and current balance is 122854.32\n",
      "2023-07-18 Buying 33 for 1897.59924 with 0.0001 spread. Net price is 1897.59929 and current balance is 60233.54\n",
      "** Closed last short position !\n",
      "2023-07-18 Buying 31 for 1897.59924 with 0.0001 spread. Net price is 1897.59929 and current balance is 1407.96\n",
      "2023-08-08 Selling 31 for 1855.80737 with 0.0001 spread. Net price is 1855.80732 and current balance is 58937.99\n",
      "** Closed last long position !\n",
      "2023-08-08 Selling 31 for 1855.80737 with 0.0001 spread. Net price is 1855.80732 and current balance is 116468.02\n",
      "2023-10-25 Buying 31 for 1787.39758 with 0.0001 spread. Net price is 1787.39763 and current balance is 61058.69\n",
      "** Closed last short position !\n",
      "2023-10-25 Buying 34 for 1787.39758 with 0.0001 spread. Net price is 1787.39763 and current balance is 287.17\n",
      "2024-04-15 Selling 34 for 3101.60034 with 0.0001 spread. Net price is 3101.60029 and current balance is 105741.58\n",
      "** Closed last long position !\n",
      "2024-04-15 Selling 34 for 3101.60034 with 0.0001 spread. Net price is 3101.60029 and current balance is 211195.99\n",
      "2024-05-28 Buying 34 for 3840.25635 with 0.0001 spread. Net price is 3840.2564 and current balance is 80627.27\n",
      "** Closed last short position !\n",
      "2024-05-28 Buying 20 for 3840.25635 with 0.0001 spread. Net price is 3840.2564 and current balance is 3822.14\n",
      "---------------------------------------------------------------------------\n",
      "*** Summary of trading : ETH-USD ***\n",
      "2024-06-30 | Closing position of 20 for 3432.88916\n",
      "2024-06-30 | Performance (%) = -27.52\n",
      "2024-06-30 | Number of Trades = 22\n",
      "2024-06-30 | Performance of Buy and Hold Stategy (%)= 185.84\n",
      "2024-06-30 | The annual compound growth rate for 17 months = -0.0188\n",
      "2024-06-30 | Current Balance : 72479.92\n"
     ]
    }
   ],
   "source": [
    "t=test.sma_backtest(\"ETH-USD\",37,50)"
   ]
  },
  {
   "cell_type": "code",
   "execution_count": 43,
   "id": "6cbae364-0fd7-41ba-ab57-e76f0831b444",
   "metadata": {},
   "outputs": [
    {
     "data": {
      "text/plain": [
       "(                  Close   returns        sma_s        sma_l  pos  trades  \\\n",
       " Date                                                                       \n",
       " 2023-02-21  1658.036377 -0.026567  1611.043358  1543.403093    1     0.0   \n",
       " 2023-02-22  1643.231689 -0.008969  1612.837904  1551.972151    1     0.0   \n",
       " 2023-02-23  1651.073853  0.004761  1615.087303  1559.863096    1     0.0   \n",
       " 2023-02-24  1608.373169 -0.026203  1617.597201  1567.021787    1     0.0   \n",
       " 2023-02-25  1594.914917 -0.008403  1618.742023  1573.532505    1     0.0   \n",
       " ...                 ...       ...          ...          ...  ...     ...   \n",
       " 2024-06-26  3369.477295 -0.007555  3648.440608  3490.350937    1     0.0   \n",
       " 2024-06-27  3444.800537  0.022108  3639.129467  3499.773804    1     0.0   \n",
       " 2024-06-28  3373.635986 -0.020875  3629.302932  3506.526113    1     0.0   \n",
       " 2024-06-29  3372.967773 -0.000198  3618.385109  3515.789644    1     0.0   \n",
       " 2024-06-30  3432.889160  0.017609  3610.437935  3526.215386    1     0.0   \n",
       " \n",
       "              str_sma   str_net  cum_str_net  year  month  \n",
       " Date                                                      \n",
       " 2023-02-21 -0.026567 -0.026567     0.973783  2023      2  \n",
       " 2023-02-22 -0.008969 -0.008969     0.965088  2023      2  \n",
       " 2023-02-23  0.004761  0.004761     0.969694  2023      2  \n",
       " 2023-02-24 -0.026203 -0.026203     0.944615  2023      2  \n",
       " 2023-02-25 -0.008403 -0.008403     0.936711  2023      2  \n",
       " ...              ...       ...          ...   ...    ...  \n",
       " 2024-06-26 -0.007555 -0.007555     0.796043  2024      6  \n",
       " 2024-06-27  0.022108  0.022108     0.813838  2024      6  \n",
       " 2024-06-28 -0.020875 -0.020875     0.797026  2024      6  \n",
       " 2024-06-29 -0.000198 -0.000198     0.796868  2024      6  \n",
       " 2024-06-30  0.017609  0.017609     0.811024  2024      6  \n",
       " \n",
       " [496 rows x 11 columns],\n",
       " 17)"
      ]
     },
     "execution_count": 43,
     "metadata": {},
     "output_type": "execute_result"
    }
   ],
   "source": [
    "test.count_months()"
   ]
  },
  {
   "cell_type": "code",
   "execution_count": null,
   "id": "07048134-a1e1-4736-b566-23e2e36e75c8",
   "metadata": {},
   "outputs": [],
   "source": [
    "test.best_ema(\"ETH-USD\")"
   ]
  },
  {
   "cell_type": "code",
   "execution_count": null,
   "id": "2f1876d5-5d66-400c-9243-0ce2da62f7f6",
   "metadata": {},
   "outputs": [],
   "source": [
    "t=test.ema_backtest(\"ETH-USD\",9,87)"
   ]
  },
  {
   "cell_type": "code",
   "execution_count": null,
   "id": "29f3f60d-e609-45f3-918a-d2d4e43ce0b3",
   "metadata": {},
   "outputs": [],
   "source": [
    "test.best_dema(\"ETH-USD\")"
   ]
  },
  {
   "cell_type": "code",
   "execution_count": null,
   "id": "e174df81-4fd3-445d-9c7a-54957ecbb138",
   "metadata": {},
   "outputs": [],
   "source": [
    "t=test.dema_backtest(\"ETH-USD\",31,54)"
   ]
  },
  {
   "cell_type": "code",
   "execution_count": null,
   "id": "47ca3a4b-dfa2-43c1-bf1b-7632bed3ac02",
   "metadata": {},
   "outputs": [],
   "source": [
    "test.best_rsi(\"ETH-USD\")"
   ]
  },
  {
   "cell_type": "code",
   "execution_count": null,
   "id": "16997b3b-5037-4a3b-bae7-7b05e7fdfe0a",
   "metadata": {},
   "outputs": [],
   "source": [
    "t=test.rsi_backtest(\"ETH-USD\",17,25,71)"
   ]
  },
  {
   "cell_type": "code",
   "execution_count": null,
   "id": "c2375b33-2118-4934-a08a-c8536cf99256",
   "metadata": {},
   "outputs": [],
   "source": [
    "test.best_macd(\"ETH-USD\")"
   ]
  },
  {
   "cell_type": "code",
   "execution_count": null,
   "id": "a9e30ce9-c8d2-4a5b-b8ca-58a0c70e7a55",
   "metadata": {},
   "outputs": [],
   "source": [
    "t=test.macd_backtest(\"ETH-USD\",19,39,14)"
   ]
  },
  {
   "cell_type": "code",
   "execution_count": null,
   "id": "c952d675-cf5c-40d7-8fd1-c69c64807964",
   "metadata": {},
   "outputs": [],
   "source": [
    "test.best_bollinger(\"ETH-USD\")"
   ]
  },
  {
   "cell_type": "code",
   "execution_count": null,
   "id": "e364496e-722b-4bba-b9a4-984cd3dc01d3",
   "metadata": {},
   "outputs": [],
   "source": [
    "t=test.bollinger_backtest(\"ETH-USD\",44,3)"
   ]
  },
  {
   "cell_type": "code",
   "execution_count": null,
   "id": "5f04e227-e8f3-4c3e-98e1-ee2eb2c88d35",
   "metadata": {},
   "outputs": [],
   "source": [
    "test.best_stochastic(\"ETH-USD\")"
   ]
  },
  {
   "cell_type": "code",
   "execution_count": null,
   "id": "59000688-133f-4642-8ee1-bf577554ad1b",
   "metadata": {},
   "outputs": [],
   "source": [
    "t=test.stochastic_backtest(\"ETH-USD\",14,2)"
   ]
  },
  {
   "cell_type": "code",
   "execution_count": null,
   "id": "fb735361-dfaf-4b76-bc98-18062496f274",
   "metadata": {},
   "outputs": [],
   "source": [
    "test.atr(\"ETH-USD\",14)"
   ]
  },
  {
   "cell_type": "code",
   "execution_count": null,
   "id": "8a02d023-5223-4d14-b484-1a00e06cb954",
   "metadata": {},
   "outputs": [],
   "source": [
    "test.adx(\"ETH-USD\",14)"
   ]
  },
  {
   "cell_type": "code",
   "execution_count": null,
   "id": "6c5d8184-16d3-4e46-94e8-0167c2856de0",
   "metadata": {},
   "outputs": [],
   "source": [
    "test.obv(\"ETH-USD\")"
   ]
  },
  {
   "cell_type": "code",
   "execution_count": null,
   "id": "f5ce94ef-a6eb-4a8a-8f81-9eddf5a78120",
   "metadata": {},
   "outputs": [],
   "source": [
    "t=test.ichimoku(\"ETH-USD\")\n",
    "print(t[0].tail(50))\n",
    "print(t[1])"
   ]
  },
  {
   "cell_type": "code",
   "execution_count": null,
   "id": "c8b09733-9e22-408e-a730-01d85fd9f08d",
   "metadata": {},
   "outputs": [],
   "source": [
    "test.ichimoku_backtest(\"ETH-USD\")"
   ]
  },
  {
   "cell_type": "code",
   "execution_count": 7,
   "id": "e631c268-29fd-48c4-8cb9-18cdbe413db4",
   "metadata": {},
   "outputs": [
    {
     "name": "stderr",
     "output_type": "stream",
     "text": [
      "[*********************100%%**********************]  1 of 1 completed"
     ]
    },
    {
     "name": "stdout",
     "output_type": "stream",
     "text": [
      "Data of EURUSD=X downloded.\n",
      "Testing Ichimuko Strategy | EURUSD=X | s= 14 | m= 26 | l=52\n",
      "---------------------------------------------------------------------------\n",
      "Initial amount is : 100000\n",
      "2024-01-15 Selling 91364 for 1.09457 with 0.0001 spread. Net price is 1.09452 and current balance is 199999.73\n",
      "2024-03-14 Buying 91364 for 1.09553 with 0.0001 spread. Net price is 1.09558 and current balance is 99903.16\n",
      "** Closed last short position !\n",
      "2024-03-14 Buying 91187 for 1.09553 with 0.0001 spread. Net price is 1.09558 and current balance is 0.51\n",
      "2024-04-03 Selling 91187 for 1.07686 with 0.0001 spread. Net price is 1.07681 and current balance is 98191.58\n",
      "** Closed last long position !\n",
      "2024-04-03 Selling 91187 for 1.07686 with 0.0001 spread. Net price is 1.07681 and current balance is 196382.65\n",
      "2024-05-21 Buying 91187 for 1.08608 with 0.0001 spread. Net price is 1.08613 and current balance is 97341.71\n",
      "** Closed last short position !\n",
      "2024-05-21 Buying 89622 for 1.08608 with 0.0001 spread. Net price is 1.08613 and current balance is 0.57\n",
      "2024-06-26 Selling 89622 for 1.07096 with 0.0001 spread. Net price is 1.07091 and current balance is 95977.67\n",
      "** Closed last long position !\n",
      "2024-06-26 Selling 89622 for 1.07096 with 0.0001 spread. Net price is 1.07091 and current balance is 191954.77\n",
      "---------------------------------------------------------------------------\n",
      "*** Summary of trading : EURUSD=X ***\n",
      "2024-06-28 | Closing position of -89622 for 1.07085\n",
      "2024-06-28 | Performance (%) = -4.02\n",
      "2024-06-28 | Number of Trades = 10\n",
      "2024-06-28 | Performance of Buy and Hold Stategy (%)= -3.14\n",
      "2024-06-28 | Current Balance : 95978.57\n"
     ]
    },
    {
     "name": "stderr",
     "output_type": "stream",
     "text": [
      "\n"
     ]
    },
    {
     "data": {
      "text/plain": [
       "(-4.02, 10, -3.14, 95978.57)"
      ]
     },
     "execution_count": 7,
     "metadata": {},
     "output_type": "execute_result"
    }
   ],
   "source": [
    "test = mf.forex_backtest_class([\"EURUSD=X\"],\"2024-01-01\" , \"2024-07-01\", \"1d\" , 0.0001 , 100000)\n",
    "test.data"
   ]
  },
  {
   "cell_type": "code",
   "execution_count": 21,
   "id": "17c532a0-1b5f-4578-901e-581a6a7365f4",
   "metadata": {},
   "outputs": [
    {
     "name": "stdout",
     "output_type": "stream",
     "text": [
      "Testing Ichimuko Strategy | EURUSD=X | s= 14 | m= 26 | l=52\n",
      "---------------------------------------------------------------------------\n",
      "Initial amount is : 100000\n"
     ]
    },
    {
     "ename": "KeyError",
     "evalue": "\"None of [Index(['EURUSD=X_low', 'EURUSD=X_high', 'EURUSD=X_close', 'EURUSD=X_returns',\\n       'EURUSD=X_cum_return'],\\n      dtype='object')] are in the [columns]\"",
     "output_type": "error",
     "traceback": [
      "\u001b[1;31m---------------------------------------------------------------------------\u001b[0m",
      "\u001b[1;31mKeyError\u001b[0m                                  Traceback (most recent call last)",
      "Cell \u001b[1;32mIn[21], line 1\u001b[0m\n\u001b[1;32m----> 1\u001b[0m \u001b[43mtest\u001b[49m\u001b[38;5;241;43m.\u001b[39;49m\u001b[43michimoku_backtest\u001b[49m\u001b[43m(\u001b[49m\u001b[38;5;124;43m\"\u001b[39;49m\u001b[38;5;124;43mEURUSD=X\u001b[39;49m\u001b[38;5;124;43m\"\u001b[39;49m\u001b[43m)\u001b[49m\n",
      "File \u001b[1;32m~\\Desktop\\myforexclass.py:989\u001b[0m, in \u001b[0;36mforex_backtest_class.ichimoku_backtest\u001b[1;34m(self, ticker)\u001b[0m\n\u001b[0;32m    986\u001b[0m \u001b[38;5;28mprint\u001b[39m (\u001b[38;5;124m\"\u001b[39m\u001b[38;5;124mInitial amount is : \u001b[39m\u001b[38;5;132;01m{}\u001b[39;00m\u001b[38;5;124m\"\u001b[39m\u001b[38;5;241m.\u001b[39mformat(\u001b[38;5;28mself\u001b[39m\u001b[38;5;241m.\u001b[39minitial_amount))\n\u001b[0;32m    987\u001b[0m \u001b[38;5;28mself\u001b[39m\u001b[38;5;241m.\u001b[39mcurrent_balance \u001b[38;5;241m=\u001b[39m \u001b[38;5;28mself\u001b[39m\u001b[38;5;241m.\u001b[39minitial_amount\n\u001b[1;32m--> 989\u001b[0m df\u001b[38;5;241m=\u001b[39m\u001b[38;5;28;43mself\u001b[39;49m\u001b[38;5;241;43m.\u001b[39;49m\u001b[43mdata\u001b[49m\u001b[43m[\u001b[49m\u001b[43m[\u001b[49m\u001b[43mticker\u001b[49m\u001b[38;5;241;43m+\u001b[39;49m\u001b[38;5;124;43m\"\u001b[39;49m\u001b[38;5;124;43m_low\u001b[39;49m\u001b[38;5;124;43m\"\u001b[39;49m\u001b[43m,\u001b[49m\u001b[43mticker\u001b[49m\u001b[38;5;241;43m+\u001b[39;49m\u001b[38;5;124;43m\"\u001b[39;49m\u001b[38;5;124;43m_high\u001b[39;49m\u001b[38;5;124;43m\"\u001b[39;49m\u001b[43m,\u001b[49m\u001b[43mticker\u001b[49m\u001b[38;5;241;43m+\u001b[39;49m\u001b[38;5;124;43m\"\u001b[39;49m\u001b[38;5;124;43m_close\u001b[39;49m\u001b[38;5;124;43m\"\u001b[39;49m\u001b[43m,\u001b[49m\u001b[43mticker\u001b[49m\u001b[38;5;241;43m+\u001b[39;49m\u001b[38;5;124;43m\"\u001b[39;49m\u001b[38;5;124;43m_returns\u001b[39;49m\u001b[38;5;124;43m\"\u001b[39;49m\u001b[43m,\u001b[49m\u001b[43mticker\u001b[49m\u001b[38;5;241;43m+\u001b[39;49m\u001b[38;5;124;43m\"\u001b[39;49m\u001b[38;5;124;43m_cum_return\u001b[39;49m\u001b[38;5;124;43m\"\u001b[39;49m\u001b[43m]\u001b[49m\u001b[43m]\u001b[49m\u001b[38;5;241m.\u001b[39mcopy()\n\u001b[0;32m    990\u001b[0m df\u001b[38;5;241m.\u001b[39mrename(columns\u001b[38;5;241m=\u001b[39m{ticker\u001b[38;5;241m+\u001b[39m\u001b[38;5;124m\"\u001b[39m\u001b[38;5;124m_low\u001b[39m\u001b[38;5;124m\"\u001b[39m:\u001b[38;5;124m\"\u001b[39m\u001b[38;5;124mLow\u001b[39m\u001b[38;5;124m\"\u001b[39m,ticker\u001b[38;5;241m+\u001b[39m\u001b[38;5;124m\"\u001b[39m\u001b[38;5;124m_high\u001b[39m\u001b[38;5;124m\"\u001b[39m:\u001b[38;5;124m\"\u001b[39m\u001b[38;5;124mHigh\u001b[39m\u001b[38;5;124m\"\u001b[39m,ticker\u001b[38;5;241m+\u001b[39m\u001b[38;5;124m\"\u001b[39m\u001b[38;5;124m_close\u001b[39m\u001b[38;5;124m\"\u001b[39m:\u001b[38;5;124m\"\u001b[39m\u001b[38;5;124mClose\u001b[39m\u001b[38;5;124m\"\u001b[39m,ticker\u001b[38;5;241m+\u001b[39m\u001b[38;5;124m\"\u001b[39m\u001b[38;5;124m_returns\u001b[39m\u001b[38;5;124m\"\u001b[39m:\u001b[38;5;124m\"\u001b[39m\u001b[38;5;124mreturns\u001b[39m\u001b[38;5;124m\"\u001b[39m,ticker\u001b[38;5;241m+\u001b[39m\u001b[38;5;124m\"\u001b[39m\u001b[38;5;124m_cum_return\u001b[39m\u001b[38;5;124m\"\u001b[39m:\u001b[38;5;124m\"\u001b[39m\u001b[38;5;124mcum_return\u001b[39m\u001b[38;5;124m\"\u001b[39m},inplace\u001b[38;5;241m=\u001b[39m\u001b[38;5;28;01mTrue\u001b[39;00m)\n\u001b[0;32m    992\u001b[0m ich\u001b[38;5;241m=\u001b[39mta\u001b[38;5;241m.\u001b[39mtrend\u001b[38;5;241m.\u001b[39mIchimokuIndicator(df[\u001b[38;5;124m\"\u001b[39m\u001b[38;5;124mHigh\u001b[39m\u001b[38;5;124m\"\u001b[39m],df[\u001b[38;5;124m\"\u001b[39m\u001b[38;5;124mLow\u001b[39m\u001b[38;5;124m\"\u001b[39m],\u001b[38;5;241m9\u001b[39m,\u001b[38;5;241m26\u001b[39m,\u001b[38;5;241m52\u001b[39m,\u001b[38;5;28;01mFalse\u001b[39;00m,\u001b[38;5;28;01mTrue\u001b[39;00m)\n",
      "File \u001b[1;32m~\\AppData\\Local\\Programs\\Python\\Python312\\Lib\\site-packages\\pandas\\core\\frame.py:4108\u001b[0m, in \u001b[0;36mDataFrame.__getitem__\u001b[1;34m(self, key)\u001b[0m\n\u001b[0;32m   4106\u001b[0m     \u001b[38;5;28;01mif\u001b[39;00m is_iterator(key):\n\u001b[0;32m   4107\u001b[0m         key \u001b[38;5;241m=\u001b[39m \u001b[38;5;28mlist\u001b[39m(key)\n\u001b[1;32m-> 4108\u001b[0m     indexer \u001b[38;5;241m=\u001b[39m \u001b[38;5;28;43mself\u001b[39;49m\u001b[38;5;241;43m.\u001b[39;49m\u001b[43mcolumns\u001b[49m\u001b[38;5;241;43m.\u001b[39;49m\u001b[43m_get_indexer_strict\u001b[49m\u001b[43m(\u001b[49m\u001b[43mkey\u001b[49m\u001b[43m,\u001b[49m\u001b[43m \u001b[49m\u001b[38;5;124;43m\"\u001b[39;49m\u001b[38;5;124;43mcolumns\u001b[39;49m\u001b[38;5;124;43m\"\u001b[39;49m\u001b[43m)\u001b[49m[\u001b[38;5;241m1\u001b[39m]\n\u001b[0;32m   4110\u001b[0m \u001b[38;5;66;03m# take() does not accept boolean indexers\u001b[39;00m\n\u001b[0;32m   4111\u001b[0m \u001b[38;5;28;01mif\u001b[39;00m \u001b[38;5;28mgetattr\u001b[39m(indexer, \u001b[38;5;124m\"\u001b[39m\u001b[38;5;124mdtype\u001b[39m\u001b[38;5;124m\"\u001b[39m, \u001b[38;5;28;01mNone\u001b[39;00m) \u001b[38;5;241m==\u001b[39m \u001b[38;5;28mbool\u001b[39m:\n",
      "File \u001b[1;32m~\\AppData\\Local\\Programs\\Python\\Python312\\Lib\\site-packages\\pandas\\core\\indexes\\base.py:6200\u001b[0m, in \u001b[0;36mIndex._get_indexer_strict\u001b[1;34m(self, key, axis_name)\u001b[0m\n\u001b[0;32m   6197\u001b[0m \u001b[38;5;28;01melse\u001b[39;00m:\n\u001b[0;32m   6198\u001b[0m     keyarr, indexer, new_indexer \u001b[38;5;241m=\u001b[39m \u001b[38;5;28mself\u001b[39m\u001b[38;5;241m.\u001b[39m_reindex_non_unique(keyarr)\n\u001b[1;32m-> 6200\u001b[0m \u001b[38;5;28;43mself\u001b[39;49m\u001b[38;5;241;43m.\u001b[39;49m\u001b[43m_raise_if_missing\u001b[49m\u001b[43m(\u001b[49m\u001b[43mkeyarr\u001b[49m\u001b[43m,\u001b[49m\u001b[43m \u001b[49m\u001b[43mindexer\u001b[49m\u001b[43m,\u001b[49m\u001b[43m \u001b[49m\u001b[43maxis_name\u001b[49m\u001b[43m)\u001b[49m\n\u001b[0;32m   6202\u001b[0m keyarr \u001b[38;5;241m=\u001b[39m \u001b[38;5;28mself\u001b[39m\u001b[38;5;241m.\u001b[39mtake(indexer)\n\u001b[0;32m   6203\u001b[0m \u001b[38;5;28;01mif\u001b[39;00m \u001b[38;5;28misinstance\u001b[39m(key, Index):\n\u001b[0;32m   6204\u001b[0m     \u001b[38;5;66;03m# GH 42790 - Preserve name from an Index\u001b[39;00m\n",
      "File \u001b[1;32m~\\AppData\\Local\\Programs\\Python\\Python312\\Lib\\site-packages\\pandas\\core\\indexes\\base.py:6249\u001b[0m, in \u001b[0;36mIndex._raise_if_missing\u001b[1;34m(self, key, indexer, axis_name)\u001b[0m\n\u001b[0;32m   6247\u001b[0m \u001b[38;5;28;01mif\u001b[39;00m nmissing:\n\u001b[0;32m   6248\u001b[0m     \u001b[38;5;28;01mif\u001b[39;00m nmissing \u001b[38;5;241m==\u001b[39m \u001b[38;5;28mlen\u001b[39m(indexer):\n\u001b[1;32m-> 6249\u001b[0m         \u001b[38;5;28;01mraise\u001b[39;00m \u001b[38;5;167;01mKeyError\u001b[39;00m(\u001b[38;5;124mf\u001b[39m\u001b[38;5;124m\"\u001b[39m\u001b[38;5;124mNone of [\u001b[39m\u001b[38;5;132;01m{\u001b[39;00mkey\u001b[38;5;132;01m}\u001b[39;00m\u001b[38;5;124m] are in the [\u001b[39m\u001b[38;5;132;01m{\u001b[39;00maxis_name\u001b[38;5;132;01m}\u001b[39;00m\u001b[38;5;124m]\u001b[39m\u001b[38;5;124m\"\u001b[39m)\n\u001b[0;32m   6251\u001b[0m     not_found \u001b[38;5;241m=\u001b[39m \u001b[38;5;28mlist\u001b[39m(ensure_index(key)[missing_mask\u001b[38;5;241m.\u001b[39mnonzero()[\u001b[38;5;241m0\u001b[39m]]\u001b[38;5;241m.\u001b[39munique())\n\u001b[0;32m   6252\u001b[0m     \u001b[38;5;28;01mraise\u001b[39;00m \u001b[38;5;167;01mKeyError\u001b[39;00m(\u001b[38;5;124mf\u001b[39m\u001b[38;5;124m\"\u001b[39m\u001b[38;5;132;01m{\u001b[39;00mnot_found\u001b[38;5;132;01m}\u001b[39;00m\u001b[38;5;124m not in index\u001b[39m\u001b[38;5;124m\"\u001b[39m)\n",
      "\u001b[1;31mKeyError\u001b[0m: \"None of [Index(['EURUSD=X_low', 'EURUSD=X_high', 'EURUSD=X_close', 'EURUSD=X_returns',\\n       'EURUSD=X_cum_return'],\\n      dtype='object')] are in the [columns]\""
     ]
    }
   ],
   "source": [
    "test.ichimoku_backtest(\"EURUSD=X\")"
   ]
  },
  {
   "cell_type": "code",
   "execution_count": null,
   "id": "c14f4d3f-38d9-49c8-b1d2-88db436115a6",
   "metadata": {},
   "outputs": [],
   "source": []
  }
 ],
 "metadata": {
  "kernelspec": {
   "display_name": "Python 3 (ipykernel)",
   "language": "python",
   "name": "python3"
  },
  "language_info": {
   "codemirror_mode": {
    "name": "ipython",
    "version": 3
   },
   "file_extension": ".py",
   "mimetype": "text/x-python",
   "name": "python",
   "nbconvert_exporter": "python",
   "pygments_lexer": "ipython3",
   "version": "3.12.2"
  }
 },
 "nbformat": 4,
 "nbformat_minor": 5
}
