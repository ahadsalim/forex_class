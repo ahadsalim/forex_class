{
 "cells": [
  {
   "cell_type": "code",
   "execution_count": null,
   "id": "a1fc6550-b72f-4745-97e5-06f383a1790a",
   "metadata": {},
   "outputs": [],
   "source": [
    "%reload_ext autoreload\n",
    "%autoreload 2\n",
    "\n",
    "import myforexclass as mf"
   ]
  },
  {
   "cell_type": "code",
   "execution_count": null,
   "id": "ce8a0f51-aaab-4158-bef8-37807c2bd819",
   "metadata": {},
   "outputs": [],
   "source": [
    "test = mf.forex_backtest_class([\"ETH-USD\"],\"2024-01-01\" , \"2024-02-01\", \"1h\" , 0 , 100000)"
   ]
  },
  {
   "cell_type": "code",
   "execution_count": null,
   "id": "4d9b6fff-16da-49fa-bfa7-1939fa4667b2",
   "metadata": {},
   "outputs": [],
   "source": [
    "test.sma(\"ETH-USD\",34,89)"
   ]
  },
  {
   "cell_type": "code",
   "execution_count": null,
   "id": "6baf36ea-2679-4927-aeed-108d782309d2",
   "metadata": {},
   "outputs": [],
   "source": [
    "test.temp_data.to_csv(\"test.csv\")"
   ]
  },
  {
   "cell_type": "code",
   "execution_count": null,
   "id": "48de7801-5230-4407-9960-13fce502974b",
   "metadata": {},
   "outputs": [],
   "source": [
    "t=test.sma_backtest(\"ETH-USD\",34,89)"
   ]
  },
  {
   "cell_type": "code",
   "execution_count": null,
   "id": "07048134-a1e1-4736-b566-23e2e36e75c8",
   "metadata": {},
   "outputs": [],
   "source": [
    "test.best_param_ema(\"ETH-USD\")"
   ]
  },
  {
   "cell_type": "code",
   "execution_count": null,
   "id": "2f1876d5-5d66-400c-9243-0ce2da62f7f6",
   "metadata": {},
   "outputs": [],
   "source": [
    "t=test.ema_backtest(\"ETH-USD\",9,87)"
   ]
  },
  {
   "cell_type": "code",
   "execution_count": null,
   "id": "29f3f60d-e609-45f3-918a-d2d4e43ce0b3",
   "metadata": {},
   "outputs": [],
   "source": [
    "test.best_param_dema(\"ETH-USD\")"
   ]
  },
  {
   "cell_type": "code",
   "execution_count": null,
   "id": "e174df81-4fd3-445d-9c7a-54957ecbb138",
   "metadata": {},
   "outputs": [],
   "source": [
    "t=test.dema_backtest(\"ETH-USD\",31,54)"
   ]
  },
  {
   "cell_type": "code",
   "execution_count": null,
   "id": "47ca3a4b-dfa2-43c1-bf1b-7632bed3ac02",
   "metadata": {},
   "outputs": [],
   "source": [
    "test.best_param_rsi(\"ETH-USD\")"
   ]
  },
  {
   "cell_type": "code",
   "execution_count": null,
   "id": "16997b3b-5037-4a3b-bae7-7b05e7fdfe0a",
   "metadata": {},
   "outputs": [],
   "source": [
    "t=test.rsi_backtest(\"ETH-USD\",17,25,71)"
   ]
  },
  {
   "cell_type": "code",
   "execution_count": null,
   "id": "c2375b33-2118-4934-a08a-c8536cf99256",
   "metadata": {},
   "outputs": [],
   "source": [
    "test.best_macd(\"ETH-USD\")"
   ]
  },
  {
   "cell_type": "code",
   "execution_count": null,
   "id": "a9e30ce9-c8d2-4a5b-b8ca-58a0c70e7a55",
   "metadata": {},
   "outputs": [],
   "source": [
    "t=test.macd_backtest(\"ETH-USD\",19,39,14)"
   ]
  },
  {
   "cell_type": "code",
   "execution_count": null,
   "id": "c952d675-cf5c-40d7-8fd1-c69c64807964",
   "metadata": {},
   "outputs": [],
   "source": [
    "test.best_bollinger(\"ETH-USD\")"
   ]
  },
  {
   "cell_type": "code",
   "execution_count": null,
   "id": "e364496e-722b-4bba-b9a4-984cd3dc01d3",
   "metadata": {},
   "outputs": [],
   "source": [
    "t=test.bollinger_backtest(\"ETH-USD\",44,3)"
   ]
  },
  {
   "cell_type": "code",
   "execution_count": null,
   "id": "5f04e227-e8f3-4c3e-98e1-ee2eb2c88d35",
   "metadata": {},
   "outputs": [],
   "source": [
    "test.best_stochastic(\"ETH-USD\")"
   ]
  },
  {
   "cell_type": "code",
   "execution_count": null,
   "id": "59000688-133f-4642-8ee1-bf577554ad1b",
   "metadata": {},
   "outputs": [],
   "source": [
    "t=test.stochastic_backtest(\"ETH-USD\",14,2)"
   ]
  },
  {
   "cell_type": "code",
   "execution_count": null,
   "id": "fb735361-dfaf-4b76-bc98-18062496f274",
   "metadata": {},
   "outputs": [],
   "source": [
    "test.atr(\"ETH-USD\",14)"
   ]
  },
  {
   "cell_type": "code",
   "execution_count": null,
   "id": "8a02d023-5223-4d14-b484-1a00e06cb954",
   "metadata": {},
   "outputs": [],
   "source": [
    "test.adx(\"ETH-USD\",14)"
   ]
  },
  {
   "cell_type": "code",
   "execution_count": null,
   "id": "6c5d8184-16d3-4e46-94e8-0167c2856de0",
   "metadata": {},
   "outputs": [],
   "source": [
    "test.obv(\"ETH-USD\")"
   ]
  },
  {
   "cell_type": "code",
   "execution_count": null,
   "id": "f5ce94ef-a6eb-4a8a-8f81-9eddf5a78120",
   "metadata": {},
   "outputs": [],
   "source": [
    "t=test.ichimoku(\"ETH-USD\")\n",
    "print(t[0].tail(50))\n",
    "print(t[1])"
   ]
  },
  {
   "cell_type": "code",
   "execution_count": null,
   "id": "c8b09733-9e22-408e-a730-01d85fd9f08d",
   "metadata": {},
   "outputs": [],
   "source": [
    "test.ichimoku_backtest(\"ETH-USD\")"
   ]
  },
  {
   "cell_type": "code",
   "execution_count": null,
   "id": "e631c268-29fd-48c4-8cb9-18cdbe413db4",
   "metadata": {},
   "outputs": [],
   "source": [
    "test = mf.forex_backtest_class([\"EURUSD=X\"],\"2024-01-01\" , \"2024-07-01\", \"1d\" , 0.0001 , 100000)\n",
    "test.data"
   ]
  },
  {
   "cell_type": "code",
   "execution_count": null,
   "id": "17c532a0-1b5f-4578-901e-581a6a7365f4",
   "metadata": {},
   "outputs": [],
   "source": [
    "test.ichimoku_backtest(\"EURUSD=X\")"
   ]
  },
  {
   "cell_type": "code",
   "execution_count": null,
   "id": "c14f4d3f-38d9-49c8-b1d2-88db436115a6",
   "metadata": {},
   "outputs": [],
   "source": [
    "import MetaTrader5 as mt5\n",
    "import myforexclass as mf\n",
    "import datetime\n",
    "\n",
    "start_year = 2024\n",
    "start_month = 3\n",
    "end_year = 2024\n",
    "end_month = 6\n",
    "interval = \"1h\"\n",
    "tickers=[\"ETH-USD\"]\n",
    "result_data = mf.pd.DataFrame(columns=[\"date\",\"ticker\",\"return_hold\",\"short_sma\",\"long_sma\",\"return_sma\",\"short_ema\",\"long_ema\",\"return_ema\",\n",
    "                                       \"short_dema\",\"long_dema\",\"return_dema\",\"period_rsi\",\"m_down_rsi\",\"m_up_rsi\",\"return_rsi\"])\n",
    "\n",
    "# حلقه برای دریافت داده‌های هر ماه\n",
    "year = start_year\n",
    "month = start_month\n",
    "for ticker in tickers :\n",
    "    while year < end_year or (year == end_year and month <= end_month):\n",
    "        start_month_date = datetime.date(year, month, 1)\n",
    "        print(f\" دریافت داده‌های ماه قبل {month}-{year} نماد {ticker}\")\n",
    "        if month == 12:\n",
    "            end_month_date = datetime.date(year+1, 1, 1) - datetime.timedelta(days=1)\n",
    "            year += 1\n",
    "            month = 1\n",
    "        else:\n",
    "            end_month_date = start_month_date.replace(month=month+1) - datetime.timedelta(days=1)\n",
    "            month += 1\n",
    "\n",
    "        t = mf.forex_backtest_class([ticker],start_month_date , end_month_date , interval )\n",
    "        #******************************** SMA\n",
    "        (s_sma,l_sma)= t.best_param_sma(ticker)\n",
    "        r_sma=t.sma(ticker,s_sma,l_sma)\n",
    "        r_h=t.get_perf_hold(-1)\n",
    "        #******************************* EMA\n",
    "        (s_ema,l_ema)= t.best_param_ema(ticker)\n",
    "        r_ema=t.ema(ticker,s_ema,l_ema)\n",
    "        #******************************* DMA\n",
    "        (s_dema,l_dema)= t.best_param_dema(ticker)\n",
    "        r_dema=t.dema(ticker,s_dema,l_dema)\n",
    "        #******************************* RSI\n",
    "        (p_rsi,d_rsi,u_rsi)= t.best_param_rsi(ticker)\n",
    "        r_rsi=t.rsi(ticker,p_rsi,d_rsi,u_rsi)\n",
    "        \n",
    "        \n",
    "        \n",
    "        new_row = mf.pd.Series([end_month_date,ticker ,r_h,s_sma, l_sma, r_sma,s_ema,l_ema,r_ema,s_dema,l_dema,r_dema,p_rsi,d_rsi,u_rsi,r_rsi], index=result_data.columns)\n",
    "        result_data = mf.pd.concat([result_data, new_row.to_frame().T], ignore_index=True)\n",
    "\n",
    "result_data.set_index('date', inplace=True)\n",
    "print(result_data)"
   ]
  },
  {
   "cell_type": "code",
   "execution_count": null,
   "id": "eba60a2e-14d8-4f8a-8733-2d1f8aecdcbe",
   "metadata": {},
   "outputs": [],
   "source": []
  }
 ],
 "metadata": {
  "kernelspec": {
   "display_name": "Python 3 (ipykernel)",
   "language": "python",
   "name": "python3"
  },
  "language_info": {
   "codemirror_mode": {
    "name": "ipython",
    "version": 3
   },
   "file_extension": ".py",
   "mimetype": "text/x-python",
   "name": "python",
   "nbconvert_exporter": "python",
   "pygments_lexer": "ipython3",
   "version": "3.12.3"
  }
 },
 "nbformat": 4,
 "nbformat_minor": 5
}
