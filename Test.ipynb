{
 "cells": [
  {
   "cell_type": "code",
   "execution_count": 1,
   "id": "6cc1def7-4b69-452d-bfff-8ca9d3794f8b",
   "metadata": {},
   "outputs": [],
   "source": [
    "from tradingview_ta import TA_Handler, Interval, Exchange , TradingView\n",
    "import Coinex_API_Class as CoinexAPI\n",
    "import pandas as pd\n",
    "from tqdm import tqdm\n",
    "%reload_ext autoreload\n",
    "%autoreload 2\n",
    "    \n",
    "api_key = \"47D7C4B286224298BB3D88A9D7161A45\"\n",
    "api_secret = \"F0F2D4156F6892ED2F03576FEE74CFA658C5F8271DCE102D\"\n",
    "coinex = CoinexAPI.Coinex_API(api_key,api_secret)\n",
    "\n",
    "def prepare_data (period,limit) :\n",
    "    data_spot = coinex.get_spot_cum_ret(period,limit)\n",
    "    data_spot['Recomandation'] = None\n",
    "    data_spot['Buy'] = None\n",
    "    data_spot['Sell'] = None\n",
    "    data_spot['Neutral'] = None\n",
    "    if period== \"1min\" : preiod_ta = \"INTERVAL_1_MINUTE\"\n",
    "    elif period == \"5min\" : preiod_ta = \"INTERVAL_5_MINUTES\"\n",
    "    elif period == \"15min\" : preiod_ta = \"INTERVAL_15_MINUTES\"\n",
    "    elif period == \"30min\" : preiod_ta = \"INTERVAL_30_MINUTES\"\n",
    "    elif period == \"1hour\" : preiod_ta = \"INTERVAL_1_HOUR\"\n",
    "    elif period == \"2hour\" : preiod_ta = \"INTERVAL_2_HOUR\"\n",
    "    elif period == \"4hour\" : preiod_ta = \"INTERVAL_4_HOUR\"\n",
    "    elif period == \"1day\" : preiod_ta = \"INTERVAL_1_DAY\"\n",
    "    elif period == \"1week\" : preiod_ta = \"INTERVAL_1_WEEK\"\n",
    "    \n",
    "    for index, row in tqdm(data_spot.iterrows(), total=len(data_spot), desc=\"Processing symbol\" , position=0):\n",
    "        try : \n",
    "            if period== \"1min\" : \n",
    "                data= (TA_Handler(symbol=row['symbol'], screener=\"crypto\", exchange=\"COINEX\", interval=Interval.INTERVAL_1_MINUTE)).get_analysis().summary\n",
    "            elif period == \"5min\" : \n",
    "                data= (TA_Handler(symbol=row['symbol'], screener=\"crypto\", exchange=\"COINEX\", interval=Interval.INTERVAL_5_MINUTES)).get_analysis().summary\n",
    "            elif period == \"15min\" : \n",
    "                data= (TA_Handler(symbol=row['symbol'], screener=\"crypto\", exchange=\"COINEX\", interval=Interval.INTERVAL_15_MINUTES)).get_analysis().summary\n",
    "            elif period == \"30min\" : \n",
    "                data= (TA_Handler(symbol=row['symbol'], screener=\"crypto\", exchange=\"COINEX\", interval=Interval.INTERVAL_30_MINUTES)).get_analysis().summary\n",
    "            elif period == \"1hour\" : \n",
    "                data= (TA_Handler(symbol=row['symbol'], screener=\"crypto\", exchange=\"COINEX\", interval=Interval.INTERVAL_1_HOUR)).get_analysis().summary\n",
    "            elif period == \"2hour\" : \n",
    "                data= (TA_Handler(symbol=row['symbol'], screener=\"crypto\", exchange=\"COINEX\", interval=Interval.INTERVAL_2_HOURS)).get_analysis().summary\n",
    "            elif period == \"4hour\" : \n",
    "                data= (TA_Handler(symbol=row['symbol'], screener=\"crypto\", exchange=\"COINEX\", interval=Interval.INTERVAL_4_HOURS)).get_analysis().summary\n",
    "            elif period == \"1day\" : \n",
    "                data= (TA_Handler(symbol=row['symbol'], screener=\"crypto\", exchange=\"COINEX\", interval=Interval.INTERVAL_1_DAY)).get_analysis().summary\n",
    "            elif period == \"1week\" : \n",
    "                data= (TA_Handler(symbol=row['symbol'], screener=\"crypto\", exchange=\"COINEX\", interval=Interval.INTERVAL_1_WEEK)).get_analysis().summary\n",
    "            data_spot.loc[index, 'Recomandation'] =data['RECOMMENDATION']\n",
    "            data_spot.loc[index, 'Buy'] = data['BUY']\n",
    "            data_spot.loc[index, 'Sell'] = data['SELL']\n",
    "            data_spot.loc[index, 'Neutral'] = data['NEUTRAL']\n",
    "            print(index)\n",
    "        except Exception as e:\n",
    "            continue\n",
    "        df=data_spot.drop(columns=[\"Open\",\"High\",\"Low\",\"Return\"] , axis=1)\n",
    "    return df"
   ]
  },
  {
   "cell_type": "code",
   "execution_count": null,
   "id": "253e263e-15cf-4e5c-8dd4-34631e98b852",
   "metadata": {},
   "outputs": [
    {
     "name": "stderr",
     "output_type": "stream",
     "text": [
      " 14%|███████████▏                                                                   | 166/1174 [01:46<10:53,  1.54it/s]"
     ]
    }
   ],
   "source": [
    "df= prepare_data(\"15min\",48)\n",
    "df.to_csv('data.csv', index=False)"
   ]
  },
  {
   "cell_type": "code",
   "execution_count": null,
   "id": "905fd04b-bce5-4709-8eff-77daa79c80bf",
   "metadata": {},
   "outputs": [],
   "source": [
    "df"
   ]
  }
 ],
 "metadata": {
  "kernelspec": {
   "display_name": "Python 3 (ipykernel)",
   "language": "python",
   "name": "python3"
  },
  "language_info": {
   "codemirror_mode": {
    "name": "ipython",
    "version": 3
   },
   "file_extension": ".py",
   "mimetype": "text/x-python",
   "name": "python",
   "nbconvert_exporter": "python",
   "pygments_lexer": "ipython3",
   "version": "3.12.6"
  }
 },
 "nbformat": 4,
 "nbformat_minor": 5
}
