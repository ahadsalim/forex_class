{
 "cells": [
  {
   "cell_type": "code",
   "execution_count": 1,
   "id": "6cc1def7-4b69-452d-bfff-8ca9d3794f8b",
   "metadata": {},
   "outputs": [],
   "source": [
    "from tradingview_ta import TA_Handler, Interval, Exchange , TradingView\n",
    "import Coinex_API_Class as CoinexAPI\n",
    "import pandas as pd\n",
    "from tqdm import tqdm\n",
    "%reload_ext autoreload\n",
    "%autoreload 2\n",
    "    \n",
    "api_key = \"47D7C4B286224298BB3D88A9D7161A45\"\n",
    "api_secret = \"F0F2D4156F6892ED2F03576FEE74CFA658C5F8271DCE102D\"\n",
    "coinex = CoinexAPI.Coinex_API(api_key,api_secret)\n",
    "\n",
    "def prepare_data (period,limit) :\n",
    "    data_spot = coinex.get_spot_cum_ret(period,limit)\n",
    "    data_spot['Recomandation'] = None\n",
    "    data_spot['Buy'] = None\n",
    "    data_spot['Sell'] = None\n",
    "    data_spot['Neutral'] = None\n",
    "    if period== \"1min\" : preiod_ta = \"INTERVAL_1_MINUTE\"\n",
    "    elif period == \"5min\" : preiod_ta = \"INTERVAL_5_MINUTES\"\n",
    "    elif period == \"15min\" : preiod_ta = \"INTERVAL_15_MINUTES\"\n",
    "    elif period == \"30min\" : preiod_ta = \"INTERVAL_30_MINUTES\"\n",
    "    elif period == \"1hour\" : preiod_ta = \"INTERVAL_1_HOUR\"\n",
    "    elif period == \"2hour\" : preiod_ta = \"INTERVAL_2_HOUR\"\n",
    "    elif period == \"4hour\" : preiod_ta = \"INTERVAL_4_HOUR\"\n",
    "    elif period == \"1day\" : preiod_ta = \"INTERVAL_1_DAY\"\n",
    "    elif period == \"1week\" : preiod_ta = \"INTERVAL_1_WEEK\"\n",
    "    \n",
    "    for index, row in tqdm(data_spot.iterrows(), total=len(data_spot), desc=\"Processing symbol\" , position=0):\n",
    "        try : \n",
    "            if period== \"1min\" : \n",
    "                data= (TA_Handler(symbol=row['symbol'], screener=\"crypto\", exchange=\"COINEX\", interval=Interval.INTERVAL_1_MINUTE)).get_analysis().summary\n",
    "            elif period == \"5min\" : \n",
    "                data= (TA_Handler(symbol=row['symbol'], screener=\"crypto\", exchange=\"COINEX\", interval=Interval.INTERVAL_5_MINUTES)).get_analysis().summary\n",
    "            elif period == \"15min\" : \n",
    "                data= (TA_Handler(symbol=row['symbol'], screener=\"crypto\", exchange=\"COINEX\", interval=Interval.INTERVAL_15_MINUTES)).get_analysis().summary\n",
    "            elif period == \"30min\" : \n",
    "                data= (TA_Handler(symbol=row['symbol'], screener=\"crypto\", exchange=\"COINEX\", interval=Interval.INTERVAL_30_MINUTES)).get_analysis().summary\n",
    "            elif period == \"1hour\" : \n",
    "                data= (TA_Handler(symbol=row['symbol'], screener=\"crypto\", exchange=\"COINEX\", interval=Interval.INTERVAL_1_HOUR)).get_analysis().summary\n",
    "            elif period == \"2hour\" : \n",
    "                data= (TA_Handler(symbol=row['symbol'], screener=\"crypto\", exchange=\"COINEX\", interval=Interval.INTERVAL_2_HOURS)).get_analysis().summary\n",
    "            elif period == \"4hour\" : \n",
    "                data= (TA_Handler(symbol=row['symbol'], screener=\"crypto\", exchange=\"COINEX\", interval=Interval.INTERVAL_4_HOURS)).get_analysis().summary\n",
    "            elif period == \"1day\" : \n",
    "                data= (TA_Handler(symbol=row['symbol'], screener=\"crypto\", exchange=\"COINEX\", interval=Interval.INTERVAL_1_DAY)).get_analysis().summary\n",
    "            elif period == \"1week\" : \n",
    "                data= (TA_Handler(symbol=row['symbol'], screener=\"crypto\", exchange=\"COINEX\", interval=Interval.INTERVAL_1_WEEK)).get_analysis().summary\n",
    "            data_spot.loc[index, 'Recomandation'] =data['RECOMMENDATION']\n",
    "            data_spot.loc[index, 'Buy'] = data['BUY']\n",
    "            data_spot.loc[index, 'Sell'] = data['SELL']\n",
    "            data_spot.loc[index, 'Neutral'] = data['NEUTRAL']\n",
    "        except Exception as e:\n",
    "            continue\n",
    "        df=data_spot.drop(columns=[\"Open\",\"High\",\"Low\",\"Return\"] , axis=1)\n",
    "    return df"
   ]
  },
  {
   "cell_type": "code",
   "execution_count": null,
   "id": "253e263e-15cf-4e5c-8dd4-34631e98b852",
   "metadata": {},
   "outputs": [],
   "source": [
    "df= prepare_data(\"15min\",48)  # For 12 Hours ago\n",
    "df.to_csv('data.csv', index=False)"
   ]
  },
  {
   "cell_type": "code",
   "execution_count": null,
   "id": "42e3bba4-a77e-40f5-9bec-2ce2807e4150",
   "metadata": {},
   "outputs": [],
   "source": [
    "df = pd.read_csv(\"data.csv\")\n",
    "df2 = df[(df['Recomandation'] == \"STRONG_BUY\") | (df['Recomandation'] == \"STRONG_SELL\")]\n",
    "df2 = df2.sort_values(['Cum_Return'],ascending=False)\n",
    "df2 = df2.reindex(['Time', 'period', 'limit','Recomandation','symbol','Cum_Return','Close','Volume','Value','maker_fr','taker_fr','Buy','Sell','Neutral',], axis=1)"
   ]
  },
  {
   "cell_type": "code",
   "execution_count": null,
   "id": "63255106-3347-4e24-a44b-17ba74ab15b5",
   "metadata": {},
   "outputs": [],
   "source": [
    "df=coinex.save_filtered_spot_market()"
   ]
  },
  {
   "cell_type": "code",
   "execution_count": null,
   "id": "5f013eaa-6137-4119-87ee-fa6297d427db",
   "metadata": {},
   "outputs": [],
   "source": [
    "df=coinex.get_cum_ret_filtered_tickers(\"15min\",48)"
   ]
  },
  {
   "cell_type": "code",
   "execution_count": null,
   "id": "43efd916-eef9-4005-9c4b-50cc7b802b36",
   "metadata": {},
   "outputs": [],
   "source": [
    "df"
   ]
  },
  {
   "cell_type": "code",
   "execution_count": null,
   "id": "4d05ba22-202d-4049-a5cf-793e779c8faf",
   "metadata": {},
   "outputs": [],
   "source": []
  }
 ],
 "metadata": {
  "kernelspec": {
   "display_name": "Python 3 (ipykernel)",
   "language": "python",
   "name": "python3"
  },
  "language_info": {
   "codemirror_mode": {
    "name": "ipython",
    "version": 3
   },
   "file_extension": ".py",
   "mimetype": "text/x-python",
   "name": "python",
   "nbconvert_exporter": "python",
   "pygments_lexer": "ipython3",
   "version": "3.11.10"
  }
 },
 "nbformat": 4,
 "nbformat_minor": 5
}
