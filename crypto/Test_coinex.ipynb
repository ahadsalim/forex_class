{
 "cells": [
  {
   "cell_type": "code",
   "execution_count": null,
   "id": "6cc1def7-4b69-452d-bfff-8ca9d3794f8b",
   "metadata": {},
   "outputs": [],
   "source": [
    "import Coinex_API_Class as CoinexAPI\n",
    "\n",
    "%reload_ext autoreload\n",
    "%autoreload 2\n",
    "    \n",
    "api_key = \"47D7C4B286224298BB3D88A9D7161A45\"\n",
    "api_secret = \"F0F2D4156F6892ED2F03576FEE74CFA658C5F8271DCE102D\"\n",
    "coinex = CoinexAPI.Coinex_API(api_key,api_secret)"
   ]
  },
  {
   "cell_type": "code",
   "execution_count": 2,
   "id": "253e263e-15cf-4e5c-8dd4-34631e98b852",
   "metadata": {},
   "outputs": [],
   "source": [
    "import json\n",
    "import sqlite3\n",
    "import Coinex_API_Class as Coinex\n",
    "\n",
    "try :\n",
    "    with open('config.json', 'r') as f:\n",
    "        data = json.load(f)\n",
    "        api_key = data['api_key']\n",
    "        api_secret = data['api_secret']\n",
    "        db_name = data['db_name']\n",
    "        num_candles = data['num_candle']\n",
    "        loss_limit = data['loss_limit']\n",
    "        client_id = data['client_id']\n",
    "except Exception as e:\n",
    "    print(f\"Error: {e}\")\n",
    "\n",
    "conn = sqlite3.connect(\"crypto.db\")\n",
    "coinex = Coinex.Coinex_API(api_key, api_secret, connection=conn , client_id=client_id)"
   ]
  },
  {
   "cell_type": "code",
   "execution_count": 3,
   "id": "c8bc462c-850c-4fd4-b4b7-16158813b5a8",
   "metadata": {},
   "outputs": [
    {
     "data": {
      "text/plain": [
       "0.5215"
      ]
     },
     "execution_count": 3,
     "metadata": {},
     "output_type": "execute_result"
    }
   ],
   "source": [
    "float(coinex.get_spot_price_ticker(\"FLUXUSDT\")[0][\"last\"])"
   ]
  },
  {
   "cell_type": "code",
   "execution_count": null,
   "id": "2efd7eff-4665-4bf6-8bb6-bc01a3f058f4",
   "metadata": {},
   "outputs": [],
   "source": []
  }
 ],
 "metadata": {
  "kernelspec": {
   "display_name": "Python 3 (ipykernel)",
   "language": "python",
   "name": "python3"
  },
  "language_info": {
   "codemirror_mode": {
    "name": "ipython",
    "version": 3
   },
   "file_extension": ".py",
   "mimetype": "text/x-python",
   "name": "python",
   "nbconvert_exporter": "python",
   "pygments_lexer": "ipython3",
   "version": "3.11.10"
  }
 },
 "nbformat": 4,
 "nbformat_minor": 5
}
