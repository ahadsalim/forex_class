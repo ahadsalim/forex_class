{
 "cells": [
  {
   "cell_type": "code",
   "execution_count": 1,
   "id": "253e263e-15cf-4e5c-8dd4-34631e98b852",
   "metadata": {},
   "outputs": [],
   "source": [
    "import json\n",
    "import pandas as pd\n",
    "import sqlite3\n",
    "import Coinex_API_Class as Coinex\n",
    "\n",
    "%reload_ext autoreload\n",
    "%autoreload 2\n",
    "\n",
    "try :\n",
    "    with open('config.json', 'r') as f:\n",
    "        data = json.load(f)\n",
    "        api_key = data['api_key']\n",
    "        api_secret = data['api_secret']\n",
    "        db_name = data['db_name']\n",
    "        num_candles = data['num_candle']\n",
    "        loss_limit = data['loss_limit']\n",
    "        client_id = data['client_id']\n",
    "except Exception as e:\n",
    "    print(f\"Error: {e}\")\n",
    "\n",
    "conn = sqlite3.connect(\"crypto.db\")\n",
    "coinex = Coinex.Coinex_API(api_key, api_secret, connection=conn , client_id=client_id)"
   ]
  },
  {
   "cell_type": "code",
   "execution_count": null,
   "id": "7fadbd9c-43b2-4168-9730-9886a799a7a0",
   "metadata": {},
   "outputs": [],
   "source": [
    "import threading\n",
    "import time\n",
    "\n",
    "def print_numbers():\n",
    "    for i in range(5):\n",
    "        print(f\"عدد {i}\")\n",
    "        time.sleep(1)\n",
    "\n",
    "def print_letters():\n",
    "    for letter in ['A', 'B', 'C', 'D', 'E']:\n",
    "        print(f\"حرف {letter}\")\n",
    "        time.sleep(1.5)\n",
    "\n",
    "# ایجاد دو Thread برای اجرای وظایف مختلف\n",
    "thread1 = threading.Thread(target=print_numbers)\n",
    "thread2 = threading.Thread(target=print_letters)\n",
    "\n",
    "# شروع اجرای Threads\n",
    "thread1.start()\n",
    "thread2.start()\n",
    "\n",
    "# منتظر ماندن تا اتمام اجرای Threads\n",
    "thread1.join()\n",
    "thread2.join()\n",
    "\n",
    "print(\"پایان اجرای همروندی\")"
   ]
  },
  {
   "cell_type": "code",
   "execution_count": 15,
   "id": "8f569b06-ba00-4e9f-b4d2-5bed3307f8a9",
   "metadata": {},
   "outputs": [],
   "source": [
    "coinex.get_spot_history()"
   ]
  },
  {
   "cell_type": "code",
   "execution_count": 16,
   "id": "19bcfd44-063e-4927-9f0d-2566fd08e674",
   "metadata": {},
   "outputs": [
    {
     "data": {
      "text/plain": [
       "134"
      ]
     },
     "execution_count": 16,
     "metadata": {},
     "output_type": "execute_result"
    }
   ],
   "source": [
    "cursor = conn.cursor()\n",
    "query = \"SELECT * FROM transactions\"  \n",
    "df = pd.read_sql_query(query, conn)\n",
    "df_b = df[df['sold']== 'USDT'].copy()\n",
    "df2=pd.DataFrame()\n",
    "i=0\n",
    "for index, row in df_b.iterrows():\n",
    "    df2.loc[i,'Time_buy']= row['ltime']\n",
    "    df2.loc[i,'ccy'] = row['buy']\n",
    "    df2.loc[i,'pure_amount']= row['balance']\n",
    "    df2.loc[i,'pay_USDT']= row['pay']\n",
    "    df2.loc[i,'Time_sold']= None\n",
    "    df2.loc[i,'recieve']= None\n",
    "    df2.loc[i,'proft']= None \n",
    "    i +=1\n",
    "\n",
    "df2.to_sql('profit', conn, if_exists='replace', index=False)"
   ]
  },
  {
   "cell_type": "code",
   "execution_count": null,
   "id": "27228b9b-69c2-4461-a230-b65123c44d9c",
   "metadata": {},
   "outputs": [],
   "source": []
  }
 ],
 "metadata": {
  "kernelspec": {
   "display_name": "Python 3 (ipykernel)",
   "language": "python",
   "name": "python3"
  },
  "language_info": {
   "codemirror_mode": {
    "name": "ipython",
    "version": 3
   },
   "file_extension": ".py",
   "mimetype": "text/x-python",
   "name": "python",
   "nbconvert_exporter": "python",
   "pygments_lexer": "ipython3",
   "version": "3.11.10"
  }
 },
 "nbformat": 4,
 "nbformat_minor": 5
}
