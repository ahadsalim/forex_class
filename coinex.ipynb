{
 "cells": [
  {
   "cell_type": "code",
   "execution_count": 9,
   "id": "720268cd-41d3-4b2f-b739-2c9a5a91e499",
   "metadata": {},
   "outputs": [
    {
     "name": "stdout",
     "output_type": "stream",
     "text": [
      "{'RECOMMENDATION': 'NEUTRAL', 'BUY': 7, 'SELL': 10, 'NEUTRAL': 9}\n"
     ]
    }
   ],
   "source": [
    "from tradingview_ta import TA_Handler, Interval, Exchange , TradingView\n",
    "\n",
    "tesla = TA_Handler(\n",
    "    symbol=\"BTCUSDT\",\n",
    "    screener=\"crypto\",\n",
    "    exchange=\"COINEX\",\n",
    "    interval=Interval.INTERVAL_1_MINUTE\n",
    ")\n",
    "print(tesla.get_analysis().summary)\n",
    "# Example output: {\"RECOMMENDATION\": \"BUY\", \"BUY\": 8, \"NEUTRAL\": 6, \"SELL\": 3}"
   ]
  },
  {
   "cell_type": "code",
   "execution_count": 1,
   "id": "54968104-cf0f-48a8-aaa6-619e93bb2189",
   "metadata": {},
   "outputs": [],
   "source": [
    "%reload_ext autoreload\n",
    "%autoreload 2\n",
    "import pprint\n",
    "import Coinex_API_Class as CoinexAPI"
   ]
  },
  {
   "cell_type": "code",
   "execution_count": 32,
   "id": "7d1c0d1c-c8f9-4727-98c4-4bb087a3f0ce",
   "metadata": {},
   "outputs": [
    {
     "name": "stdout",
     "output_type": "stream",
     "text": [
      "     base_ccy  base_ccy_precision  is_amm_available  is_margin_available  \\\n",
      "0         RVN                   8             False                False   \n",
      "1         STC                   8              True                False   \n",
      "2        RAIL                   8              True                False   \n",
      "3        HARD                   8              True                False   \n",
      "4      SECOND                   8              True                False   \n",
      "...       ...                 ...               ...                  ...   \n",
      "1490      BLZ                   8              True                False   \n",
      "1491      POR                   8              True                False   \n",
      "1492      CTK                   8              True                False   \n",
      "1493       AR                   8             False                False   \n",
      "1494      SQR                   8              True                False   \n",
      "\n",
      "     maker_fee_rate      market min_amount quote_ccy  quote_ccy_precision  \\\n",
      "0             0.002      RVNBTC        100       BTC                   10   \n",
      "1             0.003     STCUSDT       1000      USDT                    8   \n",
      "2             0.003    RAILUSDT          5      USDT                    4   \n",
      "3             0.003    HARDUSDT         10      USDT                    6   \n",
      "4             0.003  SECONDUSDT       5000      USDT                    8   \n",
      "...             ...         ...        ...       ...                  ...   \n",
      "1490          0.003     BLZUSDT         10      USDT                    6   \n",
      "1491          0.003     PORUSDT          5      USDT                    4   \n",
      "1492          0.003     CTKUSDT          5      USDT                    4   \n",
      "1493          0.002       ARBTC       0.05       BTC                    8   \n",
      "1494          0.003     SQRUSDT         50      USDT                    6   \n",
      "\n",
      "     taker_fee_rate  \n",
      "0             0.002  \n",
      "1             0.003  \n",
      "2             0.003  \n",
      "3             0.003  \n",
      "4             0.003  \n",
      "...             ...  \n",
      "1490          0.003  \n",
      "1491          0.003  \n",
      "1492          0.003  \n",
      "1493          0.002  \n",
      "1494          0.003  \n",
      "\n",
      "[1495 rows x 10 columns]\n"
     ]
    }
   ],
   "source": [
    "api_key = \"47D7C4B286224298BB3D88A9D7161A45\"\n",
    "api_secret = \"F0F2D4156F6892ED2F03576FEE74CFA658C5F8271DCE102D\"\n",
    "coinex = CoinexAPI.Coinex_API(api_key,api_secret)\n",
    "df = coinex.get_spot_market()\n",
    "print (df)"
   ]
  },
  {
   "cell_type": "code",
   "execution_count": 31,
   "id": "1321f0fa-b84e-4a6a-a496-aff06ea515c8",
   "metadata": {},
   "outputs": [
    {
     "name": "stdout",
     "output_type": "stream",
     "text": [
      "        Time      Open      High       Low     Close  PrcntChange  \\\n",
      "0 2024-09-19  61758.12  63818.39  61587.29  62947.98          NaN   \n",
      "1 2024-09-20  62947.97  64079.45  62373.87  63199.23     0.003983   \n",
      "2 2024-09-21  63178.12  63508.00  62761.40  63344.74     0.002300   \n",
      "3 2024-09-22  63344.75  63998.99  62400.00  63590.74     0.003876   \n",
      "4 2024-09-23  63590.75  64700.00  62608.83  63341.74    -0.003923   \n",
      "5 2024-09-24  63341.75  64668.24  62725.99  64275.93     0.014641   \n",
      "6 2024-09-25  64275.93  64784.59  62969.81  63159.27    -0.017526   \n",
      "7 2024-09-26  63159.28  65779.99  62700.00  65149.34     0.031023   \n",
      "8 2024-09-27  65149.33  66483.10  64824.60  65758.91     0.009313   \n",
      "9 2024-09-28  65758.92  66231.73  65474.46  65723.39    -0.000540   \n",
      "\n",
      "        Volume         Value  \n",
      "0  1039.909859  6.518699e+07  \n",
      "1   840.510566  5.315723e+07  \n",
      "2   406.178715  2.563147e+07  \n",
      "3   595.319708  3.751280e+07  \n",
      "4   688.003199  4.377177e+07  \n",
      "5   737.656577  4.688523e+07  \n",
      "6   622.632641  3.969036e+07  \n",
      "7   948.043355  6.104909e+07  \n",
      "8   641.248351  4.211402e+07  \n",
      "9   178.270217  1.173068e+07  \n"
     ]
    }
   ],
   "source": [
    "print(coinex.get_spot_kline(\"BTCUSDT\",\"1day\",10))"
   ]
  },
  {
   "cell_type": "code",
   "execution_count": 44,
   "id": "057bdcfb-5f6a-44f2-8213-1b341655174c",
   "metadata": {},
   "outputs": [
    {
     "name": "stderr",
     "output_type": "stream",
     "text": [
      "  0%|                                                                                 | 1/1174 [00:00<10:48,  1.81it/s]"
     ]
    },
    {
     "name": "stdout",
     "output_type": "stream",
     "text": [
      "    close     created_at    high     low        market    open    value volume\n",
      "0  0.4142  1727527320000  0.4142  0.4142  GOMININGUSDT  0.4142  2.40236    5.8\n",
      "1  0.4144  1727527380000  0.4144  0.4144  GOMININGUSDT  0.4144  2.34136   5.65\n",
      "  symbol                time   price  pct_change  volume\n",
      "0    NaN 2024-09-28 12:42:00  0.4142         NaN    5.80\n",
      "1    NaN 2024-09-28 12:43:00  0.4144    0.000483    5.65\n"
     ]
    },
    {
     "name": "stderr",
     "output_type": "stream",
     "text": [
      "  0%|▏                                                                                | 2/1174 [00:01<11:16,  1.73it/s]"
     ]
    },
    {
     "name": "stdout",
     "output_type": "stream",
     "text": [
      "      close     created_at      high       low    market      open     value  \\\n",
      "0  0.005125  1727527320000  0.005125  0.005125  REVVUSDT  0.005125   3.02375   \n",
      "1  0.005121  1727527380000  0.005121  0.005121  REVVUSDT  0.005121  2.995785   \n",
      "\n",
      "  volume  \n",
      "0    590  \n",
      "1    585  \n",
      "     symbol                time     price  pct_change  volume\n",
      "0  REVVUSDT 2024-09-28 12:42:00  0.005125         NaN   590.0\n",
      "1  REVVUSDT 2024-09-28 12:43:00  0.005121   -0.000781   585.0\n"
     ]
    },
    {
     "name": "stderr",
     "output_type": "stream",
     "text": [
      "  0%|▏                                                                                | 3/1174 [00:01<11:17,  1.73it/s]"
     ]
    },
    {
     "name": "stdout",
     "output_type": "stream",
     "text": [
      "    close     created_at    high     low   market    open     value volume\n",
      "0  1.7563  1727527320000  1.7563  1.7563  IMXUSDT  1.7563  2.054871   1.17\n",
      "1  1.7563  1727527380000  1.7563  1.7563  IMXUSDT  1.7563  2.019745   1.15\n",
      "    symbol                time   price  pct_change  volume\n",
      "0  IMXUSDT 2024-09-28 12:42:00  1.7563         NaN    1.17\n",
      "1  IMXUSDT 2024-09-28 12:43:00  1.7563         0.0    1.15\n"
     ]
    },
    {
     "name": "stderr",
     "output_type": "stream",
     "text": [
      "  0%|▎                                                                                | 4/1174 [00:02<11:05,  1.76it/s]"
     ]
    },
    {
     "name": "stdout",
     "output_type": "stream",
     "text": [
      "    close     created_at    high     low   market    open           value  \\\n",
      "0  3.0626  1727527320000   3.064  3.0626  NMTUSDT   3.064  3.608323399136   \n",
      "1  3.0626  1727527380000  3.0626  3.0626  NMTUSDT  3.0626               0   \n",
      "\n",
      "       volume  \n",
      "0  1.17791927  \n",
      "1           0  \n",
      "    symbol                time   price  pct_change    volume\n",
      "0  NMTUSDT 2024-09-28 12:42:00  3.0626         NaN  1.177919\n",
      "1  NMTUSDT 2024-09-28 12:43:00  3.0626         0.0  0.000000\n"
     ]
    },
    {
     "name": "stderr",
     "output_type": "stream",
     "text": [
      "  0%|▎                                                                                | 5/1174 [00:02<11:06,  1.76it/s]"
     ]
    },
    {
     "name": "stdout",
     "output_type": "stream",
     "text": [
      "        close     created_at        high         low  market        open  \\\n",
      "0  0.00028298  1727527320000  0.00028298  0.00028298  DCUSDT  0.00028298   \n",
      "1  0.00028298  1727527380000  0.00028298  0.00028298  DCUSDT  0.00028298   \n",
      "\n",
      "      value volume  \n",
      "0  1.641284   5800  \n",
      "1  1.669582   5900  \n",
      "   symbol                time     price  pct_change  volume\n",
      "0  DCUSDT 2024-09-28 12:42:00  0.000283         NaN  5800.0\n",
      "1  DCUSDT 2024-09-28 12:43:00  0.000283         0.0  5900.0\n"
     ]
    },
    {
     "name": "stderr",
     "output_type": "stream",
     "text": [
      "  1%|▍                                                                                | 6/1174 [00:03<11:14,  1.73it/s]"
     ]
    },
    {
     "name": "stdout",
     "output_type": "stream",
     "text": [
      "   close     created_at    high    low   market    open           value  \\\n",
      "0  1.098  1727527320000  1.1002  1.098  BNXUSDT  1.1002  29.96662502416   \n",
      "1  1.098  1727527380000   1.098  1.098  BNXUSDT   1.098               0   \n",
      "\n",
      "        volume  \n",
      "0  27.28964392  \n",
      "1            0  \n",
      "    symbol                time  price  pct_change     volume\n",
      "0  BNXUSDT 2024-09-28 12:42:00  1.098         NaN  27.289644\n",
      "1  BNXUSDT 2024-09-28 12:43:00  1.098         0.0   0.000000\n"
     ]
    },
    {
     "name": "stderr",
     "output_type": "stream",
     "text": [
      "  1%|▍                                                                                | 7/1174 [00:04<11:13,  1.73it/s]"
     ]
    },
    {
     "name": "stdout",
     "output_type": "stream",
     "text": [
      "        close     created_at        high         low      market        open  \\\n",
      "0  0.00008386  1727527320000  0.00008386  0.00008386  HUAHUAUSDT  0.00008386   \n",
      "1  0.00008386  1727527380000  0.00008386  0.00008386  HUAHUAUSDT  0.00008386   \n",
      "\n",
      "                value          volume  \n",
      "0  4.3965981374355614  52427.83373999  \n",
      "1                   0               0  \n",
      "       symbol                time     price  pct_change       volume\n",
      "0  HUAHUAUSDT 2024-09-28 12:42:00  0.000084         NaN  52427.83374\n",
      "1  HUAHUAUSDT 2024-09-28 12:43:00  0.000084         0.0      0.00000\n"
     ]
    },
    {
     "name": "stderr",
     "output_type": "stream",
     "text": [
      "  1%|▌                                                                                | 8/1174 [00:04<11:11,  1.74it/s]"
     ]
    },
    {
     "name": "stdout",
     "output_type": "stream",
     "text": [
      "    close     created_at    high     low   market    open     value volume\n",
      "0  0.4171  1727527320000  0.4171  0.4171  SCAUSDT  0.4171  2.356615   5.65\n",
      "1  0.4173  1727527380000  0.4173  0.4173  SCAUSDT  0.4173   2.37861    5.7\n",
      "    symbol                time   price  pct_change  volume\n",
      "0  SCAUSDT 2024-09-28 12:42:00  0.4171         NaN    5.65\n",
      "1  SCAUSDT 2024-09-28 12:43:00  0.4173    0.000479    5.70\n"
     ]
    },
    {
     "name": "stderr",
     "output_type": "stream",
     "text": [
      "  1%|▌                                                                                | 9/1174 [00:05<11:47,  1.65it/s]"
     ]
    },
    {
     "name": "stdout",
     "output_type": "stream",
     "text": [
      "      close     created_at      high       low   market      open      value  \\\n",
      "0  0.153989  1727527320000  0.153989  0.153989  GMTUSDT  0.153989  1.8170702   \n",
      "1  0.153979  1727527380000  0.153979  0.153979  GMTUSDT  0.153979   1.693769   \n",
      "\n",
      "  volume  \n",
      "0   11.8  \n",
      "1     11  \n",
      "    symbol                time     price  pct_change  volume\n",
      "0  GMTUSDT 2024-09-28 12:42:00  0.153989         NaN    11.8\n",
      "1  GMTUSDT 2024-09-28 12:43:00  0.153979   -0.000065    11.0\n"
     ]
    },
    {
     "name": "stderr",
     "output_type": "stream",
     "text": [
      "  1%|▋                                                                               | 10/1174 [00:05<11:34,  1.68it/s]"
     ]
    },
    {
     "name": "stdout",
     "output_type": "stream",
     "text": [
      "      close     created_at      high       low   market      open     value  \\\n",
      "0  0.021676  1727527320000  0.021676  0.021676  XRDUSDT  0.021676  1.213856   \n",
      "1  0.021676  1727527380000  0.021676  0.021676  XRDUSDT  0.021676  1.224694   \n",
      "\n",
      "  volume  \n",
      "0     56  \n",
      "1   56.5  \n",
      "    symbol                time     price  pct_change  volume\n",
      "0  XRDUSDT 2024-09-28 12:42:00  0.021676         NaN    56.0\n",
      "1  XRDUSDT 2024-09-28 12:43:00  0.021676         0.0    56.5\n"
     ]
    },
    {
     "name": "stderr",
     "output_type": "stream",
     "text": [
      "  1%|▋                                                                               | 11/1174 [00:06<11:27,  1.69it/s]"
     ]
    },
    {
     "name": "stdout",
     "output_type": "stream",
     "text": [
      "      close     created_at      high       low   market      open  \\\n",
      "0  0.020664  1727527320000   0.02073  0.020586  LAIUSDT   0.02073   \n",
      "1  0.020665  1727527380000  0.020665  0.020665  LAIUSDT  0.020665   \n",
      "\n",
      "                value          volume  \n",
      "0  349.03791630339025  16875.35305069  \n",
      "1            2.376475             115  \n",
      "    symbol                time     price  pct_change        volume\n",
      "0  LAIUSDT 2024-09-28 12:42:00  0.020664         NaN  16875.353051\n",
      "1  LAIUSDT 2024-09-28 12:43:00  0.020665    0.000048    115.000000\n"
     ]
    },
    {
     "name": "stderr",
     "output_type": "stream",
     "text": [
      "  1%|▊                                                                               | 12/1174 [00:06<11:17,  1.71it/s]"
     ]
    },
    {
     "name": "stdout",
     "output_type": "stream",
     "text": [
      "      close     created_at      high       low   market      open     value  \\\n",
      "0  0.016144  1727527320000  0.016144  0.016144  NCTUSDT  0.016144   1.85656   \n",
      "1  0.016155  1727527380000  0.016155  0.016155  NCTUSDT  0.016155  1.793205   \n",
      "\n",
      "  volume  \n",
      "0    115  \n",
      "1    111  \n",
      "    symbol                time     price  pct_change  volume\n",
      "0  NCTUSDT 2024-09-28 12:42:00  0.016144         NaN   115.0\n",
      "1  NCTUSDT 2024-09-28 12:43:00  0.016155    0.000681   111.0\n"
     ]
    },
    {
     "name": "stderr",
     "output_type": "stream",
     "text": [
      "  1%|▉                                                                               | 13/1174 [00:07<11:05,  1.74it/s]"
     ]
    },
    {
     "name": "stdout",
     "output_type": "stream",
     "text": [
      "        close     created_at        high         low      market        open  \\\n",
      "0  0.00076963  1727527320000  0.00076963  0.00076949  SECONDUSDT  0.00076949   \n",
      "1  0.00076963  1727527380000  0.00076963  0.00076963  SECONDUSDT  0.00076963   \n",
      "\n",
      "               value         volume  \n",
      "0  8.413140328828018  10932.3736452  \n",
      "1                  0              0  \n",
      "       symbol                time    price  pct_change        volume\n",
      "0  SECONDUSDT 2024-09-28 12:42:00  0.00077         NaN  10932.373645\n",
      "1  SECONDUSDT 2024-09-28 12:43:00  0.00077         0.0      0.000000\n"
     ]
    },
    {
     "name": "stderr",
     "output_type": "stream",
     "text": [
      "  1%|▉                                                                               | 14/1174 [00:08<11:05,  1.74it/s]"
     ]
    },
    {
     "name": "stdout",
     "output_type": "stream",
     "text": [
      "      close     created_at      high       low    market      open     value  \\\n",
      "0  0.037022  1727527320000  0.037022  0.037022  WAXPUSDT  0.037022  2.202809   \n",
      "1  0.036992  1727527380000  0.036992  0.036992  WAXPUSDT  0.036992  2.071552   \n",
      "\n",
      "  volume  \n",
      "0   59.5  \n",
      "1     56  \n",
      "     symbol                time     price  pct_change  volume\n",
      "0  WAXPUSDT 2024-09-28 12:42:00  0.037022         NaN    59.5\n",
      "1  WAXPUSDT 2024-09-28 12:43:00  0.036992   -0.000811    56.0\n"
     ]
    },
    {
     "name": "stderr",
     "output_type": "stream",
     "text": [
      "  1%|█                                                                               | 15/1174 [00:08<10:57,  1.76it/s]"
     ]
    },
    {
     "name": "stdout",
     "output_type": "stream",
     "text": [
      "      close     created_at      high       low    market      open     value  \\\n",
      "0  0.027226  1727527320000  0.027226  0.027226  GOALUSDT  0.027226  1.511043   \n",
      "1  0.027206  1727527380000  0.027206  0.027206  GOALUSDT  0.027206  1.523536   \n",
      "\n",
      "  volume  \n",
      "0   55.5  \n",
      "1     56  \n",
      "     symbol                time     price  pct_change  volume\n",
      "0  GOALUSDT 2024-09-28 12:42:00  0.027226         NaN    55.5\n",
      "1  GOALUSDT 2024-09-28 12:43:00  0.027206   -0.000735    56.0\n"
     ]
    },
    {
     "name": "stderr",
     "output_type": "stream",
     "text": [
      "  1%|█                                                                               | 16/1174 [00:09<10:58,  1.76it/s]"
     ]
    },
    {
     "name": "stdout",
     "output_type": "stream",
     "text": [
      "      close     created_at      high       low   market      open      value  \\\n",
      "0  0.027415  1727527320000  0.027415  0.027415  ALUUSDT  0.027415   1.617485   \n",
      "1  0.027431  1727527380000  0.027431  0.027431  ALUUSDT  0.027431  1.6321445   \n",
      "\n",
      "  volume  \n",
      "0     59  \n",
      "1   59.5  \n",
      "    symbol                time     price  pct_change  volume\n",
      "0  ALUUSDT 2024-09-28 12:42:00  0.027415         NaN    59.0\n",
      "1  ALUUSDT 2024-09-28 12:43:00  0.027431    0.000583    59.5\n"
     ]
    },
    {
     "name": "stderr",
     "output_type": "stream",
     "text": [
      "  1%|█▏                                                                              | 17/1174 [00:09<11:23,  1.69it/s]"
     ]
    },
    {
     "name": "stdout",
     "output_type": "stream",
     "text": [
      "      close     created_at      high       low     market      open  \\\n",
      "0  0.048691  1727527320000  0.048691  0.048691  SAUCEUSDT  0.048691   \n",
      "1  0.048691  1727527380000  0.048691  0.048691  SAUCEUSDT  0.048691   \n",
      "\n",
      "              value       volume  \n",
      "0  2.66336738839177  54.69937747  \n",
      "1                 0            0  \n",
      "      symbol                time     price  pct_change     volume\n",
      "0  SAUCEUSDT 2024-09-28 12:42:00  0.048691         NaN  54.699377\n",
      "1  SAUCEUSDT 2024-09-28 12:43:00  0.048691         0.0   0.000000\n"
     ]
    },
    {
     "name": "stderr",
     "output_type": "stream",
     "text": [
      "  2%|█▏                                                                              | 18/1174 [00:10<11:09,  1.73it/s]"
     ]
    },
    {
     "name": "stdout",
     "output_type": "stream",
     "text": [
      "      close     created_at      high       low   market      open     value  \\\n",
      "0  0.037318  1727527320000  0.037318  0.037318  CHIUSDT  0.037318  2.071149   \n",
      "1   0.03731  1727527380000   0.03731   0.03731  CHIUSDT   0.03731   2.16398   \n",
      "\n",
      "  volume  \n",
      "0   55.5  \n",
      "1     58  \n",
      "    symbol                time     price  pct_change  volume\n",
      "0  CHIUSDT 2024-09-28 12:42:00  0.037318         NaN    55.5\n",
      "1  CHIUSDT 2024-09-28 12:43:00  0.037310   -0.000214    58.0\n"
     ]
    },
    {
     "name": "stderr",
     "output_type": "stream",
     "text": [
      "  2%|█▎                                                                              | 19/1174 [00:11<11:14,  1.71it/s]"
     ]
    },
    {
     "name": "stdout",
     "output_type": "stream",
     "text": [
      "      close     created_at      high       low    market      open     value  \\\n",
      "0  0.004933  1727527320000  0.004933  0.004933  X2Y2USDT  0.004933  2.935135   \n",
      "1  0.004934  1727527380000  0.004934  0.004934  X2Y2USDT  0.004934   2.78771   \n",
      "\n",
      "  volume  \n",
      "0    595  \n",
      "1    565  \n",
      "     symbol                time     price  pct_change  volume\n",
      "0  X2Y2USDT 2024-09-28 12:42:00  0.004933         NaN   595.0\n",
      "1  X2Y2USDT 2024-09-28 12:43:00  0.004934    0.000203   565.0\n"
     ]
    },
    {
     "name": "stderr",
     "output_type": "stream",
     "text": [
      "  2%|█▎                                                                              | 20/1174 [00:11<11:07,  1.73it/s]"
     ]
    },
    {
     "name": "stdout",
     "output_type": "stream",
     "text": [
      "   close     created_at   high    low   market   open   value volume\n",
      "0  1.085  1727527320000  1.085  1.085  MTLUSDT  1.085  1.1935    1.1\n",
      "1  1.085  1727527380000  1.085  1.085  MTLUSDT  1.085  1.2152   1.12\n",
      "    symbol                time  price  pct_change  volume\n",
      "0  MTLUSDT 2024-09-28 12:42:00  1.085         NaN    1.10\n",
      "1  MTLUSDT 2024-09-28 12:43:00  1.085         0.0    1.12\n"
     ]
    },
    {
     "name": "stderr",
     "output_type": "stream",
     "text": [
      "  2%|█▍                                                                              | 21/1174 [00:12<11:05,  1.73it/s]"
     ]
    },
    {
     "name": "stdout",
     "output_type": "stream",
     "text": [
      "      close     created_at      high       low   market      open     value  \\\n",
      "0  0.012652  1727527320000  0.012652  0.012652  JGNUSDT  0.012652  1.429676   \n",
      "1  0.012659  1727527380000  0.012659  0.012659  JGNUSDT  0.012659  1.455785   \n",
      "\n",
      "  volume  \n",
      "0    113  \n",
      "1    115  \n",
      "    symbol                time     price  pct_change  volume\n",
      "0  JGNUSDT 2024-09-28 12:42:00  0.012652         NaN   113.0\n",
      "1  JGNUSDT 2024-09-28 12:43:00  0.012659    0.000553   115.0\n"
     ]
    },
    {
     "name": "stderr",
     "output_type": "stream",
     "text": [
      "  2%|█▍                                                                              | 22/1174 [00:12<11:01,  1.74it/s]"
     ]
    },
    {
     "name": "stdout",
     "output_type": "stream",
     "text": [
      "      close     created_at      high       low   market      open  \\\n",
      "0  0.116262  1727527320000  0.116262  0.116262  SYSUSDT  0.116262   \n",
      "1  0.116262  1727527380000  0.116262  0.116262  SYSUSDT  0.116262   \n",
      "\n",
      "             value       volume  \n",
      "0  1.3364824325499  11.49543645  \n",
      "1                0            0  \n",
      "    symbol                time     price  pct_change     volume\n",
      "0  SYSUSDT 2024-09-28 12:42:00  0.116262         NaN  11.495436\n",
      "1  SYSUSDT 2024-09-28 12:43:00  0.116262         0.0   0.000000\n"
     ]
    },
    {
     "name": "stderr",
     "output_type": "stream",
     "text": [
      "  2%|█▌                                                                              | 23/1174 [00:13<10:55,  1.76it/s]"
     ]
    },
    {
     "name": "stdout",
     "output_type": "stream",
     "text": [
      "      close     created_at      high       low     market      open     value  \\\n",
      "0   0.01825  1727527320000   0.01825   0.01825  BEAMXUSDT   0.01825     2.044   \n",
      "1  0.018257  1727527380000  0.018257  0.018257  BEAMXUSDT  0.018257  2.099555   \n",
      "\n",
      "  volume  \n",
      "0    112  \n",
      "1    115  \n",
      "      symbol                time     price  pct_change  volume\n",
      "0  BEAMXUSDT 2024-09-28 12:42:00  0.018250         NaN   112.0\n",
      "1  BEAMXUSDT 2024-09-28 12:43:00  0.018257    0.000383   115.0\n"
     ]
    },
    {
     "name": "stderr",
     "output_type": "stream",
     "text": [
      "  2%|█▋                                                                              | 24/1174 [00:13<10:55,  1.76it/s]"
     ]
    },
    {
     "name": "stdout",
     "output_type": "stream",
     "text": [
      "    close     created_at    high     low     market    open     value volume\n",
      "0  0.3723  1727527320000  0.3723  0.3723  COMAIUSDT  0.3723   2.04765    5.5\n",
      "1  0.3723  1727527380000  0.3723  0.3723  COMAIUSDT  0.3723  2.066265   5.55\n",
      "      symbol                time   price  pct_change  volume\n",
      "0  COMAIUSDT 2024-09-28 12:42:00  0.3723         NaN    5.50\n",
      "1  COMAIUSDT 2024-09-28 12:43:00  0.3723         0.0    5.55\n"
     ]
    },
    {
     "name": "stderr",
     "output_type": "stream",
     "text": [
      "  2%|█▋                                                                              | 25/1174 [00:14<11:05,  1.73it/s]"
     ]
    },
    {
     "name": "stdout",
     "output_type": "stream",
     "text": [
      "    close     created_at    high     low   market    open     value volume\n",
      "0  1.4012  1727527320000  1.4012  1.4012  FTTUSDT  1.4012  1.569344   1.12\n",
      "1  1.4006  1727527380000  1.4006  1.4006  FTTUSDT  1.4006  1.638702   1.17\n",
      "    symbol                time   price  pct_change  volume\n",
      "0  FTTUSDT 2024-09-28 12:42:00  1.4012         NaN    1.12\n",
      "1  FTTUSDT 2024-09-28 12:43:00  1.4006   -0.000428    1.17\n"
     ]
    },
    {
     "name": "stderr",
     "output_type": "stream",
     "text": [
      "  2%|█▊                                                                              | 26/1174 [00:15<10:58,  1.74it/s]"
     ]
    },
    {
     "name": "stdout",
     "output_type": "stream",
     "text": [
      "    close     created_at    high     low    market    open          value  \\\n",
      "0  9.8078  1727527320000  9.8078  9.8078  OMNIUSDT  9.8078  4.92488476888   \n",
      "1  9.8078  1727527380000  9.8078  9.8078  OMNIUSDT  9.8078              0   \n",
      "\n",
      "      volume  \n",
      "0  0.5021396  \n",
      "1          0  \n",
      "     symbol                time   price  pct_change   volume\n",
      "0  OMNIUSDT 2024-09-28 12:42:00  9.8078         NaN  0.50214\n",
      "1  OMNIUSDT 2024-09-28 12:43:00  9.8078         0.0  0.00000\n"
     ]
    },
    {
     "name": "stderr",
     "output_type": "stream",
     "text": [
      "  2%|█▊                                                                              | 27/1174 [00:15<10:51,  1.76it/s]"
     ]
    },
    {
     "name": "stdout",
     "output_type": "stream",
     "text": [
      "      close     created_at      high       low   market      open      value  \\\n",
      "0  0.034015  1727527320000  0.034015  0.034015  SAIUSDT  0.034015  1.9558625   \n",
      "1  0.034042  1727527380000  0.034042  0.034042  SAIUSDT  0.034042   1.906352   \n",
      "\n",
      "  volume  \n",
      "0   57.5  \n",
      "1     56  \n",
      "    symbol                time     price  pct_change  volume\n",
      "0  SAIUSDT 2024-09-28 12:42:00  0.034015         NaN    57.5\n",
      "1  SAIUSDT 2024-09-28 12:43:00  0.034042    0.000793    56.0\n"
     ]
    },
    {
     "name": "stderr",
     "output_type": "stream",
     "text": [
      "  2%|█▉                                                                              | 28/1174 [00:16<10:50,  1.76it/s]"
     ]
    },
    {
     "name": "stdout",
     "output_type": "stream",
     "text": [
      "      close     created_at      high       low    market      open     value  \\\n",
      "0  0.099001  1727527320000  0.099001  0.099001  BULLUSDT  0.099001  5.841059   \n",
      "1   0.09909  1727527380000   0.09909   0.09909  BULLUSDT   0.09909   5.84631   \n",
      "\n",
      "  volume  \n",
      "0     59  \n",
      "1     59  \n",
      "     symbol                time     price  pct_change  volume\n",
      "0  BULLUSDT 2024-09-28 12:42:00  0.099001         NaN    59.0\n",
      "1  BULLUSDT 2024-09-28 12:43:00  0.099090    0.000899    59.0\n"
     ]
    },
    {
     "name": "stderr",
     "output_type": "stream",
     "text": [
      "  2%|█▉                                                                              | 29/1174 [00:16<10:43,  1.78it/s]"
     ]
    },
    {
     "name": "stdout",
     "output_type": "stream",
     "text": [
      "        close     created_at        high         low    market        open  \\\n",
      "0  0.00088929  1727527320000  0.00088929  0.00088929  LOBOUSDT  0.00088929   \n",
      "1  0.00088929  1727527380000  0.00088929  0.00088929  LOBOUSDT  0.00088929   \n",
      "\n",
      "                value         volume  \n",
      "0  1.0137018657634029  1139.90021901  \n",
      "1                   0              0  \n",
      "     symbol                time     price  pct_change       volume\n",
      "0  LOBOUSDT 2024-09-28 12:42:00  0.000889         NaN  1139.900219\n",
      "1  LOBOUSDT 2024-09-28 12:43:00  0.000889         0.0     0.000000\n"
     ]
    },
    {
     "name": "stderr",
     "output_type": "stream",
     "text": [
      "  3%|██                                                                              | 30/1174 [00:17<10:41,  1.78it/s]"
     ]
    },
    {
     "name": "stdout",
     "output_type": "stream",
     "text": [
      "    close     created_at    high     low    market    open     value volume\n",
      "0  1.0487  1727527320000  1.0487  1.0487  GHSTUSDT  1.0487  1.216492   1.16\n",
      "1   1.049  1727527380000   1.049   1.049  GHSTUSDT   1.049   1.22733   1.17\n",
      "     symbol                time   price  pct_change  volume\n",
      "0  GHSTUSDT 2024-09-28 12:42:00  1.0487         NaN    1.16\n",
      "1  GHSTUSDT 2024-09-28 12:43:00  1.0490    0.000286    1.17\n"
     ]
    },
    {
     "name": "stderr",
     "output_type": "stream",
     "text": [
      "  3%|██                                                                              | 31/1174 [00:17<10:43,  1.78it/s]"
     ]
    },
    {
     "name": "stdout",
     "output_type": "stream",
     "text": [
      "    close     created_at    high     low   market    open     value volume\n",
      "0  0.5295  1727527320000  0.5295  0.5295  AVAUSDT  0.5295  3.097575   5.85\n",
      "1  0.5299  1727527380000  0.5299  0.5299  AVAUSDT  0.5299   2.91445    5.5\n",
      "    symbol                time   price  pct_change  volume\n",
      "0  AVAUSDT 2024-09-28 12:42:00  0.5295         NaN    5.85\n",
      "1  AVAUSDT 2024-09-28 12:43:00  0.5299    0.000755    5.50\n"
     ]
    },
    {
     "name": "stderr",
     "output_type": "stream",
     "text": [
      "  3%|██▏                                                                             | 32/1174 [00:18<10:40,  1.78it/s]"
     ]
    },
    {
     "name": "stdout",
     "output_type": "stream",
     "text": [
      "      close     created_at      high       low    market      open  \\\n",
      "0  0.123272  1727527320000  0.123469  0.123269  DOGEUSDT  0.123458   \n",
      "1  0.123259  1727527380000  0.123338  0.123247  DOGEUSDT  0.123247   \n",
      "\n",
      "                  value           volume  \n",
      "0  28659.03220299758047  232315.40476989  \n",
      "1  13327.34463749581484  108098.60297209  \n",
      "     symbol                time     price  pct_change         volume\n",
      "0  DOGEUSDT 2024-09-28 12:42:00  0.123272         NaN  232315.404770\n",
      "1  DOGEUSDT 2024-09-28 12:43:00  0.123259   -0.000105  108098.602972\n"
     ]
    },
    {
     "name": "stderr",
     "output_type": "stream",
     "text": [
      "  3%|██▏                                                                             | 33/1174 [00:18<10:31,  1.81it/s]"
     ]
    },
    {
     "name": "stdout",
     "output_type": "stream",
     "text": [
      "      close     created_at      high       low   market      open      value  \\\n",
      "0  0.092504  1727527320000  0.092504  0.092504  VAIUSDT  0.092504   5.411484   \n",
      "1  0.092485  1727527380000  0.092485  0.092485  VAIUSDT  0.092485  5.1329175   \n",
      "\n",
      "  volume  \n",
      "0   58.5  \n",
      "1   55.5  \n",
      "    symbol                time     price  pct_change  volume\n",
      "0  VAIUSDT 2024-09-28 12:42:00  0.092504         NaN    58.5\n",
      "1  VAIUSDT 2024-09-28 12:43:00  0.092485   -0.000205    55.5\n"
     ]
    },
    {
     "name": "stderr",
     "output_type": "stream",
     "text": [
      "  3%|██▎                                                                             | 34/1174 [00:19<10:39,  1.78it/s]"
     ]
    },
    {
     "name": "stdout",
     "output_type": "stream",
     "text": [
      "    close     created_at    high     low     market    open     value volume\n",
      "0  0.3949  1727527320000  0.3949  0.3949  MAGICUSDT  0.3949  2.191695   5.55\n",
      "1   0.395  1727527380000   0.395   0.395  MAGICUSDT   0.395    2.2515    5.7\n",
      "      symbol                time   price  pct_change  volume\n",
      "0  MAGICUSDT 2024-09-28 12:42:00  0.3949         NaN    5.55\n",
      "1  MAGICUSDT 2024-09-28 12:43:00  0.3950    0.000253    5.70\n"
     ]
    },
    {
     "name": "stderr",
     "output_type": "stream",
     "text": [
      "  3%|██▍                                                                             | 35/1174 [00:20<10:48,  1.76it/s]"
     ]
    },
    {
     "name": "stdout",
     "output_type": "stream",
     "text": [
      "    close     created_at    high     low     market    open     value volume\n",
      "0  0.3375  1727527320000  0.3375  0.3375  BOTTOUSDT  0.3375  1.906875   5.65\n",
      "1  0.3371  1727527380000  0.3371  0.3371  BOTTOUSDT  0.3371  2.005745   5.95\n",
      "      symbol                time   price  pct_change  volume\n",
      "0  BOTTOUSDT 2024-09-28 12:42:00  0.3375         NaN    5.65\n",
      "1  BOTTOUSDT 2024-09-28 12:43:00  0.3371   -0.001186    5.95\n"
     ]
    },
    {
     "name": "stderr",
     "output_type": "stream",
     "text": [
      "  3%|██▍                                                                             | 36/1174 [00:20<10:50,  1.75it/s]"
     ]
    },
    {
     "name": "stdout",
     "output_type": "stream",
     "text": [
      "      close     created_at      high       low     market      open  \\\n",
      "0  0.043328  1727527320000  0.043343  0.043328  SHRAPUSDT  0.043343   \n",
      "1  0.043328  1727527380000  0.043328  0.043328  SHRAPUSDT  0.043328   \n",
      "\n",
      "             value       volume  \n",
      "0  4.6287642440944  106.8113117  \n",
      "1                0            0  \n",
      "      symbol                time     price  pct_change      volume\n",
      "0  SHRAPUSDT 2024-09-28 12:42:00  0.043328         NaN  106.811312\n",
      "1  SHRAPUSDT 2024-09-28 12:43:00  0.043328         0.0    0.000000\n"
     ]
    },
    {
     "name": "stderr",
     "output_type": "stream",
     "text": [
      "  3%|██▌                                                                             | 37/1174 [00:21<11:12,  1.69it/s]"
     ]
    },
    {
     "name": "stdout",
     "output_type": "stream",
     "text": [
      "    close     created_at    high     low   market    open     value volume\n",
      "0  0.3467  1727527320000  0.3467  0.3467  GLMUSDT  0.3467  1.958855   5.65\n",
      "1  0.3468  1727527380000  0.3468  0.3468  GLMUSDT  0.3468   1.97676    5.7\n",
      "    symbol                time   price  pct_change  volume\n",
      "0  GLMUSDT 2024-09-28 12:42:00  0.3467         NaN    5.65\n",
      "1  GLMUSDT 2024-09-28 12:43:00  0.3468    0.000288    5.70\n"
     ]
    },
    {
     "name": "stderr",
     "output_type": "stream",
     "text": [
      "  3%|██▌                                                                             | 38/1174 [00:21<11:05,  1.71it/s]"
     ]
    },
    {
     "name": "stdout",
     "output_type": "stream",
     "text": [
      "      close     created_at      high       low    market      open      value  \\\n",
      "0  0.294204  1727527320000  0.294204  0.294204  TLOSUSDT  0.294204  1.7210934   \n",
      "1  0.294262  1727527380000  0.294262  0.294262  TLOSUSDT  0.294262  1.7067196   \n",
      "\n",
      "  volume  \n",
      "0   5.85  \n",
      "1    5.8  \n",
      "     symbol                time     price  pct_change  volume\n",
      "0  TLOSUSDT 2024-09-28 12:42:00  0.294204         NaN    5.85\n",
      "1  TLOSUSDT 2024-09-28 12:43:00  0.294262    0.000197    5.80\n"
     ]
    },
    {
     "name": "stderr",
     "output_type": "stream",
     "text": [
      "  3%|██▋                                                                             | 39/1174 [00:22<10:54,  1.73it/s]"
     ]
    },
    {
     "name": "stdout",
     "output_type": "stream",
     "text": [
      "        close     created_at        high         low   market        open  \\\n",
      "0  0.00098965  1727527320000  0.00098965  0.00098965  JAMUSDT  0.00098965   \n",
      "1  0.00098946  1727527380000  0.00098946  0.00098946  JAMUSDT  0.00098946   \n",
      "\n",
      "       value volume  \n",
      "0  5.5915225   5650  \n",
      "1   5.491503   5550  \n",
      "    symbol                time     price  pct_change  volume\n",
      "0  JAMUSDT 2024-09-28 12:42:00  0.000990         NaN  5650.0\n",
      "1  JAMUSDT 2024-09-28 12:43:00  0.000989   -0.000192  5550.0\n"
     ]
    },
    {
     "name": "stderr",
     "output_type": "stream",
     "text": [
      "  3%|██▋                                                                             | 40/1174 [00:22<10:42,  1.76it/s]"
     ]
    },
    {
     "name": "stdout",
     "output_type": "stream",
     "text": [
      "      close     created_at      high       low    market      open      value  \\\n",
      "0  0.047215  1727527320000  0.047215  0.047215  MMSSUSDT  0.047215  2.6204325   \n",
      "1  0.047229  1727527380000  0.047229  0.047229  MMSSUSDT  0.047229  2.6684385   \n",
      "\n",
      "  volume  \n",
      "0   55.5  \n",
      "1   56.5  \n",
      "     symbol                time     price  pct_change  volume\n",
      "0  MMSSUSDT 2024-09-28 12:42:00  0.047215         NaN    55.5\n",
      "1  MMSSUSDT 2024-09-28 12:43:00  0.047229    0.000296    56.5\n"
     ]
    },
    {
     "name": "stderr",
     "output_type": "stream",
     "text": [
      "  3%|██▊                                                                             | 41/1174 [00:23<10:47,  1.75it/s]"
     ]
    },
    {
     "name": "stdout",
     "output_type": "stream",
     "text": [
      "     close     created_at     high      low       market     open  \\\n",
      "0  0.30804  1727527380000  0.30804  0.30804  MOODENGUSDT  0.30804   \n",
      "1  0.30804  1727527440000  0.30804  0.30804  MOODENGUSDT  0.30804   \n",
      "\n",
      "             value      volume  \n",
      "0  1.5867035081124  5.15096581  \n",
      "1                0           0  \n",
      "        symbol                time    price  pct_change    volume\n",
      "0  MOODENGUSDT 2024-09-28 12:43:00  0.30804         NaN  5.150966\n",
      "1  MOODENGUSDT 2024-09-28 12:44:00  0.30804         0.0  0.000000\n"
     ]
    },
    {
     "name": "stderr",
     "output_type": "stream",
     "text": [
      "  4%|██▊                                                                             | 42/1174 [00:24<10:46,  1.75it/s]"
     ]
    },
    {
     "name": "stdout",
     "output_type": "stream",
     "text": [
      "      close     created_at      high       low   market      open      value  \\\n",
      "0  0.186384  1727527380000  0.186384  0.186384  WANUSDT  0.186384  2.1620544   \n",
      "1  0.186384  1727527440000  0.186384  0.186384  WANUSDT  0.186384          0   \n",
      "\n",
      "  volume  \n",
      "0   11.6  \n",
      "1      0  \n",
      "    symbol                time     price  pct_change  volume\n",
      "0  WANUSDT 2024-09-28 12:43:00  0.186384         NaN    11.6\n",
      "1  WANUSDT 2024-09-28 12:44:00  0.186384         0.0     0.0\n"
     ]
    },
    {
     "name": "stderr",
     "output_type": "stream",
     "text": [
      "  4%|██▉                                                                             | 43/1174 [00:24<10:58,  1.72it/s]"
     ]
    },
    {
     "name": "stdout",
     "output_type": "stream",
     "text": [
      "    close     created_at    high     low    market    open    value volume\n",
      "0  0.1642  1727527380000  0.1642  0.1642  APRSUSDT  0.1642  1.95398   11.9\n",
      "1  0.1642  1727527440000  0.1642  0.1642  APRSUSDT  0.1642        0      0\n",
      "     symbol                time   price  pct_change  volume\n",
      "0  APRSUSDT 2024-09-28 12:43:00  0.1642         NaN    11.9\n",
      "1  APRSUSDT 2024-09-28 12:44:00  0.1642         0.0     0.0\n"
     ]
    },
    {
     "name": "stderr",
     "output_type": "stream",
     "text": [
      "  4%|██▉                                                                             | 44/1174 [00:25<10:53,  1.73it/s]"
     ]
    },
    {
     "name": "stdout",
     "output_type": "stream",
     "text": [
      "      close     created_at      high       low   market      open      value  \\\n",
      "0  0.116123  1727527380000  0.116123  0.116123  SYKUSDT  0.116123  1.3818637   \n",
      "1  0.116123  1727527440000  0.116123  0.116123  SYKUSDT  0.116123          0   \n",
      "\n",
      "  volume  \n",
      "0   11.9  \n",
      "1      0  \n",
      "    symbol                time     price  pct_change  volume\n",
      "0  SYKUSDT 2024-09-28 12:43:00  0.116123         NaN    11.9\n",
      "1  SYKUSDT 2024-09-28 12:44:00  0.116123         0.0     0.0\n"
     ]
    },
    {
     "name": "stderr",
     "output_type": "stream",
     "text": [
      "  4%|███                                                                             | 45/1174 [00:25<10:44,  1.75it/s]"
     ]
    },
    {
     "name": "stdout",
     "output_type": "stream",
     "text": [
      "    close     created_at    high     low   market    open           value  \\\n",
      "0  0.3395  1727527380000  0.3395  0.3395  STGUSDT  0.3395  1.966216623105   \n",
      "1  0.3395  1727527440000  0.3395  0.3395  STGUSDT  0.3395               0   \n",
      "\n",
      "       volume  \n",
      "0  5.79150699  \n",
      "1           0  \n",
      "    symbol                time   price  pct_change    volume\n",
      "0  STGUSDT 2024-09-28 12:43:00  0.3395         NaN  5.791507\n",
      "1  STGUSDT 2024-09-28 12:44:00  0.3395         0.0  0.000000\n"
     ]
    },
    {
     "name": "stderr",
     "output_type": "stream",
     "text": [
      "  4%|███▏                                                                            | 46/1174 [00:26<10:35,  1.78it/s]"
     ]
    },
    {
     "name": "stdout",
     "output_type": "stream",
     "text": [
      "    close     created_at    high     low     market    open     value volume\n",
      "0  1.8462  1727527380000  1.8462  1.8462  SPURSUSDT  1.8462  2.178516   1.18\n",
      "1  1.8462  1727527440000  1.8462  1.8462  SPURSUSDT  1.8462         0      0\n",
      "      symbol                time   price  pct_change  volume\n",
      "0  SPURSUSDT 2024-09-28 12:43:00  1.8462         NaN    1.18\n",
      "1  SPURSUSDT 2024-09-28 12:44:00  1.8462         0.0    0.00\n"
     ]
    },
    {
     "name": "stderr",
     "output_type": "stream",
     "text": [
      "  4%|███▏                                                                            | 47/1174 [00:26<10:38,  1.76it/s]"
     ]
    },
    {
     "name": "stdout",
     "output_type": "stream",
     "text": [
      "      close     created_at      high       low    market      open      value  \\\n",
      "0  0.026951  1727527380000  0.026951  0.026951  ORBSUSDT  0.026951  1.6035845   \n",
      "1  0.026951  1727527440000  0.026951  0.026951  ORBSUSDT  0.026951          0   \n",
      "\n",
      "  volume  \n",
      "0   59.5  \n",
      "1      0  \n",
      "     symbol                time     price  pct_change  volume\n",
      "0  ORBSUSDT 2024-09-28 12:43:00  0.026951         NaN    59.5\n",
      "1  ORBSUSDT 2024-09-28 12:44:00  0.026951         0.0     0.0\n"
     ]
    },
    {
     "name": "stderr",
     "output_type": "stream",
     "text": [
      "  4%|███▎                                                                            | 48/1174 [00:27<10:54,  1.72it/s]"
     ]
    },
    {
     "name": "stdout",
     "output_type": "stream",
     "text": [
      "      close     created_at      high       low    market      open      value  \\\n",
      "0  0.144162  1727527380000  0.144162  0.144162  IOTAUSDT  0.144162  1.6866954   \n",
      "1  0.144162  1727527440000  0.144162  0.144162  IOTAUSDT  0.144162          0   \n",
      "\n",
      "  volume  \n",
      "0   11.7  \n",
      "1      0  \n",
      "     symbol                time     price  pct_change  volume\n",
      "0  IOTAUSDT 2024-09-28 12:43:00  0.144162         NaN    11.7\n",
      "1  IOTAUSDT 2024-09-28 12:44:00  0.144162         0.0     0.0\n"
     ]
    },
    {
     "name": "stderr",
     "output_type": "stream",
     "text": [
      "  4%|███▎                                                                            | 49/1174 [00:28<10:42,  1.75it/s]"
     ]
    },
    {
     "name": "stdout",
     "output_type": "stream",
     "text": [
      "    close     created_at    high     low    market    open     value volume\n",
      "0  1.3525  1727527380000  1.3525  1.3525  NAKAUSDT  1.3525  1.528325   1.13\n",
      "1  1.3525  1727527440000  1.3525  1.3525  NAKAUSDT  1.3525         0      0\n",
      "     symbol                time   price  pct_change  volume\n",
      "0  NAKAUSDT 2024-09-28 12:43:00  1.3525         NaN    1.13\n",
      "1  NAKAUSDT 2024-09-28 12:44:00  1.3525         0.0    0.00\n"
     ]
    },
    {
     "name": "stderr",
     "output_type": "stream",
     "text": [
      "  4%|███▍                                                                            | 50/1174 [00:28<11:05,  1.69it/s]"
     ]
    },
    {
     "name": "stdout",
     "output_type": "stream",
     "text": [
      "      close     created_at      high       low     market      open     value  \\\n",
      "0  0.005017  1727527380000  0.005017  0.005017  BODENUSDT  0.005017  2.985115   \n",
      "1  0.005017  1727527440000  0.005017  0.005017  BODENUSDT  0.005017         0   \n",
      "\n",
      "  volume  \n",
      "0    595  \n",
      "1      0  \n",
      "      symbol                time     price  pct_change  volume\n",
      "0  BODENUSDT 2024-09-28 12:43:00  0.005017         NaN   595.0\n",
      "1  BODENUSDT 2024-09-28 12:44:00  0.005017         0.0     0.0\n"
     ]
    },
    {
     "name": "stderr",
     "output_type": "stream",
     "text": [
      "  4%|███▍                                                                            | 51/1174 [00:29<10:56,  1.71it/s]"
     ]
    },
    {
     "name": "stdout",
     "output_type": "stream",
     "text": [
      "        close     created_at        high         low     market        open  \\\n",
      "0  0.00231544  1727527380000  0.00231544  0.00231544  LEVERUSDT  0.00231544   \n",
      "1  0.00231544  1727527440000  0.00231544  0.00231544  LEVERUSDT  0.00231544   \n",
      "\n",
      "       value volume  \n",
      "0  1.3198008    570  \n",
      "1          0      0  \n",
      "      symbol                time     price  pct_change  volume\n",
      "0  LEVERUSDT 2024-09-28 12:43:00  0.002315         NaN   570.0\n",
      "1  LEVERUSDT 2024-09-28 12:44:00  0.002315         0.0     0.0\n"
     ]
    },
    {
     "name": "stderr",
     "output_type": "stream",
     "text": [
      "  4%|███▌                                                                            | 52/1174 [00:29<10:46,  1.73it/s]"
     ]
    },
    {
     "name": "stdout",
     "output_type": "stream",
     "text": [
      "        close     created_at        high         low   market        open  \\\n",
      "0  0.00057164  1727527380000  0.00057164  0.00057164  OLTUSDT  0.00057164   \n",
      "1  0.00057164  1727527440000  0.00057164  0.00057164  OLTUSDT  0.00057164   \n",
      "\n",
      "      value volume  \n",
      "0  3.401258   5950  \n",
      "1         0      0  \n",
      "    symbol                time     price  pct_change  volume\n",
      "0  OLTUSDT 2024-09-28 12:43:00  0.000572         NaN  5950.0\n",
      "1  OLTUSDT 2024-09-28 12:44:00  0.000572         0.0     0.0\n"
     ]
    },
    {
     "name": "stderr",
     "output_type": "stream",
     "text": [
      "  5%|███▌                                                                            | 53/1174 [00:30<10:35,  1.76it/s]"
     ]
    },
    {
     "name": "stdout",
     "output_type": "stream",
     "text": [
      "    close     created_at    high     low   market    open     value volume\n",
      "0  2.9476  1727527380000  2.9476  2.9476  AKTUSDT  2.9476  1.709608   0.58\n",
      "1  2.9476  1727527440000  2.9476  2.9476  AKTUSDT  2.9476         0      0\n",
      "    symbol                time   price  pct_change  volume\n",
      "0  AKTUSDT 2024-09-28 12:43:00  2.9476         NaN    0.58\n",
      "1  AKTUSDT 2024-09-28 12:44:00  2.9476         0.0    0.00\n"
     ]
    },
    {
     "name": "stderr",
     "output_type": "stream",
     "text": [
      "  5%|███▋                                                                            | 54/1174 [00:31<11:05,  1.68it/s]"
     ]
    },
    {
     "name": "stdout",
     "output_type": "stream",
     "text": [
      "            close     created_at            high             low       market  \\\n",
      "0  0.000000000322  1727527380000  0.000000000322  0.000000000322  CATCOINUSDT   \n",
      "1  0.000000000322  1727527440000  0.000000000322  0.000000000322  CATCOINUSDT   \n",
      "\n",
      "             open   value      volume  \n",
      "0  0.000000000322  1.8676  5800000000  \n",
      "1  0.000000000322       0           0  \n",
      "        symbol                time         price  pct_change        volume\n",
      "0  CATCOINUSDT 2024-09-28 12:43:00  3.220000e-10         NaN  5.800000e+09\n",
      "1  CATCOINUSDT 2024-09-28 12:44:00  3.220000e-10         0.0  0.000000e+00\n"
     ]
    },
    {
     "name": "stderr",
     "output_type": "stream",
     "text": [
      "  5%|███▋                                                                            | 55/1174 [00:31<11:05,  1.68it/s]"
     ]
    },
    {
     "name": "stdout",
     "output_type": "stream",
     "text": [
      "     close     created_at     high      low     market     open      value  \\\n",
      "0  1058.37  1727527380000  1058.37  1058.37  GRAILUSDT  1058.37  5.9797905   \n",
      "1  1058.37  1727527440000  1058.37  1058.37  GRAILUSDT  1058.37          0   \n",
      "\n",
      "    volume  \n",
      "0  0.00565  \n",
      "1        0  \n",
      "      symbol                time    price  pct_change   volume\n",
      "0  GRAILUSDT 2024-09-28 12:43:00  1058.37         NaN  0.00565\n",
      "1  GRAILUSDT 2024-09-28 12:44:00  1058.37         0.0  0.00000\n"
     ]
    },
    {
     "name": "stderr",
     "output_type": "stream",
     "text": [
      "  5%|███▊                                                                            | 56/1174 [00:32<11:04,  1.68it/s]"
     ]
    },
    {
     "name": "stdout",
     "output_type": "stream",
     "text": [
      "      close     created_at      high       low    market      open    value  \\\n",
      "0  0.002509  1727527380000  0.002509  0.002509  NFTBUSDT  0.002509  1.48031   \n",
      "1  0.002509  1727527440000  0.002509  0.002509  NFTBUSDT  0.002509        0   \n",
      "\n",
      "  volume  \n",
      "0    590  \n",
      "1      0  \n",
      "     symbol                time     price  pct_change  volume\n",
      "0  NFTBUSDT 2024-09-28 12:43:00  0.002509         NaN   590.0\n",
      "1  NFTBUSDT 2024-09-28 12:44:00  0.002509         0.0     0.0\n"
     ]
    },
    {
     "name": "stderr",
     "output_type": "stream",
     "text": [
      "  5%|███▉                                                                            | 57/1174 [00:32<10:45,  1.73it/s]"
     ]
    },
    {
     "name": "stdout",
     "output_type": "stream",
     "text": [
      "    close     created_at    high     low    market    open     value volume\n",
      "0  0.6447  1727527380000  0.6447  0.6447  OSMOUSDT  0.6447  3.578085   5.55\n",
      "1  0.6447  1727527440000  0.6447  0.6447  OSMOUSDT  0.6447         0      0\n",
      "     symbol                time   price  pct_change  volume\n",
      "0  OSMOUSDT 2024-09-28 12:43:00  0.6447         NaN    5.55\n",
      "1  OSMOUSDT 2024-09-28 12:44:00  0.6447         0.0    0.00\n"
     ]
    },
    {
     "name": "stderr",
     "output_type": "stream",
     "text": [
      "  5%|███▉                                                                            | 58/1174 [00:33<10:44,  1.73it/s]"
     ]
    },
    {
     "name": "stdout",
     "output_type": "stream",
     "text": [
      "    close     created_at    high     low   market    open             value  \\\n",
      "0  4.8002  1727527380000  4.8002  4.8001  DOTUSDT  4.8002  429.610304453074   \n",
      "1  4.8002  1727527440000  4.8002  4.8002  DOTUSDT  4.8002                 0   \n",
      "\n",
      "        volume  \n",
      "0  89.49934004  \n",
      "1            0  \n",
      "    symbol                time   price  pct_change    volume\n",
      "0  DOTUSDT 2024-09-28 12:43:00  4.8002         NaN  89.49934\n",
      "1  DOTUSDT 2024-09-28 12:44:00  4.8002         0.0   0.00000\n"
     ]
    },
    {
     "name": "stderr",
     "output_type": "stream",
     "text": [
      "  5%|████                                                                            | 59/1174 [00:33<10:39,  1.74it/s]"
     ]
    },
    {
     "name": "stdout",
     "output_type": "stream",
     "text": [
      "      close     created_at      high       low   market      open      value  \\\n",
      "0  0.197897  1727527380000  0.197897  0.197897  0X0USDT  0.197897  1.0884335   \n",
      "1  0.197897  1727527440000  0.197897  0.197897  0X0USDT  0.197897          0   \n",
      "\n",
      "  volume  \n",
      "0    5.5  \n",
      "1      0  \n",
      "    symbol                time     price  pct_change  volume\n",
      "0  0X0USDT 2024-09-28 12:43:00  0.197897         NaN     5.5\n",
      "1  0X0USDT 2024-09-28 12:44:00  0.197897         0.0     0.0\n"
     ]
    },
    {
     "name": "stderr",
     "output_type": "stream",
     "text": [
      "  5%|████                                                                            | 60/1174 [00:34<10:39,  1.74it/s]"
     ]
    },
    {
     "name": "stdout",
     "output_type": "stream",
     "text": [
      "      close     created_at      high       low    market      open     value  \\\n",
      "0  0.106662  1727527380000  0.106662  0.106662  SUIPUSDT  0.106662  6.346389   \n",
      "1  0.106662  1727527440000  0.106662  0.106662  SUIPUSDT  0.106662         0   \n",
      "\n",
      "  volume  \n",
      "0   59.5  \n",
      "1      0  \n",
      "     symbol                time     price  pct_change  volume\n",
      "0  SUIPUSDT 2024-09-28 12:43:00  0.106662         NaN    59.5\n",
      "1  SUIPUSDT 2024-09-28 12:44:00  0.106662         0.0     0.0\n"
     ]
    },
    {
     "name": "stderr",
     "output_type": "stream",
     "text": [
      "  5%|████▏                                                                           | 61/1174 [00:35<10:51,  1.71it/s]"
     ]
    },
    {
     "name": "stdout",
     "output_type": "stream",
     "text": [
      "      close     created_at      high       low   market      open     value  \\\n",
      "0  0.073892  1727527380000  0.073892  0.073892  SQRUSDT  0.073892  4.137952   \n",
      "1  0.073892  1727527440000  0.073892  0.073892  SQRUSDT  0.073892         0   \n",
      "\n",
      "  volume  \n",
      "0     56  \n",
      "1      0  \n",
      "    symbol                time     price  pct_change  volume\n",
      "0  SQRUSDT 2024-09-28 12:43:00  0.073892         NaN    56.0\n",
      "1  SQRUSDT 2024-09-28 12:44:00  0.073892         0.0     0.0\n"
     ]
    },
    {
     "name": "stderr",
     "output_type": "stream",
     "text": [
      "  5%|████▏                                                                           | 62/1174 [00:35<10:34,  1.75it/s]"
     ]
    },
    {
     "name": "stdout",
     "output_type": "stream",
     "text": [
      "     close     created_at     high      low   market     open  \\\n",
      "0  0.03417  1727527380000  0.03417  0.03417  ALDUSDT  0.03417   \n",
      "1  0.03417  1727527440000  0.03417  0.03417  ALDUSDT  0.03417   \n",
      "\n",
      "             value       volume  \n",
      "0  1.8151281656664  53.12051992  \n",
      "1                0            0  \n",
      "    symbol                time    price  pct_change    volume\n",
      "0  ALDUSDT 2024-09-28 12:43:00  0.03417         NaN  53.12052\n",
      "1  ALDUSDT 2024-09-28 12:44:00  0.03417         0.0   0.00000\n"
     ]
    },
    {
     "name": "stderr",
     "output_type": "stream",
     "text": [
      "  5%|████▎                                                                           | 63/1174 [00:36<10:34,  1.75it/s]"
     ]
    },
    {
     "name": "stdout",
     "output_type": "stream",
     "text": [
      "      close     created_at      high       low    market      open      value  \\\n",
      "0  0.204141  1727527380000  0.204141  0.204141  MATHUSDT  0.204141  1.1840178   \n",
      "1  0.204141  1727527440000  0.204141  0.204141  MATHUSDT  0.204141          0   \n",
      "\n",
      "  volume  \n",
      "0    5.8  \n",
      "1      0  \n",
      "     symbol                time     price  pct_change  volume\n",
      "0  MATHUSDT 2024-09-28 12:43:00  0.204141         NaN     5.8\n",
      "1  MATHUSDT 2024-09-28 12:44:00  0.204141         0.0     0.0\n"
     ]
    },
    {
     "name": "stderr",
     "output_type": "stream",
     "text": [
      "  5%|████▎                                                                           | 64/1174 [00:36<10:45,  1.72it/s]"
     ]
    },
    {
     "name": "stdout",
     "output_type": "stream",
     "text": [
      "      close     created_at      high       low   market      open  \\\n",
      "0  0.153843  1727527380000  0.153843  0.153843  BLZUSDT  0.153843   \n",
      "1  0.153843  1727527440000  0.153843  0.153843  BLZUSDT  0.153843   \n",
      "\n",
      "              value       volume  \n",
      "0  1.83338811323472  11.91726704  \n",
      "1                 0            0  \n",
      "    symbol                time     price  pct_change     volume\n",
      "0  BLZUSDT 2024-09-28 12:43:00  0.153843         NaN  11.917267\n",
      "1  BLZUSDT 2024-09-28 12:44:00  0.153843         0.0   0.000000\n"
     ]
    },
    {
     "name": "stderr",
     "output_type": "stream",
     "text": [
      "  6%|████▍                                                                           | 65/1174 [00:37<10:36,  1.74it/s]"
     ]
    },
    {
     "name": "stdout",
     "output_type": "stream",
     "text": [
      "      close     created_at      high       low    market      open    value  \\\n",
      "0  0.043966  1727527380000  0.043966  0.043966  DATAUSDT  0.043966  2.41813   \n",
      "1  0.043966  1727527440000  0.043966  0.043966  DATAUSDT  0.043966        0   \n",
      "\n",
      "  volume  \n",
      "0     55  \n",
      "1      0  \n",
      "     symbol                time     price  pct_change  volume\n",
      "0  DATAUSDT 2024-09-28 12:43:00  0.043966         NaN    55.0\n",
      "1  DATAUSDT 2024-09-28 12:44:00  0.043966         0.0     0.0\n"
     ]
    },
    {
     "name": "stderr",
     "output_type": "stream",
     "text": [
      "  6%|████▍                                                                           | 66/1174 [00:37<10:28,  1.76it/s]"
     ]
    },
    {
     "name": "stdout",
     "output_type": "stream",
     "text": [
      "            close     created_at            high             low      market  \\\n",
      "0  0.000000201901  1727527380000  0.000000201901  0.000000201901  PEIPEIUSDT   \n",
      "1  0.000000201901  1727527440000  0.000000201901  0.000000201901  PEIPEIUSDT   \n",
      "\n",
      "             open             value      volume  \n",
      "0  0.000000201901  1.15383902179322  5714875.22  \n",
      "1  0.000000201901                 0           0  \n",
      "       symbol                time         price  pct_change      volume\n",
      "0  PEIPEIUSDT 2024-09-28 12:43:00  2.019010e-07         NaN  5714875.22\n",
      "1  PEIPEIUSDT 2024-09-28 12:44:00  2.019010e-07         0.0        0.00\n"
     ]
    },
    {
     "name": "stderr",
     "output_type": "stream",
     "text": [
      "  6%|████▌                                                                           | 67/1174 [00:38<10:32,  1.75it/s]"
     ]
    },
    {
     "name": "stdout",
     "output_type": "stream",
     "text": [
      "      close     created_at      high       low     market      open  \\\n",
      "0  0.003705  1727527380000  0.003705  0.003705  MYRIAUSDT  0.003705   \n",
      "1  0.003705  1727527440000  0.003705  0.003705  MYRIAUSDT  0.003705   \n",
      "\n",
      "              value        volume  \n",
      "0  2.16127855575645  583.34104069  \n",
      "1                 0             0  \n",
      "      symbol                time     price  pct_change      volume\n",
      "0  MYRIAUSDT 2024-09-28 12:43:00  0.003705         NaN  583.341041\n",
      "1  MYRIAUSDT 2024-09-28 12:44:00  0.003705         0.0    0.000000\n"
     ]
    },
    {
     "name": "stderr",
     "output_type": "stream",
     "text": [
      "  6%|████▋                                                                           | 68/1174 [00:39<10:35,  1.74it/s]"
     ]
    },
    {
     "name": "stdout",
     "output_type": "stream",
     "text": [
      "    close     created_at    high     low   market    open          value  \\\n",
      "0  0.9446  1727527380000  0.9446  0.9446  XNOUSDT  0.9446  5.55253695156   \n",
      "1  0.9446  1727527440000  0.9446  0.9446  XNOUSDT  0.9446              0   \n",
      "\n",
      "      volume  \n",
      "0  5.8781886  \n",
      "1          0  \n",
      "    symbol                time   price  pct_change    volume\n",
      "0  XNOUSDT 2024-09-28 12:43:00  0.9446         NaN  5.878189\n",
      "1  XNOUSDT 2024-09-28 12:44:00  0.9446         0.0  0.000000\n"
     ]
    },
    {
     "name": "stderr",
     "output_type": "stream",
     "text": [
      "  6%|████▋                                                                           | 69/1174 [00:39<10:32,  1.75it/s]"
     ]
    },
    {
     "name": "stdout",
     "output_type": "stream",
     "text": [
      "      close     created_at      high       low  market      open    value  \\\n",
      "0  0.007369  1727527380000  0.007369  0.007369  VRUSDT  0.007369  4.20033   \n",
      "1  0.007369  1727527440000  0.007369  0.007369  VRUSDT  0.007369        0   \n",
      "\n",
      "  volume  \n",
      "0    570  \n",
      "1      0  \n",
      "   symbol                time     price  pct_change  volume\n",
      "0  VRUSDT 2024-09-28 12:43:00  0.007369         NaN   570.0\n",
      "1  VRUSDT 2024-09-28 12:44:00  0.007369         0.0     0.0\n"
     ]
    },
    {
     "name": "stderr",
     "output_type": "stream",
     "text": [
      "  6%|████▊                                                                           | 70/1174 [00:40<10:34,  1.74it/s]"
     ]
    },
    {
     "name": "stdout",
     "output_type": "stream",
     "text": [
      "      close     created_at      high       low    market      open  \\\n",
      "0  0.001365  1727527380000  0.001365  0.001365  WYNNUSDT  0.001365   \n",
      "1  0.001365  1727527440000  0.001365  0.001365  WYNNUSDT  0.001365   \n",
      "\n",
      "             value         volume  \n",
      "0  1.4087226409347  1032.03123878  \n",
      "1                0              0  \n",
      "     symbol                time     price  pct_change       volume\n",
      "0  WYNNUSDT 2024-09-28 12:43:00  0.001365         NaN  1032.031239\n",
      "1  WYNNUSDT 2024-09-28 12:44:00  0.001365         0.0     0.000000\n"
     ]
    },
    {
     "name": "stderr",
     "output_type": "stream",
     "text": [
      "  6%|████▊                                                                           | 71/1174 [00:40<10:39,  1.72it/s]"
     ]
    },
    {
     "name": "stdout",
     "output_type": "stream",
     "text": [
      "      close     created_at      high       low     market      open  \\\n",
      "0  0.002721  1727527380000  0.002721  0.002721  KITTYUSDT  0.002721   \n",
      "1  0.002721  1727527440000  0.002721  0.002721  KITTYUSDT  0.002721   \n",
      "\n",
      "       value volume  \n",
      "0  45.301929  16649  \n",
      "1          0      0  \n",
      "      symbol                time     price  pct_change   volume\n",
      "0  KITTYUSDT 2024-09-28 12:43:00  0.002721         NaN  16649.0\n",
      "1  KITTYUSDT 2024-09-28 12:44:00  0.002721         0.0      0.0\n"
     ]
    },
    {
     "name": "stderr",
     "output_type": "stream",
     "text": [
      "  6%|████▉                                                                           | 72/1174 [00:41<10:39,  1.72it/s]"
     ]
    },
    {
     "name": "stdout",
     "output_type": "stream",
     "text": [
      "      close     created_at      high       low    market      open  \\\n",
      "0  0.234849  1727527380000  0.234849  0.234849  BOBAUSDT  0.234849   \n",
      "1  0.234849  1727527440000  0.234849  0.234849  BOBAUSDT  0.234849   \n",
      "\n",
      "        value volume  \n",
      "0  1.37386665   5.85  \n",
      "1           0      0  \n",
      "     symbol                time     price  pct_change  volume\n",
      "0  BOBAUSDT 2024-09-28 12:43:00  0.234849         NaN    5.85\n",
      "1  BOBAUSDT 2024-09-28 12:44:00  0.234849         0.0    0.00\n"
     ]
    },
    {
     "name": "stderr",
     "output_type": "stream",
     "text": [
      "  6%|████▉                                                                           | 73/1174 [00:42<10:31,  1.74it/s]"
     ]
    },
    {
     "name": "stdout",
     "output_type": "stream",
     "text": [
      "    close     created_at    high     low    market    open     value volume\n",
      "0  0.6985  1727527380000  0.6985  0.6985  WAXLUSDT  0.6985  4.156075   5.95\n",
      "1  0.6985  1727527440000  0.6985  0.6985  WAXLUSDT  0.6985         0      0\n",
      "     symbol                time   price  pct_change  volume\n",
      "0  WAXLUSDT 2024-09-28 12:43:00  0.6985         NaN    5.95\n",
      "1  WAXLUSDT 2024-09-28 12:44:00  0.6985         0.0    0.00\n"
     ]
    },
    {
     "name": "stderr",
     "output_type": "stream",
     "text": [
      "  6%|█████                                                                           | 74/1174 [00:42<10:25,  1.76it/s]"
     ]
    },
    {
     "name": "stdout",
     "output_type": "stream",
     "text": [
      "      close     created_at      high       low    market      open     value  \\\n",
      "0  0.018539  1727527380000  0.018539  0.018539  USTCUSDT  0.018539  2.169063   \n",
      "1  0.018539  1727527440000  0.018539  0.018539  USTCUSDT  0.018539         0   \n",
      "\n",
      "  volume  \n",
      "0    117  \n",
      "1      0  \n",
      "     symbol                time     price  pct_change  volume\n",
      "0  USTCUSDT 2024-09-28 12:43:00  0.018539         NaN   117.0\n",
      "1  USTCUSDT 2024-09-28 12:44:00  0.018539         0.0     0.0\n"
     ]
    },
    {
     "name": "stderr",
     "output_type": "stream",
     "text": [
      "  6%|█████                                                                           | 75/1174 [00:43<10:26,  1.76it/s]"
     ]
    },
    {
     "name": "stdout",
     "output_type": "stream",
     "text": [
      "        close     created_at        high         low    market        open  \\\n",
      "0  0.00017968  1727527380000  0.00017968  0.00017968  WOOFUSDT  0.00017968   \n",
      "1  0.00017975  1727527440000  0.00017975  0.00017975  WOOFUSDT  0.00017975   \n",
      "\n",
      "      value volume  \n",
      "0   1.97648  11000  \n",
      "1  2.031175  11300  \n",
      "     symbol                time    price  pct_change   volume\n",
      "0  WOOFUSDT 2024-09-28 12:43:00  0.00018         NaN  11000.0\n",
      "1  WOOFUSDT 2024-09-28 12:44:00  0.00018     0.00039  11300.0\n"
     ]
    },
    {
     "name": "stderr",
     "output_type": "stream",
     "text": [
      "  6%|█████▏                                                                          | 76/1174 [00:43<10:35,  1.73it/s]"
     ]
    },
    {
     "name": "stdout",
     "output_type": "stream",
     "text": [
      "     close     created_at     high      low   market     open     value volume\n",
      "0  0.12638  1727527380000  0.12638  0.12638  CLYUSDT  0.12638  1.478646   11.7\n",
      "1  0.12638  1727527440000  0.12638  0.12638  CLYUSDT  0.12638  1.415456   11.2\n",
      "    symbol                time    price  pct_change  volume\n",
      "0  CLYUSDT 2024-09-28 12:43:00  0.12638         NaN    11.7\n",
      "1  CLYUSDT 2024-09-28 12:44:00  0.12638         0.0    11.2\n"
     ]
    },
    {
     "name": "stderr",
     "output_type": "stream",
     "text": [
      "  7%|█████▏                                                                          | 77/1174 [00:44<10:19,  1.77it/s]"
     ]
    },
    {
     "name": "stdout",
     "output_type": "stream",
     "text": [
      "      close     created_at      high       low   market      open  \\\n",
      "0  0.109346  1727527380000  0.109346  0.109346  ZIGUSDT  0.109346   \n",
      "1  0.109346  1727527440000  0.109346  0.109346  ZIGUSDT  0.109346   \n",
      "\n",
      "              value       volume  \n",
      "0  1.29039589875472  11.80103432  \n",
      "1                 0            0  \n",
      "    symbol                time     price  pct_change     volume\n",
      "0  ZIGUSDT 2024-09-28 12:43:00  0.109346         NaN  11.801034\n",
      "1  ZIGUSDT 2024-09-28 12:44:00  0.109346         0.0   0.000000\n"
     ]
    },
    {
     "name": "stderr",
     "output_type": "stream",
     "text": [
      "  7%|█████▎                                                                          | 78/1174 [00:44<10:43,  1.70it/s]"
     ]
    },
    {
     "name": "stdout",
     "output_type": "stream",
     "text": [
      "      close     created_at      high       low    market      open      value  \\\n",
      "0  0.110698  1727527380000  0.110698  0.110698  XPLAUSDT  0.110698  1.2619572   \n",
      "1  0.110653  1727527440000  0.110653  0.110653  XPLAUSDT  0.110653  1.2282483   \n",
      "\n",
      "  volume  \n",
      "0   11.4  \n",
      "1   11.1  \n",
      "     symbol                time     price  pct_change  volume\n",
      "0  XPLAUSDT 2024-09-28 12:43:00  0.110698         NaN    11.4\n",
      "1  XPLAUSDT 2024-09-28 12:44:00  0.110653   -0.000407    11.1\n"
     ]
    },
    {
     "name": "stderr",
     "output_type": "stream",
     "text": [
      "  7%|█████▍                                                                          | 79/1174 [00:45<10:45,  1.70it/s]"
     ]
    },
    {
     "name": "stdout",
     "output_type": "stream",
     "text": [
      "        close     created_at        high         low     market        open  \\\n",
      "0  0.00047892  1727527380000  0.00047892  0.00047892  BEPROUSDT  0.00047892   \n",
      "1   0.0004792  1727527440000   0.0004792   0.0004792  BEPROUSDT   0.0004792   \n",
      "\n",
      "      value volume  \n",
      "0  2.705898   5650  \n",
      "1   2.73144   5700  \n",
      "      symbol                time     price  pct_change  volume\n",
      "0  BEPROUSDT 2024-09-28 12:43:00  0.000479         NaN  5650.0\n",
      "1  BEPROUSDT 2024-09-28 12:44:00  0.000479    0.000584  5700.0\n"
     ]
    },
    {
     "name": "stderr",
     "output_type": "stream",
     "text": [
      "  7%|█████▍                                                                          | 80/1174 [00:46<10:32,  1.73it/s]"
     ]
    },
    {
     "name": "stdout",
     "output_type": "stream",
     "text": [
      "     close     created_at     high      low      market     open     value  \\\n",
      "0  0.12815  1727527380000  0.12815  0.12815  SIPHERUSDT  0.12815  1.499355   \n",
      "1  0.12815  1727527440000  0.12815  0.12815  SIPHERUSDT  0.12815  1.524985   \n",
      "\n",
      "  volume  \n",
      "0   11.7  \n",
      "1   11.9  \n",
      "       symbol                time    price  pct_change  volume\n",
      "0  SIPHERUSDT 2024-09-28 12:43:00  0.12815         NaN    11.7\n",
      "1  SIPHERUSDT 2024-09-28 12:44:00  0.12815         0.0    11.9\n"
     ]
    },
    {
     "name": "stderr",
     "output_type": "stream",
     "text": [
      "  7%|█████▌                                                                          | 81/1174 [00:46<10:32,  1.73it/s]"
     ]
    },
    {
     "name": "stdout",
     "output_type": "stream",
     "text": [
      "        close     created_at        high         low     market        open  \\\n",
      "0  0.00013996  1727527380000  0.00014009  0.00013996  TOSHIUSDT  0.00014009   \n",
      "1  0.00013996  1727527440000  0.00013996  0.00013996  TOSHIUSDT  0.00013996   \n",
      "\n",
      "                value          volume  \n",
      "0  3.0169788790861825  21546.39418118  \n",
      "1                   0               0  \n",
      "      symbol                time    price  pct_change        volume\n",
      "0  TOSHIUSDT 2024-09-28 12:43:00  0.00014         NaN  21546.394181\n",
      "1  TOSHIUSDT 2024-09-28 12:44:00  0.00014         0.0      0.000000\n"
     ]
    },
    {
     "name": "stderr",
     "output_type": "stream",
     "text": [
      "  7%|█████▌                                                                          | 82/1174 [00:47<10:27,  1.74it/s]"
     ]
    },
    {
     "name": "stdout",
     "output_type": "stream",
     "text": [
      "      close     created_at      high       low   market      open     value  \\\n",
      "0  0.020832  1727527380000  0.020832  0.020832  ACHUSDT  0.020832  2.333184   \n",
      "1  0.020832  1727527440000  0.020832  0.020832  ACHUSDT  0.020832         0   \n",
      "\n",
      "  volume  \n",
      "0    112  \n",
      "1      0  \n",
      "    symbol                time     price  pct_change  volume\n",
      "0  ACHUSDT 2024-09-28 12:43:00  0.020832         NaN   112.0\n",
      "1  ACHUSDT 2024-09-28 12:44:00  0.020832         0.0     0.0\n"
     ]
    },
    {
     "name": "stderr",
     "output_type": "stream",
     "text": [
      "  7%|█████▋                                                                          | 83/1174 [00:47<10:26,  1.74it/s]"
     ]
    },
    {
     "name": "stdout",
     "output_type": "stream",
     "text": [
      "      close     created_at      high       low    market      open     value  \\\n",
      "0  0.088645  1727527380000  0.088645  0.088645  SOLOUSDT  0.088645   4.96412   \n",
      "1  0.088653  1727527440000  0.088653  0.088653  SOLOUSDT  0.088653  5.141874   \n",
      "\n",
      "  volume  \n",
      "0     56  \n",
      "1     58  \n",
      "     symbol                time     price  pct_change  volume\n",
      "0  SOLOUSDT 2024-09-28 12:43:00  0.088645         NaN    56.0\n",
      "1  SOLOUSDT 2024-09-28 12:44:00  0.088653     0.00009    58.0\n"
     ]
    },
    {
     "name": "stderr",
     "output_type": "stream",
     "text": [
      "  7%|█████▋                                                                          | 84/1174 [00:48<10:43,  1.69it/s]"
     ]
    },
    {
     "name": "stdout",
     "output_type": "stream",
     "text": [
      "        close     created_at        high         low    market        open  \\\n",
      "0  0.00121614  1727527380000  0.00121614  0.00121614  NANAUSDT  0.00121614   \n",
      "1  0.00121614  1727527440000  0.00121614  0.00121614  NANAUSDT  0.00121614   \n",
      "\n",
      "                value         volume  \n",
      "0  1.3067150975088894  1074.47752521  \n",
      "1                   0              0  \n",
      "     symbol                time     price  pct_change       volume\n",
      "0  NANAUSDT 2024-09-28 12:43:00  0.001216         NaN  1074.477525\n",
      "1  NANAUSDT 2024-09-28 12:44:00  0.001216         0.0     0.000000\n"
     ]
    },
    {
     "name": "stderr",
     "output_type": "stream",
     "text": [
      "  7%|█████▊                                                                          | 85/1174 [00:48<10:33,  1.72it/s]"
     ]
    },
    {
     "name": "stdout",
     "output_type": "stream",
     "text": [
      "    close     created_at    high     low     market    open     value volume\n",
      "0  1.9417  1727527380000  1.9417  1.9417  TAIKOUSDT  1.9417  2.232955   1.15\n",
      "1  1.9417  1727527440000  1.9417  1.9417  TAIKOUSDT  1.9417  2.291206   1.18\n",
      "      symbol                time   price  pct_change  volume\n",
      "0  TAIKOUSDT 2024-09-28 12:43:00  1.9417         NaN    1.15\n",
      "1  TAIKOUSDT 2024-09-28 12:44:00  1.9417         0.0    1.18\n"
     ]
    },
    {
     "name": "stderr",
     "output_type": "stream",
     "text": [
      "  7%|█████▊                                                                          | 86/1174 [00:49<10:27,  1.73it/s]"
     ]
    },
    {
     "name": "stdout",
     "output_type": "stream",
     "text": [
      "    close     created_at    high     low    market    open     value volume\n",
      "0  2.6263  1727527380000  2.6263  2.6263  QTUMUSDT  2.6263  1.523254   0.58\n",
      "1  2.6262  1727527440000  2.6262  2.6262  QTUMUSDT  2.6262  1.496934   0.57\n",
      "     symbol                time   price  pct_change  volume\n",
      "0  QTUMUSDT 2024-09-28 12:43:00  2.6263         NaN    0.58\n",
      "1  QTUMUSDT 2024-09-28 12:44:00  2.6262   -0.000038    0.57\n"
     ]
    },
    {
     "name": "stderr",
     "output_type": "stream",
     "text": [
      "  7%|█████▉                                                                          | 87/1174 [00:50<10:22,  1.75it/s]"
     ]
    },
    {
     "name": "stdout",
     "output_type": "stream",
     "text": [
      "      close     created_at      high       low    market      open   value  \\\n",
      "0  0.001241  1727527380000  0.001241  0.001241  WLKNUSDT  0.001241  7.3219   \n",
      "1  0.001241  1727527440000  0.001241  0.001241  WLKNUSDT  0.001241  7.3219   \n",
      "\n",
      "  volume  \n",
      "0   5900  \n",
      "1   5900  \n",
      "     symbol                time     price  pct_change  volume\n",
      "0  WLKNUSDT 2024-09-28 12:43:00  0.001241         NaN  5900.0\n",
      "1  WLKNUSDT 2024-09-28 12:44:00  0.001241         0.0  5900.0\n"
     ]
    },
    {
     "name": "stderr",
     "output_type": "stream",
     "text": [
      "  7%|█████▉                                                                          | 88/1174 [00:50<10:22,  1.74it/s]"
     ]
    },
    {
     "name": "stdout",
     "output_type": "stream",
     "text": [
      "        close     created_at        high         low   market        open  \\\n",
      "0  0.00131496  1727527380000  0.00131496  0.00131496  RXDUSDT  0.00131496   \n",
      "1  0.00131522  1727527440000  0.00131522  0.00131522  RXDUSDT  0.00131522   \n",
      "\n",
      "       value volume  \n",
      "0  1.4859048   1130  \n",
      "1   1.512503   1150  \n",
      "    symbol                time     price  pct_change  volume\n",
      "0  RXDUSDT 2024-09-28 12:43:00  0.001315         NaN  1130.0\n",
      "1  RXDUSDT 2024-09-28 12:44:00  0.001315    0.000198  1150.0\n"
     ]
    },
    {
     "name": "stderr",
     "output_type": "stream",
     "text": [
      "  8%|██████                                                                          | 89/1174 [00:51<10:16,  1.76it/s]"
     ]
    },
    {
     "name": "stdout",
     "output_type": "stream",
     "text": [
      "      close     created_at      high       low   market      open      value  \\\n",
      "0  0.103487  1727527380000  0.103487  0.103487  TRUUSDT  0.103487  1.1901005   \n",
      "1  0.103497  1727527440000  0.103497  0.103497  TRUUSDT  0.103497  1.1902155   \n",
      "\n",
      "  volume  \n",
      "0   11.5  \n",
      "1   11.5  \n",
      "    symbol                time     price  pct_change  volume\n",
      "0  TRUUSDT 2024-09-28 12:43:00  0.103487         NaN    11.5\n",
      "1  TRUUSDT 2024-09-28 12:44:00  0.103497    0.000097    11.5\n"
     ]
    },
    {
     "name": "stderr",
     "output_type": "stream",
     "text": [
      "  8%|██████▏                                                                         | 90/1174 [00:51<10:13,  1.77it/s]"
     ]
    },
    {
     "name": "stdout",
     "output_type": "stream",
     "text": [
      "    close     created_at    high     low    market    open     value volume\n",
      "0  0.3751  1727527380000  0.3751  0.3751  AURAUSDT  0.3751  2.081805   5.55\n",
      "1  0.3751  1727527440000  0.3751  0.3751  AURAUSDT  0.3751   2.21309    5.9\n",
      "     symbol                time   price  pct_change  volume\n",
      "0  AURAUSDT 2024-09-28 12:43:00  0.3751         NaN    5.55\n",
      "1  AURAUSDT 2024-09-28 12:44:00  0.3751         0.0    5.90\n"
     ]
    },
    {
     "name": "stderr",
     "output_type": "stream",
     "text": [
      "  8%|██████▏                                                                         | 91/1174 [00:52<10:06,  1.79it/s]"
     ]
    },
    {
     "name": "stdout",
     "output_type": "stream",
     "text": [
      "           close     created_at           high            low    market  \\\n",
      "0  0.00000001326  1727527380000  0.00000001326  0.00000001326  MONGUSDT   \n",
      "1  0.00000001327  1727527440000  0.00000001327  0.00000001327  MONGUSDT   \n",
      "\n",
      "            open    value     volume  \n",
      "0  0.00000001326  1.53816  116000000  \n",
      "1  0.00000001327  1.57913  119000000  \n",
      "     symbol                time         price  pct_change       volume\n",
      "0  MONGUSDT 2024-09-28 12:43:00  1.326000e-08         NaN  116000000.0\n",
      "1  MONGUSDT 2024-09-28 12:44:00  1.327000e-08    0.000754  119000000.0\n"
     ]
    },
    {
     "name": "stderr",
     "output_type": "stream",
     "text": [
      "  8%|██████▎                                                                         | 92/1174 [00:52<10:07,  1.78it/s]"
     ]
    },
    {
     "name": "stdout",
     "output_type": "stream",
     "text": [
      "     close     created_at     high      low    market     open      value  \\\n",
      "0  12.6195  1727527380000  12.6195  12.6195  LINKUSDT  12.6195   1.388145   \n",
      "1  12.6119  1727527440000  12.6119  12.6119  LINKUSDT  12.6119  1.5008161   \n",
      "\n",
      "  volume  \n",
      "0   0.11  \n",
      "1  0.119  \n",
      "     symbol                time    price  pct_change  volume\n",
      "0  LINKUSDT 2024-09-28 12:43:00  12.6195         NaN   0.110\n",
      "1  LINKUSDT 2024-09-28 12:44:00  12.6119   -0.000602   0.119\n"
     ]
    },
    {
     "name": "stderr",
     "output_type": "stream",
     "text": [
      "  8%|██████▎                                                                         | 93/1174 [00:53<10:00,  1.80it/s]"
     ]
    },
    {
     "name": "stdout",
     "output_type": "stream",
     "text": [
      "      close     created_at      high       low     market      open     value  \\\n",
      "0  0.143115  1727527380000  0.143115  0.143115  DADDYUSDT  0.143115  8.443785   \n",
      "1  0.143115  1727527440000  0.143115  0.143115  DADDYUSDT  0.143115  8.157555   \n",
      "\n",
      "  volume  \n",
      "0     59  \n",
      "1     57  \n",
      "      symbol                time     price  pct_change  volume\n",
      "0  DADDYUSDT 2024-09-28 12:43:00  0.143115         NaN    59.0\n",
      "1  DADDYUSDT 2024-09-28 12:44:00  0.143115         0.0    57.0\n"
     ]
    },
    {
     "name": "stderr",
     "output_type": "stream",
     "text": [
      "  8%|██████▍                                                                         | 94/1174 [00:54<10:23,  1.73it/s]"
     ]
    },
    {
     "name": "stdout",
     "output_type": "stream",
     "text": [
      "        close     created_at        high         low     market        open  \\\n",
      "0  0.00012263  1727527380000  0.00012263  0.00012263  SATOXUSDT  0.00012263   \n",
      "1   0.0001227  1727527440000   0.0001227   0.0001227  SATOXUSDT   0.0001227   \n",
      "\n",
      "     value volume  \n",
      "0  1.34893  11000  \n",
      "1  1.43559  11700  \n",
      "      symbol                time     price  pct_change   volume\n",
      "0  SATOXUSDT 2024-09-28 12:43:00  0.000123         NaN  11000.0\n",
      "1  SATOXUSDT 2024-09-28 12:44:00  0.000123    0.000571  11700.0\n"
     ]
    },
    {
     "name": "stderr",
     "output_type": "stream",
     "text": [
      "  8%|██████▍                                                                         | 95/1174 [00:54<10:21,  1.74it/s]"
     ]
    },
    {
     "name": "stdout",
     "output_type": "stream",
     "text": [
      "    close     created_at    high     low   market    open    value volume\n",
      "0  0.1523  1727527380000  0.1523  0.1523  ZKLUSDT  0.1523  1.70576   11.2\n",
      "1  0.1522  1727527440000  0.1522  0.1522  ZKLUSDT  0.1522  1.68942   11.1\n",
      "    symbol                time   price  pct_change  volume\n",
      "0  ZKLUSDT 2024-09-28 12:43:00  0.1523         NaN    11.2\n",
      "1  ZKLUSDT 2024-09-28 12:44:00  0.1522   -0.000657    11.1\n"
     ]
    },
    {
     "name": "stderr",
     "output_type": "stream",
     "text": [
      "  8%|██████▌                                                                         | 96/1174 [00:55<10:07,  1.78it/s]"
     ]
    },
    {
     "name": "stdout",
     "output_type": "stream",
     "text": [
      "      close     created_at      high       low        market      open  \\\n",
      "0  0.029424  1727527380000  0.029424  0.029424  SHARKCATUSDT  0.029424   \n",
      "1  0.029438  1727527440000  0.029438  0.029438  SHARKCATUSDT  0.029438   \n",
      "\n",
      "      value volume  \n",
      "0  1.706592     58  \n",
      "1   1.61909     55  \n",
      "         symbol                time     price  pct_change  volume\n",
      "0  SHARKCATUSDT 2024-09-28 12:43:00  0.029424         NaN    58.0\n",
      "1  SHARKCATUSDT 2024-09-28 12:44:00  0.029438    0.000476    55.0\n"
     ]
    },
    {
     "name": "stderr",
     "output_type": "stream",
     "text": [
      "  8%|██████▌                                                                         | 97/1174 [00:55<10:15,  1.75it/s]"
     ]
    },
    {
     "name": "stdout",
     "output_type": "stream",
     "text": [
      "        close     created_at        high         low   market        open  \\\n",
      "0  0.00003518  1727527380000  0.00003518  0.00003518  BOBUSDT  0.00003518   \n",
      "1  0.00003518  1727527440000  0.00003518  0.00003518  BOBUSDT  0.00003518   \n",
      "\n",
      "     value volume  \n",
      "0  2.09321  59500  \n",
      "1  1.97008  56000  \n",
      "    symbol                time     price  pct_change   volume\n",
      "0  BOBUSDT 2024-09-28 12:43:00  0.000035         NaN  59500.0\n",
      "1  BOBUSDT 2024-09-28 12:44:00  0.000035         0.0  56000.0\n"
     ]
    },
    {
     "name": "stderr",
     "output_type": "stream",
     "text": [
      "  8%|██████▋                                                                         | 98/1174 [00:56<10:16,  1.75it/s]"
     ]
    },
    {
     "name": "stdout",
     "output_type": "stream",
     "text": [
      "      close     created_at      high       low    market      open  \\\n",
      "0  0.013284  1727527380000  0.013284  0.013284  MODEUSDT  0.013284   \n",
      "1  0.013284  1727527440000  0.013284  0.013284  MODEUSDT  0.013284   \n",
      "\n",
      "              value        volume  \n",
      "0  1.50277062747924  113.12636461  \n",
      "1                 0             0  \n",
      "     symbol                time     price  pct_change      volume\n",
      "0  MODEUSDT 2024-09-28 12:43:00  0.013284         NaN  113.126365\n",
      "1  MODEUSDT 2024-09-28 12:44:00  0.013284         0.0    0.000000\n"
     ]
    },
    {
     "name": "stderr",
     "output_type": "stream",
     "text": [
      "  8%|██████▋                                                                         | 99/1174 [00:56<10:15,  1.75it/s]"
     ]
    },
    {
     "name": "stdout",
     "output_type": "stream",
     "text": [
      "    close     created_at    high     low    market    open      value volume\n",
      "0  5.7781  1727527380000  5.7781  5.7781  PROMUSDT  5.7781  3.2646265  0.565\n",
      "1  5.7752  1727527440000  5.7752  5.7752  PROMUSDT  5.7752   3.407368   0.59\n",
      "     symbol                time   price  pct_change  volume\n",
      "0  PROMUSDT 2024-09-28 12:43:00  5.7781         NaN   0.565\n",
      "1  PROMUSDT 2024-09-28 12:44:00  5.7752   -0.000502   0.590\n"
     ]
    },
    {
     "name": "stderr",
     "output_type": "stream",
     "text": [
      "  9%|██████▋                                                                        | 100/1174 [00:57<10:11,  1.76it/s]"
     ]
    },
    {
     "name": "stdout",
     "output_type": "stream",
     "text": [
      "    close     created_at    high     low   market    open     value volume\n",
      "0  1.3229  1727527380000  1.3229  1.3229  LDOUSDT  1.3229  1.508106   1.14\n",
      "1  1.3238  1727527440000  1.3238  1.3238  LDOUSDT  1.3238  1.469418   1.11\n",
      "    symbol                time   price  pct_change  volume\n",
      "0  LDOUSDT 2024-09-28 12:43:00  1.3229         NaN    1.14\n",
      "1  LDOUSDT 2024-09-28 12:44:00  1.3238     0.00068    1.11\n"
     ]
    },
    {
     "name": "stderr",
     "output_type": "stream",
     "text": [
      "  9%|██████▊                                                                        | 101/1174 [00:58<10:04,  1.77it/s]"
     ]
    },
    {
     "name": "stdout",
     "output_type": "stream",
     "text": [
      "      close     created_at      high       low    market      open      value  \\\n",
      "0  0.069259  1727527380000  0.069259  0.069259  BNSXUSDT  0.069259  3.9823925   \n",
      "1  0.069225  1727527440000  0.069225  0.069225  BNSXUSDT  0.069225   4.084275   \n",
      "\n",
      "  volume  \n",
      "0   57.5  \n",
      "1     59  \n",
      "     symbol                time     price  pct_change  volume\n",
      "0  BNSXUSDT 2024-09-28 12:43:00  0.069259         NaN    57.5\n",
      "1  BNSXUSDT 2024-09-28 12:44:00  0.069225   -0.000491    59.0\n"
     ]
    },
    {
     "name": "stderr",
     "output_type": "stream",
     "text": [
      "  9%|██████▊                                                                        | 102/1174 [00:58<10:12,  1.75it/s]"
     ]
    },
    {
     "name": "stdout",
     "output_type": "stream",
     "text": [
      "      close     created_at      high       low   market      open      value  \\\n",
      "0  0.235738  1727527380000  0.235738  0.235738  REFUSDT  0.235738  1.4026411   \n",
      "1  0.235667  1727527440000  0.235667  0.235667  REFUSDT  0.235667  1.3668686   \n",
      "\n",
      "  volume  \n",
      "0   5.95  \n",
      "1    5.8  \n",
      "    symbol                time     price  pct_change  volume\n",
      "0  REFUSDT 2024-09-28 12:43:00  0.235738         NaN    5.95\n",
      "1  REFUSDT 2024-09-28 12:44:00  0.235667   -0.000301    5.80\n"
     ]
    },
    {
     "name": "stderr",
     "output_type": "stream",
     "text": [
      "  9%|██████▉                                                                        | 103/1174 [00:59<10:19,  1.73it/s]"
     ]
    },
    {
     "name": "stdout",
     "output_type": "stream",
     "text": [
      "    close     created_at    high     low   market    open   value volume\n",
      "0  0.0332  1727527380000  0.0332  0.0332  CVPUSDT  0.0332  1.9754   59.5\n",
      "1  0.0332  1727527440000  0.0332  0.0332  CVPUSDT  0.0332  1.9588     59\n",
      "    symbol                time   price  pct_change  volume\n",
      "0  CVPUSDT 2024-09-28 12:43:00  0.0332         NaN    59.5\n",
      "1  CVPUSDT 2024-09-28 12:44:00  0.0332         0.0    59.0\n"
     ]
    },
    {
     "name": "stderr",
     "output_type": "stream",
     "text": [
      "  9%|██████▉                                                                        | 104/1174 [01:00<11:59,  1.49it/s]"
     ]
    },
    {
     "name": "stdout",
     "output_type": "stream",
     "text": [
      "    close     created_at    high     low   market    open     value volume\n",
      "0  1.1423  1727527380000  1.1423  1.1423  ZKJUSDT  1.1423  1.313645   1.15\n",
      "1  1.1426  1727527440000  1.1426  1.1426  ZKJUSDT  1.1426  1.348268   1.18\n",
      "    symbol                time   price  pct_change  volume\n",
      "0  ZKJUSDT 2024-09-28 12:43:00  1.1423         NaN    1.15\n",
      "1  ZKJUSDT 2024-09-28 12:44:00  1.1426    0.000263    1.18\n"
     ]
    },
    {
     "name": "stderr",
     "output_type": "stream",
     "text": [
      "  9%|███████                                                                        | 105/1174 [01:00<11:42,  1.52it/s]"
     ]
    },
    {
     "name": "stdout",
     "output_type": "stream",
     "text": [
      "    close     created_at    high     low   market    open           value  \\\n",
      "0  0.3466  1727527380000  0.3471  0.3466  FISUSDT  0.3471  4.906299999685   \n",
      "1  0.3465  1727527440000  0.3465  0.3465  FISUSDT  0.3465         2.04435   \n",
      "\n",
      "        volume  \n",
      "0  14.14304235  \n",
      "1          5.9  \n",
      "    symbol                time   price  pct_change     volume\n",
      "0  FISUSDT 2024-09-28 12:43:00  0.3466         NaN  14.143042\n",
      "1  FISUSDT 2024-09-28 12:44:00  0.3465   -0.000289   5.900000\n"
     ]
    },
    {
     "name": "stderr",
     "output_type": "stream",
     "text": [
      "  9%|███████▏                                                                       | 106/1174 [01:01<11:11,  1.59it/s]"
     ]
    },
    {
     "name": "stdout",
     "output_type": "stream",
     "text": [
      "      close     created_at      high       low    market      open      value  \\\n",
      "0  0.193445  1727527380000  0.193445  0.193445  GLMRUSDT  0.193445   2.205273   \n",
      "1  0.193554  1727527440000  0.193554  0.193554  GLMRUSDT  0.193554  2.1871602   \n",
      "\n",
      "  volume  \n",
      "0   11.4  \n",
      "1   11.3  \n",
      "     symbol                time     price  pct_change  volume\n",
      "0  GLMRUSDT 2024-09-28 12:43:00  0.193445         NaN    11.4\n",
      "1  GLMRUSDT 2024-09-28 12:44:00  0.193554    0.000563    11.3\n"
     ]
    },
    {
     "name": "stderr",
     "output_type": "stream",
     "text": [
      "  9%|███████▏                                                                       | 107/1174 [01:01<10:57,  1.62it/s]"
     ]
    },
    {
     "name": "stdout",
     "output_type": "stream",
     "text": [
      "      close     created_at      high       low   market      open     value  \\\n",
      "0  0.014791  1727527380000  0.014791  0.014791  HOPUSDT  0.014791  1.760129   \n",
      "1  0.014786  1727527440000  0.014786  0.014786  HOPUSDT  0.014786   1.70039   \n",
      "\n",
      "  volume  \n",
      "0    119  \n",
      "1    115  \n",
      "    symbol                time     price  pct_change  volume\n",
      "0  HOPUSDT 2024-09-28 12:43:00  0.014791         NaN   119.0\n",
      "1  HOPUSDT 2024-09-28 12:44:00  0.014786   -0.000338   115.0\n"
     ]
    },
    {
     "name": "stderr",
     "output_type": "stream",
     "text": [
      "  9%|███████▎                                                                       | 108/1174 [01:02<10:52,  1.63it/s]"
     ]
    },
    {
     "name": "stdout",
     "output_type": "stream",
     "text": [
      "    close     created_at    high     low   market    open              value  \\\n",
      "0  5.3052  1727527380000  5.3052  5.3052  AXSUSDT  5.3052           2.970912   \n",
      "1  5.3117  1727527440000  5.3117  5.3028  AXSUSDT   5.306  1041.549489463322   \n",
      "\n",
      "         volume  \n",
      "0          0.56  \n",
      "1  196.25127438  \n",
      "    symbol                time   price  pct_change      volume\n",
      "0  AXSUSDT 2024-09-28 12:43:00  5.3052         NaN    0.560000\n",
      "1  AXSUSDT 2024-09-28 12:44:00  5.3117    0.001224  196.251274\n"
     ]
    },
    {
     "name": "stderr",
     "output_type": "stream",
     "text": [
      "  9%|███████▎                                                                       | 109/1174 [01:03<10:40,  1.66it/s]"
     ]
    },
    {
     "name": "stdout",
     "output_type": "stream",
     "text": [
      "    close     created_at    high     low   market    open     value volume\n",
      "0  1.4858  1727527380000  1.4858  1.4858  ACMUSDT  1.4858  1.649238   1.11\n",
      "1   1.485  1727527440000   1.485   1.485  ACMUSDT   1.485   1.70775   1.15\n",
      "    symbol                time   price  pct_change  volume\n",
      "0  ACMUSDT 2024-09-28 12:43:00  1.4858         NaN    1.11\n",
      "1  ACMUSDT 2024-09-28 12:44:00  1.4850   -0.000539    1.15\n"
     ]
    },
    {
     "name": "stderr",
     "output_type": "stream",
     "text": [
      "  9%|███████▍                                                                       | 110/1174 [01:03<10:33,  1.68it/s]"
     ]
    },
    {
     "name": "stdout",
     "output_type": "stream",
     "text": [
      "      close     created_at      high       low     market      open     value  \\\n",
      "0  0.097337  1727527380000  0.097337  0.097337  BRETTUSDT  0.097337  5.353535   \n",
      "1  0.097236  1727527440000  0.097236  0.097236  BRETTUSDT  0.097236   5.34798   \n",
      "\n",
      "  volume  \n",
      "0     55  \n",
      "1     55  \n",
      "      symbol                time     price  pct_change  volume\n",
      "0  BRETTUSDT 2024-09-28 12:43:00  0.097337         NaN    55.0\n",
      "1  BRETTUSDT 2024-09-28 12:44:00  0.097236   -0.001038    55.0\n"
     ]
    },
    {
     "name": "stderr",
     "output_type": "stream",
     "text": [
      "  9%|███████▍                                                                       | 111/1174 [01:04<10:23,  1.70it/s]"
     ]
    },
    {
     "name": "stdout",
     "output_type": "stream",
     "text": [
      "    close     created_at    high     low market    open            value  \\\n",
      "0  0.3094  1727527380000  0.3094  0.3094  WUSDT  0.3094          1.79452   \n",
      "1  0.3092  1727527440000  0.3094  0.3092  WUSDT  0.3094  60.261955673104   \n",
      "\n",
      "         volume  \n",
      "0           5.8  \n",
      "1  194.77419416  \n",
      "  symbol                time   price  pct_change      volume\n",
      "0  WUSDT 2024-09-28 12:43:00  0.3094         NaN    5.800000\n",
      "1  WUSDT 2024-09-28 12:44:00  0.3092   -0.000647  194.774194\n"
     ]
    },
    {
     "name": "stderr",
     "output_type": "stream",
     "text": [
      " 10%|███████▌                                                                       | 112/1174 [01:04<10:20,  1.71it/s]"
     ]
    },
    {
     "name": "stdout",
     "output_type": "stream",
     "text": [
      "      close     created_at      high       low    market      open  \\\n",
      "0  0.034733  1727527380000  0.034733  0.034733  WELLUSDT  0.034733   \n",
      "1  0.034733  1727527440000  0.034733  0.034733  WELLUSDT  0.034733   \n",
      "\n",
      "              value       volume  \n",
      "0  2.08073570265759  59.90659323  \n",
      "1                 0            0  \n",
      "     symbol                time     price  pct_change     volume\n",
      "0  WELLUSDT 2024-09-28 12:43:00  0.034733         NaN  59.906593\n",
      "1  WELLUSDT 2024-09-28 12:44:00  0.034733         0.0   0.000000\n"
     ]
    },
    {
     "name": "stderr",
     "output_type": "stream",
     "text": [
      " 10%|███████▌                                                                       | 113/1174 [01:05<10:11,  1.74it/s]"
     ]
    },
    {
     "name": "stdout",
     "output_type": "stream",
     "text": [
      "      close     created_at      high       low    market      open  \\\n",
      "0  0.256843  1727527380000  0.256843  0.256843  PAALUSDT  0.256843   \n",
      "1  0.256678  1727527440000  0.256678  0.256678  PAALUSDT  0.256678   \n",
      "\n",
      "               value        volume  \n",
      "0   1.44074811018208    5.60945056  \n",
      "1  46.15383469601476  179.81219542  \n",
      "     symbol                time     price  pct_change      volume\n",
      "0  PAALUSDT 2024-09-28 12:43:00  0.256843         NaN    5.609451\n",
      "1  PAALUSDT 2024-09-28 12:44:00  0.256678   -0.000643  179.812195\n"
     ]
    },
    {
     "name": "stderr",
     "output_type": "stream",
     "text": [
      " 10%|███████▋                                                                       | 114/1174 [01:05<10:02,  1.76it/s]"
     ]
    },
    {
     "name": "stdout",
     "output_type": "stream",
     "text": [
      "    close     created_at    high     low   market    open     value volume\n",
      "0  1.7034  1727527380000  1.7034  1.7034  PHBUSDT  1.7034  2.027046   1.19\n",
      "1  1.7025  1727527440000  1.7025  1.7025  PHBUSDT  1.7025  2.025975   1.19\n",
      "    symbol                time   price  pct_change  volume\n",
      "0  PHBUSDT 2024-09-28 12:43:00  1.7034         NaN    1.19\n",
      "1  PHBUSDT 2024-09-28 12:44:00  1.7025   -0.000528    1.19\n"
     ]
    },
    {
     "name": "stderr",
     "output_type": "stream",
     "text": [
      " 10%|███████▋                                                                       | 115/1174 [01:06<10:25,  1.69it/s]"
     ]
    },
    {
     "name": "stdout",
     "output_type": "stream",
     "text": [
      "      close     created_at      high       low    market      open      value  \\\n",
      "0  0.063677  1727527380000  0.063677  0.063677  NEATUSDT  0.063677  3.7251045   \n",
      "1  0.063721  1727527440000  0.063721  0.063721  NEATUSDT  0.063721   3.504655   \n",
      "\n",
      "  volume  \n",
      "0   58.5  \n",
      "1     55  \n",
      "     symbol                time     price  pct_change  volume\n",
      "0  NEATUSDT 2024-09-28 12:43:00  0.063677         NaN    58.5\n",
      "1  NEATUSDT 2024-09-28 12:44:00  0.063721    0.000691    55.0\n"
     ]
    },
    {
     "name": "stderr",
     "output_type": "stream",
     "text": [
      " 10%|███████▊                                                                       | 116/1174 [01:07<10:19,  1.71it/s]"
     ]
    },
    {
     "name": "stdout",
     "output_type": "stream",
     "text": [
      "        close     created_at        high         low  market        open  \\\n",
      "0  0.00069573  1727527380000  0.00069573  0.00069573  MPUSDT  0.00069573   \n",
      "1  0.00069524  1727527440000  0.00069524  0.00069524  MPUSDT  0.00069524   \n",
      "\n",
      "       value volume  \n",
      "0  4.0700205   5850  \n",
      "1   4.101916   5900  \n",
      "   symbol                time     price  pct_change  volume\n",
      "0  MPUSDT 2024-09-28 12:43:00  0.000696         NaN  5850.0\n",
      "1  MPUSDT 2024-09-28 12:44:00  0.000695   -0.000705  5900.0\n"
     ]
    },
    {
     "name": "stderr",
     "output_type": "stream",
     "text": [
      " 10%|███████▊                                                                       | 117/1174 [01:07<10:25,  1.69it/s]"
     ]
    },
    {
     "name": "stdout",
     "output_type": "stream",
     "text": [
      "    close     created_at    high     low   market    open      value volume\n",
      "0  8.1041  1727527380000  8.1041  8.1041  APTUSDT  8.1041   4.457255   0.55\n",
      "1  8.1009  1727527440000  8.1009  8.1009  APTUSDT  8.1009  4.8200355  0.595\n",
      "    symbol                time   price  pct_change  volume\n",
      "0  APTUSDT 2024-09-28 12:43:00  8.1041         NaN   0.550\n",
      "1  APTUSDT 2024-09-28 12:44:00  8.1009   -0.000395   0.595\n"
     ]
    },
    {
     "name": "stderr",
     "output_type": "stream",
     "text": [
      " 10%|███████▉                                                                       | 118/1174 [01:08<10:17,  1.71it/s]"
     ]
    },
    {
     "name": "stdout",
     "output_type": "stream",
     "text": [
      "          close     created_at          high           low    market  \\\n",
      "0  0.0000025756  1727527380000  0.0000025756  0.0000025756  MEOWUSDT   \n",
      "1  0.0000025776  1727527440000  0.0000025776  0.0000025776  MEOWUSDT   \n",
      "\n",
      "           open     value  volume  \n",
      "0  0.0000025756  1.532482  595000  \n",
      "1  0.0000025776  1.469232  570000  \n",
      "     symbol                time     price  pct_change    volume\n",
      "0  MEOWUSDT 2024-09-28 12:43:00  0.000003         NaN  595000.0\n",
      "1  MEOWUSDT 2024-09-28 12:44:00  0.000003    0.000776  570000.0\n"
     ]
    },
    {
     "name": "stderr",
     "output_type": "stream",
     "text": [
      " 10%|████████                                                                       | 119/1174 [01:08<10:08,  1.73it/s]"
     ]
    },
    {
     "name": "stdout",
     "output_type": "stream",
     "text": [
      "      close     created_at      high       low   market      open  \\\n",
      "0  0.049451  1727527380000  0.049464  0.049451  GGGUSDT  0.049464   \n",
      "1  0.049447  1727527440000  0.049447  0.049447  GGGUSDT  0.049447   \n",
      "\n",
      "              value        volume  \n",
      "0  5.16744707731646  104.48273923  \n",
      "1  2.50658717153133   50.69240139  \n",
      "    symbol                time     price  pct_change      volume\n",
      "0  GGGUSDT 2024-09-28 12:43:00  0.049451         NaN  104.482739\n",
      "1  GGGUSDT 2024-09-28 12:44:00  0.049447   -0.000081   50.692401\n"
     ]
    },
    {
     "name": "stderr",
     "output_type": "stream",
     "text": [
      " 10%|████████                                                                       | 120/1174 [01:10<15:25,  1.14it/s]"
     ]
    },
    {
     "name": "stdout",
     "output_type": "stream",
     "text": [
      "      close     created_at      high       low   market      open     value  \\\n",
      "0  0.009685  1727527380000  0.009685  0.009685  HNSUSDT  0.009685    5.6173   \n",
      "1  0.009677  1727527440000  0.009677  0.009677  HNSUSDT  0.009677  5.467505   \n",
      "\n",
      "  volume  \n",
      "0    580  \n",
      "1    565  \n",
      "    symbol                time     price  pct_change  volume\n",
      "0  HNSUSDT 2024-09-28 12:43:00  0.009685         NaN   580.0\n",
      "1  HNSUSDT 2024-09-28 12:44:00  0.009677   -0.000826   565.0\n"
     ]
    },
    {
     "name": "stderr",
     "output_type": "stream",
     "text": [
      " 10%|████████▏                                                                      | 121/1174 [01:10<13:42,  1.28it/s]"
     ]
    },
    {
     "name": "stdout",
     "output_type": "stream",
     "text": [
      "      close     created_at      high       low    market      open     value  \\\n",
      "0  0.014511  1727527380000  0.014511  0.014511  GMEEUSDT  0.014511  1.726809   \n",
      "1  0.014518  1727527440000  0.014518  0.014518  GMEEUSDT  0.014518  1.698606   \n",
      "\n",
      "  volume  \n",
      "0    119  \n",
      "1    117  \n",
      "     symbol                time     price  pct_change  volume\n",
      "0  GMEEUSDT 2024-09-28 12:43:00  0.014511         NaN   119.0\n",
      "1  GMEEUSDT 2024-09-28 12:44:00  0.014518    0.000482   117.0\n"
     ]
    },
    {
     "name": "stderr",
     "output_type": "stream",
     "text": [
      " 10%|████████▏                                                                      | 122/1174 [01:11<12:32,  1.40it/s]"
     ]
    },
    {
     "name": "stdout",
     "output_type": "stream",
     "text": [
      "    close     created_at    high     low    market    open    value volume\n",
      "0  0.1778  1727527380000  0.1778  0.1778  LMWRUSDT  0.1778   2.0447   11.5\n",
      "1  0.1778  1727527440000  0.1778  0.1778  LMWRUSDT  0.1778  2.08026   11.7\n",
      "     symbol                time   price  pct_change  volume\n",
      "0  LMWRUSDT 2024-09-28 12:43:00  0.1778         NaN    11.5\n",
      "1  LMWRUSDT 2024-09-28 12:44:00  0.1778         0.0    11.7\n"
     ]
    },
    {
     "name": "stderr",
     "output_type": "stream",
     "text": [
      " 10%|████████▎                                                                      | 123/1174 [01:12<11:42,  1.50it/s]"
     ]
    },
    {
     "name": "stdout",
     "output_type": "stream",
     "text": [
      "      close     created_at      high       low    market      open  \\\n",
      "0  0.017133  1727527380000  0.017133  0.017133  MINIUSDT  0.017133   \n",
      "1  0.017124  1727527440000  0.017124  0.017124  MINIUSDT  0.017124   \n",
      "\n",
      "              value        volume  \n",
      "0  1.82704754764497  106.63909109  \n",
      "1  1.89998356205568  110.95442432  \n",
      "     symbol                time     price  pct_change      volume\n",
      "0  MINIUSDT 2024-09-28 12:43:00  0.017133         NaN  106.639091\n",
      "1  MINIUSDT 2024-09-28 12:44:00  0.017124   -0.000525  110.954424\n"
     ]
    },
    {
     "name": "stderr",
     "output_type": "stream",
     "text": [
      " 11%|████████▎                                                                      | 124/1174 [01:12<11:05,  1.58it/s]"
     ]
    },
    {
     "name": "stdout",
     "output_type": "stream",
     "text": [
      "      close     created_at      high       low      market      open  \\\n",
      "0  0.080823  1727527380000  0.080823  0.080823  PEOPLEUSDT  0.080823   \n",
      "1  0.080717  1727527440000  0.080717  0.080717  PEOPLEUSDT  0.080717   \n",
      "\n",
      "       value volume  \n",
      "0  4.8089685   59.5  \n",
      "1  4.5605105   56.5  \n",
      "       symbol                time     price  pct_change  volume\n",
      "0  PEOPLEUSDT 2024-09-28 12:43:00  0.080823         NaN    59.5\n",
      "1  PEOPLEUSDT 2024-09-28 12:44:00  0.080717   -0.001312    56.5\n"
     ]
    },
    {
     "name": "stderr",
     "output_type": "stream",
     "text": [
      " 11%|████████▍                                                                      | 125/1174 [01:13<10:56,  1.60it/s]"
     ]
    },
    {
     "name": "stdout",
     "output_type": "stream",
     "text": [
      "      close     created_at      high       low    market      open     value  \\\n",
      "0  0.012167  1727527380000  0.012167  0.012167  MEMEUSDT  0.012167  1.435706   \n",
      "1   0.01216  1727527440000   0.01216   0.01216  MEMEUSDT   0.01216   1.34976   \n",
      "\n",
      "  volume  \n",
      "0    118  \n",
      "1    111  \n",
      "     symbol                time     price  pct_change  volume\n",
      "0  MEMEUSDT 2024-09-28 12:43:00  0.012167         NaN   118.0\n",
      "1  MEMEUSDT 2024-09-28 12:44:00  0.012160   -0.000575   111.0\n"
     ]
    },
    {
     "name": "stderr",
     "output_type": "stream",
     "text": [
      " 11%|████████▍                                                                      | 126/1174 [01:13<10:31,  1.66it/s]"
     ]
    },
    {
     "name": "stdout",
     "output_type": "stream",
     "text": [
      "      close     created_at      high       low     market      open     value  \\\n",
      "0   0.05319  1727527380000   0.05319   0.05319  STRAXUSDT   0.05319  3.111615   \n",
      "1  0.053179  1727527440000  0.053179  0.053179  STRAXUSDT  0.053179  3.137561   \n",
      "\n",
      "  volume  \n",
      "0   58.5  \n",
      "1     59  \n",
      "      symbol                time     price  pct_change  volume\n",
      "0  STRAXUSDT 2024-09-28 12:43:00  0.053190         NaN    58.5\n",
      "1  STRAXUSDT 2024-09-28 12:44:00  0.053179   -0.000207    59.0\n"
     ]
    },
    {
     "name": "stderr",
     "output_type": "stream",
     "text": [
      " 11%|████████▌                                                                      | 127/1174 [01:14<10:14,  1.70it/s]"
     ]
    },
    {
     "name": "stdout",
     "output_type": "stream",
     "text": [
      "      close     created_at      high       low    market      open     value  \\\n",
      "0  0.079271  1727527380000  0.079271  0.079271  MASAUSDT  0.079271  4.359905   \n",
      "1  0.079278  1727527440000  0.079278  0.079278  MASAUSDT  0.079278  4.558485   \n",
      "\n",
      "  volume  \n",
      "0     55  \n",
      "1   57.5  \n",
      "     symbol                time     price  pct_change  volume\n",
      "0  MASAUSDT 2024-09-28 12:43:00  0.079271         NaN    55.0\n",
      "1  MASAUSDT 2024-09-28 12:44:00  0.079278    0.000088    57.5\n"
     ]
    },
    {
     "name": "stderr",
     "output_type": "stream",
     "text": [
      " 11%|████████▌                                                                      | 128/1174 [01:14<10:13,  1.71it/s]"
     ]
    },
    {
     "name": "stdout",
     "output_type": "stream",
     "text": [
      "      close     created_at      high       low  market      open      value  \\\n",
      "0  0.020209  1727527380000  0.020209  0.020209  LLUSDT  0.020209  1.2024355   \n",
      "1  0.020208  1727527440000  0.020208  0.020208  LLUSDT  0.020208    1.16196   \n",
      "\n",
      "  volume  \n",
      "0   59.5  \n",
      "1   57.5  \n",
      "   symbol                time     price  pct_change  volume\n",
      "0  LLUSDT 2024-09-28 12:43:00  0.020209         NaN    59.5\n",
      "1  LLUSDT 2024-09-28 12:44:00  0.020208   -0.000049    57.5\n"
     ]
    },
    {
     "name": "stderr",
     "output_type": "stream",
     "text": [
      " 11%|████████▋                                                                      | 129/1174 [01:15<10:16,  1.70it/s]"
     ]
    },
    {
     "name": "stdout",
     "output_type": "stream",
     "text": [
      "    close     created_at    high     low    market    open     value volume\n",
      "0  1.6419  1727527380000  1.6419  1.6419  APEXUSDT  1.6419  1.855347   1.13\n",
      "1  1.6419  1727527440000  1.6419  1.6419  APEXUSDT  1.6419  1.904604   1.16\n",
      "     symbol                time   price  pct_change  volume\n",
      "0  APEXUSDT 2024-09-28 12:43:00  1.6419         NaN    1.13\n",
      "1  APEXUSDT 2024-09-28 12:44:00  1.6419         0.0    1.16\n"
     ]
    },
    {
     "name": "stderr",
     "output_type": "stream",
     "text": [
      " 11%|████████▋                                                                      | 130/1174 [01:16<10:05,  1.72it/s]"
     ]
    },
    {
     "name": "stdout",
     "output_type": "stream",
     "text": [
      "      close     created_at      high       low   market      open     value  \\\n",
      "0  0.039592  1727527380000  0.039592  0.039592  OASUSDT  0.039592  2.355724   \n",
      "1  0.039599  1727527440000  0.039599  0.039599  OASUSDT  0.039599  2.336341   \n",
      "\n",
      "  volume  \n",
      "0   59.5  \n",
      "1     59  \n",
      "    symbol                time     price  pct_change  volume\n",
      "0  OASUSDT 2024-09-28 12:43:00  0.039592         NaN    59.5\n",
      "1  OASUSDT 2024-09-28 12:44:00  0.039599    0.000177    59.0\n"
     ]
    },
    {
     "name": "stderr",
     "output_type": "stream",
     "text": [
      " 11%|████████▊                                                                      | 131/1174 [01:16<10:10,  1.71it/s]"
     ]
    },
    {
     "name": "stdout",
     "output_type": "stream",
     "text": [
      "    close     created_at    high     low    market    open     value volume\n",
      "0  0.9626  1727527380000  0.9626  0.9626  LQTYUSDT  0.9626   5.53495   5.75\n",
      "1  0.9625  1727527440000  0.9625  0.9625  LQTYUSDT  0.9625  5.630625   5.85\n",
      "     symbol                time   price  pct_change  volume\n",
      "0  LQTYUSDT 2024-09-28 12:43:00  0.9626         NaN    5.75\n",
      "1  LQTYUSDT 2024-09-28 12:44:00  0.9625   -0.000104    5.85\n"
     ]
    },
    {
     "name": "stderr",
     "output_type": "stream",
     "text": [
      " 11%|████████▉                                                                      | 132/1174 [01:17<09:59,  1.74it/s]"
     ]
    },
    {
     "name": "stdout",
     "output_type": "stream",
     "text": [
      "      close     created_at      high       low   market      open  \\\n",
      "0  0.004446  1727527380000  0.004446  0.004435  XVGUSDT  0.004435   \n",
      "1  0.004433  1727527440000  0.004445  0.004433  XVGUSDT  0.004445   \n",
      "\n",
      "              value         volume  \n",
      "0  4.67961701372563  1053.78675139  \n",
      "1  4.68313841372221  1054.97948693  \n",
      "    symbol                time     price  pct_change       volume\n",
      "0  XVGUSDT 2024-09-28 12:43:00  0.004446         NaN  1053.786751\n",
      "1  XVGUSDT 2024-09-28 12:44:00  0.004433   -0.002928  1054.979487\n"
     ]
    },
    {
     "name": "stderr",
     "output_type": "stream",
     "text": [
      " 11%|████████▉                                                                      | 133/1174 [01:17<10:05,  1.72it/s]"
     ]
    },
    {
     "name": "stdout",
     "output_type": "stream",
     "text": [
      "    close     created_at    high     low    market    open     value volume\n",
      "0  0.9989  1727527380000  0.9989  0.9989  USDCUSDT  0.9989  1.148735   1.15\n",
      "1  0.9989  1727527440000  0.9989  0.9989  USDCUSDT  0.9989  1.168713   1.17\n",
      "     symbol                time   price  pct_change  volume\n",
      "0  USDCUSDT 2024-09-28 12:43:00  0.9989         NaN    1.15\n",
      "1  USDCUSDT 2024-09-28 12:44:00  0.9989         0.0    1.17\n"
     ]
    },
    {
     "name": "stderr",
     "output_type": "stream",
     "text": [
      " 11%|█████████                                                                      | 134/1174 [01:18<09:59,  1.73it/s]"
     ]
    },
    {
     "name": "stdout",
     "output_type": "stream",
     "text": [
      "     close     created_at     high      low    market     open     value  \\\n",
      "0  16.8844  1727527380000  16.8844  16.8844  FACTUSDT  16.8844  1.941706   \n",
      "1  16.8725  1727527440000  16.8725  16.8725  FACTUSDT  16.8725  1.855975   \n",
      "\n",
      "  volume  \n",
      "0  0.115  \n",
      "1   0.11  \n",
      "     symbol                time    price  pct_change  volume\n",
      "0  FACTUSDT 2024-09-28 12:43:00  16.8844         NaN   0.115\n",
      "1  FACTUSDT 2024-09-28 12:44:00  16.8725   -0.000705   0.110\n"
     ]
    },
    {
     "name": "stderr",
     "output_type": "stream",
     "text": [
      " 11%|█████████                                                                      | 135/1174 [01:18<09:54,  1.75it/s]"
     ]
    },
    {
     "name": "stdout",
     "output_type": "stream",
     "text": [
      "        close     created_at        high         low market        open  \\\n",
      "0   0.0000296  1727527380000   0.0000296   0.0000296  XUSDT   0.0000296   \n",
      "1  0.00002962  1727527440000  0.00002962  0.00002962  XUSDT  0.00002962   \n",
      "\n",
      "     value volume  \n",
      "0    1.628  55000  \n",
      "1  1.70315  57500  \n",
      "  symbol                time    price  pct_change   volume\n",
      "0  XUSDT 2024-09-28 12:43:00  0.00003         NaN  55000.0\n",
      "1  XUSDT 2024-09-28 12:44:00  0.00003    0.000675  57500.0\n"
     ]
    },
    {
     "name": "stderr",
     "output_type": "stream",
     "text": [
      " 12%|█████████▏                                                                     | 136/1174 [01:19<09:49,  1.76it/s]"
     ]
    },
    {
     "name": "stdout",
     "output_type": "stream",
     "text": [
      "    close     created_at    high     low      market    open           value  \\\n",
      "0  3.1655  1727527380000  3.1655  3.1655  BADGERUSDT  3.1655   1.83218101716   \n",
      "1  3.1645  1727527440000  3.1645  3.1645  BADGERUSDT  3.1645  1.699201597365   \n",
      "\n",
      "       volume  \n",
      "0  0.57879672  \n",
      "1  0.53695737  \n",
      "       symbol                time   price  pct_change    volume\n",
      "0  BADGERUSDT 2024-09-28 12:43:00  3.1655         NaN  0.578797\n",
      "1  BADGERUSDT 2024-09-28 12:44:00  3.1645   -0.000316  0.536957\n"
     ]
    },
    {
     "name": "stderr",
     "output_type": "stream",
     "text": [
      " 12%|████████▉                                                                    | 137/1174 [01:36<1:33:00,  5.38s/it]"
     ]
    },
    {
     "name": "stdout",
     "output_type": "stream",
     "text": [
      "     close     created_at     high      low   market     open   value volume\n",
      "0  0.00528  1727527440000  0.00528  0.00528  KEYUSDT  0.00528  3.1152    590\n",
      "1  0.00528  1727527500000  0.00528  0.00528  KEYUSDT  0.00528       0      0\n",
      "    symbol                time    price  pct_change  volume\n",
      "0  KEYUSDT 2024-09-28 12:44:00  0.00528         NaN   590.0\n",
      "1  KEYUSDT 2024-09-28 12:45:00  0.00528         0.0     0.0\n"
     ]
    },
    {
     "name": "stderr",
     "output_type": "stream",
     "text": [
      " 12%|█████████                                                                    | 138/1174 [01:36<1:08:00,  3.94s/it]"
     ]
    },
    {
     "name": "stdout",
     "output_type": "stream",
     "text": [
      "      close     created_at      high       low     market      open value  \\\n",
      "0  0.108077  1727527440000  0.108077  0.108077  VANRYUSDT  0.108077     0   \n",
      "1  0.108077  1727527500000  0.108077  0.108077  VANRYUSDT  0.108077     0   \n",
      "\n",
      "  volume  \n",
      "0      0  \n",
      "1      0  \n",
      "      symbol                time     price  pct_change  volume\n",
      "0  VANRYUSDT 2024-09-28 12:44:00  0.108077         NaN     0.0\n",
      "1  VANRYUSDT 2024-09-28 12:45:00  0.108077         0.0     0.0\n"
     ]
    },
    {
     "name": "stderr",
     "output_type": "stream",
     "text": [
      " 12%|█████████▎                                                                     | 139/1174 [01:37<50:26,  2.92s/it]"
     ]
    },
    {
     "name": "stdout",
     "output_type": "stream",
     "text": [
      "    close     created_at    high     low   market    open     value volume\n",
      "0  1.8073  1727527440000  1.8073  1.8073  ATMUSDT  1.8073  2.150687   1.19\n",
      "1  1.8073  1727527500000  1.8073  1.8073  ATMUSDT  1.8073         0      0\n",
      "    symbol                time   price  pct_change  volume\n",
      "0  ATMUSDT 2024-09-28 12:44:00  1.8073         NaN    1.19\n",
      "1  ATMUSDT 2024-09-28 12:45:00  1.8073         0.0    0.00\n"
     ]
    },
    {
     "name": "stderr",
     "output_type": "stream",
     "text": [
      " 12%|█████████▍                                                                     | 140/1174 [01:37<38:08,  2.21s/it]"
     ]
    },
    {
     "name": "stdout",
     "output_type": "stream",
     "text": [
      "    close     created_at    high     low    market    open     value volume\n",
      "0  0.4063  1727527440000  0.4063  0.4063  LUNAUSDT  0.4063  2.336225   5.75\n",
      "1  0.4063  1727527500000  0.4063  0.4063  LUNAUSDT  0.4063         0      0\n",
      "     symbol                time   price  pct_change  volume\n",
      "0  LUNAUSDT 2024-09-28 12:44:00  0.4063         NaN    5.75\n",
      "1  LUNAUSDT 2024-09-28 12:45:00  0.4063         0.0    0.00\n"
     ]
    },
    {
     "name": "stderr",
     "output_type": "stream",
     "text": [
      " 12%|█████████▍                                                                     | 141/1174 [01:38<29:44,  1.73s/it]"
     ]
    },
    {
     "name": "stdout",
     "output_type": "stream",
     "text": [
      "            close     created_at            high             low     market  \\\n",
      "0  0.000000016011  1727527440000  0.000000016084  0.000000016011  TROLLUSDT   \n",
      "1  0.000000016011  1727527500000  0.000000016011  0.000000016011  TROLLUSDT   \n",
      "\n",
      "             open              value         volume  \n",
      "0  0.000000016084  43.97835019230192  2734759444.72  \n",
      "1  0.000000016011                  0              0  \n",
      "      symbol                time         price  pct_change        volume\n",
      "0  TROLLUSDT 2024-09-28 12:44:00  1.601100e-08         NaN  2.734759e+09\n",
      "1  TROLLUSDT 2024-09-28 12:45:00  1.601100e-08         0.0  0.000000e+00\n"
     ]
    },
    {
     "name": "stderr",
     "output_type": "stream",
     "text": [
      " 12%|█████████▌                                                                     | 142/1174 [01:38<23:46,  1.38s/it]"
     ]
    },
    {
     "name": "stdout",
     "output_type": "stream",
     "text": [
      "      close     created_at      high       low    market      open      value  \\\n",
      "0  0.240644  1727527440000  0.240644  0.240644  LOKAUSDT  0.240644  1.3596386   \n",
      "1  0.240644  1727527500000  0.240644  0.240644  LOKAUSDT  0.240644          0   \n",
      "\n",
      "  volume  \n",
      "0   5.65  \n",
      "1      0  \n",
      "     symbol                time     price  pct_change  volume\n",
      "0  LOKAUSDT 2024-09-28 12:44:00  0.240644         NaN    5.65\n",
      "1  LOKAUSDT 2024-09-28 12:45:00  0.240644         0.0    0.00\n"
     ]
    },
    {
     "name": "stderr",
     "output_type": "stream",
     "text": [
      " 12%|█████████▌                                                                     | 143/1174 [01:39<19:30,  1.13s/it]"
     ]
    },
    {
     "name": "stdout",
     "output_type": "stream",
     "text": [
      "      close     created_at      high       low      market      open  \\\n",
      "0  0.330627  1727527440000  0.330627  0.330627  SUNDOGUSDT  0.330627   \n",
      "1  0.330924  1727527500000  0.330924  0.330924  SUNDOGUSDT  0.330924   \n",
      "\n",
      "        value volume  \n",
      "0  1.83497985   5.55  \n",
      "1   1.8531744    5.6  \n",
      "       symbol                time     price  pct_change  volume\n",
      "0  SUNDOGUSDT 2024-09-28 12:44:00  0.330627         NaN    5.55\n",
      "1  SUNDOGUSDT 2024-09-28 12:45:00  0.330924    0.000898    5.60\n"
     ]
    },
    {
     "name": "stderr",
     "output_type": "stream",
     "text": [
      " 12%|█████████▋                                                                     | 144/1174 [01:40<16:28,  1.04it/s]"
     ]
    },
    {
     "name": "stdout",
     "output_type": "stream",
     "text": [
      "    close     created_at    high     low     market    open     value volume\n",
      "0  1.3824  1727527440000  1.3824  1.3824  LAZIOUSDT  1.3824  1.617408   1.17\n",
      "1  1.3824  1727527500000  1.3824  1.3824  LAZIOUSDT  1.3824  1.617408   1.17\n",
      "      symbol                time   price  pct_change  volume\n",
      "0  LAZIOUSDT 2024-09-28 12:44:00  1.3824         NaN    1.17\n",
      "1  LAZIOUSDT 2024-09-28 12:45:00  1.3824         0.0    1.17\n"
     ]
    },
    {
     "name": "stderr",
     "output_type": "stream",
     "text": [
      " 12%|█████████▊                                                                     | 145/1174 [01:40<14:28,  1.19it/s]"
     ]
    },
    {
     "name": "stdout",
     "output_type": "stream",
     "text": [
      "      close     created_at      high       low        market      open  \\\n",
      "0  0.095111  1727527440000  0.095111  0.095111  NEIROETHUSDT  0.095111   \n",
      "1  0.095177  1727527500000  0.095177  0.095177  NEIROETHUSDT  0.095177   \n",
      "\n",
      "               value        volume  \n",
      "0  10.68421594478918  112.33417738  \n",
      "1  63.21945131383312  664.23034256  \n",
      "         symbol                time     price  pct_change      volume\n",
      "0  NEIROETHUSDT 2024-09-28 12:44:00  0.095111         NaN  112.334177\n",
      "1  NEIROETHUSDT 2024-09-28 12:45:00  0.095177    0.000694  664.230343\n"
     ]
    },
    {
     "name": "stderr",
     "output_type": "stream",
     "text": [
      " 12%|█████████▊                                                                     | 146/1174 [01:41<13:00,  1.32it/s]"
     ]
    },
    {
     "name": "stdout",
     "output_type": "stream",
     "text": [
      "    close     created_at    high     low   market    open     value volume\n",
      "0  0.6673  1727527440000  0.6673  0.6673  GTCUSDT  0.6673  3.903705   5.85\n",
      "1  0.6677  1727527500000  0.6677  0.6677  GTCUSDT  0.6677  3.705735   5.55\n",
      "    symbol                time   price  pct_change  volume\n",
      "0  GTCUSDT 2024-09-28 12:44:00  0.6673         NaN    5.85\n",
      "1  GTCUSDT 2024-09-28 12:45:00  0.6677    0.000599    5.55\n"
     ]
    },
    {
     "name": "stderr",
     "output_type": "stream",
     "text": [
      " 13%|█████████▉                                                                     | 147/1174 [01:41<12:00,  1.43it/s]"
     ]
    },
    {
     "name": "stdout",
     "output_type": "stream",
     "text": [
      "      close     created_at      high       low     market      open    value  \\\n",
      "0  0.009282  1727527440000  0.009282  0.009282  PARAMUSDT  0.009282  5.19792   \n",
      "1  0.009282  1727527500000  0.009282  0.009282  PARAMUSDT  0.009282        0   \n",
      "\n",
      "  volume  \n",
      "0    560  \n",
      "1      0  \n",
      "      symbol                time     price  pct_change  volume\n",
      "0  PARAMUSDT 2024-09-28 12:44:00  0.009282         NaN   560.0\n",
      "1  PARAMUSDT 2024-09-28 12:45:00  0.009282         0.0     0.0\n"
     ]
    },
    {
     "name": "stderr",
     "output_type": "stream",
     "text": [
      " 13%|█████████▉                                                                     | 148/1174 [01:42<11:26,  1.49it/s]"
     ]
    },
    {
     "name": "stdout",
     "output_type": "stream",
     "text": [
      "      close     created_at      high       low      market      open  \\\n",
      "0  0.181506  1727527440000  0.181506  0.181506  PIRATEUSDT  0.181506   \n",
      "1  0.181397  1727527500000  0.181397  0.181397  PIRATEUSDT  0.181397   \n",
      "\n",
      "       value volume  \n",
      "0  2.1599214   11.9  \n",
      "1  2.0860655   11.5  \n",
      "       symbol                time     price  pct_change  volume\n",
      "0  PIRATEUSDT 2024-09-28 12:44:00  0.181506         NaN    11.9\n",
      "1  PIRATEUSDT 2024-09-28 12:45:00  0.181397   -0.000601    11.5\n"
     ]
    },
    {
     "name": "stderr",
     "output_type": "stream",
     "text": [
      " 13%|██████████                                                                     | 149/1174 [01:42<10:57,  1.56it/s]"
     ]
    },
    {
     "name": "stdout",
     "output_type": "stream",
     "text": [
      "        close     created_at        high         low    market        open  \\\n",
      "0  0.00144912  1727527440000  0.00144912  0.00144912  OOKIUSDT  0.00144912   \n",
      "1  0.00144912  1727527500000  0.00144912  0.00144912  OOKIUSDT  0.00144912   \n",
      "\n",
      "       value volume  \n",
      "0  1.7244528   1190  \n",
      "1          0      0  \n",
      "     symbol                time     price  pct_change  volume\n",
      "0  OOKIUSDT 2024-09-28 12:44:00  0.001449         NaN  1190.0\n",
      "1  OOKIUSDT 2024-09-28 12:45:00  0.001449         0.0     0.0\n"
     ]
    },
    {
     "name": "stderr",
     "output_type": "stream",
     "text": [
      " 13%|██████████                                                                     | 150/1174 [01:43<10:45,  1.59it/s]"
     ]
    },
    {
     "name": "stdout",
     "output_type": "stream",
     "text": [
      "      close     created_at      high       low     market      open    value  \\\n",
      "0  0.006218  1727527440000  0.006218  0.006218  TSUKAUSDT  0.006218  3.51317   \n",
      "1  0.006218  1727527500000  0.006218  0.006218  TSUKAUSDT  0.006218        0   \n",
      "\n",
      "  volume  \n",
      "0    565  \n",
      "1      0  \n",
      "      symbol                time     price  pct_change  volume\n",
      "0  TSUKAUSDT 2024-09-28 12:44:00  0.006218         NaN   565.0\n",
      "1  TSUKAUSDT 2024-09-28 12:45:00  0.006218         0.0     0.0\n"
     ]
    },
    {
     "name": "stderr",
     "output_type": "stream",
     "text": [
      " 13%|██████████▏                                                                    | 151/1174 [01:44<10:32,  1.62it/s]"
     ]
    },
    {
     "name": "stdout",
     "output_type": "stream",
     "text": [
      "      close     created_at      high       low    market      open     value  \\\n",
      "0  0.036656  1727527440000  0.036656  0.036656  ARCHUSDT  0.036656  2.052736   \n",
      "1  0.036674  1727527500000  0.036674  0.036674  ARCHUSDT  0.036674   2.01707   \n",
      "\n",
      "  volume  \n",
      "0     56  \n",
      "1     55  \n",
      "     symbol                time     price  pct_change  volume\n",
      "0  ARCHUSDT 2024-09-28 12:44:00  0.036656         NaN    56.0\n",
      "1  ARCHUSDT 2024-09-28 12:45:00  0.036674    0.000491    55.0\n"
     ]
    },
    {
     "name": "stderr",
     "output_type": "stream",
     "text": [
      " 13%|██████████▏                                                                    | 152/1174 [01:44<10:14,  1.66it/s]"
     ]
    },
    {
     "name": "stdout",
     "output_type": "stream",
     "text": [
      "      close     created_at      high       low    market      open      value  \\\n",
      "0  0.140776  1727527440000  0.140776  0.140776  ALGOUSDT  0.140776  1.6048464   \n",
      "1  0.140739  1727527500000  0.140739  0.140739  ALGOUSDT  0.140739  1.6466463   \n",
      "\n",
      "  volume  \n",
      "0   11.4  \n",
      "1   11.7  \n",
      "     symbol                time     price  pct_change  volume\n",
      "0  ALGOUSDT 2024-09-28 12:44:00  0.140776         NaN    11.4\n",
      "1  ALGOUSDT 2024-09-28 12:45:00  0.140739   -0.000263    11.7\n"
     ]
    },
    {
     "name": "stderr",
     "output_type": "stream",
     "text": [
      " 13%|██████████▎                                                                    | 153/1174 [01:45<10:01,  1.70it/s]"
     ]
    },
    {
     "name": "stdout",
     "output_type": "stream",
     "text": [
      "    close     created_at    high     low   market    open     value  volume\n",
      "0  159.31  1727527440000  159.31  159.31  XMRUSDT  159.31  1.768341  0.0111\n",
      "1  159.43  1727527500000  159.43  159.43  XMRUSDT  159.43  1.897217  0.0119\n",
      "    symbol                time   price  pct_change  volume\n",
      "0  XMRUSDT 2024-09-28 12:44:00  159.31         NaN  0.0111\n",
      "1  XMRUSDT 2024-09-28 12:45:00  159.43    0.000753  0.0119\n"
     ]
    },
    {
     "name": "stderr",
     "output_type": "stream",
     "text": [
      " 13%|██████████▎                                                                    | 154/1174 [01:45<09:55,  1.71it/s]"
     ]
    },
    {
     "name": "stdout",
     "output_type": "stream",
     "text": [
      "        close     created_at        high         low     market        open  \\\n",
      "0   0.0000403  1727527440000   0.0000403   0.0000403  SMOLEUSDT   0.0000403   \n",
      "1  0.00004033  1727527500000  0.00004033  0.00004033  SMOLEUSDT  0.00004033   \n",
      "\n",
      "      value volume  \n",
      "0    2.2971  57000  \n",
      "1  2.318975  57500  \n",
      "      symbol                time    price  pct_change   volume\n",
      "0  SMOLEUSDT 2024-09-28 12:44:00  0.00004         NaN  57000.0\n",
      "1  SMOLEUSDT 2024-09-28 12:45:00  0.00004    0.000744  57500.0\n"
     ]
    },
    {
     "name": "stderr",
     "output_type": "stream",
     "text": [
      " 13%|██████████▍                                                                    | 155/1174 [01:46<09:45,  1.74it/s]"
     ]
    },
    {
     "name": "stdout",
     "output_type": "stream",
     "text": [
      "    close     created_at    high     low    market    open           value  \\\n",
      "0  4.2077  1727527440000  4.2077  4.2064  STONUSDT  4.2064  4.352877914912   \n",
      "1  4.2077  1727527500000  4.2077  4.2077  STONUSDT  4.2077               0   \n",
      "\n",
      "       volume  \n",
      "0  1.03466709  \n",
      "1           0  \n",
      "     symbol                time   price  pct_change    volume\n",
      "0  STONUSDT 2024-09-28 12:44:00  4.2077         NaN  1.034667\n",
      "1  STONUSDT 2024-09-28 12:45:00  4.2077         0.0  0.000000\n"
     ]
    },
    {
     "name": "stderr",
     "output_type": "stream",
     "text": [
      " 13%|██████████▍                                                                    | 156/1174 [01:46<09:39,  1.76it/s]"
     ]
    },
    {
     "name": "stdout",
     "output_type": "stream",
     "text": [
      "    close     created_at    high     low     market    open     value volume\n",
      "0  0.5251  1727527440000  0.5251  0.5251  WHALEUSDT  0.5251  3.124345   5.95\n",
      "1  0.5249  1727527500000  0.5249  0.5249  WHALEUSDT  0.5249   2.88695    5.5\n",
      "      symbol                time   price  pct_change  volume\n",
      "0  WHALEUSDT 2024-09-28 12:44:00  0.5251         NaN    5.95\n",
      "1  WHALEUSDT 2024-09-28 12:45:00  0.5249   -0.000381    5.50\n"
     ]
    },
    {
     "name": "stderr",
     "output_type": "stream",
     "text": [
      " 13%|██████████▌                                                                    | 157/1174 [01:47<09:37,  1.76it/s]"
     ]
    },
    {
     "name": "stdout",
     "output_type": "stream",
     "text": [
      "      close     created_at      high       low      market      open  \\\n",
      "0  0.118453  1727527440000  0.118453  0.118453  AITECHUSDT  0.118453   \n",
      "1  0.118417  1727527500000  0.118417  0.118417  AITECHUSDT  0.118417   \n",
      "\n",
      "       value volume  \n",
      "0  1.3740548   11.6  \n",
      "1  1.4091623   11.9  \n",
      "       symbol                time     price  pct_change  volume\n",
      "0  AITECHUSDT 2024-09-28 12:44:00  0.118453         NaN    11.6\n",
      "1  AITECHUSDT 2024-09-28 12:45:00  0.118417   -0.000304    11.9\n"
     ]
    },
    {
     "name": "stderr",
     "output_type": "stream",
     "text": [
      " 13%|██████████▋                                                                    | 158/1174 [01:48<09:43,  1.74it/s]"
     ]
    },
    {
     "name": "stdout",
     "output_type": "stream",
     "text": [
      "      close     created_at      high       low    market      open     value  \\\n",
      "0  0.005445  1727527440000  0.005445  0.005445  EPIKUSDT  0.005445  3.185325   \n",
      "1  0.005449  1727527500000  0.005449  0.005449  EPIKUSDT  0.005449   3.10593   \n",
      "\n",
      "  volume  \n",
      "0    585  \n",
      "1    570  \n",
      "     symbol                time     price  pct_change  volume\n",
      "0  EPIKUSDT 2024-09-28 12:44:00  0.005445         NaN   585.0\n",
      "1  EPIKUSDT 2024-09-28 12:45:00  0.005449    0.000734   570.0\n"
     ]
    },
    {
     "name": "stderr",
     "output_type": "stream",
     "text": [
      " 14%|██████████▋                                                                    | 159/1174 [01:48<09:32,  1.77it/s]"
     ]
    },
    {
     "name": "stdout",
     "output_type": "stream",
     "text": [
      "    close     created_at    high     low    market    open     value volume\n",
      "0  0.9913  1727527440000  0.9913  0.9913  USDVUSDT  0.9913   5.45215    5.5\n",
      "1  0.9913  1727527500000  0.9913  0.9913  USDVUSDT  0.9913  5.699975   5.75\n",
      "     symbol                time   price  pct_change  volume\n",
      "0  USDVUSDT 2024-09-28 12:44:00  0.9913         NaN    5.50\n",
      "1  USDVUSDT 2024-09-28 12:45:00  0.9913         0.0    5.75\n"
     ]
    },
    {
     "name": "stderr",
     "output_type": "stream",
     "text": [
      " 14%|██████████▊                                                                    | 160/1174 [01:49<09:26,  1.79it/s]"
     ]
    },
    {
     "name": "stdout",
     "output_type": "stream",
     "text": [
      "      close     created_at      high       low    market      open  \\\n",
      "0  0.137855  1727527440000  0.137855   0.13784  ZERCUSDT   0.13784   \n",
      "1  0.137855  1727527500000  0.137855  0.137855  ZERCUSDT  0.137855   \n",
      "\n",
      "             value      volume  \n",
      "0  3.0970185064755  22.4670513  \n",
      "1                0           0  \n",
      "     symbol                time     price  pct_change     volume\n",
      "0  ZERCUSDT 2024-09-28 12:44:00  0.137855         NaN  22.467051\n",
      "1  ZERCUSDT 2024-09-28 12:45:00  0.137855         0.0   0.000000\n"
     ]
    },
    {
     "name": "stderr",
     "output_type": "stream",
     "text": [
      " 14%|██████████▊                                                                    | 161/1174 [01:49<09:49,  1.72it/s]"
     ]
    },
    {
     "name": "stdout",
     "output_type": "stream",
     "text": [
      "     close     created_at     high      low    market     open  \\\n",
      "0  0.46454  1727527440000  0.46454  0.46454  SWCHUSDT  0.46454   \n",
      "1  0.46454  1727527500000  0.46454  0.46454  SWCHUSDT  0.46454   \n",
      "\n",
      "             value      volume  \n",
      "0  2.5320665706916  5.45069654  \n",
      "1                0           0  \n",
      "     symbol                time    price  pct_change    volume\n",
      "0  SWCHUSDT 2024-09-28 12:44:00  0.46454         NaN  5.450697\n",
      "1  SWCHUSDT 2024-09-28 12:45:00  0.46454         0.0  0.000000\n"
     ]
    },
    {
     "name": "stderr",
     "output_type": "stream",
     "text": [
      " 14%|██████████▉                                                                    | 162/1174 [01:50<09:43,  1.73it/s]"
     ]
    },
    {
     "name": "stdout",
     "output_type": "stream",
     "text": [
      "      close     created_at      high       low      market      open  \\\n",
      "0   0.00305  1727527440000   0.00305   0.00305  BUBBLEUSDT   0.00305   \n",
      "1  0.003047  1727527500000  0.003047  0.003047  BUBBLEUSDT  0.003047   \n",
      "\n",
      "      value volume  \n",
      "0    1.6775    550  \n",
      "1  1.782495    585  \n",
      "       symbol                time     price  pct_change  volume\n",
      "0  BUBBLEUSDT 2024-09-28 12:44:00  0.003050         NaN   550.0\n",
      "1  BUBBLEUSDT 2024-09-28 12:45:00  0.003047   -0.000984   585.0\n"
     ]
    },
    {
     "name": "stderr",
     "output_type": "stream",
     "text": [
      " 14%|██████████▉                                                                    | 163/1174 [01:51<09:46,  1.73it/s]"
     ]
    },
    {
     "name": "stdout",
     "output_type": "stream",
     "text": [
      "     close     created_at     high      low    market     open   value volume\n",
      "0  0.01945  1727527440000  0.01945  0.01945  INSPUSDT  0.01945  2.1395    110\n",
      "1  0.01945  1727527500000  0.01945  0.01945  INSPUSDT  0.01945  2.1395    110\n",
      "     symbol                time    price  pct_change  volume\n",
      "0  INSPUSDT 2024-09-28 12:44:00  0.01945         NaN   110.0\n",
      "1  INSPUSDT 2024-09-28 12:45:00  0.01945         0.0   110.0\n"
     ]
    },
    {
     "name": "stderr",
     "output_type": "stream",
     "text": [
      " 14%|███████████                                                                    | 164/1174 [01:51<09:58,  1.69it/s]"
     ]
    },
    {
     "name": "stdout",
     "output_type": "stream",
     "text": [
      "          close     created_at          high           low    market  \\\n",
      "0   0.000003154  1727527440000   0.000003154   0.000003154  MATTUSDT   \n",
      "1  0.0000031533  1727527500000  0.0000031533  0.0000031533  MATTUSDT   \n",
      "\n",
      "           open     value  volume  \n",
      "0   0.000003154   1.78201  565000  \n",
      "1  0.0000031533  1.797381  570000  \n",
      "     symbol                time     price  pct_change    volume\n",
      "0  MATTUSDT 2024-09-28 12:44:00  0.000003         NaN  565000.0\n",
      "1  MATTUSDT 2024-09-28 12:45:00  0.000003   -0.000222  570000.0\n"
     ]
    },
    {
     "name": "stderr",
     "output_type": "stream",
     "text": [
      " 14%|███████████                                                                    | 165/1174 [01:52<09:50,  1.71it/s]"
     ]
    },
    {
     "name": "stdout",
     "output_type": "stream",
     "text": [
      "      close     created_at      high       low    market      open      value  \\\n",
      "0  0.059602  1727527440000  0.059602  0.059602  LOOMUSDT  0.059602   3.456916   \n",
      "1  0.059655  1727527500000  0.059655  0.059655  LOOMUSDT  0.059655  3.4301625   \n",
      "\n",
      "  volume  \n",
      "0     58  \n",
      "1   57.5  \n",
      "     symbol                time     price  pct_change  volume\n",
      "0  LOOMUSDT 2024-09-28 12:44:00  0.059602         NaN    58.0\n",
      "1  LOOMUSDT 2024-09-28 12:45:00  0.059655    0.000889    57.5\n"
     ]
    },
    {
     "name": "stderr",
     "output_type": "stream",
     "text": [
      " 14%|███████████▏                                                                   | 166/1174 [01:52<09:48,  1.71it/s]"
     ]
    },
    {
     "name": "stdout",
     "output_type": "stream",
     "text": [
      "    close     created_at    high     low   market    open    value volume\n",
      "0  0.3838  1727527440000  0.3838  0.3838  KRLUSDT  0.3838  2.20685   5.75\n",
      "1  0.3839  1727527500000  0.3839  0.3839  KRLUSDT  0.3839  2.14984    5.6\n",
      "    symbol                time   price  pct_change  volume\n",
      "0  KRLUSDT 2024-09-28 12:44:00  0.3838         NaN    5.75\n",
      "1  KRLUSDT 2024-09-28 12:45:00  0.3839    0.000261    5.60\n"
     ]
    },
    {
     "name": "stderr",
     "output_type": "stream",
     "text": [
      " 14%|███████████▏                                                                   | 167/1174 [01:53<10:21,  1.62it/s]"
     ]
    },
    {
     "name": "stdout",
     "output_type": "stream",
     "text": [
      "      close     created_at      high       low    market      open      value  \\\n",
      "0  0.035329  1727527440000  0.035329  0.035329  WIFIUSDT  0.035329  1.9607595   \n",
      "1  0.035343  1727527500000  0.035343  0.035343  WIFIUSDT  0.035343   2.085237   \n",
      "\n",
      "  volume  \n",
      "0   55.5  \n",
      "1     59  \n",
      "     symbol                time     price  pct_change  volume\n",
      "0  WIFIUSDT 2024-09-28 12:44:00  0.035329         NaN    55.5\n",
      "1  WIFIUSDT 2024-09-28 12:45:00  0.035343    0.000396    59.0\n"
     ]
    },
    {
     "name": "stderr",
     "output_type": "stream",
     "text": [
      " 14%|███████████▎                                                                   | 168/1174 [01:54<10:08,  1.65it/s]"
     ]
    },
    {
     "name": "stdout",
     "output_type": "stream",
     "text": [
      "     close     created_at     high      low    market     open       value  \\\n",
      "0  2680.95  1727527440000  2680.95  2680.95  PAXGUSDT  2680.95    1.554951   \n",
      "1  2681.07  1727527500000  2681.07  2681.07  PAXGUSDT  2681.07  1.48799385   \n",
      "\n",
      "     volume  \n",
      "0   0.00058  \n",
      "1  0.000555  \n",
      "     symbol                time    price  pct_change    volume\n",
      "0  PAXGUSDT 2024-09-28 12:44:00  2680.95         NaN  0.000580\n",
      "1  PAXGUSDT 2024-09-28 12:45:00  2681.07    0.000045  0.000555\n"
     ]
    },
    {
     "name": "stderr",
     "output_type": "stream",
     "text": [
      " 14%|███████████▎                                                                   | 169/1174 [01:54<10:00,  1.67it/s]"
     ]
    },
    {
     "name": "stdout",
     "output_type": "stream",
     "text": [
      "        close     created_at        high         low   market        open  \\\n",
      "0  0.00206055  1727527440000  0.00206055  0.00206055  KLVUSDT  0.00206055   \n",
      "1  0.00205869  1727527500000  0.00205869  0.00205869  KLVUSDT  0.00205869   \n",
      "\n",
      "       value volume  \n",
      "0  2.4108435   1170  \n",
      "1   2.264559   1100  \n",
      "    symbol                time     price  pct_change  volume\n",
      "0  KLVUSDT 2024-09-28 12:44:00  0.002061         NaN  1170.0\n",
      "1  KLVUSDT 2024-09-28 12:45:00  0.002059   -0.000903  1100.0\n"
     ]
    },
    {
     "name": "stderr",
     "output_type": "stream",
     "text": [
      " 14%|███████████▍                                                                   | 170/1174 [01:55<09:51,  1.70it/s]"
     ]
    },
    {
     "name": "stdout",
     "output_type": "stream",
     "text": [
      "      close     created_at      high       low   market      open     value  \\\n",
      "0  0.011653  1727527440000  0.011653  0.011653  TLMUSDT  0.011653  1.375054   \n",
      "1  0.011661  1727527500000  0.011661  0.011661  TLMUSDT  0.011661  1.294371   \n",
      "\n",
      "  volume  \n",
      "0    118  \n",
      "1    111  \n",
      "    symbol                time     price  pct_change  volume\n",
      "0  TLMUSDT 2024-09-28 12:44:00  0.011653         NaN   118.0\n",
      "1  TLMUSDT 2024-09-28 12:45:00  0.011661    0.000686   111.0\n"
     ]
    },
    {
     "name": "stderr",
     "output_type": "stream",
     "text": [
      " 15%|███████████▌                                                                   | 171/1174 [01:55<09:36,  1.74it/s]"
     ]
    },
    {
     "name": "stdout",
     "output_type": "stream",
     "text": [
      "            close     created_at            high             low   market  \\\n",
      "0  0.000000243509  1727527440000  0.000000243509  0.000000243509  WHYUSDT   \n",
      "1  0.000000243655  1727527500000  0.000000243655  0.000000243655  WHYUSDT   \n",
      "\n",
      "             open       value   volume  \n",
      "0  0.000000243509  1.44887855  5950000  \n",
      "1  0.000000243655   1.3888335  5700000  \n",
      "    symbol                time         price  pct_change     volume\n",
      "0  WHYUSDT 2024-09-28 12:44:00  2.435090e-07         NaN  5950000.0\n",
      "1  WHYUSDT 2024-09-28 12:45:00  2.436550e-07    0.000599  5700000.0\n"
     ]
    },
    {
     "name": "stderr",
     "output_type": "stream",
     "text": [
      " 15%|███████████▌                                                                   | 172/1174 [01:56<09:33,  1.75it/s]"
     ]
    },
    {
     "name": "stdout",
     "output_type": "stream",
     "text": [
      "        close     created_at        high         low   market        open  \\\n",
      "0  0.00148542  1727527440000  0.00148542  0.00148542  XCNUSDT  0.00148542   \n",
      "1  0.00148631  1727527500000  0.00148631  0.00148631  XCNUSDT  0.00148631   \n",
      "\n",
      "       value volume  \n",
      "0  1.7676498   1190  \n",
      "1   1.634941   1100  \n",
      "    symbol                time     price  pct_change  volume\n",
      "0  XCNUSDT 2024-09-28 12:44:00  0.001485         NaN  1190.0\n",
      "1  XCNUSDT 2024-09-28 12:45:00  0.001486    0.000599  1100.0\n"
     ]
    },
    {
     "name": "stderr",
     "output_type": "stream",
     "text": [
      " 15%|███████████▋                                                                   | 173/1174 [01:56<09:33,  1.75it/s]"
     ]
    },
    {
     "name": "stdout",
     "output_type": "stream",
     "text": [
      "      close     created_at      high       low   market      open      value  \\\n",
      "0  0.096124  1727527440000  0.096124  0.096124  RIFUSDT  0.096124          0   \n",
      "1  0.096037  1727527500000  0.096037  0.096037  RIFUSDT  0.096037  5.7142015   \n",
      "\n",
      "  volume  \n",
      "0      0  \n",
      "1   59.5  \n",
      "    symbol                time     price  pct_change  volume\n",
      "0  RIFUSDT 2024-09-28 12:44:00  0.096124         NaN     0.0\n",
      "1  RIFUSDT 2024-09-28 12:45:00  0.096037   -0.000905    59.5\n"
     ]
    },
    {
     "name": "stderr",
     "output_type": "stream",
     "text": [
      " 15%|███████████▋                                                                   | 174/1174 [01:57<09:34,  1.74it/s]"
     ]
    },
    {
     "name": "stdout",
     "output_type": "stream",
     "text": [
      "      close     created_at      high       low     market      open  \\\n",
      "0  0.188779  1727527440000  0.188779  0.188779  ALEPHUSDT  0.188779   \n",
      "1  0.188703  1727527500000  0.188703  0.188703  ALEPHUSDT  0.188703   \n",
      "\n",
      "       value volume  \n",
      "0  2.1332027   11.3  \n",
      "1  2.2078251   11.7  \n",
      "      symbol                time     price  pct_change  volume\n",
      "0  ALEPHUSDT 2024-09-28 12:44:00  0.188779         NaN    11.3\n",
      "1  ALEPHUSDT 2024-09-28 12:45:00  0.188703   -0.000403    11.7\n"
     ]
    },
    {
     "name": "stderr",
     "output_type": "stream",
     "text": [
      " 15%|███████████▊                                                                   | 175/1174 [01:58<09:32,  1.74it/s]"
     ]
    },
    {
     "name": "stdout",
     "output_type": "stream",
     "text": [
      "      close     created_at      high       low    market      open      value  \\\n",
      "0     0.357  1727527440000     0.357     0.357  FIDAUSDT     0.357          0   \n",
      "1  0.356678  1727527500000  0.356678  0.356678  FIDAUSDT  0.356678  2.0865663   \n",
      "\n",
      "  volume  \n",
      "0      0  \n",
      "1   5.85  \n",
      "     symbol                time     price  pct_change  volume\n",
      "0  FIDAUSDT 2024-09-28 12:44:00  0.357000         NaN    0.00\n",
      "1  FIDAUSDT 2024-09-28 12:45:00  0.356678   -0.000902    5.85\n"
     ]
    },
    {
     "name": "stderr",
     "output_type": "stream",
     "text": [
      " 15%|███████████▊                                                                   | 176/1174 [01:58<09:29,  1.75it/s]"
     ]
    },
    {
     "name": "stdout",
     "output_type": "stream",
     "text": [
      "        close     created_at        high         low        market  \\\n",
      "0  0.00005476  1727527440000  0.00005476  0.00005476  SMURFCATUSDT   \n",
      "1  0.00005476  1727527500000  0.00005476  0.00005476  SMURFCATUSDT   \n",
      "\n",
      "         open    value volume  \n",
      "0  0.00005476  3.25822  59500  \n",
      "1  0.00005476  3.17608  58000  \n",
      "         symbol                time     price  pct_change   volume\n",
      "0  SMURFCATUSDT 2024-09-28 12:44:00  0.000055         NaN  59500.0\n",
      "1  SMURFCATUSDT 2024-09-28 12:45:00  0.000055         0.0  58000.0\n"
     ]
    },
    {
     "name": "stderr",
     "output_type": "stream",
     "text": [
      " 15%|███████████▉                                                                   | 177/1174 [01:59<09:32,  1.74it/s]"
     ]
    },
    {
     "name": "stdout",
     "output_type": "stream",
     "text": [
      "    close     created_at    high     low    market    open    value volume\n",
      "0  0.5284  1727527440000  0.5284  0.5284  HIFIUSDT  0.5284  2.95904    5.6\n",
      "1  0.5285  1727527500000  0.5285  0.5285  HIFIUSDT  0.5285  3.11815    5.9\n",
      "     symbol                time   price  pct_change  volume\n",
      "0  HIFIUSDT 2024-09-28 12:44:00  0.5284         NaN     5.6\n",
      "1  HIFIUSDT 2024-09-28 12:45:00  0.5285    0.000189     5.9\n"
     ]
    },
    {
     "name": "stderr",
     "output_type": "stream",
     "text": [
      " 15%|███████████▉                                                                   | 178/1174 [01:59<09:32,  1.74it/s]"
     ]
    },
    {
     "name": "stdout",
     "output_type": "stream",
     "text": [
      "      close     created_at      high       low   market      open  \\\n",
      "0  0.002791  1727527440000  0.002791  0.002791  SLPUSDT  0.002791   \n",
      "1  0.002791  1727527500000  0.002791  0.002791  SLPUSDT  0.002791   \n",
      "\n",
      "              value        volume  \n",
      "0  1.53675165503297  550.60969367  \n",
      "1                 0             0  \n",
      "    symbol                time     price  pct_change      volume\n",
      "0  SLPUSDT 2024-09-28 12:44:00  0.002791         NaN  550.609694\n",
      "1  SLPUSDT 2024-09-28 12:45:00  0.002791         0.0    0.000000\n"
     ]
    },
    {
     "name": "stderr",
     "output_type": "stream",
     "text": [
      " 15%|████████████                                                                   | 179/1174 [02:00<10:09,  1.63it/s]"
     ]
    },
    {
     "name": "stdout",
     "output_type": "stream",
     "text": [
      "      close     created_at      high       low       market      open   value  \\\n",
      "0  0.000106  1727527440000  0.000106  0.000106  TAXFARMUSDT  0.000106  1.1872   \n",
      "1  0.000107  1727527500000  0.000107  0.000107  TAXFARMUSDT  0.000107  1.2626   \n",
      "\n",
      "  volume  \n",
      "0  11200  \n",
      "1  11800  \n",
      "        symbol                time     price  pct_change   volume\n",
      "0  TAXFARMUSDT 2024-09-28 12:44:00  0.000106         NaN  11200.0\n",
      "1  TAXFARMUSDT 2024-09-28 12:45:00  0.000107     0.00939  11800.0\n"
     ]
    },
    {
     "name": "stderr",
     "output_type": "stream",
     "text": [
      " 15%|████████████                                                                   | 180/1174 [02:01<09:57,  1.66it/s]"
     ]
    },
    {
     "name": "stdout",
     "output_type": "stream",
     "text": [
      "            close     created_at            high             low     market  \\\n",
      "0  0.000000082846  1727527440000  0.000000082846  0.000000082846  BRISEUSDT   \n",
      "1  0.000000082862  1727527500000  0.000000082862  0.000000082862  BRISEUSDT   \n",
      "\n",
      "             open     value    volume  \n",
      "0  0.000000082846   4.55653  55000000  \n",
      "1  0.000000082862  4.640272  56000000  \n",
      "      symbol                time         price  pct_change      volume\n",
      "0  BRISEUSDT 2024-09-28 12:44:00  8.284600e-08         NaN  55000000.0\n",
      "1  BRISEUSDT 2024-09-28 12:45:00  8.286200e-08    0.000193  56000000.0\n"
     ]
    },
    {
     "name": "stderr",
     "output_type": "stream",
     "text": [
      " 15%|████████████▏                                                                  | 181/1174 [02:01<09:45,  1.70it/s]"
     ]
    },
    {
     "name": "stdout",
     "output_type": "stream",
     "text": [
      "        close     created_at        high         low   market        open  \\\n",
      "0  0.00134155  1727527440000  0.00134155  0.00134052  ZKFUSDT  0.00134052   \n",
      "1  0.00134155  1727527500000  0.00134155  0.00134155  ZKFUSDT  0.00134155   \n",
      "\n",
      "                 value          volume  \n",
      "0  36.0247415442716028  26853.97364148  \n",
      "1                    0               0  \n",
      "    symbol                time     price  pct_change        volume\n",
      "0  ZKFUSDT 2024-09-28 12:44:00  0.001342         NaN  26853.973641\n",
      "1  ZKFUSDT 2024-09-28 12:45:00  0.001342         0.0      0.000000\n"
     ]
    },
    {
     "name": "stderr",
     "output_type": "stream",
     "text": [
      " 16%|████████████▏                                                                  | 182/1174 [02:02<09:38,  1.72it/s]"
     ]
    },
    {
     "name": "stdout",
     "output_type": "stream",
     "text": [
      "   close     created_at   high    low       market   open            value  \\\n",
      "0  0.023  1727527440000  0.023  0.023  DOGEGOVUSDT  0.023  212.29437999166   \n",
      "1  0.023  1727527500000  0.023  0.023  DOGEGOVUSDT  0.023                0   \n",
      "\n",
      "          volume  \n",
      "0  9230.19043442  \n",
      "1              0  \n",
      "        symbol                time  price  pct_change       volume\n",
      "0  DOGEGOVUSDT 2024-09-28 12:44:00  0.023         NaN  9230.190434\n",
      "1  DOGEGOVUSDT 2024-09-28 12:45:00  0.023         0.0     0.000000\n"
     ]
    },
    {
     "name": "stderr",
     "output_type": "stream",
     "text": [
      " 16%|████████████▎                                                                  | 183/1174 [02:02<09:35,  1.72it/s]"
     ]
    },
    {
     "name": "stdout",
     "output_type": "stream",
     "text": [
      "     close     created_at     high      low   market     open       value  \\\n",
      "0  24.4883  1727527440000  24.4883  24.4883  MORUSDT  24.4883  1.38358895   \n",
      "1  24.5054  1727527500000  24.5054  24.5054  MORUSDT  24.5054   1.4090605   \n",
      "\n",
      "   volume  \n",
      "0  0.0565  \n",
      "1  0.0575  \n",
      "    symbol                time    price  pct_change  volume\n",
      "0  MORUSDT 2024-09-28 12:44:00  24.4883         NaN  0.0565\n",
      "1  MORUSDT 2024-09-28 12:45:00  24.5054    0.000698  0.0575\n"
     ]
    },
    {
     "name": "stderr",
     "output_type": "stream",
     "text": [
      " 16%|████████████▍                                                                  | 184/1174 [02:03<09:43,  1.70it/s]"
     ]
    },
    {
     "name": "stdout",
     "output_type": "stream",
     "text": [
      "      close     created_at      high       low    market      open    value  \\\n",
      "0  0.006946  1727527440000  0.006946  0.006946  STMXUSDT  0.006946  3.85503   \n",
      "1  0.006944  1727527500000  0.006944  0.006944  STMXUSDT  0.006944  3.88864   \n",
      "\n",
      "  volume  \n",
      "0    555  \n",
      "1    560  \n",
      "     symbol                time     price  pct_change  volume\n",
      "0  STMXUSDT 2024-09-28 12:44:00  0.006946         NaN   555.0\n",
      "1  STMXUSDT 2024-09-28 12:45:00  0.006944   -0.000288   560.0\n"
     ]
    },
    {
     "name": "stderr",
     "output_type": "stream",
     "text": [
      " 16%|████████████▍                                                                  | 185/1174 [02:03<09:44,  1.69it/s]"
     ]
    },
    {
     "name": "stdout",
     "output_type": "stream",
     "text": [
      "      close     created_at      high       low   market      open   value  \\\n",
      "0  0.000268  1727527440000  0.000268  0.000268  DJTUSDT  0.000268  1.5812   \n",
      "1  0.000267  1727527500000  0.000268  0.000267  DJTUSDT  0.000268  2.8358   \n",
      "\n",
      "  volume  \n",
      "0   5900  \n",
      "1  10600  \n",
      "    symbol                time     price  pct_change   volume\n",
      "0  DJTUSDT 2024-09-28 12:44:00  0.000268         NaN   5900.0\n",
      "1  DJTUSDT 2024-09-28 12:45:00  0.000267   -0.003738  10600.0\n"
     ]
    },
    {
     "name": "stderr",
     "output_type": "stream",
     "text": [
      " 16%|████████████▌                                                                  | 186/1174 [02:04<09:49,  1.68it/s]"
     ]
    },
    {
     "name": "stdout",
     "output_type": "stream",
     "text": [
      "    close     created_at    high     low   market    open     value volume\n",
      "0  0.5803  1727527440000  0.5803  0.5803  CTKUSDT  0.5803  3.336725   5.75\n",
      "1    0.58  1727527500000    0.58    0.58  CTKUSDT    0.58     3.277   5.65\n",
      "    symbol                time   price  pct_change  volume\n",
      "0  CTKUSDT 2024-09-28 12:44:00  0.5803         NaN    5.75\n",
      "1  CTKUSDT 2024-09-28 12:45:00  0.5800   -0.000517    5.65\n"
     ]
    },
    {
     "name": "stderr",
     "output_type": "stream",
     "text": [
      " 16%|████████████▌                                                                  | 187/1174 [02:05<09:35,  1.71it/s]"
     ]
    },
    {
     "name": "stdout",
     "output_type": "stream",
     "text": [
      "      close     created_at      high       low   market      open     value  \\\n",
      "0  0.018358  1727527440000  0.018358  0.018358  CKBUSDT  0.018358  2.129528   \n",
      "1  0.018358  1727527500000  0.018358  0.018358  CKBUSDT  0.018358   2.11117   \n",
      "\n",
      "  volume  \n",
      "0    116  \n",
      "1    115  \n",
      "    symbol                time     price  pct_change  volume\n",
      "0  CKBUSDT 2024-09-28 12:44:00  0.018358         NaN   116.0\n",
      "1  CKBUSDT 2024-09-28 12:45:00  0.018358         0.0   115.0\n"
     ]
    },
    {
     "name": "stderr",
     "output_type": "stream",
     "text": [
      " 16%|████████████▋                                                                  | 188/1174 [02:05<09:23,  1.75it/s]"
     ]
    },
    {
     "name": "stdout",
     "output_type": "stream",
     "text": [
      "    close     created_at    high     low   market    open           value  \\\n",
      "0  1.0521  1727527440000  1.0521  1.0521  ITAUSDT  1.0521  1.059816322341   \n",
      "1  1.0521  1727527500000  1.0521  1.0521  ITAUSDT  1.0521               0   \n",
      "\n",
      "       volume  \n",
      "0  1.00733421  \n",
      "1           0  \n",
      "    symbol                time   price  pct_change    volume\n",
      "0  ITAUSDT 2024-09-28 12:44:00  1.0521         NaN  1.007334\n",
      "1  ITAUSDT 2024-09-28 12:45:00  1.0521         0.0  0.000000\n"
     ]
    },
    {
     "name": "stderr",
     "output_type": "stream",
     "text": [
      " 16%|████████████▋                                                                  | 189/1174 [02:06<09:23,  1.75it/s]"
     ]
    },
    {
     "name": "stdout",
     "output_type": "stream",
     "text": [
      "    close     created_at    high     low    market    open      value volume\n",
      "0  4.3597  1727527440000  4.3597  4.3597  WINGUSDT  4.3597  2.4196335  0.555\n",
      "1  4.3583  1727527500000  4.3583  4.3583  WINGUSDT  4.3583   2.397065   0.55\n",
      "     symbol                time   price  pct_change  volume\n",
      "0  WINGUSDT 2024-09-28 12:44:00  4.3597         NaN   0.555\n",
      "1  WINGUSDT 2024-09-28 12:45:00  4.3583   -0.000321   0.550\n"
     ]
    },
    {
     "name": "stderr",
     "output_type": "stream",
     "text": [
      " 16%|████████████▊                                                                  | 190/1174 [02:06<09:18,  1.76it/s]"
     ]
    },
    {
     "name": "stdout",
     "output_type": "stream",
     "text": [
      "      close     created_at      high       low   market      open     value  \\\n",
      "0  0.006999  1727527440000  0.006999  0.006999  SGBUSDT  0.006999  4.164405   \n",
      "1  0.007004  1727527500000  0.007004  0.007004  SGBUSDT  0.007004   4.13236   \n",
      "\n",
      "  volume  \n",
      "0    595  \n",
      "1    590  \n",
      "    symbol                time     price  pct_change  volume\n",
      "0  SGBUSDT 2024-09-28 12:44:00  0.006999         NaN   595.0\n",
      "1  SGBUSDT 2024-09-28 12:45:00  0.007004    0.000714   590.0\n"
     ]
    },
    {
     "name": "stderr",
     "output_type": "stream",
     "text": [
      " 16%|████████████▊                                                                  | 191/1174 [02:07<09:20,  1.75it/s]"
     ]
    },
    {
     "name": "stdout",
     "output_type": "stream",
     "text": [
      "        close     created_at        high         low     market        open  \\\n",
      "0  0.00005594  1727527440000  0.00005594  0.00005594  KENDUUSDT  0.00005594   \n",
      "1  0.00005592  1727527500000  0.00005592  0.00005592  KENDUUSDT  0.00005592   \n",
      "\n",
      "     value volume  \n",
      "0  3.16061  56500  \n",
      "1  3.10356  55500  \n",
      "      symbol                time     price  pct_change   volume\n",
      "0  KENDUUSDT 2024-09-28 12:44:00  0.000056         NaN  56500.0\n",
      "1  KENDUUSDT 2024-09-28 12:45:00  0.000056   -0.000358  55500.0\n"
     ]
    },
    {
     "name": "stderr",
     "output_type": "stream",
     "text": [
      " 16%|████████████▉                                                                  | 192/1174 [02:07<09:19,  1.75it/s]"
     ]
    },
    {
     "name": "stdout",
     "output_type": "stream",
     "text": [
      "          close     created_at          high           low    market  \\\n",
      "0  0.0000023812  1727527440000  0.0000023812  0.0000023812  LIGOUSDT   \n",
      "1  0.0000023807  1727527500000  0.0000023807  0.0000023807  LIGOUSDT   \n",
      "\n",
      "           open     value  volume  \n",
      "0  0.0000023812  1.404908  590000  \n",
      "1  0.0000023807  1.380806  580000  \n",
      "     symbol                time     price  pct_change    volume\n",
      "0  LIGOUSDT 2024-09-28 12:44:00  0.000002         NaN  590000.0\n",
      "1  LIGOUSDT 2024-09-28 12:45:00  0.000002    -0.00021  580000.0\n"
     ]
    },
    {
     "name": "stderr",
     "output_type": "stream",
     "text": [
      " 16%|████████████▉                                                                  | 193/1174 [02:08<09:12,  1.78it/s]"
     ]
    },
    {
     "name": "stdout",
     "output_type": "stream",
     "text": [
      "      close     created_at      high       low   market      open     value  \\\n",
      "0  0.018058  1727527440000  0.018058  0.018058  DFIUSDT  0.018058  1.047364   \n",
      "1  0.018067  1727527500000  0.018067  0.018067  DFIUSDT  0.018067  0.993685   \n",
      "\n",
      "  volume  \n",
      "0     58  \n",
      "1     55  \n",
      "    symbol                time     price  pct_change  volume\n",
      "0  DFIUSDT 2024-09-28 12:44:00  0.018058         NaN    58.0\n",
      "1  DFIUSDT 2024-09-28 12:45:00  0.018067    0.000498    55.0\n"
     ]
    },
    {
     "name": "stderr",
     "output_type": "stream",
     "text": [
      " 17%|█████████████                                                                  | 194/1174 [02:09<09:09,  1.78it/s]"
     ]
    },
    {
     "name": "stdout",
     "output_type": "stream",
     "text": [
      "    close     created_at    high     low    market    open     value volume\n",
      "0  2.3848  1727527440000  2.3848  2.3848  SAGAUSDT  2.3848   1.31164   0.55\n",
      "1  2.3826  1727527500000  2.3826  2.3826  SAGAUSDT  2.3826  1.393821  0.585\n",
      "     symbol                time   price  pct_change  volume\n",
      "0  SAGAUSDT 2024-09-28 12:44:00  2.3848         NaN   0.550\n",
      "1  SAGAUSDT 2024-09-28 12:45:00  2.3826   -0.000923   0.585\n"
     ]
    },
    {
     "name": "stderr",
     "output_type": "stream",
     "text": [
      " 17%|█████████████                                                                  | 195/1174 [02:09<09:11,  1.77it/s]"
     ]
    },
    {
     "name": "stdout",
     "output_type": "stream",
     "text": [
      "    close     created_at    high     low   market    open     value volume\n",
      "0  0.5065  1727527440000  0.5065  0.5065  SYNUSDT  0.5065  2.963025   5.85\n",
      "1  0.5069  1727527500000  0.5069  0.5069  SYNUSDT  0.5069  3.016055   5.95\n",
      "    symbol                time   price  pct_change  volume\n",
      "0  SYNUSDT 2024-09-28 12:44:00  0.5065         NaN    5.85\n",
      "1  SYNUSDT 2024-09-28 12:45:00  0.5069    0.000789    5.95\n"
     ]
    },
    {
     "name": "stderr",
     "output_type": "stream",
     "text": [
      " 17%|█████████████▏                                                                 | 196/1174 [02:10<09:07,  1.78it/s]"
     ]
    },
    {
     "name": "stdout",
     "output_type": "stream",
     "text": [
      "        close     created_at        high         low  market        open  \\\n",
      "0  0.00363557  1727527440000  0.00363557  0.00363557  TTUSDT  0.00363557   \n",
      "1  0.00363411  1727527500000  0.00363411  0.00363411  TTUSDT  0.00363411   \n",
      "\n",
      "       value volume  \n",
      "0  2.0359192    560  \n",
      "1  2.1077838    580  \n",
      "   symbol                time     price  pct_change  volume\n",
      "0  TTUSDT 2024-09-28 12:44:00  0.003636         NaN   560.0\n",
      "1  TTUSDT 2024-09-28 12:45:00  0.003634   -0.000402   580.0\n"
     ]
    },
    {
     "name": "stderr",
     "output_type": "stream",
     "text": [
      " 17%|█████████████▎                                                                 | 197/1174 [02:10<09:14,  1.76it/s]"
     ]
    },
    {
     "name": "stdout",
     "output_type": "stream",
     "text": [
      "    close     created_at    high     low    market    open     value volume\n",
      "0  5.5224  1727527440000  5.5224  5.5224  FOLDUSDT  5.5224  3.258216   0.59\n",
      "1  5.5224  1727527500000  5.5224  5.5224  FOLDUSDT  5.5224   3.03732   0.55\n",
      "     symbol                time   price  pct_change  volume\n",
      "0  FOLDUSDT 2024-09-28 12:44:00  5.5224         NaN    0.59\n",
      "1  FOLDUSDT 2024-09-28 12:45:00  5.5224         0.0    0.55\n"
     ]
    },
    {
     "name": "stderr",
     "output_type": "stream",
     "text": [
      " 17%|█████████████▎                                                                 | 198/1174 [02:11<09:27,  1.72it/s]"
     ]
    },
    {
     "name": "stdout",
     "output_type": "stream",
     "text": [
      "        close     created_at        high         low    market        open  \\\n",
      "0  0.00057497  1727527440000  0.00057497  0.00057497  JPEGUSDT  0.00057497   \n",
      "1  0.00057502  1727527500000  0.00057502  0.00057502  JPEGUSDT  0.00057502   \n",
      "\n",
      "       value volume  \n",
      "0  3.3060775   5750  \n",
      "1   3.392618   5900  \n",
      "     symbol                time     price  pct_change  volume\n",
      "0  JPEGUSDT 2024-09-28 12:44:00  0.000575         NaN  5750.0\n",
      "1  JPEGUSDT 2024-09-28 12:45:00  0.000575    0.000087  5900.0\n"
     ]
    },
    {
     "name": "stderr",
     "output_type": "stream",
     "text": [
      " 17%|█████████████▍                                                                 | 199/1174 [02:11<09:26,  1.72it/s]"
     ]
    },
    {
     "name": "stdout",
     "output_type": "stream",
     "text": [
      "    close     created_at    high     low   market    open     value volume\n",
      "0  1.1711  1727527440000  1.1711  1.1711  RADUSDT  1.1711  1.381898   1.18\n",
      "1  1.1703  1727527500000  1.1703  1.1703  RADUSDT  1.1703  1.345845   1.15\n",
      "    symbol                time   price  pct_change  volume\n",
      "0  RADUSDT 2024-09-28 12:44:00  1.1711         NaN    1.18\n",
      "1  RADUSDT 2024-09-28 12:45:00  1.1703   -0.000683    1.15\n"
     ]
    },
    {
     "name": "stderr",
     "output_type": "stream",
     "text": [
      " 17%|█████████████▍                                                                 | 200/1174 [02:12<09:20,  1.74it/s]"
     ]
    },
    {
     "name": "stdout",
     "output_type": "stream",
     "text": [
      "      close     created_at      high       low     market      open  \\\n",
      "0  0.037012  1727527440000  0.037012  0.036645  ENQAIUSDT  0.036645   \n",
      "1  0.036989  1727527500000  0.036989  0.036989  ENQAIUSDT  0.036989   \n",
      "\n",
      "               value         volume  \n",
      "0  71.54807452567883  1943.42150869  \n",
      "1           2.108373             57  \n",
      "      symbol                time     price  pct_change       volume\n",
      "0  ENQAIUSDT 2024-09-28 12:44:00  0.037012         NaN  1943.421509\n",
      "1  ENQAIUSDT 2024-09-28 12:45:00  0.036989   -0.000622    57.000000\n"
     ]
    },
    {
     "name": "stderr",
     "output_type": "stream",
     "text": [
      " 17%|█████████████▌                                                                 | 201/1174 [02:13<09:18,  1.74it/s]"
     ]
    },
    {
     "name": "stdout",
     "output_type": "stream",
     "text": [
      "   close     created_at   high    low      market   open   value volume\n",
      "0  0.468  1727527440000  0.468  0.468  BURGERUSDT  0.468  2.7846   5.95\n",
      "1  0.468  1727527500000  0.468  0.468  BURGERUSDT  0.468  2.7144    5.8\n",
      "       symbol                time  price  pct_change  volume\n",
      "0  BURGERUSDT 2024-09-28 12:44:00  0.468         NaN    5.95\n",
      "1  BURGERUSDT 2024-09-28 12:45:00  0.468         0.0    5.80\n"
     ]
    },
    {
     "name": "stderr",
     "output_type": "stream",
     "text": [
      " 17%|█████████████▌                                                                 | 202/1174 [02:13<09:16,  1.75it/s]"
     ]
    },
    {
     "name": "stdout",
     "output_type": "stream",
     "text": [
      "    close     created_at    high     low   market    open           value  \\\n",
      "0  0.8127  1727527440000  0.8127  0.8127  APEUSDT  0.8127  4.341371687352   \n",
      "1  0.8137  1727527500000  0.8137  0.8137  APEUSDT  0.8137   4.84251088743   \n",
      "\n",
      "       volume  \n",
      "0  5.34191176  \n",
      "1   5.9512239  \n",
      "    symbol                time   price  pct_change    volume\n",
      "0  APEUSDT 2024-09-28 12:44:00  0.8127         NaN  5.341912\n",
      "1  APEUSDT 2024-09-28 12:45:00  0.8137     0.00123  5.951224\n"
     ]
    },
    {
     "name": "stderr",
     "output_type": "stream",
     "text": [
      " 17%|█████████████▋                                                                 | 203/1174 [02:14<09:14,  1.75it/s]"
     ]
    },
    {
     "name": "stdout",
     "output_type": "stream",
     "text": [
      "    close     created_at    high     low    market    open    value volume\n",
      "0  0.4692  1727527440000  0.4692  0.4692  NTRNUSDT  0.4692   2.5806    5.5\n",
      "1  0.4692  1727527500000  0.4692  0.4692  NTRNUSDT  0.4692  2.79174   5.95\n",
      "     symbol                time   price  pct_change  volume\n",
      "0  NTRNUSDT 2024-09-28 12:44:00  0.4692         NaN    5.50\n",
      "1  NTRNUSDT 2024-09-28 12:45:00  0.4692         0.0    5.95\n"
     ]
    },
    {
     "name": "stderr",
     "output_type": "stream",
     "text": [
      " 17%|█████████████▋                                                                 | 204/1174 [02:14<09:19,  1.73it/s]"
     ]
    },
    {
     "name": "stdout",
     "output_type": "stream",
     "text": [
      "      close     created_at      high       low    market      open     value  \\\n",
      "0  0.010063  1727527440000  0.010063  0.010063  MAPOUSDT  0.010063  1.177371   \n",
      "1  0.010063  1727527500000  0.010063  0.010063  MAPOUSDT  0.010063  1.127056   \n",
      "\n",
      "  volume  \n",
      "0    117  \n",
      "1    112  \n",
      "     symbol                time     price  pct_change  volume\n",
      "0  MAPOUSDT 2024-09-28 12:44:00  0.010063         NaN   117.0\n",
      "1  MAPOUSDT 2024-09-28 12:45:00  0.010063         0.0   112.0\n"
     ]
    },
    {
     "name": "stderr",
     "output_type": "stream",
     "text": [
      " 17%|█████████████▊                                                                 | 205/1174 [02:15<09:14,  1.75it/s]"
     ]
    },
    {
     "name": "stdout",
     "output_type": "stream",
     "text": [
      "      close     created_at      high       low   market      open      value  \\\n",
      "0  0.191046  1727527440000  0.191046  0.191046  BATUSDT  0.191046  2.2352382   \n",
      "1  0.190893  1727527500000  0.190893  0.190893  BATUSDT  0.190893  2.1189123   \n",
      "\n",
      "  volume  \n",
      "0   11.7  \n",
      "1   11.1  \n",
      "    symbol                time     price  pct_change  volume\n",
      "0  BATUSDT 2024-09-28 12:44:00  0.191046         NaN    11.7\n",
      "1  BATUSDT 2024-09-28 12:45:00  0.190893   -0.000801    11.1\n"
     ]
    },
    {
     "name": "stderr",
     "output_type": "stream",
     "text": [
      " 18%|█████████████▊                                                                 | 206/1174 [02:15<09:14,  1.75it/s]"
     ]
    },
    {
     "name": "stdout",
     "output_type": "stream",
     "text": [
      "    close     created_at    high     low   market    open           value  \\\n",
      "0  0.2399  1727527440000  0.2399  0.2399  MAVUSDT  0.2399  1.337657575148   \n",
      "1  0.2404  1727527500000  0.2404  0.2404  MAVUSDT  0.2404  1.352113952832   \n",
      "\n",
      "       volume  \n",
      "0  5.57589652  \n",
      "1  5.62443408  \n",
      "    symbol                time   price  pct_change    volume\n",
      "0  MAVUSDT 2024-09-28 12:44:00  0.2399         NaN  5.575897\n",
      "1  MAVUSDT 2024-09-28 12:45:00  0.2404    0.002082  5.624434\n"
     ]
    },
    {
     "name": "stderr",
     "output_type": "stream",
     "text": [
      " 18%|█████████████▉                                                                 | 207/1174 [02:16<09:10,  1.76it/s]"
     ]
    },
    {
     "name": "stdout",
     "output_type": "stream",
     "text": [
      "      close     created_at      high       low     market      open     value  \\\n",
      "0    0.0732  1727527440000    0.0732    0.0732  BRICKUSDT    0.0732     4.209   \n",
      "1  0.073148  1727527500000  0.073148  0.073148  BRICKUSDT  0.073148  4.096288   \n",
      "\n",
      "  volume  \n",
      "0   57.5  \n",
      "1     56  \n",
      "      symbol                time     price  pct_change  volume\n",
      "0  BRICKUSDT 2024-09-28 12:44:00  0.073200         NaN    57.5\n",
      "1  BRICKUSDT 2024-09-28 12:45:00  0.073148   -0.000711    56.0\n"
     ]
    },
    {
     "name": "stderr",
     "output_type": "stream",
     "text": [
      " 18%|█████████████▉                                                                 | 208/1174 [02:17<09:07,  1.76it/s]"
     ]
    },
    {
     "name": "stdout",
     "output_type": "stream",
     "text": [
      "      close     created_at      high       low   market      open  \\\n",
      "0  0.124313  1727527440000  0.124327  0.124313  CVCUSDT  0.124327   \n",
      "1  0.124304  1727527500000  0.124304  0.124304  CVCUSDT  0.124304   \n",
      "\n",
      "              value       volume  \n",
      "0  2.73194823574939  21.97515831  \n",
      "1  1.36073241816176  10.94681119  \n",
      "    symbol                time     price  pct_change     volume\n",
      "0  CVCUSDT 2024-09-28 12:44:00  0.124313         NaN  21.975158\n",
      "1  CVCUSDT 2024-09-28 12:45:00  0.124304   -0.000072  10.946811\n"
     ]
    },
    {
     "name": "stderr",
     "output_type": "stream",
     "text": [
      " 18%|██████████████                                                                 | 209/1174 [02:17<09:26,  1.70it/s]"
     ]
    },
    {
     "name": "stdout",
     "output_type": "stream",
     "text": [
      "        close     created_at        high         low    market        open  \\\n",
      "0    0.000021  1727527440000    0.000021    0.000021  BEERUSDT    0.000021   \n",
      "1  0.00002094  1727527500000  0.00002094  0.00002094  BEERUSDT  0.00002094   \n",
      "\n",
      "                value           volume  \n",
      "0    4.53428030841219  215918.10992439  \n",
      "1  2.2114821807896742  105610.41933093  \n",
      "     symbol                time     price  pct_change         volume\n",
      "0  BEERUSDT 2024-09-28 12:44:00  0.000021         NaN  215918.109924\n",
      "1  BEERUSDT 2024-09-28 12:45:00  0.000021   -0.002861  105610.419331\n"
     ]
    },
    {
     "name": "stderr",
     "output_type": "stream",
     "text": [
      " 18%|██████████████▏                                                                | 210/1174 [02:18<09:27,  1.70it/s]"
     ]
    },
    {
     "name": "stdout",
     "output_type": "stream",
     "text": [
      "      close     created_at      high       low  market      open     value  \\\n",
      "0  0.006189  1727527440000  0.006189  0.006189  IQUSDT  0.006189  3.434895   \n",
      "1  0.006192  1727527500000  0.006192  0.006192  IQUSDT  0.006192    3.4056   \n",
      "\n",
      "  volume  \n",
      "0    555  \n",
      "1    550  \n",
      "   symbol                time     price  pct_change  volume\n",
      "0  IQUSDT 2024-09-28 12:44:00  0.006189         NaN   555.0\n",
      "1  IQUSDT 2024-09-28 12:45:00  0.006192    0.000485   550.0\n"
     ]
    },
    {
     "name": "stderr",
     "output_type": "stream",
     "text": [
      " 18%|██████████████▏                                                                | 211/1174 [02:19<10:46,  1.49it/s]"
     ]
    },
    {
     "name": "stdout",
     "output_type": "stream",
     "text": [
      "    close     created_at    high     low   market    open           value  \\\n",
      "0  5.0214  1727527440000  5.0214  5.0214  ZROUSDT  5.0214   5.37452016327   \n",
      "1  5.0217  1727527500000  5.0217  5.0217  ZROUSDT  5.0217  2.682473778531   \n",
      "\n",
      "       volume  \n",
      "0  1.07032305  \n",
      "1  0.53417643  \n",
      "    symbol                time   price  pct_change    volume\n",
      "0  ZROUSDT 2024-09-28 12:44:00  5.0214         NaN  1.070323\n",
      "1  ZROUSDT 2024-09-28 12:45:00  5.0217     0.00006  0.534176\n"
     ]
    },
    {
     "name": "stderr",
     "output_type": "stream",
     "text": [
      " 18%|██████████████▎                                                                | 212/1174 [02:19<10:26,  1.54it/s]"
     ]
    },
    {
     "name": "stdout",
     "output_type": "stream",
     "text": [
      "    close     created_at    high     low    market    open     value volume\n",
      "0  1.1245  1727527440000  1.1245  1.1245  COREUSDT  1.1245   1.32691   1.18\n",
      "1  1.1247  1727527500000  1.1247  1.1247  COREUSDT  1.1247  1.248417   1.11\n",
      "     symbol                time   price  pct_change  volume\n",
      "0  COREUSDT 2024-09-28 12:44:00  1.1245         NaN    1.18\n",
      "1  COREUSDT 2024-09-28 12:45:00  1.1247    0.000178    1.11\n"
     ]
    },
    {
     "name": "stderr",
     "output_type": "stream",
     "text": [
      " 18%|██████████████▎                                                                | 213/1174 [02:20<10:07,  1.58it/s]"
     ]
    },
    {
     "name": "stdout",
     "output_type": "stream",
     "text": [
      "      close     created_at      high       low     market      open  \\\n",
      "0  0.130112  1727527440000  0.130112  0.130112  CETUSUSDT  0.130112   \n",
      "1  0.130125  1727527500000  0.130125  0.130125  CETUSUSDT  0.130125   \n",
      "\n",
      "       value volume  \n",
      "0  1.5092992   11.6  \n",
      "1   1.431375     11  \n",
      "      symbol                time     price  pct_change  volume\n",
      "0  CETUSUSDT 2024-09-28 12:44:00  0.130112         NaN    11.6\n",
      "1  CETUSUSDT 2024-09-28 12:45:00  0.130125      0.0001    11.0\n"
     ]
    },
    {
     "name": "stderr",
     "output_type": "stream",
     "text": [
      " 18%|██████████████▍                                                                | 214/1174 [02:20<09:55,  1.61it/s]"
     ]
    },
    {
     "name": "stdout",
     "output_type": "stream",
     "text": [
      "    close     created_at    high     low  market    open     value volume\n",
      "0  1.8668  1727527440000  1.8668  1.8668  OPUSDT  1.8668  2.128152   1.14\n",
      "1  1.8671  1727527500000  1.8671  1.8671  OPUSDT  1.8671  2.203178   1.18\n",
      "   symbol                time   price  pct_change  volume\n",
      "0  OPUSDT 2024-09-28 12:44:00  1.8668         NaN    1.14\n",
      "1  OPUSDT 2024-09-28 12:45:00  1.8671    0.000161    1.18\n"
     ]
    },
    {
     "name": "stderr",
     "output_type": "stream",
     "text": [
      " 18%|██████████████▍                                                                | 215/1174 [02:21<09:33,  1.67it/s]"
     ]
    },
    {
     "name": "stdout",
     "output_type": "stream",
     "text": [
      "      close     created_at      high       low   market      open      value  \\\n",
      "0  0.155523  1727527440000  0.155523  0.155523  GELUSDT  0.155523  1.8351714   \n",
      "1  0.155445  1727527500000  0.155445  0.155445  GELUSDT  0.155445   1.772073   \n",
      "\n",
      "  volume  \n",
      "0   11.8  \n",
      "1   11.4  \n",
      "    symbol                time     price  pct_change  volume\n",
      "0  GELUSDT 2024-09-28 12:44:00  0.155523         NaN    11.8\n",
      "1  GELUSDT 2024-09-28 12:45:00  0.155445   -0.000502    11.4\n"
     ]
    },
    {
     "name": "stderr",
     "output_type": "stream",
     "text": [
      " 18%|██████████████▌                                                                | 216/1174 [02:22<09:24,  1.70it/s]"
     ]
    },
    {
     "name": "stdout",
     "output_type": "stream",
     "text": [
      "      close     created_at      high       low     market      open     value  \\\n",
      "0  0.050148  1727527440000  0.050148  0.050148  LORDSUSDT  0.050148  2.783214   \n",
      "1  0.050142  1727527500000  0.050142  0.050142  LORDSUSDT  0.050142  2.983449   \n",
      "\n",
      "  volume  \n",
      "0   55.5  \n",
      "1   59.5  \n",
      "      symbol                time     price  pct_change  volume\n",
      "0  LORDSUSDT 2024-09-28 12:44:00  0.050148         NaN    55.5\n",
      "1  LORDSUSDT 2024-09-28 12:45:00  0.050142    -0.00012    59.5\n"
     ]
    },
    {
     "name": "stderr",
     "output_type": "stream",
     "text": [
      " 18%|██████████████▌                                                                | 217/1174 [02:22<09:22,  1.70it/s]"
     ]
    },
    {
     "name": "stdout",
     "output_type": "stream",
     "text": [
      "      close     created_at      high       low   market      open      value  \\\n",
      "0   0.04071  1727527440000   0.04071   0.04071  GOGUSDT   0.04071   2.300115   \n",
      "1  0.040673  1727527500000  0.040673  0.040673  GOGUSDT  0.040673  2.3793705   \n",
      "\n",
      "  volume  \n",
      "0   56.5  \n",
      "1   58.5  \n",
      "    symbol                time     price  pct_change  volume\n",
      "0  GOGUSDT 2024-09-28 12:44:00  0.040710         NaN    56.5\n",
      "1  GOGUSDT 2024-09-28 12:45:00  0.040673   -0.000909    58.5\n"
     ]
    },
    {
     "name": "stderr",
     "output_type": "stream",
     "text": [
      " 19%|██████████████▋                                                                | 218/1174 [02:23<09:19,  1.71it/s]"
     ]
    },
    {
     "name": "stdout",
     "output_type": "stream",
     "text": [
      "    close     created_at    high     low    market    open      value volume\n",
      "0  5.3443  1727527500000  5.3443  5.3443  RUNEUSDT  5.3443  2.9660865  0.555\n",
      "1  5.3443  1727527560000  5.3443  5.3443  RUNEUSDT  5.3443          0      0\n",
      "     symbol                time   price  pct_change  volume\n",
      "0  RUNEUSDT 2024-09-28 12:45:00  5.3443         NaN   0.555\n",
      "1  RUNEUSDT 2024-09-28 12:46:00  5.3443         0.0   0.000\n"
     ]
    },
    {
     "name": "stderr",
     "output_type": "stream",
     "text": [
      " 19%|██████████████▋                                                                | 219/1174 [02:23<09:12,  1.73it/s]"
     ]
    },
    {
     "name": "stdout",
     "output_type": "stream",
     "text": [
      "        close     created_at        high         low   market        open  \\\n",
      "0  0.00001865  1727527500000  0.00001865  0.00001865  EPXUSDT  0.00001865   \n",
      "1  0.00001865  1727527560000  0.00001865  0.00001865  EPXUSDT  0.00001865   \n",
      "\n",
      "     value  volume  \n",
      "0  2.07015  111000  \n",
      "1        0       0  \n",
      "    symbol                time     price  pct_change    volume\n",
      "0  EPXUSDT 2024-09-28 12:45:00  0.000019         NaN  111000.0\n",
      "1  EPXUSDT 2024-09-28 12:46:00  0.000019         0.0       0.0\n"
     ]
    },
    {
     "name": "stderr",
     "output_type": "stream",
     "text": [
      " 19%|██████████████▊                                                                | 220/1174 [02:24<09:03,  1.76it/s]"
     ]
    },
    {
     "name": "stdout",
     "output_type": "stream",
     "text": [
      "      close     created_at      high       low     market      open  \\\n",
      "0  0.022179  1727527500000  0.022179  0.022179  ANGLEUSDT  0.022179   \n",
      "1  0.022179  1727527560000  0.022179  0.022179  ANGLEUSDT  0.022179   \n",
      "\n",
      "       value volume  \n",
      "0  1.3196505   59.5  \n",
      "1          0      0  \n",
      "      symbol                time     price  pct_change  volume\n",
      "0  ANGLEUSDT 2024-09-28 12:45:00  0.022179         NaN    59.5\n",
      "1  ANGLEUSDT 2024-09-28 12:46:00  0.022179         0.0     0.0\n"
     ]
    },
    {
     "name": "stderr",
     "output_type": "stream",
     "text": [
      " 19%|██████████████▊                                                                | 221/1174 [02:24<09:04,  1.75it/s]"
     ]
    },
    {
     "name": "stdout",
     "output_type": "stream",
     "text": [
      "        close     created_at        high         low    market        open  \\\n",
      "0  0.00016517  1727527500000  0.00016517  0.00016517  AARTUSDT  0.00016517   \n",
      "1  0.00016517  1727527560000  0.00016517  0.00016517  AARTUSDT  0.00016517   \n",
      "\n",
      "      value volume  \n",
      "0  1.965523  11900  \n",
      "1         0      0  \n",
      "     symbol                time     price  pct_change   volume\n",
      "0  AARTUSDT 2024-09-28 12:45:00  0.000165         NaN  11900.0\n",
      "1  AARTUSDT 2024-09-28 12:46:00  0.000165         0.0      0.0\n"
     ]
    },
    {
     "name": "stderr",
     "output_type": "stream",
     "text": [
      " 19%|██████████████▉                                                                | 222/1174 [02:25<09:02,  1.75it/s]"
     ]
    },
    {
     "name": "stdout",
     "output_type": "stream",
     "text": [
      "     close     created_at     high      low   market     open         value  \\\n",
      "0  26.2156  1727527500000  26.2171  26.2156  GMXUSDT  26.2171  3.1000692379   \n",
      "1  26.2156  1727527560000  26.2156  26.2156  GMXUSDT  26.2156             0   \n",
      "\n",
      "       volume  \n",
      "0  0.11824945  \n",
      "1           0  \n",
      "    symbol                time    price  pct_change    volume\n",
      "0  GMXUSDT 2024-09-28 12:45:00  26.2156         NaN  0.118249\n",
      "1  GMXUSDT 2024-09-28 12:46:00  26.2156         0.0  0.000000\n"
     ]
    },
    {
     "name": "stderr",
     "output_type": "stream",
     "text": [
      " 19%|███████████████                                                                | 223/1174 [02:25<08:56,  1.77it/s]"
     ]
    },
    {
     "name": "stdout",
     "output_type": "stream",
     "text": [
      "      close     created_at      high       low   market      open     value  \\\n",
      "0  0.019498  1727527500000  0.019498  0.019498  ESEUSDT  0.019498  2.222772   \n",
      "1  0.019498  1727527560000  0.019498  0.019498  ESEUSDT  0.019498         0   \n",
      "\n",
      "  volume  \n",
      "0    114  \n",
      "1      0  \n",
      "    symbol                time     price  pct_change  volume\n",
      "0  ESEUSDT 2024-09-28 12:45:00  0.019498         NaN   114.0\n",
      "1  ESEUSDT 2024-09-28 12:46:00  0.019498         0.0     0.0\n"
     ]
    },
    {
     "name": "stderr",
     "output_type": "stream",
     "text": [
      " 19%|███████████████                                                                | 224/1174 [02:26<08:55,  1.77it/s]"
     ]
    },
    {
     "name": "stdout",
     "output_type": "stream",
     "text": [
      "      close     created_at      high       low   market      open  \\\n",
      "0  0.267502  1727527500000  0.267502  0.267502  SXPUSDT  0.267502   \n",
      "1  0.267502  1727527560000  0.267502  0.267502  SXPUSDT  0.267502   \n",
      "\n",
      "              value      volume  \n",
      "0  1.49227832986274  5.57856887  \n",
      "1                 0           0  \n",
      "    symbol                time     price  pct_change    volume\n",
      "0  SXPUSDT 2024-09-28 12:45:00  0.267502         NaN  5.578569\n",
      "1  SXPUSDT 2024-09-28 12:46:00  0.267502         0.0  0.000000\n"
     ]
    },
    {
     "name": "stderr",
     "output_type": "stream",
     "text": [
      " 19%|███████████████▏                                                               | 225/1174 [02:27<08:57,  1.76it/s]"
     ]
    },
    {
     "name": "stdout",
     "output_type": "stream",
     "text": [
      "    close     created_at    high     low    market    open     value volume\n",
      "0  0.4593  1727527500000  0.4593  0.4593  ARTYUSDT  0.4593  2.595045   5.65\n",
      "1  0.4593  1727527560000  0.4593  0.4593  ARTYUSDT  0.4593         0      0\n",
      "     symbol                time   price  pct_change  volume\n",
      "0  ARTYUSDT 2024-09-28 12:45:00  0.4593         NaN    5.65\n",
      "1  ARTYUSDT 2024-09-28 12:46:00  0.4593         0.0    0.00\n"
     ]
    },
    {
     "name": "stderr",
     "output_type": "stream",
     "text": [
      " 19%|███████████████▏                                                               | 226/1174 [02:27<09:16,  1.70it/s]"
     ]
    },
    {
     "name": "stdout",
     "output_type": "stream",
     "text": [
      "      close     created_at      high       low      market      open    value  \\\n",
      "0  0.006596  1727527500000  0.006596  0.006596  MANEKIUSDT  0.006596  3.75972   \n",
      "1  0.006596  1727527560000  0.006596  0.006596  MANEKIUSDT  0.006596        0   \n",
      "\n",
      "  volume  \n",
      "0    570  \n",
      "1      0  \n",
      "       symbol                time     price  pct_change  volume\n",
      "0  MANEKIUSDT 2024-09-28 12:45:00  0.006596         NaN   570.0\n",
      "1  MANEKIUSDT 2024-09-28 12:46:00  0.006596         0.0     0.0\n"
     ]
    },
    {
     "name": "stderr",
     "output_type": "stream",
     "text": [
      " 19%|███████████████▎                                                               | 227/1174 [02:28<09:10,  1.72it/s]"
     ]
    },
    {
     "name": "stdout",
     "output_type": "stream",
     "text": [
      "      close     created_at      high       low    market      open  \\\n",
      "0  0.018656  1727527500000  0.018656  0.018656  ULTIUSDT  0.018656   \n",
      "1  0.018656  1727527560000  0.018656  0.018656  ULTIUSDT  0.018656   \n",
      "\n",
      "              value       volume  \n",
      "0  0.95190338188704  51.02398059  \n",
      "1                 0            0  \n",
      "     symbol                time     price  pct_change     volume\n",
      "0  ULTIUSDT 2024-09-28 12:45:00  0.018656         NaN  51.023981\n",
      "1  ULTIUSDT 2024-09-28 12:46:00  0.018656         0.0   0.000000\n"
     ]
    },
    {
     "name": "stderr",
     "output_type": "stream",
     "text": [
      " 19%|███████████████▎                                                               | 228/1174 [02:28<09:00,  1.75it/s]"
     ]
    },
    {
     "name": "stdout",
     "output_type": "stream",
     "text": [
      "     close     created_at     high      low   market     open          value  \\\n",
      "0  20.0794  1727527500000  20.0794  20.0794  ENSUSDT  20.0794  1.09362050512   \n",
      "1  20.0794  1727527560000  20.0794  20.0794  ENSUSDT  20.0794              0   \n",
      "\n",
      "      volume  \n",
      "0  0.0544648  \n",
      "1          0  \n",
      "    symbol                time    price  pct_change    volume\n",
      "0  ENSUSDT 2024-09-28 12:45:00  20.0794         NaN  0.054465\n",
      "1  ENSUSDT 2024-09-28 12:46:00  20.0794         0.0  0.000000\n"
     ]
    },
    {
     "name": "stderr",
     "output_type": "stream",
     "text": [
      " 20%|███████████████▍                                                               | 229/1174 [02:29<09:04,  1.74it/s]"
     ]
    },
    {
     "name": "stdout",
     "output_type": "stream",
     "text": [
      "       close     created_at       high        low    market       open  \\\n",
      "0  0.0010026  1727527500000  0.0010026  0.0010026  GMRXUSDT  0.0010026   \n",
      "1  0.0010026  1727527560000  0.0010026  0.0010026  GMRXUSDT  0.0010026   \n",
      "\n",
      "      value volume  \n",
      "0  1.173042   1170  \n",
      "1         0      0  \n",
      "     symbol                time     price  pct_change  volume\n",
      "0  GMRXUSDT 2024-09-28 12:45:00  0.001003         NaN  1170.0\n",
      "1  GMRXUSDT 2024-09-28 12:46:00  0.001003         0.0     0.0\n"
     ]
    },
    {
     "name": "stderr",
     "output_type": "stream",
     "text": [
      " 20%|███████████████▍                                                               | 230/1174 [02:30<09:01,  1.74it/s]"
     ]
    },
    {
     "name": "stdout",
     "output_type": "stream",
     "text": [
      "    close     created_at    high     low      market    open    value volume\n",
      "0  0.1101  1727527500000  0.1101  0.1101  WHALESUSDT  0.1101  1.27716   11.6\n",
      "1  0.1101  1727527560000  0.1101  0.1101  WHALESUSDT  0.1101        0      0\n",
      "       symbol                time   price  pct_change  volume\n",
      "0  WHALESUSDT 2024-09-28 12:45:00  0.1101         NaN    11.6\n",
      "1  WHALESUSDT 2024-09-28 12:46:00  0.1101         0.0     0.0\n"
     ]
    },
    {
     "name": "stderr",
     "output_type": "stream",
     "text": [
      " 20%|███████████████▌                                                               | 231/1174 [02:30<08:53,  1.77it/s]"
     ]
    },
    {
     "name": "stdout",
     "output_type": "stream",
     "text": [
      "   close     created_at   high    low    market   open          value  \\\n",
      "0  1.641  1727527500000  1.641  1.641  DEGOUSDT  1.641  1.74932912169   \n",
      "1  1.641  1727527560000  1.641  1.641  DEGOUSDT  1.641              0   \n",
      "\n",
      "       volume  \n",
      "0  1.06601409  \n",
      "1           0  \n",
      "     symbol                time  price  pct_change    volume\n",
      "0  DEGOUSDT 2024-09-28 12:45:00  1.641         NaN  1.066014\n",
      "1  DEGOUSDT 2024-09-28 12:46:00  1.641         0.0  0.000000\n"
     ]
    },
    {
     "name": "stderr",
     "output_type": "stream",
     "text": [
      " 20%|███████████████▌                                                               | 232/1174 [02:31<08:59,  1.75it/s]"
     ]
    },
    {
     "name": "stdout",
     "output_type": "stream",
     "text": [
      "           close     created_at           high            low    market  \\\n",
      "0  0.00000001568  1727527500000  0.00000001568  0.00000001568  BOZOUSDT   \n",
      "1  0.00000001568  1727527560000  0.00000001568  0.00000001568  BOZOUSDT   \n",
      "\n",
      "            open   value     volume  \n",
      "0  0.00000001568  1.7248  110000000  \n",
      "1  0.00000001568       0          0  \n",
      "     symbol                time         price  pct_change       volume\n",
      "0  BOZOUSDT 2024-09-28 12:45:00  1.568000e-08         NaN  110000000.0\n",
      "1  BOZOUSDT 2024-09-28 12:46:00  1.568000e-08         0.0          0.0\n"
     ]
    },
    {
     "name": "stderr",
     "output_type": "stream",
     "text": [
      " 20%|███████████████▋                                                               | 233/1174 [02:31<09:07,  1.72it/s]"
     ]
    },
    {
     "name": "stdout",
     "output_type": "stream",
     "text": [
      "   close     created_at   high    low     market   open   value volume\n",
      "0  0.332  1727527500000  0.332  0.332  JONESUSDT  0.332  1.9256    5.8\n",
      "1  0.332  1727527560000  0.332  0.332  JONESUSDT  0.332       0      0\n",
      "      symbol                time  price  pct_change  volume\n",
      "0  JONESUSDT 2024-09-28 12:45:00  0.332         NaN     5.8\n",
      "1  JONESUSDT 2024-09-28 12:46:00  0.332         0.0     0.0\n"
     ]
    },
    {
     "name": "stderr",
     "output_type": "stream",
     "text": [
      " 20%|███████████████▋                                                               | 234/1174 [02:32<08:56,  1.75it/s]"
     ]
    },
    {
     "name": "stdout",
     "output_type": "stream",
     "text": [
      "      close     created_at      high       low   market      open      value  \\\n",
      "0  0.651967  1727527500000  0.651967  0.651967  MOBUSDT  0.651967  3.8466053   \n",
      "1  0.651967  1727527560000  0.651967  0.651967  MOBUSDT  0.651967          0   \n",
      "\n",
      "  volume  \n",
      "0    5.9  \n",
      "1      0  \n",
      "    symbol                time     price  pct_change  volume\n",
      "0  MOBUSDT 2024-09-28 12:45:00  0.651967         NaN     5.9\n",
      "1  MOBUSDT 2024-09-28 12:46:00  0.651967         0.0     0.0\n"
     ]
    },
    {
     "name": "stderr",
     "output_type": "stream",
     "text": [
      " 20%|███████████████▊                                                               | 235/1174 [02:32<08:52,  1.76it/s]"
     ]
    },
    {
     "name": "stdout",
     "output_type": "stream",
     "text": [
      "        close     created_at        high         low   market        open  \\\n",
      "0  0.00003678  1727527500000  0.00003678  0.00003678  XECUSDT  0.00003678   \n",
      "1  0.00003678  1727527560000  0.00003678  0.00003678  XECUSDT  0.00003678   \n",
      "\n",
      "     value volume  \n",
      "0  2.07807  56500  \n",
      "1        0      0  \n",
      "    symbol                time     price  pct_change   volume\n",
      "0  XECUSDT 2024-09-28 12:45:00  0.000037         NaN  56500.0\n",
      "1  XECUSDT 2024-09-28 12:46:00  0.000037         0.0      0.0\n"
     ]
    },
    {
     "name": "stderr",
     "output_type": "stream",
     "text": [
      " 20%|███████████████▉                                                               | 236/1174 [02:33<08:51,  1.77it/s]"
     ]
    },
    {
     "name": "stdout",
     "output_type": "stream",
     "text": [
      "    close     created_at    high       low   market      open  \\\n",
      "0  0.0296  1727527500000  0.0296  0.029586  JSTUSDT  0.029586   \n",
      "1  0.0296  1727527560000  0.0296    0.0296  JSTUSDT    0.0296   \n",
      "\n",
      "              value        volume  \n",
      "0  3.17044342969844  107.13522316  \n",
      "1                 0             0  \n",
      "    symbol                time   price  pct_change      volume\n",
      "0  JSTUSDT 2024-09-28 12:45:00  0.0296         NaN  107.135223\n",
      "1  JSTUSDT 2024-09-28 12:46:00  0.0296         0.0    0.000000\n"
     ]
    },
    {
     "name": "stderr",
     "output_type": "stream",
     "text": [
      " 20%|███████████████▉                                                               | 237/1174 [02:34<08:52,  1.76it/s]"
     ]
    },
    {
     "name": "stdout",
     "output_type": "stream",
     "text": [
      "      close     created_at      high       low      market      open    value  \\\n",
      "0  0.004839  1727527500000  0.004839  0.004839  HIGHERUSDT  0.004839  2.70984   \n",
      "1  0.004839  1727527560000  0.004839  0.004839  HIGHERUSDT  0.004839        0   \n",
      "\n",
      "  volume  \n",
      "0    560  \n",
      "1      0  \n",
      "       symbol                time     price  pct_change  volume\n",
      "0  HIGHERUSDT 2024-09-28 12:45:00  0.004839         NaN   560.0\n",
      "1  HIGHERUSDT 2024-09-28 12:46:00  0.004839         0.0     0.0\n"
     ]
    },
    {
     "name": "stderr",
     "output_type": "stream",
     "text": [
      " 20%|████████████████                                                               | 238/1174 [02:34<09:02,  1.73it/s]"
     ]
    },
    {
     "name": "stdout",
     "output_type": "stream",
     "text": [
      "      close     created_at      high       low   market      open      value  \\\n",
      "0  0.107877  1727527500000  0.107877  0.107877  GPTUSDT  0.107877  6.2029275   \n",
      "1  0.107877  1727527560000  0.107877  0.107877  GPTUSDT  0.107877          0   \n",
      "\n",
      "  volume  \n",
      "0   57.5  \n",
      "1      0  \n",
      "    symbol                time     price  pct_change  volume\n",
      "0  GPTUSDT 2024-09-28 12:45:00  0.107877         NaN    57.5\n",
      "1  GPTUSDT 2024-09-28 12:46:00  0.107877         0.0     0.0\n"
     ]
    },
    {
     "name": "stderr",
     "output_type": "stream",
     "text": [
      " 20%|████████████████                                                               | 239/1174 [02:35<08:55,  1.75it/s]"
     ]
    },
    {
     "name": "stdout",
     "output_type": "stream",
     "text": [
      "    close     created_at    high     low    market    open   value volume\n",
      "0  0.3576  1727527500000  0.3576  0.3576  PYTHUSDT  0.3576  1.9668    5.5\n",
      "1  0.3576  1727527560000  0.3576  0.3576  PYTHUSDT  0.3576       0      0\n",
      "     symbol                time   price  pct_change  volume\n",
      "0  PYTHUSDT 2024-09-28 12:45:00  0.3576         NaN     5.5\n",
      "1  PYTHUSDT 2024-09-28 12:46:00  0.3576         0.0     0.0\n"
     ]
    },
    {
     "name": "stderr",
     "output_type": "stream",
     "text": [
      " 20%|████████████████▏                                                              | 240/1174 [02:35<08:55,  1.75it/s]"
     ]
    },
    {
     "name": "stdout",
     "output_type": "stream",
     "text": [
      "      close     created_at      high       low    market      open     value  \\\n",
      "0  0.066705  1727527500000  0.066705  0.066705  STARUSDT  0.066705  3.668775   \n",
      "1  0.066705  1727527560000  0.066705  0.066705  STARUSDT  0.066705         0   \n",
      "\n",
      "  volume  \n",
      "0     55  \n",
      "1      0  \n",
      "     symbol                time     price  pct_change  volume\n",
      "0  STARUSDT 2024-09-28 12:45:00  0.066705         NaN    55.0\n",
      "1  STARUSDT 2024-09-28 12:46:00  0.066705         0.0     0.0\n"
     ]
    },
    {
     "name": "stderr",
     "output_type": "stream",
     "text": [
      " 21%|████████████████▏                                                              | 241/1174 [02:36<08:55,  1.74it/s]"
     ]
    },
    {
     "name": "stdout",
     "output_type": "stream",
     "text": [
      "    close     created_at    high     low   market    open          value  \\\n",
      "0  1.2935  1727527500000  1.2935  1.2935  RIOUSDT  1.2935  1.36651517756   \n",
      "1  1.2935  1727527560000  1.2935  1.2935  RIOUSDT  1.2935              0   \n",
      "\n",
      "       volume  \n",
      "0  1.05644776  \n",
      "1           0  \n",
      "    symbol                time   price  pct_change    volume\n",
      "0  RIOUSDT 2024-09-28 12:45:00  1.2935         NaN  1.056448\n",
      "1  RIOUSDT 2024-09-28 12:46:00  1.2935         0.0  0.000000\n"
     ]
    },
    {
     "name": "stderr",
     "output_type": "stream",
     "text": [
      " 21%|████████████████▎                                                              | 242/1174 [02:36<09:04,  1.71it/s]"
     ]
    },
    {
     "name": "stdout",
     "output_type": "stream",
     "text": [
      "      close     created_at      high       low   market      open      value  \\\n",
      "0  0.107538  1727527500000  0.107538  0.107538  REQUSDT  0.107538  1.2689484   \n",
      "1  0.107538  1727527560000  0.107538  0.107538  REQUSDT  0.107538          0   \n",
      "\n",
      "  volume  \n",
      "0   11.8  \n",
      "1      0  \n",
      "    symbol                time     price  pct_change  volume\n",
      "0  REQUSDT 2024-09-28 12:45:00  0.107538         NaN    11.8\n",
      "1  REQUSDT 2024-09-28 12:46:00  0.107538         0.0     0.0\n"
     ]
    },
    {
     "name": "stderr",
     "output_type": "stream",
     "text": [
      " 21%|████████████████▎                                                              | 243/1174 [02:37<09:00,  1.72it/s]"
     ]
    },
    {
     "name": "stdout",
     "output_type": "stream",
     "text": [
      "      close     created_at      high       low    market      open   value  \\\n",
      "0  0.005368  1727527500000  0.005368  0.005368  APTRUSDT  0.005368  3.0866   \n",
      "1  0.005368  1727527560000  0.005368  0.005368  APTRUSDT  0.005368       0   \n",
      "\n",
      "  volume  \n",
      "0    575  \n",
      "1      0  \n",
      "     symbol                time     price  pct_change  volume\n",
      "0  APTRUSDT 2024-09-28 12:45:00  0.005368         NaN   575.0\n",
      "1  APTRUSDT 2024-09-28 12:46:00  0.005368         0.0     0.0\n"
     ]
    },
    {
     "name": "stderr",
     "output_type": "stream",
     "text": [
      " 21%|████████████████▍                                                              | 244/1174 [02:38<08:54,  1.74it/s]"
     ]
    },
    {
     "name": "stdout",
     "output_type": "stream",
     "text": [
      "    close     created_at    high     low     market    open    value volume\n",
      "0  0.6886  1727527500000  0.6886  0.6886  DRIFTUSDT  0.6886  3.92502    5.7\n",
      "1  0.6886  1727527560000  0.6886  0.6886  DRIFTUSDT  0.6886        0      0\n",
      "      symbol                time   price  pct_change  volume\n",
      "0  DRIFTUSDT 2024-09-28 12:45:00  0.6886         NaN     5.7\n",
      "1  DRIFTUSDT 2024-09-28 12:46:00  0.6886         0.0     0.0\n"
     ]
    },
    {
     "name": "stderr",
     "output_type": "stream",
     "text": [
      " 21%|████████████████▍                                                              | 245/1174 [02:38<08:49,  1.75it/s]"
     ]
    },
    {
     "name": "stdout",
     "output_type": "stream",
     "text": [
      "      close     created_at      high       low   market      open  \\\n",
      "0  0.062975  1727527500000  0.062989  0.062975  FLMUSDT  0.062989   \n",
      "1  0.062975  1727527560000  0.062975  0.062975  FLMUSDT  0.062975   \n",
      "\n",
      "              value       volume  \n",
      "0  6.82406482231162  108.3499898  \n",
      "1                 0            0  \n",
      "    symbol                time     price  pct_change     volume\n",
      "0  FLMUSDT 2024-09-28 12:45:00  0.062975         NaN  108.34999\n",
      "1  FLMUSDT 2024-09-28 12:46:00  0.062975         0.0    0.00000\n"
     ]
    },
    {
     "name": "stderr",
     "output_type": "stream",
     "text": [
      " 21%|████████████████▌                                                              | 246/1174 [02:39<08:53,  1.74it/s]"
     ]
    },
    {
     "name": "stdout",
     "output_type": "stream",
     "text": [
      "          close     created_at          high           low    market  \\\n",
      "0  0.0000008185  1727527500000  0.0000008185  0.0000008185  PUMPUSDT   \n",
      "1  0.0000008185  1727527560000  0.0000008185  0.0000008185  PUMPUSDT   \n",
      "\n",
      "           open                value           volume  \n",
      "0  0.0000008185  4.78022233104559915  5840222.7624259  \n",
      "1  0.0000008185                    0                0  \n",
      "     symbol                time         price  pct_change        volume\n",
      "0  PUMPUSDT 2024-09-28 12:45:00  8.185000e-07         NaN  5.840223e+06\n",
      "1  PUMPUSDT 2024-09-28 12:46:00  8.185000e-07         0.0  0.000000e+00\n"
     ]
    },
    {
     "name": "stderr",
     "output_type": "stream",
     "text": [
      " 21%|████████████████▌                                                              | 247/1174 [02:39<09:01,  1.71it/s]"
     ]
    },
    {
     "name": "stdout",
     "output_type": "stream",
     "text": [
      "    close     created_at    high     low     market    open             value  \\\n",
      "0  2.6099  1727527500000  2.6189  2.6099  TRUMPUSDT  2.6189  102.113450878976   \n",
      "1  2.6102  1727527560000  2.6102  2.6102  TRUMPUSDT  2.6102   32.012166544824   \n",
      "\n",
      "        volume  \n",
      "0  39.05524678  \n",
      "1  12.26425812  \n",
      "      symbol                time   price  pct_change     volume\n",
      "0  TRUMPUSDT 2024-09-28 12:45:00  2.6099         NaN  39.055247\n",
      "1  TRUMPUSDT 2024-09-28 12:46:00  2.6102    0.000115  12.264258\n"
     ]
    },
    {
     "name": "stderr",
     "output_type": "stream",
     "text": [
      " 21%|████████████████▋                                                              | 248/1174 [02:40<08:51,  1.74it/s]"
     ]
    },
    {
     "name": "stdout",
     "output_type": "stream",
     "text": [
      "      close     created_at      high       low   market      open  \\\n",
      "0  0.014347  1727527500000  0.014347  0.014347  KLYUSDT  0.014347   \n",
      "1  0.014347  1727527560000  0.014347  0.014347  KLYUSDT  0.014347   \n",
      "\n",
      "             value       volume  \n",
      "0  1.4600181767246  101.7647018  \n",
      "1                0            0  \n",
      "    symbol                time     price  pct_change      volume\n",
      "0  KLYUSDT 2024-09-28 12:45:00  0.014347         NaN  101.764702\n",
      "1  KLYUSDT 2024-09-28 12:46:00  0.014347         0.0    0.000000\n"
     ]
    },
    {
     "name": "stderr",
     "output_type": "stream",
     "text": [
      " 21%|████████████████▊                                                              | 249/1174 [02:40<08:44,  1.76it/s]"
     ]
    },
    {
     "name": "stdout",
     "output_type": "stream",
     "text": [
      "      close     created_at      high       low    market      open   value  \\\n",
      "0  0.001018  1727527500000  0.001018  0.001018  CHANUSDT  0.001018  5.8026   \n",
      "1  0.001018  1727527560000  0.001018  0.001018  CHANUSDT  0.001018       0   \n",
      "\n",
      "  volume  \n",
      "0   5700  \n",
      "1      0  \n",
      "     symbol                time     price  pct_change  volume\n",
      "0  CHANUSDT 2024-09-28 12:45:00  0.001018         NaN  5700.0\n",
      "1  CHANUSDT 2024-09-28 12:46:00  0.001018         0.0     0.0\n"
     ]
    },
    {
     "name": "stderr",
     "output_type": "stream",
     "text": [
      " 21%|████████████████▊                                                              | 250/1174 [02:41<08:46,  1.75it/s]"
     ]
    },
    {
     "name": "stdout",
     "output_type": "stream",
     "text": [
      "      close     created_at      high       low   market      open     value  \\\n",
      "0  0.168442  1727527500000  0.168442  0.168442  ENJUSDT  0.168442  1.852862   \n",
      "1  0.168442  1727527560000  0.168442  0.168442  ENJUSDT  0.168442         0   \n",
      "\n",
      "  volume  \n",
      "0     11  \n",
      "1      0  \n",
      "    symbol                time     price  pct_change  volume\n",
      "0  ENJUSDT 2024-09-28 12:45:00  0.168442         NaN    11.0\n",
      "1  ENJUSDT 2024-09-28 12:46:00  0.168442         0.0     0.0\n"
     ]
    },
    {
     "name": "stderr",
     "output_type": "stream",
     "text": [
      " 21%|████████████████▉                                                              | 251/1174 [02:42<09:02,  1.70it/s]"
     ]
    },
    {
     "name": "stdout",
     "output_type": "stream",
     "text": [
      "      close     created_at      high       low    market      open  \\\n",
      "0  0.033864  1727527500000  0.033864  0.033864  VEGAUSDT  0.033864   \n",
      "1  0.033864  1727527560000  0.033864  0.033864  VEGAUSDT  0.033864   \n",
      "\n",
      "            value       volume  \n",
      "0  1.866111776694  55.10606475  \n",
      "1               0            0  \n",
      "     symbol                time     price  pct_change     volume\n",
      "0  VEGAUSDT 2024-09-28 12:45:00  0.033864         NaN  55.106065\n",
      "1  VEGAUSDT 2024-09-28 12:46:00  0.033864         0.0   0.000000\n"
     ]
    },
    {
     "name": "stderr",
     "output_type": "stream",
     "text": [
      " 21%|████████████████▉                                                              | 252/1174 [02:42<09:11,  1.67it/s]"
     ]
    },
    {
     "name": "stdout",
     "output_type": "stream",
     "text": [
      "      close     created_at      high       low    market      open     value  \\\n",
      "0  0.024144  1727527500000  0.024144  0.024144  BEFIUSDT  0.024144  2.728272   \n",
      "1  0.024144  1727527560000  0.024144  0.024144  BEFIUSDT  0.024144         0   \n",
      "\n",
      "  volume  \n",
      "0    113  \n",
      "1      0  \n",
      "     symbol                time     price  pct_change  volume\n",
      "0  BEFIUSDT 2024-09-28 12:45:00  0.024144         NaN   113.0\n",
      "1  BEFIUSDT 2024-09-28 12:46:00  0.024144         0.0     0.0\n"
     ]
    },
    {
     "name": "stderr",
     "output_type": "stream",
     "text": [
      " 22%|█████████████████                                                              | 253/1174 [02:43<09:04,  1.69it/s]"
     ]
    },
    {
     "name": "stdout",
     "output_type": "stream",
     "text": [
      "    close     created_at    high     low    market    open           value  \\\n",
      "0  1.6849  1727527500000  1.6849  1.6849  BONDUSDT  1.6849  1.753494216635   \n",
      "1  1.6849  1727527560000  1.6849  1.6849  BONDUSDT  1.6849               0   \n",
      "\n",
      "       volume  \n",
      "0  1.04071115  \n",
      "1           0  \n",
      "     symbol                time   price  pct_change    volume\n",
      "0  BONDUSDT 2024-09-28 12:45:00  1.6849         NaN  1.040711\n",
      "1  BONDUSDT 2024-09-28 12:46:00  1.6849         0.0  0.000000\n"
     ]
    },
    {
     "name": "stderr",
     "output_type": "stream",
     "text": [
      " 22%|█████████████████                                                              | 254/1174 [02:43<08:57,  1.71it/s]"
     ]
    },
    {
     "name": "stdout",
     "output_type": "stream",
     "text": [
      "    close     created_at    high     low   market    open             value  \\\n",
      "0  2.0757  1727527500000   2.076  2.0737  WLDUSDT   2.076  323.677859318977   \n",
      "1  2.0757  1727527560000  2.0757  2.0757  WLDUSDT  2.0757                 0   \n",
      "\n",
      "         volume  \n",
      "0  155.94748917  \n",
      "1             0  \n",
      "    symbol                time   price  pct_change      volume\n",
      "0  WLDUSDT 2024-09-28 12:45:00  2.0757         NaN  155.947489\n",
      "1  WLDUSDT 2024-09-28 12:46:00  2.0757         0.0    0.000000\n"
     ]
    },
    {
     "name": "stderr",
     "output_type": "stream",
     "text": [
      " 22%|█████████████████▏                                                             | 255/1174 [02:44<08:54,  1.72it/s]"
     ]
    },
    {
     "name": "stdout",
     "output_type": "stream",
     "text": [
      "    close     created_at    high     low   market    open    value volume\n",
      "0  0.5244  1727527500000  0.5244  0.5244  RCHUSDT  0.5244  2.98908    5.7\n",
      "1  0.5244  1727527560000  0.5244  0.5244  RCHUSDT  0.5244   2.8842    5.5\n",
      "    symbol                time   price  pct_change  volume\n",
      "0  RCHUSDT 2024-09-28 12:45:00  0.5244         NaN     5.7\n",
      "1  RCHUSDT 2024-09-28 12:46:00  0.5244         0.0     5.5\n"
     ]
    },
    {
     "name": "stderr",
     "output_type": "stream",
     "text": [
      " 22%|█████████████████▏                                                             | 256/1174 [02:45<08:46,  1.74it/s]"
     ]
    },
    {
     "name": "stdout",
     "output_type": "stream",
     "text": [
      "      close     created_at      high       low    market      open      value  \\\n",
      "0  0.085881  1727527500000  0.085881  0.085881  OPULUSDT  0.085881  5.1099195   \n",
      "1  0.085906  1727527560000  0.085906  0.085906  OPULUSDT  0.085906    4.72483   \n",
      "\n",
      "  volume  \n",
      "0   59.5  \n",
      "1     55  \n",
      "     symbol                time     price  pct_change  volume\n",
      "0  OPULUSDT 2024-09-28 12:45:00  0.085881         NaN    59.5\n",
      "1  OPULUSDT 2024-09-28 12:46:00  0.085906    0.000291    55.0\n"
     ]
    },
    {
     "name": "stderr",
     "output_type": "stream",
     "text": [
      " 22%|█████████████████▎                                                             | 257/1174 [02:45<08:45,  1.74it/s]"
     ]
    },
    {
     "name": "stdout",
     "output_type": "stream",
     "text": [
      "      close     created_at      high       low   market      open     value  \\\n",
      "0  0.021305  1727527500000  0.021305  0.021305  SUNUSDT  0.021305   1.23569   \n",
      "1  0.021298  1727527560000  0.021298  0.021298  SUNUSDT  0.021298  1.267231   \n",
      "\n",
      "  volume  \n",
      "0     58  \n",
      "1   59.5  \n",
      "    symbol                time     price  pct_change  volume\n",
      "0  SUNUSDT 2024-09-28 12:45:00  0.021305         NaN    58.0\n",
      "1  SUNUSDT 2024-09-28 12:46:00  0.021298   -0.000329    59.5\n"
     ]
    },
    {
     "name": "stderr",
     "output_type": "stream",
     "text": [
      " 22%|█████████████████▎                                                             | 258/1174 [02:46<08:35,  1.78it/s]"
     ]
    },
    {
     "name": "stdout",
     "output_type": "stream",
     "text": [
      "      close     created_at      high       low   market      open      value  \\\n",
      "0  0.082591  1727527500000  0.082591  0.082591  NKNUSDT  0.082591  4.5838005   \n",
      "1  0.082607  1727527560000  0.082607  0.082607  NKNUSDT  0.082607   4.708599   \n",
      "\n",
      "  volume  \n",
      "0   55.5  \n",
      "1     57  \n",
      "    symbol                time     price  pct_change  volume\n",
      "0  NKNUSDT 2024-09-28 12:45:00  0.082591         NaN    55.5\n",
      "1  NKNUSDT 2024-09-28 12:46:00  0.082607    0.000194    57.0\n"
     ]
    },
    {
     "name": "stderr",
     "output_type": "stream",
     "text": [
      " 22%|█████████████████▍                                                             | 259/1174 [02:46<08:29,  1.79it/s]"
     ]
    },
    {
     "name": "stdout",
     "output_type": "stream",
     "text": [
      "      close     created_at      high       low     market      open    value  \\\n",
      "0  0.033865  1727527500000  0.033865  0.033865  FLUXBUSDT  0.033865  1.89644   \n",
      "1  0.033865  1727527560000  0.033865  0.033865  FLUXBUSDT  0.033865        0   \n",
      "\n",
      "  volume  \n",
      "0     56  \n",
      "1      0  \n",
      "      symbol                time     price  pct_change  volume\n",
      "0  FLUXBUSDT 2024-09-28 12:45:00  0.033865         NaN    56.0\n",
      "1  FLUXBUSDT 2024-09-28 12:46:00  0.033865         0.0     0.0\n"
     ]
    },
    {
     "name": "stderr",
     "output_type": "stream",
     "text": [
      " 22%|█████████████████▍                                                             | 260/1174 [02:47<08:32,  1.79it/s]"
     ]
    },
    {
     "name": "stdout",
     "output_type": "stream",
     "text": [
      "      close     created_at      high       low     market      open  \\\n",
      "0  0.024471  1727527500000  0.024471  0.024471  HEGICUSDT  0.024471   \n",
      "1  0.024451  1727527560000  0.024451  0.024451  HEGICUSDT  0.024451   \n",
      "\n",
      "       value volume  \n",
      "0   1.443789     59  \n",
      "1  1.4303835   58.5  \n",
      "      symbol                time     price  pct_change  volume\n",
      "0  HEGICUSDT 2024-09-28 12:45:00  0.024471         NaN    59.0\n",
      "1  HEGICUSDT 2024-09-28 12:46:00  0.024451   -0.000818    58.5\n"
     ]
    },
    {
     "name": "stderr",
     "output_type": "stream",
     "text": [
      " 22%|█████████████████▌                                                             | 261/1174 [02:47<08:36,  1.77it/s]"
     ]
    },
    {
     "name": "stdout",
     "output_type": "stream",
     "text": [
      "      close     created_at      high       low    market      open    value  \\\n",
      "0  0.001246  1727527500000  0.001246  0.001246  GOMEUSDT  0.001246  1.48274   \n",
      "1  0.001246  1727527560000  0.001246  0.001246  GOMEUSDT  0.001246  1.38306   \n",
      "\n",
      "  volume  \n",
      "0   1190  \n",
      "1   1110  \n",
      "     symbol                time     price  pct_change  volume\n",
      "0  GOMEUSDT 2024-09-28 12:45:00  0.001246         NaN  1190.0\n",
      "1  GOMEUSDT 2024-09-28 12:46:00  0.001246         0.0  1110.0\n"
     ]
    },
    {
     "name": "stderr",
     "output_type": "stream",
     "text": [
      " 22%|█████████████████▋                                                             | 262/1174 [02:48<08:34,  1.77it/s]"
     ]
    },
    {
     "name": "stdout",
     "output_type": "stream",
     "text": [
      "    close     created_at    high     low       market    open     value volume\n",
      "0  1.7387  1727527500000  1.7387  1.7387  TRACBRCUSDT  1.7387  2.051666   1.18\n",
      "1  1.7398  1727527560000  1.7398  1.7398  TRACBRCUSDT  1.7398  2.018168   1.16\n",
      "        symbol                time   price  pct_change  volume\n",
      "0  TRACBRCUSDT 2024-09-28 12:45:00  1.7387         NaN    1.18\n",
      "1  TRACBRCUSDT 2024-09-28 12:46:00  1.7398    0.000632    1.16\n"
     ]
    },
    {
     "name": "stderr",
     "output_type": "stream",
     "text": [
      " 22%|█████████████████▋                                                             | 263/1174 [02:48<08:37,  1.76it/s]"
     ]
    },
    {
     "name": "stdout",
     "output_type": "stream",
     "text": [
      "   close     created_at   high    low    market   open          value  \\\n",
      "0  0.299  1727527500000  0.299  0.299  WILDUSDT  0.299  1.73616212471   \n",
      "1  0.299  1727527560000  0.299  0.299  WILDUSDT  0.299              0   \n",
      "\n",
      "       volume  \n",
      "0  5.80656229  \n",
      "1           0  \n",
      "     symbol                time  price  pct_change    volume\n",
      "0  WILDUSDT 2024-09-28 12:45:00  0.299         NaN  5.806562\n",
      "1  WILDUSDT 2024-09-28 12:46:00  0.299         0.0  0.000000\n"
     ]
    },
    {
     "name": "stderr",
     "output_type": "stream",
     "text": [
      " 22%|█████████████████▊                                                             | 264/1174 [02:49<08:44,  1.74it/s]"
     ]
    },
    {
     "name": "stdout",
     "output_type": "stream",
     "text": [
      "      close     created_at      high       low     market      open     value  \\\n",
      "0  0.043552  1727527500000  0.043552  0.043552  FACTRUSDT  0.043552  2.569568   \n",
      "1   0.04356  1727527560000   0.04356   0.04356  FACTRUSDT   0.04356   2.46114   \n",
      "\n",
      "  volume  \n",
      "0     59  \n",
      "1   56.5  \n",
      "      symbol                time     price  pct_change  volume\n",
      "0  FACTRUSDT 2024-09-28 12:45:00  0.043552         NaN    59.0\n",
      "1  FACTRUSDT 2024-09-28 12:46:00  0.043560    0.000184    56.5\n"
     ]
    },
    {
     "name": "stderr",
     "output_type": "stream",
     "text": [
      " 23%|█████████████████▊                                                             | 265/1174 [02:50<08:52,  1.71it/s]"
     ]
    },
    {
     "name": "stdout",
     "output_type": "stream",
     "text": [
      "    close     created_at    high     low     market    open           value  \\\n",
      "0  7.6749  1727527500000  7.6749  7.6749  VISTAUSDT  7.6749  4.288551073635   \n",
      "1  7.6749  1727527560000  7.6749  7.6749  VISTAUSDT  7.6749               0   \n",
      "\n",
      "       volume  \n",
      "0  0.55877615  \n",
      "1           0  \n",
      "      symbol                time   price  pct_change    volume\n",
      "0  VISTAUSDT 2024-09-28 12:45:00  7.6749         NaN  0.558776\n",
      "1  VISTAUSDT 2024-09-28 12:46:00  7.6749         0.0  0.000000\n"
     ]
    },
    {
     "name": "stderr",
     "output_type": "stream",
     "text": [
      " 23%|█████████████████▉                                                             | 266/1174 [02:50<08:49,  1.71it/s]"
     ]
    },
    {
     "name": "stdout",
     "output_type": "stream",
     "text": [
      "      close     created_at      high       low   market      open  \\\n",
      "0  0.012438  1727527500000  0.012438  0.012438  MAOUSDT  0.012438   \n",
      "1  0.012438  1727527560000  0.012438  0.012438  MAOUSDT  0.012438   \n",
      "\n",
      "             value        volume  \n",
      "0  1.4041233006831  112.88979745  \n",
      "1                0             0  \n",
      "    symbol                time     price  pct_change      volume\n",
      "0  MAOUSDT 2024-09-28 12:45:00  0.012438         NaN  112.889797\n",
      "1  MAOUSDT 2024-09-28 12:46:00  0.012438         0.0    0.000000\n"
     ]
    },
    {
     "name": "stderr",
     "output_type": "stream",
     "text": [
      " 23%|█████████████████▉                                                             | 267/1174 [02:51<08:40,  1.74it/s]"
     ]
    },
    {
     "name": "stdout",
     "output_type": "stream",
     "text": [
      "    close     created_at    high     low    market    open     value  volume\n",
      "0  164.47  1727527500000  164.47  164.47  AAVEUSDT  164.47  1.842064  0.0112\n",
      "1  164.61  1727527560000  164.61  164.61  AAVEUSDT  164.61  1.860093  0.0113\n",
      "     symbol                time   price  pct_change  volume\n",
      "0  AAVEUSDT 2024-09-28 12:45:00  164.47         NaN  0.0112\n",
      "1  AAVEUSDT 2024-09-28 12:46:00  164.61    0.000851  0.0113\n"
     ]
    },
    {
     "name": "stderr",
     "output_type": "stream",
     "text": [
      " 23%|██████████████████                                                             | 268/1174 [02:51<08:35,  1.76it/s]"
     ]
    },
    {
     "name": "stdout",
     "output_type": "stream",
     "text": [
      "     close     created_at     high      low   market     open    value volume\n",
      "0  0.05247  1727527500000  0.05247  0.05247  MAKUSDT  0.05247  2.88585     55\n",
      "1  0.05247  1727527560000  0.05247  0.05247  MAKUSDT  0.05247  2.88585     55\n",
      "    symbol                time    price  pct_change  volume\n",
      "0  MAKUSDT 2024-09-28 12:45:00  0.05247         NaN    55.0\n",
      "1  MAKUSDT 2024-09-28 12:46:00  0.05247         0.0    55.0\n"
     ]
    },
    {
     "name": "stderr",
     "output_type": "stream",
     "text": [
      " 23%|██████████████████                                                             | 269/1174 [02:53<13:11,  1.14it/s]"
     ]
    },
    {
     "name": "stdout",
     "output_type": "stream",
     "text": [
      "     close     created_at     high      low   market     open      value  \\\n",
      "0  15.2082  1727527500000  15.2082  15.2082  XCHUSDT  15.2082  1.7185266   \n",
      "1  15.2036  1727527560000  15.2036  15.2036  XCHUSDT  15.2036   1.672396   \n",
      "\n",
      "  volume  \n",
      "0  0.113  \n",
      "1   0.11  \n",
      "    symbol                time    price  pct_change  volume\n",
      "0  XCHUSDT 2024-09-28 12:45:00  15.2082         NaN   0.113\n",
      "1  XCHUSDT 2024-09-28 12:46:00  15.2036   -0.000303   0.110\n"
     ]
    },
    {
     "name": "stderr",
     "output_type": "stream",
     "text": [
      " 23%|██████████████████▏                                                            | 270/1174 [02:53<11:41,  1.29it/s]"
     ]
    },
    {
     "name": "stdout",
     "output_type": "stream",
     "text": [
      "      close     created_at      high       low   market      open     value  \\\n",
      "0  0.002881  1727527500000  0.002881  0.002881  EQXUSDT  0.002881  1.656575   \n",
      "1  0.002879  1727527560000  0.002879  0.002879  EQXUSDT  0.002879  1.597845   \n",
      "\n",
      "  volume  \n",
      "0    575  \n",
      "1    555  \n",
      "    symbol                time     price  pct_change  volume\n",
      "0  EQXUSDT 2024-09-28 12:45:00  0.002881         NaN   575.0\n",
      "1  EQXUSDT 2024-09-28 12:46:00  0.002879   -0.000694   555.0\n"
     ]
    },
    {
     "name": "stderr",
     "output_type": "stream",
     "text": [
      " 23%|██████████████████▏                                                            | 271/1174 [02:54<10:48,  1.39it/s]"
     ]
    },
    {
     "name": "stdout",
     "output_type": "stream",
     "text": [
      "        close     created_at        high         low   market        open  \\\n",
      "0  0.00011927  1727527500000  0.00011927  0.00011927  WENUSDT  0.00011927   \n",
      "1  0.00011927  1727527560000  0.00011927  0.00011927  WENUSDT  0.00011927   \n",
      "\n",
      "                value          volume  \n",
      "0  1.3901962306146772  11655.87516236  \n",
      "1                   0               0  \n",
      "    symbol                time     price  pct_change        volume\n",
      "0  WENUSDT 2024-09-28 12:45:00  0.000119         NaN  11655.875162\n",
      "1  WENUSDT 2024-09-28 12:46:00  0.000119         0.0      0.000000\n"
     ]
    },
    {
     "name": "stderr",
     "output_type": "stream",
     "text": [
      " 23%|██████████████████▎                                                            | 272/1174 [02:55<10:08,  1.48it/s]"
     ]
    },
    {
     "name": "stdout",
     "output_type": "stream",
     "text": [
      "      close     created_at      high       low     market      open  \\\n",
      "0  0.053893  1727527500000  0.053893  0.053893  BILLYUSDT  0.053893   \n",
      "1  0.053894  1727527560000  0.053894  0.053894  BILLYUSDT  0.053894   \n",
      "\n",
      "               value        volume  \n",
      "0  32.99938768653128  612.31305896  \n",
      "1           3.125852            58  \n",
      "      symbol                time     price  pct_change      volume\n",
      "0  BILLYUSDT 2024-09-28 12:45:00  0.053893         NaN  612.313059\n",
      "1  BILLYUSDT 2024-09-28 12:46:00  0.053894    0.000019   58.000000\n"
     ]
    },
    {
     "name": "stderr",
     "output_type": "stream",
     "text": [
      " 23%|██████████████████▎                                                            | 273/1174 [02:55<09:39,  1.55it/s]"
     ]
    },
    {
     "name": "stdout",
     "output_type": "stream",
     "text": [
      "        close     created_at        high         low   market        open  \\\n",
      "0  0.00453978  1727527500000  0.00453978  0.00453978  P3DUSDT  0.00453978   \n",
      "1  0.00454204  1727527560000  0.00454204  0.00454204  P3DUSDT  0.00454204   \n",
      "\n",
      "       value volume  \n",
      "0  2.6330724    580  \n",
      "1  2.6343832    580  \n",
      "    symbol                time     price  pct_change  volume\n",
      "0  P3DUSDT 2024-09-28 12:45:00  0.004540         NaN   580.0\n",
      "1  P3DUSDT 2024-09-28 12:46:00  0.004542    0.000498   580.0\n"
     ]
    },
    {
     "name": "stderr",
     "output_type": "stream",
     "text": [
      " 23%|██████████████████▍                                                            | 274/1174 [02:56<09:14,  1.62it/s]"
     ]
    },
    {
     "name": "stdout",
     "output_type": "stream",
     "text": [
      "          close     created_at          high           low    market  \\\n",
      "0   0.000000281  1727527500000   0.000000281   0.000000281  VOLTUSDT   \n",
      "1  0.0000002809  1727527560000  0.0000002809  0.0000002809  VOLTUSDT   \n",
      "\n",
      "           open    value   volume  \n",
      "0   0.000000281   1.6017  5700000  \n",
      "1  0.0000002809  1.62922  5800000  \n",
      "     symbol                time         price  pct_change     volume\n",
      "0  VOLTUSDT 2024-09-28 12:45:00  2.810000e-07         NaN  5700000.0\n",
      "1  VOLTUSDT 2024-09-28 12:46:00  2.809000e-07   -0.000356  5800000.0\n"
     ]
    },
    {
     "name": "stderr",
     "output_type": "stream",
     "text": [
      " 23%|██████████████████▌                                                            | 275/1174 [02:56<08:55,  1.68it/s]"
     ]
    },
    {
     "name": "stdout",
     "output_type": "stream",
     "text": [
      "    close     created_at    high     low    market    open      value volume\n",
      "0  3.1493  1727527500000  3.1493  3.1493  WZRDUSDT  3.1493  1.8738335  0.595\n",
      "1  3.1502  1727527560000  3.1502  3.1502  WZRDUSDT  3.1502   1.764112   0.56\n",
      "     symbol                time   price  pct_change  volume\n",
      "0  WZRDUSDT 2024-09-28 12:45:00  3.1493         NaN   0.595\n",
      "1  WZRDUSDT 2024-09-28 12:46:00  3.1502    0.000286   0.560\n"
     ]
    },
    {
     "name": "stderr",
     "output_type": "stream",
     "text": [
      " 24%|██████████████████▌                                                            | 276/1174 [02:57<08:46,  1.71it/s]"
     ]
    },
    {
     "name": "stdout",
     "output_type": "stream",
     "text": [
      "    close     created_at    high     low   market    open    value volume\n",
      "0  0.4251  1727527500000  0.4251  0.4251  SLNUSDT  0.4251  2.50809    5.9\n",
      "1   0.425  1727527560000   0.425   0.425  SLNUSDT   0.425  2.35875   5.55\n",
      "    symbol                time   price  pct_change  volume\n",
      "0  SLNUSDT 2024-09-28 12:45:00  0.4251         NaN    5.90\n",
      "1  SLNUSDT 2024-09-28 12:46:00  0.4250   -0.000235    5.55\n"
     ]
    },
    {
     "name": "stderr",
     "output_type": "stream",
     "text": [
      " 24%|██████████████████▋                                                            | 277/1174 [02:57<08:43,  1.71it/s]"
     ]
    },
    {
     "name": "stdout",
     "output_type": "stream",
     "text": [
      "      close     created_at      high       low   market      open     value  \\\n",
      "0  0.029469  1727527500000  0.029469  0.029469  DAGUSDT  0.029469  1.650264   \n",
      "1  0.029471  1727527560000  0.029471  0.029471  DAGUSDT  0.029471  1.738789   \n",
      "\n",
      "  volume  \n",
      "0     56  \n",
      "1     59  \n",
      "    symbol                time     price  pct_change  volume\n",
      "0  DAGUSDT 2024-09-28 12:45:00  0.029469         NaN    56.0\n",
      "1  DAGUSDT 2024-09-28 12:46:00  0.029471    0.000068    59.0\n"
     ]
    },
    {
     "name": "stderr",
     "output_type": "stream",
     "text": [
      " 24%|██████████████████▋                                                            | 278/1174 [02:58<08:33,  1.74it/s]"
     ]
    },
    {
     "name": "stdout",
     "output_type": "stream",
     "text": [
      "    close     created_at    high     low   market    open     value volume\n",
      "0  0.3579  1727527500000  0.3579  0.3579  LSDUSDT  0.3579   1.96845    5.5\n",
      "1  0.3581  1727527560000  0.3581  0.3581  LSDUSDT  0.3581  2.130695   5.95\n",
      "    symbol                time   price  pct_change  volume\n",
      "0  LSDUSDT 2024-09-28 12:45:00  0.3579         NaN    5.50\n",
      "1  LSDUSDT 2024-09-28 12:46:00  0.3581    0.000559    5.95\n"
     ]
    },
    {
     "name": "stderr",
     "output_type": "stream",
     "text": [
      " 24%|██████████████████▊                                                            | 279/1174 [02:59<08:34,  1.74it/s]"
     ]
    },
    {
     "name": "stdout",
     "output_type": "stream",
     "text": [
      "    close     created_at    high     low   market    open    value volume\n",
      "0  0.2487  1727527500000  0.2487  0.2487  NFPUSDT  0.2487  1.41759    5.7\n",
      "1  0.2487  1727527560000  0.2487  0.2487  NFPUSDT  0.2487  1.36785    5.5\n",
      "    symbol                time   price  pct_change  volume\n",
      "0  NFPUSDT 2024-09-28 12:45:00  0.2487         NaN     5.7\n",
      "1  NFPUSDT 2024-09-28 12:46:00  0.2487         0.0     5.5\n"
     ]
    },
    {
     "name": "stderr",
     "output_type": "stream",
     "text": [
      " 24%|██████████████████▊                                                            | 280/1174 [02:59<08:28,  1.76it/s]"
     ]
    },
    {
     "name": "stdout",
     "output_type": "stream",
     "text": [
      "        close     created_at        high         low    market        open  \\\n",
      "0  0.00087271  1727527500000  0.00087271  0.00087271  DOGSUSDT  0.00087271   \n",
      "1  0.00087271  1727527560000  0.00087271  0.00087271  DOGSUSDT  0.00087271   \n",
      "\n",
      "                value          volume  \n",
      "0  9.7807125230896102  11207.28824362  \n",
      "1                   0               0  \n",
      "     symbol                time     price  pct_change        volume\n",
      "0  DOGSUSDT 2024-09-28 12:45:00  0.000873         NaN  11207.288244\n",
      "1  DOGSUSDT 2024-09-28 12:46:00  0.000873         0.0      0.000000\n"
     ]
    },
    {
     "name": "stderr",
     "output_type": "stream",
     "text": [
      " 24%|██████████████████▉                                                            | 281/1174 [03:00<08:31,  1.75it/s]"
     ]
    },
    {
     "name": "stdout",
     "output_type": "stream",
     "text": [
      "    close     created_at    high     low     market    open           value  \\\n",
      "0  1.1507  1727527500000  1.1507  1.1507  TRIBLUSDT  1.1507  1.251570074325   \n",
      "1  1.1507  1727527560000  1.1507  1.1507  TRIBLUSDT  1.1507               0   \n",
      "\n",
      "       volume  \n",
      "0  1.08765975  \n",
      "1           0  \n",
      "      symbol                time   price  pct_change   volume\n",
      "0  TRIBLUSDT 2024-09-28 12:45:00  1.1507         NaN  1.08766\n",
      "1  TRIBLUSDT 2024-09-28 12:46:00  1.1507         0.0  0.00000\n"
     ]
    },
    {
     "name": "stderr",
     "output_type": "stream",
     "text": [
      " 24%|██████████████████▉                                                            | 282/1174 [03:00<08:37,  1.73it/s]"
     ]
    },
    {
     "name": "stdout",
     "output_type": "stream",
     "text": [
      "      close     created_at      high       low   market      open      value  \\\n",
      "0  0.127355  1727527500000  0.127355  0.127355  ALTUSDT  0.127355   1.451847   \n",
      "1  0.127356  1727527560000  0.127356  0.127356  ALTUSDT  0.127356  1.5155364   \n",
      "\n",
      "  volume  \n",
      "0   11.4  \n",
      "1   11.9  \n",
      "    symbol                time     price  pct_change  volume\n",
      "0  ALTUSDT 2024-09-28 12:45:00  0.127355         NaN    11.4\n",
      "1  ALTUSDT 2024-09-28 12:46:00  0.127356    0.000008    11.9\n"
     ]
    },
    {
     "name": "stderr",
     "output_type": "stream",
     "text": [
      " 24%|███████████████████                                                            | 283/1174 [03:01<08:32,  1.74it/s]"
     ]
    },
    {
     "name": "stdout",
     "output_type": "stream",
     "text": [
      "    close     created_at    high     low    market    open     value volume\n",
      "0  1.2703  1727527500000  1.2703  1.2703  FLIPUSDT  1.2703  1.473548   1.16\n",
      "1  1.2703  1727527560000  1.2703  1.2703  FLIPUSDT  1.2703  1.473548   1.16\n",
      "     symbol                time   price  pct_change  volume\n",
      "0  FLIPUSDT 2024-09-28 12:45:00  1.2703         NaN    1.16\n",
      "1  FLIPUSDT 2024-09-28 12:46:00  1.2703         0.0    1.16\n"
     ]
    },
    {
     "name": "stderr",
     "output_type": "stream",
     "text": [
      " 24%|███████████████████                                                            | 284/1174 [03:01<08:31,  1.74it/s]"
     ]
    },
    {
     "name": "stdout",
     "output_type": "stream",
     "text": [
      "        close     created_at        high         low       market        open  \\\n",
      "0  0.00496103  1727527500000  0.00496103  0.00496103  NOCHILLUSDT  0.00496103   \n",
      "1   0.0049645  1727527560000   0.0049645   0.0049645  NOCHILLUSDT   0.0049645   \n",
      "\n",
      "        value volume  \n",
      "0  2.95181285    595  \n",
      "1   2.9538775    595  \n",
      "        symbol                time     price  pct_change  volume\n",
      "0  NOCHILLUSDT 2024-09-28 12:45:00  0.004961         NaN   595.0\n",
      "1  NOCHILLUSDT 2024-09-28 12:46:00  0.004965    0.000699   595.0\n"
     ]
    },
    {
     "name": "stderr",
     "output_type": "stream",
     "text": [
      " 24%|███████████████████▏                                                           | 285/1174 [03:02<08:40,  1.71it/s]"
     ]
    },
    {
     "name": "stdout",
     "output_type": "stream",
     "text": [
      "      close     created_at      high       low    market      open  \\\n",
      "0  0.151595  1727527500000  0.151595  0.151595  PENGUSDT  0.151595   \n",
      "1  0.151595  1727527560000  0.151595  0.151595  PENGUSDT  0.151595   \n",
      "\n",
      "             value       volume  \n",
      "0  1.7548527930324  11.57592792  \n",
      "1                0            0  \n",
      "     symbol                time     price  pct_change     volume\n",
      "0  PENGUSDT 2024-09-28 12:45:00  0.151595         NaN  11.575928\n",
      "1  PENGUSDT 2024-09-28 12:46:00  0.151595         0.0   0.000000\n"
     ]
    },
    {
     "name": "stderr",
     "output_type": "stream",
     "text": [
      " 24%|███████████████████▏                                                           | 286/1174 [03:03<08:37,  1.72it/s]"
     ]
    },
    {
     "name": "stdout",
     "output_type": "stream",
     "text": [
      "          close     created_at          high           low   market  \\\n",
      "0   0.000001627  1727527500000   0.000001627   0.000001627  COQUSDT   \n",
      "1  0.0000016273  1727527560000  0.0000016273  0.0000016273  COQUSDT   \n",
      "\n",
      "           open    value   volume  \n",
      "0   0.000001627  1.90359  1170000  \n",
      "1  0.0000016273  1.79003  1100000  \n",
      "    symbol                time     price  pct_change     volume\n",
      "0  COQUSDT 2024-09-28 12:45:00  0.000002         NaN  1170000.0\n",
      "1  COQUSDT 2024-09-28 12:46:00  0.000002    0.000184  1100000.0\n"
     ]
    },
    {
     "name": "stderr",
     "output_type": "stream",
     "text": [
      " 24%|███████████████████▎                                                           | 287/1174 [03:03<08:28,  1.74it/s]"
     ]
    },
    {
     "name": "stdout",
     "output_type": "stream",
     "text": [
      "      close     created_at      high       low   market      open      value  \\\n",
      "0  0.045195  1727527500000  0.045195  0.045195  UTKUSDT  0.045195  2.6439075   \n",
      "1  0.045199  1727527560000  0.045199  0.045199  UTKUSDT  0.045199  2.5537435   \n",
      "\n",
      "  volume  \n",
      "0   58.5  \n",
      "1   56.5  \n",
      "    symbol                time     price  pct_change  volume\n",
      "0  UTKUSDT 2024-09-28 12:45:00  0.045195         NaN    58.5\n",
      "1  UTKUSDT 2024-09-28 12:46:00  0.045199    0.000089    56.5\n"
     ]
    },
    {
     "name": "stderr",
     "output_type": "stream",
     "text": [
      " 25%|███████████████████▍                                                           | 288/1174 [03:04<08:33,  1.72it/s]"
     ]
    },
    {
     "name": "stdout",
     "output_type": "stream",
     "text": [
      "      close     created_at      high       low   market      open      value  \\\n",
      "0  0.050556  1727527500000  0.050556  0.050556  FSNUSDT  0.050556   3.008082   \n",
      "1  0.050535  1727527560000  0.050535  0.050535  FSNUSDT  0.050535  2.9057625   \n",
      "\n",
      "  volume  \n",
      "0   59.5  \n",
      "1   57.5  \n",
      "    symbol                time     price  pct_change  volume\n",
      "0  FSNUSDT 2024-09-28 12:45:00  0.050556         NaN    59.5\n",
      "1  FSNUSDT 2024-09-28 12:46:00  0.050535   -0.000415    57.5\n"
     ]
    },
    {
     "name": "stderr",
     "output_type": "stream",
     "text": [
      " 25%|███████████████████▍                                                           | 289/1174 [03:04<08:52,  1.66it/s]"
     ]
    },
    {
     "name": "stdout",
     "output_type": "stream",
     "text": [
      "      close     created_at      high       low    market      open     value  \\\n",
      "0  0.029971  1727527500000  0.029971  0.029971  ANKRUSDT  0.029971  1.648405   \n",
      "1  0.029971  1727527560000  0.029971  0.029971  ANKRUSDT  0.029971  1.648405   \n",
      "\n",
      "  volume  \n",
      "0     55  \n",
      "1     55  \n",
      "     symbol                time     price  pct_change  volume\n",
      "0  ANKRUSDT 2024-09-28 12:45:00  0.029971         NaN    55.0\n",
      "1  ANKRUSDT 2024-09-28 12:46:00  0.029971         0.0    55.0\n"
     ]
    },
    {
     "name": "stderr",
     "output_type": "stream",
     "text": [
      " 25%|███████████████████▌                                                           | 290/1174 [03:05<08:40,  1.70it/s]"
     ]
    },
    {
     "name": "stdout",
     "output_type": "stream",
     "text": [
      "    close     created_at    high     low   market    open     value volume\n",
      "0  0.9901  1727527500000  0.9901  0.9901  PNPUSDT  0.9901  1.099011   1.11\n",
      "1  0.9906  1727527560000  0.9906  0.9906  PNPUSDT  0.9906  1.149096   1.16\n",
      "    symbol                time   price  pct_change  volume\n",
      "0  PNPUSDT 2024-09-28 12:45:00  0.9901         NaN    1.11\n",
      "1  PNPUSDT 2024-09-28 12:46:00  0.9906    0.000505    1.16\n"
     ]
    },
    {
     "name": "stderr",
     "output_type": "stream",
     "text": [
      " 25%|███████████████████▌                                                           | 291/1174 [03:06<08:27,  1.74it/s]"
     ]
    },
    {
     "name": "stdout",
     "output_type": "stream",
     "text": [
      "        close     created_at        high         low        market  \\\n",
      "0  0.00047434  1727527500000  0.00047434  0.00047434  ZEROLENDUSDT   \n",
      "1  0.00047434  1727527560000  0.00047434  0.00047434  ZEROLENDUSDT   \n",
      "\n",
      "         open               value         volume  \n",
      "0  0.00047434  2.5970085950422286  5474.99387579  \n",
      "1  0.00047434                   0              0  \n",
      "         symbol                time     price  pct_change       volume\n",
      "0  ZEROLENDUSDT 2024-09-28 12:45:00  0.000474         NaN  5474.993876\n",
      "1  ZEROLENDUSDT 2024-09-28 12:46:00  0.000474         0.0     0.000000\n"
     ]
    },
    {
     "name": "stderr",
     "output_type": "stream",
     "text": [
      " 25%|███████████████████▋                                                           | 292/1174 [03:06<08:21,  1.76it/s]"
     ]
    },
    {
     "name": "stdout",
     "output_type": "stream",
     "text": [
      "            close     created_at            high             low   market  \\\n",
      "0  0.012658459027  1727527500000  0.012658459027  0.012658459027  ATRUSDT   \n",
      "1  0.012659724872  1727527560000  0.012659724872  0.012659724872  ATRUSDT   \n",
      "\n",
      "             open           value volume  \n",
      "0  0.012658459027  1.481039706159    117  \n",
      "1  0.012659724872  1.468528085152    116  \n",
      "    symbol                time     price  pct_change  volume\n",
      "0  ATRUSDT 2024-09-28 12:45:00  0.012658         NaN   117.0\n",
      "1  ATRUSDT 2024-09-28 12:46:00  0.012660      0.0001   116.0\n"
     ]
    },
    {
     "name": "stderr",
     "output_type": "stream",
     "text": [
      " 25%|███████████████████▋                                                           | 293/1174 [03:07<08:35,  1.71it/s]"
     ]
    },
    {
     "name": "stdout",
     "output_type": "stream",
     "text": [
      "      close     created_at      high       low   market      open     value  \\\n",
      "0  0.015619  1727527500000  0.015619  0.015619  PSPUSDT  0.015619  1.811804   \n",
      "1  0.015619  1727527560000  0.015619  0.015619  PSPUSDT  0.015619  1.827423   \n",
      "\n",
      "  volume  \n",
      "0    116  \n",
      "1    117  \n",
      "    symbol                time     price  pct_change  volume\n",
      "0  PSPUSDT 2024-09-28 12:45:00  0.015619         NaN   116.0\n",
      "1  PSPUSDT 2024-09-28 12:46:00  0.015619         0.0   117.0\n"
     ]
    },
    {
     "name": "stderr",
     "output_type": "stream",
     "text": [
      " 25%|███████████████████▊                                                           | 294/1174 [03:07<08:28,  1.73it/s]"
     ]
    },
    {
     "name": "stdout",
     "output_type": "stream",
     "text": [
      "            close     created_at            high             low   market  \\\n",
      "0  0.000000000365  1727527500000  0.000000000365  0.000000000365  PITUSDT   \n",
      "1  0.000000000365  1727527560000  0.000000000365  0.000000000365  PITUSDT   \n",
      "\n",
      "             open    value      volume  \n",
      "0  0.000000000365   2.1535  5900000000  \n",
      "1  0.000000000365  2.09875  5750000000  \n",
      "    symbol                time         price  pct_change        volume\n",
      "0  PITUSDT 2024-09-28 12:45:00  3.650000e-10         NaN  5.900000e+09\n",
      "1  PITUSDT 2024-09-28 12:46:00  3.650000e-10         0.0  5.750000e+09\n"
     ]
    },
    {
     "name": "stderr",
     "output_type": "stream",
     "text": [
      " 25%|███████████████████▊                                                           | 295/1174 [03:08<08:22,  1.75it/s]"
     ]
    },
    {
     "name": "stdout",
     "output_type": "stream",
     "text": [
      "      close     created_at      high       low   market      open     value  \\\n",
      "0   0.00781  1727527500000   0.00781   0.00781  COSUSDT   0.00781   4.49075   \n",
      "1  0.007805  1727527560000  0.007805  0.007805  COSUSDT  0.007805  4.487875   \n",
      "\n",
      "  volume  \n",
      "0    575  \n",
      "1    575  \n",
      "    symbol                time     price  pct_change  volume\n",
      "0  COSUSDT 2024-09-28 12:45:00  0.007810         NaN   575.0\n",
      "1  COSUSDT 2024-09-28 12:46:00  0.007805    -0.00064   575.0\n"
     ]
    },
    {
     "name": "stderr",
     "output_type": "stream",
     "text": [
      " 25%|███████████████████▉                                                           | 296/1174 [03:08<08:22,  1.75it/s]"
     ]
    },
    {
     "name": "stdout",
     "output_type": "stream",
     "text": [
      "      close     created_at      high       low     market      open     value  \\\n",
      "0  0.109145  1727527500000  0.109145  0.109145  AERGOUSDT  0.109145  1.266082   \n",
      "1  0.109134  1727527560000  0.109134  0.109134  AERGOUSDT  0.109134  1.255041   \n",
      "\n",
      "  volume  \n",
      "0   11.6  \n",
      "1   11.5  \n",
      "      symbol                time     price  pct_change  volume\n",
      "0  AERGOUSDT 2024-09-28 12:45:00  0.109145         NaN    11.6\n",
      "1  AERGOUSDT 2024-09-28 12:46:00  0.109134   -0.000101    11.5\n"
     ]
    },
    {
     "name": "stderr",
     "output_type": "stream",
     "text": [
      " 25%|███████████████████▉                                                           | 297/1174 [03:09<08:27,  1.73it/s]"
     ]
    },
    {
     "name": "stdout",
     "output_type": "stream",
     "text": [
      "      close     created_at      high       low   market      open     value  \\\n",
      "0  0.006324  1727527500000  0.006324  0.006324  WOMUSDT  0.006324   3.66792   \n",
      "1  0.006329  1727527560000  0.006329  0.006329  WOMUSDT  0.006329  3.765755   \n",
      "\n",
      "  volume  \n",
      "0    580  \n",
      "1    595  \n",
      "    symbol                time     price  pct_change  volume\n",
      "0  WOMUSDT 2024-09-28 12:45:00  0.006324         NaN   580.0\n",
      "1  WOMUSDT 2024-09-28 12:46:00  0.006329     0.00079   595.0\n"
     ]
    },
    {
     "name": "stderr",
     "output_type": "stream",
     "text": [
      " 25%|████████████████████                                                           | 298/1174 [03:10<08:24,  1.74it/s]"
     ]
    },
    {
     "name": "stdout",
     "output_type": "stream",
     "text": [
      "    close     created_at    high     low   market    open      value volume\n",
      "0  2.3973  1727527500000  2.3973  2.3973  GNSUSDT  2.3973   1.318515   0.55\n",
      "1  2.3973  1727527560000  2.3973  2.3973  GNSUSDT  2.3973  1.3544745  0.565\n",
      "    symbol                time   price  pct_change  volume\n",
      "0  GNSUSDT 2024-09-28 12:45:00  2.3973         NaN   0.550\n",
      "1  GNSUSDT 2024-09-28 12:46:00  2.3973         0.0   0.565\n"
     ]
    },
    {
     "name": "stderr",
     "output_type": "stream",
     "text": [
      " 25%|████████████████████                                                           | 299/1174 [03:10<08:19,  1.75it/s]"
     ]
    },
    {
     "name": "stdout",
     "output_type": "stream",
     "text": [
      "      close     created_at      high       low    market      open  \\\n",
      "0   0.26919  1727527500000   0.26919   0.26919  MONAUSDT   0.26919   \n",
      "1  0.268837  1727527560000  0.268837  0.268836  MONAUSDT  0.268836   \n",
      "\n",
      "               value       volume  \n",
      "0          1.5209235         5.65  \n",
      "1  15.68386399031108  58.33987353  \n",
      "     symbol                time     price  pct_change     volume\n",
      "0  MONAUSDT 2024-09-28 12:45:00  0.269190         NaN   5.650000\n",
      "1  MONAUSDT 2024-09-28 12:46:00  0.268837   -0.001312  58.339874\n"
     ]
    },
    {
     "name": "stderr",
     "output_type": "stream",
     "text": [
      " 26%|████████████████████▏                                                          | 300/1174 [03:11<08:11,  1.78it/s]"
     ]
    },
    {
     "name": "stdout",
     "output_type": "stream",
     "text": [
      "      close     created_at      high       low      market      open  \\\n",
      "0  0.013367  1727527500000  0.013367  0.013367  BENDOGUSDT  0.013367   \n",
      "1  0.013365  1727527560000  0.013365  0.013365  BENDOGUSDT  0.013365   \n",
      "\n",
      "      value volume  \n",
      "0   1.47037    110  \n",
      "1  1.536975    115  \n",
      "       symbol                time     price  pct_change  volume\n",
      "0  BENDOGUSDT 2024-09-28 12:45:00  0.013367         NaN   110.0\n",
      "1  BENDOGUSDT 2024-09-28 12:46:00  0.013365    -0.00015   115.0\n"
     ]
    },
    {
     "name": "stderr",
     "output_type": "stream",
     "text": [
      " 26%|████████████████████▎                                                          | 301/1174 [03:12<10:29,  1.39it/s]"
     ]
    },
    {
     "name": "stdout",
     "output_type": "stream",
     "text": [
      "      close     created_at      high       low      market      open  \\\n",
      "0  0.018346  1727527500000  0.018346  0.018346  LOCKINUSDT  0.018346   \n",
      "1   0.01834  1727527560000   0.01834   0.01834  LOCKINUSDT   0.01834   \n",
      "\n",
      "      value volume  \n",
      "0  2.054752    112  \n",
      "1   2.05408    112  \n",
      "       symbol                time     price  pct_change  volume\n",
      "0  LOCKINUSDT 2024-09-28 12:45:00  0.018346         NaN   112.0\n",
      "1  LOCKINUSDT 2024-09-28 12:46:00  0.018340   -0.000327   112.0\n"
     ]
    },
    {
     "name": "stderr",
     "output_type": "stream",
     "text": [
      " 26%|████████████████████▎                                                          | 302/1174 [03:12<10:04,  1.44it/s]"
     ]
    },
    {
     "name": "stdout",
     "output_type": "stream",
     "text": [
      "    close     created_at    high     low    market    open     value volume\n",
      "0  0.2491  1727527500000  0.2491  0.2491  BICOUSDT  0.2491  1.482145   5.95\n",
      "1  0.2493  1727527560000  0.2493  0.2493  BICOUSDT  0.2493   1.47087    5.9\n",
      "     symbol                time   price  pct_change  volume\n",
      "0  BICOUSDT 2024-09-28 12:45:00  0.2491         NaN    5.95\n",
      "1  BICOUSDT 2024-09-28 12:46:00  0.2493    0.000803    5.90\n"
     ]
    },
    {
     "name": "stderr",
     "output_type": "stream",
     "text": [
      " 26%|████████████████████▍                                                          | 303/1174 [03:13<09:31,  1.52it/s]"
     ]
    },
    {
     "name": "stdout",
     "output_type": "stream",
     "text": [
      "          close     created_at          high           low   market  \\\n",
      "0  0.0000004207  1727527500000  0.0000004207  0.0000004207  NFTUSDT   \n",
      "1  0.0000004209  1727527560000  0.0000004209  0.0000004209  NFTUSDT   \n",
      "\n",
      "           open    value   volume  \n",
      "0  0.0000004207  2.48213  5900000  \n",
      "1  0.0000004209  2.48331  5900000  \n",
      "    symbol                time         price  pct_change     volume\n",
      "0  NFTUSDT 2024-09-28 12:45:00  4.207000e-07         NaN  5900000.0\n",
      "1  NFTUSDT 2024-09-28 12:46:00  4.209000e-07    0.000475  5900000.0\n"
     ]
    },
    {
     "name": "stderr",
     "output_type": "stream",
     "text": [
      " 26%|████████████████████▍                                                          | 304/1174 [03:14<09:06,  1.59it/s]"
     ]
    },
    {
     "name": "stdout",
     "output_type": "stream",
     "text": [
      "        close     created_at        high         low     market        open  \\\n",
      "0  0.00003334  1727527500000  0.00003357  0.00003334  DOGGOUSDT  0.00003357   \n",
      "1  0.00003334  1727527560000  0.00003334  0.00003334  DOGGOUSDT  0.00003334   \n",
      "\n",
      "                  value            volume  \n",
      "0  297.8886289135042955  8914452.88829104  \n",
      "1     1.685018234339616     50540.4389424  \n",
      "      symbol                time     price  pct_change        volume\n",
      "0  DOGGOUSDT 2024-09-28 12:45:00  0.000033         NaN  8.914453e+06\n",
      "1  DOGGOUSDT 2024-09-28 12:46:00  0.000033         0.0  5.054044e+04\n"
     ]
    },
    {
     "name": "stderr",
     "output_type": "stream",
     "text": [
      " 26%|████████████████████▌                                                          | 305/1174 [03:14<08:48,  1.64it/s]"
     ]
    },
    {
     "name": "stdout",
     "output_type": "stream",
     "text": [
      "   close     created_at   high    low   market   open     value  volume\n",
      "0  55.11  1727527500000  55.11  55.11  OREUSDT  55.11   3.25149   0.059\n",
      "1  55.15  1727527560000  55.15  55.15  OREUSDT  55.15  3.281425  0.0595\n",
      "    symbol                time  price  pct_change  volume\n",
      "0  OREUSDT 2024-09-28 12:45:00  55.11         NaN  0.0590\n",
      "1  OREUSDT 2024-09-28 12:46:00  55.15    0.000726  0.0595\n"
     ]
    },
    {
     "name": "stderr",
     "output_type": "stream",
     "text": [
      " 26%|████████████████████▌                                                          | 306/1174 [03:15<08:32,  1.69it/s]"
     ]
    },
    {
     "name": "stdout",
     "output_type": "stream",
     "text": [
      "        close     created_at        high         low   market        open  \\\n",
      "0  0.00166659  1727527500000  0.00166659  0.00166659  ACSUSDT  0.00166659   \n",
      "1  0.00166663  1727527560000  0.00166663  0.00166649  ACSUSDT  0.00166649   \n",
      "\n",
      "                value         volume  \n",
      "0  1.8612273316875375  1116.78777125  \n",
      "1  3.5462952960540686  2127.91755788  \n",
      "    symbol                time     price  pct_change       volume\n",
      "0  ACSUSDT 2024-09-28 12:45:00  0.001667         NaN  1116.787771\n",
      "1  ACSUSDT 2024-09-28 12:46:00  0.001667    0.000024  2127.917558\n"
     ]
    },
    {
     "name": "stderr",
     "output_type": "stream",
     "text": [
      " 26%|████████████████████▋                                                          | 307/1174 [03:15<08:26,  1.71it/s]"
     ]
    },
    {
     "name": "stdout",
     "output_type": "stream",
     "text": [
      "      close     created_at      high       low     market      open    value  \\\n",
      "0  0.004949  1727527500000  0.004949  0.004949  RADARUSDT  0.004949  2.91991   \n",
      "1  0.004945  1727527560000  0.004945  0.004945  RADARUSDT  0.004945   2.7692   \n",
      "\n",
      "  volume  \n",
      "0    590  \n",
      "1    560  \n",
      "      symbol                time     price  pct_change  volume\n",
      "0  RADARUSDT 2024-09-28 12:45:00  0.004949         NaN   590.0\n",
      "1  RADARUSDT 2024-09-28 12:46:00  0.004945   -0.000809   560.0\n"
     ]
    },
    {
     "name": "stderr",
     "output_type": "stream",
     "text": [
      " 26%|████████████████████▋                                                          | 308/1174 [03:16<08:23,  1.72it/s]"
     ]
    },
    {
     "name": "stdout",
     "output_type": "stream",
     "text": [
      "        close     created_at        high         low     market        open  \\\n",
      "0   0.0018627  1727527500000   0.0018627   0.0018627  SAROSUSDT   0.0018627   \n",
      "1  0.00186139  1727527560000  0.00186139  0.00186139  SAROSUSDT  0.00186139   \n",
      "\n",
      "       value volume  \n",
      "0   2.179359   1170  \n",
      "1  2.1778263   1170  \n",
      "      symbol                time     price  pct_change  volume\n",
      "0  SAROSUSDT 2024-09-28 12:45:00  0.001863         NaN  1170.0\n",
      "1  SAROSUSDT 2024-09-28 12:46:00  0.001861   -0.000704  1170.0\n"
     ]
    },
    {
     "name": "stderr",
     "output_type": "stream",
     "text": [
      " 26%|████████████████████▊                                                          | 309/1174 [03:16<08:19,  1.73it/s]"
     ]
    },
    {
     "name": "stdout",
     "output_type": "stream",
     "text": [
      "        close     created_at        high         low    market        open  \\\n",
      "0  0.00026456  1727527500000   0.0002646  0.00026456  DOMEUSDT   0.0002646   \n",
      "1  0.00026456  1727527560000  0.00026456  0.00026456  DOMEUSDT  0.00026456   \n",
      "\n",
      "                value          volume  \n",
      "0  2.7854487169533572  10527.77602924  \n",
      "1                   0               0  \n",
      "     symbol                time     price  pct_change        volume\n",
      "0  DOMEUSDT 2024-09-28 12:45:00  0.000265         NaN  10527.776029\n",
      "1  DOMEUSDT 2024-09-28 12:46:00  0.000265         0.0      0.000000\n"
     ]
    },
    {
     "name": "stderr",
     "output_type": "stream",
     "text": [
      " 26%|████████████████████▊                                                          | 310/1174 [03:17<08:18,  1.73it/s]"
     ]
    },
    {
     "name": "stdout",
     "output_type": "stream",
     "text": [
      "    close     created_at    high     low    market    open     value volume\n",
      "0  1.6272  1727527500000  1.6272  1.6272  API3USDT  1.6272  1.887552   1.16\n",
      "1  1.6275  1727527560000  1.6275  1.6275  API3USDT  1.6275  1.871625   1.15\n",
      "     symbol                time   price  pct_change  volume\n",
      "0  API3USDT 2024-09-28 12:45:00  1.6272         NaN    1.16\n",
      "1  API3USDT 2024-09-28 12:46:00  1.6275    0.000184    1.15\n"
     ]
    },
    {
     "name": "stderr",
     "output_type": "stream",
     "text": [
      " 26%|████████████████████▉                                                          | 311/1174 [03:17<08:13,  1.75it/s]"
     ]
    },
    {
     "name": "stdout",
     "output_type": "stream",
     "text": [
      "    close     created_at    high     low   market    open          value  \\\n",
      "0  2.3756  1727527500000  2.3756  2.3756  HACUSDT  2.3756  1.27647627802   \n",
      "1  2.3756  1727527560000  2.3756  2.3756  HACUSDT  2.3756              0   \n",
      "\n",
      "       volume  \n",
      "0  0.53732795  \n",
      "1           0  \n",
      "    symbol                time   price  pct_change    volume\n",
      "0  HACUSDT 2024-09-28 12:45:00  2.3756         NaN  0.537328\n",
      "1  HACUSDT 2024-09-28 12:46:00  2.3756         0.0  0.000000\n"
     ]
    },
    {
     "name": "stderr",
     "output_type": "stream",
     "text": [
      " 27%|████████████████████▉                                                          | 312/1174 [03:18<08:45,  1.64it/s]"
     ]
    },
    {
     "name": "stdout",
     "output_type": "stream",
     "text": [
      "      close     created_at      high       low     market      open  \\\n",
      "0  0.025048  1727527500000  0.025048  0.025048  HELLOUSDT  0.025048   \n",
      "1  0.025074  1727527560000  0.025074   0.02506  HELLOUSDT   0.02506   \n",
      "\n",
      "          value   volume  \n",
      "0      1.415212     56.5  \n",
      "1  12.586390222  502.003  \n",
      "      symbol                time     price  pct_change   volume\n",
      "0  HELLOUSDT 2024-09-28 12:45:00  0.025048         NaN   56.500\n",
      "1  HELLOUSDT 2024-09-28 12:46:00  0.025074    0.001037  502.003\n"
     ]
    },
    {
     "name": "stderr",
     "output_type": "stream",
     "text": [
      " 27%|█████████████████████                                                          | 313/1174 [03:19<08:37,  1.66it/s]"
     ]
    },
    {
     "name": "stdout",
     "output_type": "stream",
     "text": [
      "    close     created_at    high     low    market    open     value volume\n",
      "0  0.6837  1727527500000  0.6837  0.6837  TOKEUSDT  0.6837   3.76035    5.5\n",
      "1  0.6837  1727527560000  0.6837  0.6837  TOKEUSDT  0.6837  3.931275   5.75\n",
      "     symbol                time   price  pct_change  volume\n",
      "0  TOKEUSDT 2024-09-28 12:45:00  0.6837         NaN    5.50\n",
      "1  TOKEUSDT 2024-09-28 12:46:00  0.6837         0.0    5.75\n"
     ]
    },
    {
     "name": "stderr",
     "output_type": "stream",
     "text": [
      " 27%|█████████████████████▏                                                         | 314/1174 [03:19<08:32,  1.68it/s]"
     ]
    },
    {
     "name": "stdout",
     "output_type": "stream",
     "text": [
      "      close     created_at      high       low    market      open  \\\n",
      "0  0.038919  1727527500000  0.038919  0.038919  BEAMUSDT  0.038919   \n",
      "1  0.038934  1727527560000  0.038934  0.038919  BEAMUSDT  0.038919   \n",
      "\n",
      "              value        volume  \n",
      "0  2.11464124216368   54.33441872  \n",
      "1  4.07914175522262  104.79088283  \n",
      "     symbol                time     price  pct_change      volume\n",
      "0  BEAMUSDT 2024-09-28 12:45:00  0.038919         NaN   54.334419\n",
      "1  BEAMUSDT 2024-09-28 12:46:00  0.038934    0.000385  104.790883\n"
     ]
    },
    {
     "name": "stderr",
     "output_type": "stream",
     "text": [
      " 27%|█████████████████████▏                                                         | 315/1174 [03:20<08:40,  1.65it/s]"
     ]
    },
    {
     "name": "stdout",
     "output_type": "stream",
     "text": [
      "     close     created_at     high      low    market     open  \\\n",
      "0  0.04649  1727527500000  0.04649  0.04649  TOMIUSDT  0.04649   \n",
      "1  0.04649  1727527560000  0.04649  0.04649  TOMIUSDT  0.04649   \n",
      "\n",
      "             value       volume  \n",
      "0  2.5373606769938  54.57863362  \n",
      "1                0            0  \n",
      "     symbol                time    price  pct_change     volume\n",
      "0  TOMIUSDT 2024-09-28 12:45:00  0.04649         NaN  54.578634\n",
      "1  TOMIUSDT 2024-09-28 12:46:00  0.04649         0.0   0.000000\n"
     ]
    },
    {
     "name": "stderr",
     "output_type": "stream",
     "text": [
      " 27%|█████████████████████▎                                                         | 316/1174 [03:21<08:31,  1.68it/s]"
     ]
    },
    {
     "name": "stdout",
     "output_type": "stream",
     "text": [
      "    close     created_at    high     low   market    open           value  \\\n",
      "0  0.2788  1727527500000  0.2789  0.2788  KMDUSDT  0.2788  40.37888665457   \n",
      "1  0.2789  1727527560000  0.2789  0.2786  KMDUSDT  0.2786      6.33219689   \n",
      "\n",
      "        volume  \n",
      "0  144.7882813  \n",
      "1      22.7101  \n",
      "    symbol                time   price  pct_change      volume\n",
      "0  KMDUSDT 2024-09-28 12:45:00  0.2788         NaN  144.788281\n",
      "1  KMDUSDT 2024-09-28 12:46:00  0.2789    0.000359   22.710100\n"
     ]
    },
    {
     "name": "stderr",
     "output_type": "stream",
     "text": [
      " 27%|█████████████████████▎                                                         | 317/1174 [03:21<08:25,  1.70it/s]"
     ]
    },
    {
     "name": "stdout",
     "output_type": "stream",
     "text": [
      "      close     created_at      high       low   market      open      value  \\\n",
      "0  0.160939  1727527500000  0.160939  0.160939  ADXUSDT  0.160939  1.8829863   \n",
      "1   0.16081  1727527560000   0.16081   0.16081  ADXUSDT   0.16081    1.76891   \n",
      "\n",
      "  volume  \n",
      "0   11.7  \n",
      "1     11  \n",
      "    symbol                time     price  pct_change  volume\n",
      "0  ADXUSDT 2024-09-28 12:45:00  0.160939         NaN    11.7\n",
      "1  ADXUSDT 2024-09-28 12:46:00  0.160810   -0.000802    11.0\n"
     ]
    },
    {
     "name": "stderr",
     "output_type": "stream",
     "text": [
      " 27%|█████████████████████▍                                                         | 318/1174 [03:22<08:17,  1.72it/s]"
     ]
    },
    {
     "name": "stdout",
     "output_type": "stream",
     "text": [
      "      close     created_at      high       low    market      open      value  \\\n",
      "0  0.046811  1727527500000  0.046811  0.046811  ARPAUSDT  0.046811   2.574605   \n",
      "1  0.046839  1727527560000  0.046839  0.046839  ARPAUSDT  0.046839  2.6932425   \n",
      "\n",
      "  volume  \n",
      "0     55  \n",
      "1   57.5  \n",
      "     symbol                time     price  pct_change  volume\n",
      "0  ARPAUSDT 2024-09-28 12:45:00  0.046811         NaN    55.0\n",
      "1  ARPAUSDT 2024-09-28 12:46:00  0.046839    0.000598    57.5\n"
     ]
    },
    {
     "name": "stderr",
     "output_type": "stream",
     "text": [
      " 27%|█████████████████████▍                                                         | 319/1174 [03:22<08:16,  1.72it/s]"
     ]
    },
    {
     "name": "stdout",
     "output_type": "stream",
     "text": [
      "      close     created_at      high       low     market      open  \\\n",
      "0  0.162077  1727527500000  0.162077  0.162077  AVAILUSDT  0.162077   \n",
      "1  0.162077  1727527560000  0.162077  0.162077  AVAILUSDT  0.162077   \n",
      "\n",
      "       value volume  \n",
      "0  1.9287163   11.9  \n",
      "1   1.782847     11  \n",
      "      symbol                time     price  pct_change  volume\n",
      "0  AVAILUSDT 2024-09-28 12:45:00  0.162077         NaN    11.9\n",
      "1  AVAILUSDT 2024-09-28 12:46:00  0.162077         0.0    11.0\n"
     ]
    },
    {
     "name": "stderr",
     "output_type": "stream",
     "text": [
      " 27%|█████████████████████▌                                                         | 320/1174 [03:23<09:03,  1.57it/s]"
     ]
    },
    {
     "name": "stdout",
     "output_type": "stream",
     "text": [
      "    close     created_at    high     low    market    open    value volume\n",
      "0  0.7339  1727527560000  0.7339  0.7339  ZETAUSDT  0.7339  4.03645    5.5\n",
      "1  0.7339  1727527620000  0.7339  0.7339  ZETAUSDT  0.7339        0      0\n",
      "     symbol                time   price  pct_change  volume\n",
      "0  ZETAUSDT 2024-09-28 12:46:00  0.7339         NaN     5.5\n",
      "1  ZETAUSDT 2024-09-28 12:47:00  0.7339         0.0     0.0\n"
     ]
    },
    {
     "name": "stderr",
     "output_type": "stream",
     "text": [
      " 27%|█████████████████████▌                                                         | 321/1174 [03:24<08:45,  1.62it/s]"
     ]
    },
    {
     "name": "stdout",
     "output_type": "stream",
     "text": [
      "      close     created_at      high       low     market      open value  \\\n",
      "0  0.003083  1727527560000  0.003083  0.003083  NEIROUSDT  0.003083     0   \n",
      "1  0.003083  1727527620000  0.003083  0.003083  NEIROUSDT  0.003083     0   \n",
      "\n",
      "  volume  \n",
      "0      0  \n",
      "1      0  \n",
      "      symbol                time     price  pct_change  volume\n",
      "0  NEIROUSDT 2024-09-28 12:46:00  0.003083         NaN     0.0\n",
      "1  NEIROUSDT 2024-09-28 12:47:00  0.003083         0.0     0.0\n"
     ]
    },
    {
     "name": "stderr",
     "output_type": "stream",
     "text": [
      " 27%|█████████████████████▋                                                         | 322/1174 [03:24<08:39,  1.64it/s]"
     ]
    },
    {
     "name": "stdout",
     "output_type": "stream",
     "text": [
      "    close     created_at    high     low   market    open     value volume\n",
      "0  1.0002  1727527560000  1.0002  1.0002  DAIUSDT  1.0002  1.120224   1.12\n",
      "1  1.0002  1727527620000  1.0002  1.0002  DAIUSDT  1.0002         0      0\n",
      "    symbol                time   price  pct_change  volume\n",
      "0  DAIUSDT 2024-09-28 12:46:00  1.0002         NaN    1.12\n",
      "1  DAIUSDT 2024-09-28 12:47:00  1.0002         0.0    0.00\n"
     ]
    },
    {
     "name": "stderr",
     "output_type": "stream",
     "text": [
      " 28%|█████████████████████▋                                                         | 323/1174 [03:25<08:37,  1.65it/s]"
     ]
    },
    {
     "name": "stdout",
     "output_type": "stream",
     "text": [
      "      close     created_at      high       low    market      open  \\\n",
      "0  0.012765  1727527560000  0.012765  0.012765  ORDSUSDT  0.012765   \n",
      "1  0.012765  1727527620000  0.012765  0.012765  ORDSUSDT  0.012765   \n",
      "\n",
      "             value        volume  \n",
      "0  1.3177355201253  103.23035802  \n",
      "1                0             0  \n",
      "     symbol                time     price  pct_change      volume\n",
      "0  ORDSUSDT 2024-09-28 12:46:00  0.012765         NaN  103.230358\n",
      "1  ORDSUSDT 2024-09-28 12:47:00  0.012765         0.0    0.000000\n"
     ]
    },
    {
     "name": "stderr",
     "output_type": "stream",
     "text": [
      " 28%|█████████████████████▊                                                         | 324/1174 [03:25<08:21,  1.69it/s]"
     ]
    },
    {
     "name": "stdout",
     "output_type": "stream",
     "text": [
      "      close     created_at      high       low   market      open     value  \\\n",
      "0  0.015891  1727527560000  0.015891  0.015891  XYMUSDT  0.015891  1.811574   \n",
      "1  0.015891  1727527620000  0.015891  0.015891  XYMUSDT  0.015891         0   \n",
      "\n",
      "  volume  \n",
      "0    114  \n",
      "1      0  \n",
      "    symbol                time     price  pct_change  volume\n",
      "0  XYMUSDT 2024-09-28 12:46:00  0.015891         NaN   114.0\n",
      "1  XYMUSDT 2024-09-28 12:47:00  0.015891         0.0     0.0\n"
     ]
    },
    {
     "name": "stderr",
     "output_type": "stream",
     "text": [
      " 28%|█████████████████████▊                                                         | 325/1174 [03:26<08:08,  1.74it/s]"
     ]
    },
    {
     "name": "stdout",
     "output_type": "stream",
     "text": [
      "            close     created_at            high             low  \\\n",
      "0  0.000000003156  1727527560000  0.000000003156  0.000000003156   \n",
      "1  0.000000003156  1727527620000  0.000000003156  0.000000003156   \n",
      "\n",
      "         market            open    value     volume  \n",
      "0  K_SMILEYUSDT  0.000000003156  1.75158  555000000  \n",
      "1  K_SMILEYUSDT  0.000000003156        0          0  \n",
      "         symbol                time         price  pct_change       volume\n",
      "0  K_SMILEYUSDT 2024-09-28 12:46:00  3.156000e-09         NaN  555000000.0\n",
      "1  K_SMILEYUSDT 2024-09-28 12:47:00  3.156000e-09         0.0          0.0\n"
     ]
    },
    {
     "name": "stderr",
     "output_type": "stream",
     "text": [
      " 28%|█████████████████████▉                                                         | 326/1174 [03:26<08:05,  1.75it/s]"
     ]
    },
    {
     "name": "stdout",
     "output_type": "stream",
     "text": [
      "    close     created_at    high     low    market    open    value volume\n",
      "0  0.4452  1727527560000  0.4452  0.4452  XAVAUSDT  0.4452  2.51538   5.65\n",
      "1  0.4452  1727527620000  0.4452  0.4452  XAVAUSDT  0.4452        0      0\n",
      "     symbol                time   price  pct_change  volume\n",
      "0  XAVAUSDT 2024-09-28 12:46:00  0.4452         NaN    5.65\n",
      "1  XAVAUSDT 2024-09-28 12:47:00  0.4452         0.0    0.00\n"
     ]
    },
    {
     "name": "stderr",
     "output_type": "stream",
     "text": [
      " 28%|██████████████████████                                                         | 327/1174 [03:27<08:09,  1.73it/s]"
     ]
    },
    {
     "name": "stdout",
     "output_type": "stream",
     "text": [
      "    close     created_at    high     low  market    open          value  \\\n",
      "0  0.3768  1727527560000  0.3768  0.3768  BBUSDT  0.3768  2.17854290208   \n",
      "1  0.3768  1727527620000  0.3768  0.3768  BBUSDT  0.3768              0   \n",
      "\n",
      "      volume  \n",
      "0  5.7816956  \n",
      "1          0  \n",
      "   symbol                time   price  pct_change    volume\n",
      "0  BBUSDT 2024-09-28 12:46:00  0.3768         NaN  5.781696\n",
      "1  BBUSDT 2024-09-28 12:47:00  0.3768         0.0  0.000000\n"
     ]
    },
    {
     "name": "stderr",
     "output_type": "stream",
     "text": [
      " 28%|██████████████████████                                                         | 328/1174 [03:28<08:02,  1.75it/s]"
     ]
    },
    {
     "name": "stdout",
     "output_type": "stream",
     "text": [
      "            close     created_at            high             low      market  \\\n",
      "0  0.000000000329  1727527560000  0.000000000329  0.000000000329  AIDOGEUSDT   \n",
      "1  0.000000000329  1727527620000  0.000000000329  0.000000000329  AIDOGEUSDT   \n",
      "\n",
      "             open   value      volume  \n",
      "0  0.000000000329  1.8753  5700000000  \n",
      "1  0.000000000329       0           0  \n",
      "       symbol                time         price  pct_change        volume\n",
      "0  AIDOGEUSDT 2024-09-28 12:46:00  3.290000e-10         NaN  5.700000e+09\n",
      "1  AIDOGEUSDT 2024-09-28 12:47:00  3.290000e-10         0.0  0.000000e+00\n"
     ]
    },
    {
     "name": "stderr",
     "output_type": "stream",
     "text": [
      " 28%|██████████████████████▏                                                        | 329/1174 [03:28<07:57,  1.77it/s]"
     ]
    },
    {
     "name": "stdout",
     "output_type": "stream",
     "text": [
      "    close     created_at    high     low   market    open     value volume\n",
      "0  1.9371  1727527560000  1.9371  1.9371  STXUSDT  1.9371  2.150181   1.11\n",
      "1  1.9371  1727527620000  1.9371  1.9371  STXUSDT  1.9371         0      0\n",
      "    symbol                time   price  pct_change  volume\n",
      "0  STXUSDT 2024-09-28 12:46:00  1.9371         NaN    1.11\n",
      "1  STXUSDT 2024-09-28 12:47:00  1.9371         0.0    0.00\n"
     ]
    },
    {
     "name": "stderr",
     "output_type": "stream",
     "text": [
      " 28%|██████████████████████▏                                                        | 330/1174 [03:29<08:08,  1.73it/s]"
     ]
    },
    {
     "name": "stdout",
     "output_type": "stream",
     "text": [
      "      close     created_at      high       low  market      open     value  \\\n",
      "0  0.022424  1727527560000  0.022424  0.022424  CUUSDT  0.022424  1.323016   \n",
      "1  0.022424  1727527620000  0.022424  0.022424  CUUSDT  0.022424         0   \n",
      "\n",
      "  volume  \n",
      "0     59  \n",
      "1      0  \n",
      "   symbol                time     price  pct_change  volume\n",
      "0  CUUSDT 2024-09-28 12:46:00  0.022424         NaN    59.0\n",
      "1  CUUSDT 2024-09-28 12:47:00  0.022424         0.0     0.0\n"
     ]
    },
    {
     "name": "stderr",
     "output_type": "stream",
     "text": [
      " 28%|██████████████████████▎                                                        | 331/1174 [03:29<08:25,  1.67it/s]"
     ]
    },
    {
     "name": "stdout",
     "output_type": "stream",
     "text": [
      "        close     created_at        high         low   market        open  \\\n",
      "0  0.00058427  1727527560000  0.00058427  0.00058413  UWUUSDT  0.00058413   \n",
      "1  0.00058427  1727527620000  0.00058427  0.00058427  UWUUSDT  0.00058427   \n",
      "\n",
      "                value          volume  \n",
      "0  6.2358412029009298  10674.17590278  \n",
      "1                   0               0  \n",
      "    symbol                time     price  pct_change        volume\n",
      "0  UWUUSDT 2024-09-28 12:46:00  0.000584         NaN  10674.175903\n",
      "1  UWUUSDT 2024-09-28 12:47:00  0.000584         0.0      0.000000\n"
     ]
    },
    {
     "name": "stderr",
     "output_type": "stream",
     "text": [
      " 28%|██████████████████████▎                                                        | 332/1174 [03:30<08:46,  1.60it/s]"
     ]
    },
    {
     "name": "stdout",
     "output_type": "stream",
     "text": [
      "    close     created_at    high     low   market    open    value volume\n",
      "0  0.6506  1727527560000  0.6506  0.6506  EDUUSDT  0.6506  3.70842    5.7\n",
      "1  0.6506  1727527620000  0.6506  0.6506  EDUUSDT  0.6506        0      0\n",
      "    symbol                time   price  pct_change  volume\n",
      "0  EDUUSDT 2024-09-28 12:46:00  0.6506         NaN     5.7\n",
      "1  EDUUSDT 2024-09-28 12:47:00  0.6506         0.0     0.0\n"
     ]
    },
    {
     "name": "stderr",
     "output_type": "stream",
     "text": [
      " 28%|██████████████████████▍                                                        | 333/1174 [03:31<09:19,  1.50it/s]"
     ]
    },
    {
     "name": "stdout",
     "output_type": "stream",
     "text": [
      "    close     created_at    high     low   market    open           value  \\\n",
      "0  1.6231  1727527560000  1.6231  1.6231  SUIUSDT  1.6231  1.719738172906   \n",
      "1  1.6231  1727527620000  1.6231  1.6231  SUIUSDT  1.6231               0   \n",
      "\n",
      "       volume  \n",
      "0  1.05953926  \n",
      "1           0  \n",
      "    symbol                time   price  pct_change    volume\n",
      "0  SUIUSDT 2024-09-28 12:46:00  1.6231         NaN  1.059539\n",
      "1  SUIUSDT 2024-09-28 12:47:00  1.6231         0.0  0.000000\n"
     ]
    },
    {
     "name": "stderr",
     "output_type": "stream",
     "text": [
      " 28%|██████████████████████▍                                                        | 334/1174 [03:31<08:50,  1.58it/s]"
     ]
    },
    {
     "name": "stdout",
     "output_type": "stream",
     "text": [
      "    close     created_at    high     low   market    open           value  \\\n",
      "0  0.3937  1727527560000  0.3937  0.3937  JOEUSDT  0.3937  2.161309708868   \n",
      "1  0.3937  1727527620000  0.3937  0.3937  JOEUSDT  0.3937               0   \n",
      "\n",
      "       volume  \n",
      "0  5.48973764  \n",
      "1           0  \n",
      "    symbol                time   price  pct_change    volume\n",
      "0  JOEUSDT 2024-09-28 12:46:00  0.3937         NaN  5.489738\n",
      "1  JOEUSDT 2024-09-28 12:47:00  0.3937         0.0  0.000000\n"
     ]
    },
    {
     "name": "stderr",
     "output_type": "stream",
     "text": [
      " 29%|██████████████████████▌                                                        | 335/1174 [03:32<08:28,  1.65it/s]"
     ]
    },
    {
     "name": "stdout",
     "output_type": "stream",
     "text": [
      "          close     created_at          high           low    market  \\\n",
      "0  0.0000019997  1727527560000  0.0000019997  0.0000019997  CULTUSDT   \n",
      "1  0.0000019997  1727527620000  0.0000019997  0.0000019997  CULTUSDT   \n",
      "\n",
      "           open    value   volume  \n",
      "0  0.0000019997  2.19967  1100000  \n",
      "1  0.0000019997        0        0  \n",
      "     symbol                time     price  pct_change     volume\n",
      "0  CULTUSDT 2024-09-28 12:46:00  0.000002         NaN  1100000.0\n",
      "1  CULTUSDT 2024-09-28 12:47:00  0.000002         0.0        0.0\n"
     ]
    },
    {
     "name": "stderr",
     "output_type": "stream",
     "text": [
      " 29%|██████████████████████▌                                                        | 336/1174 [03:33<08:19,  1.68it/s]"
     ]
    },
    {
     "name": "stdout",
     "output_type": "stream",
     "text": [
      "    close     created_at    high     low   market    open     value   volume\n",
      "0  1684.7  1727527560000  1684.7  1684.7  MKRUSDT  1684.7  1.937405  0.00115\n",
      "1  1684.7  1727527620000  1684.7  1684.7  MKRUSDT  1684.7         0        0\n",
      "    symbol                time   price  pct_change   volume\n",
      "0  MKRUSDT 2024-09-28 12:46:00  1684.7         NaN  0.00115\n",
      "1  MKRUSDT 2024-09-28 12:47:00  1684.7         0.0  0.00000\n"
     ]
    },
    {
     "name": "stderr",
     "output_type": "stream",
     "text": [
      " 29%|██████████████████████▋                                                        | 337/1174 [03:33<08:08,  1.71it/s]"
     ]
    },
    {
     "name": "stdout",
     "output_type": "stream",
     "text": [
      "      close     created_at      high       low      market      open  \\\n",
      "0  0.059779  1727527560000  0.059779  0.059779  PSTAKEUSDT  0.059779   \n",
      "1  0.059779  1727527620000  0.059779  0.059779  PSTAKEUSDT  0.059779   \n",
      "\n",
      "      value volume  \n",
      "0  3.347624     56  \n",
      "1         0      0  \n",
      "       symbol                time     price  pct_change  volume\n",
      "0  PSTAKEUSDT 2024-09-28 12:46:00  0.059779         NaN    56.0\n",
      "1  PSTAKEUSDT 2024-09-28 12:47:00  0.059779         0.0     0.0\n"
     ]
    },
    {
     "name": "stderr",
     "output_type": "stream",
     "text": [
      " 29%|██████████████████████▋                                                        | 338/1174 [03:34<08:12,  1.70it/s]"
     ]
    },
    {
     "name": "stdout",
     "output_type": "stream",
     "text": [
      "    close     created_at    high     low   market    open         value  \\\n",
      "0  350.35  1727527560000  350.35  350.35  BCHUSDT  350.35  1.9424069665   \n",
      "1  350.35  1727527620000  350.35  350.35  BCHUSDT  350.35             0   \n",
      "\n",
      "       volume  \n",
      "0  0.00554419  \n",
      "1           0  \n",
      "    symbol                time   price  pct_change    volume\n",
      "0  BCHUSDT 2024-09-28 12:46:00  350.35         NaN  0.005544\n",
      "1  BCHUSDT 2024-09-28 12:47:00  350.35         0.0  0.000000\n"
     ]
    },
    {
     "name": "stderr",
     "output_type": "stream",
     "text": [
      " 29%|██████████████████████▊                                                        | 339/1174 [03:34<07:59,  1.74it/s]"
     ]
    },
    {
     "name": "stdout",
     "output_type": "stream",
     "text": [
      "      close     created_at      high       low   market      open  \\\n",
      "0  0.039946  1727527560000  0.039946  0.039865  BDCUSDT  0.039865   \n",
      "1  0.039946  1727527620000  0.039946  0.039946  BDCUSDT  0.039946   \n",
      "\n",
      "               value         volume  \n",
      "0  51.60208337565507  1291.89927915  \n",
      "1                  0              0  \n",
      "    symbol                time     price  pct_change       volume\n",
      "0  BDCUSDT 2024-09-28 12:46:00  0.039946         NaN  1291.899279\n",
      "1  BDCUSDT 2024-09-28 12:47:00  0.039946         0.0     0.000000\n"
     ]
    },
    {
     "name": "stderr",
     "output_type": "stream",
     "text": [
      " 29%|██████████████████████▉                                                        | 340/1174 [03:35<07:57,  1.75it/s]"
     ]
    },
    {
     "name": "stdout",
     "output_type": "stream",
     "text": [
      "    close     created_at    high     low    market    open    value volume\n",
      "0  0.2893  1727527560000  0.2893  0.2893  SANDUSDT  0.2893  1.67794    5.8\n",
      "1  0.2893  1727527620000  0.2893  0.2893  SANDUSDT  0.2893        0      0\n",
      "     symbol                time   price  pct_change  volume\n",
      "0  SANDUSDT 2024-09-28 12:46:00  0.2893         NaN     5.8\n",
      "1  SANDUSDT 2024-09-28 12:47:00  0.2893         0.0     0.0\n"
     ]
    },
    {
     "name": "stderr",
     "output_type": "stream",
     "text": [
      " 29%|██████████████████████▉                                                        | 341/1174 [03:35<07:54,  1.75it/s]"
     ]
    },
    {
     "name": "stdout",
     "output_type": "stream",
     "text": [
      "   close     created_at   high    low      market   open          value  \\\n",
      "0  0.569  1727527560000  0.569  0.569  BCCOINUSDT  0.569  3.32562095126   \n",
      "1  0.569  1727527620000  0.569  0.569  BCCOINUSDT  0.569              0   \n",
      "\n",
      "       volume  \n",
      "0  5.84467654  \n",
      "1           0  \n",
      "       symbol                time  price  pct_change    volume\n",
      "0  BCCOINUSDT 2024-09-28 12:46:00  0.569         NaN  5.844677\n",
      "1  BCCOINUSDT 2024-09-28 12:47:00  0.569         0.0  0.000000\n"
     ]
    },
    {
     "name": "stderr",
     "output_type": "stream",
     "text": [
      " 29%|███████████████████████                                                        | 342/1174 [03:36<07:56,  1.75it/s]"
     ]
    },
    {
     "name": "stdout",
     "output_type": "stream",
     "text": [
      "        close     created_at        high         low   market        open  \\\n",
      "0  0.00009348  1727527560000  0.00009348  0.00009348  WINUSDT  0.00009348   \n",
      "1  0.00009362  1727527620000  0.00009362  0.00009362  WINUSDT  0.00009362   \n",
      "\n",
      "                value          volume  \n",
      "0  5.4946808815434576  58779.21353812  \n",
      "1  4.7104643863893746  50314.72320433  \n",
      "    symbol                time     price  pct_change        volume\n",
      "0  WINUSDT 2024-09-28 12:46:00  0.000093         NaN  58779.213538\n",
      "1  WINUSDT 2024-09-28 12:47:00  0.000094    0.001497  50314.723204\n"
     ]
    },
    {
     "name": "stderr",
     "output_type": "stream",
     "text": [
      " 29%|███████████████████████                                                        | 343/1174 [03:36<07:48,  1.78it/s]"
     ]
    },
    {
     "name": "stdout",
     "output_type": "stream",
     "text": [
      "      close     created_at      high       low    market      open  \\\n",
      "0  0.003726  1727527560000  0.003726  0.003726  DUELUSDT  0.003726   \n",
      "1  0.003726  1727527620000  0.003726  0.003726  DUELUSDT  0.003726   \n",
      "\n",
      "              value        volume  \n",
      "0  2.21586755551668  594.70412118  \n",
      "1                 0             0  \n",
      "     symbol                time     price  pct_change      volume\n",
      "0  DUELUSDT 2024-09-28 12:46:00  0.003726         NaN  594.704121\n",
      "1  DUELUSDT 2024-09-28 12:47:00  0.003726         0.0    0.000000\n"
     ]
    },
    {
     "name": "stderr",
     "output_type": "stream",
     "text": [
      " 29%|███████████████████████▏                                                       | 344/1174 [03:37<07:47,  1.78it/s]"
     ]
    },
    {
     "name": "stdout",
     "output_type": "stream",
     "text": [
      "     close     created_at     high      low    market     open      value  \\\n",
      "0  29.2967  1727527560000  29.2967  29.2967  AVAXUSDT  29.2967  1.6992086   \n",
      "1  29.2967  1727527620000  29.2967  29.2967  AVAXUSDT  29.2967          0   \n",
      "\n",
      "  volume  \n",
      "0  0.058  \n",
      "1      0  \n",
      "     symbol                time    price  pct_change  volume\n",
      "0  AVAXUSDT 2024-09-28 12:46:00  29.2967         NaN   0.058\n",
      "1  AVAXUSDT 2024-09-28 12:47:00  29.2967         0.0   0.000\n"
     ]
    },
    {
     "name": "stderr",
     "output_type": "stream",
     "text": [
      " 29%|███████████████████████▏                                                       | 345/1174 [03:38<07:44,  1.79it/s]"
     ]
    },
    {
     "name": "stdout",
     "output_type": "stream",
     "text": [
      "           close     created_at           high            low    market  \\\n",
      "0  0.00000011458  1727527560000  0.00000011458  0.00000011458  BLUBUSDT   \n",
      "1  0.00000011458  1727527620000  0.00000011458  0.00000011458  BLUBUSDT   \n",
      "\n",
      "            open     value    volume  \n",
      "0  0.00000011458  1.294754  11300000  \n",
      "1  0.00000011458         0         0  \n",
      "     symbol                time         price  pct_change      volume\n",
      "0  BLUBUSDT 2024-09-28 12:46:00  1.145800e-07         NaN  11300000.0\n",
      "1  BLUBUSDT 2024-09-28 12:47:00  1.145800e-07         0.0         0.0\n"
     ]
    },
    {
     "name": "stderr",
     "output_type": "stream",
     "text": [
      " 29%|███████████████████████▎                                                       | 346/1174 [03:38<07:49,  1.76it/s]"
     ]
    },
    {
     "name": "stdout",
     "output_type": "stream",
     "text": [
      "    close     created_at    high     low     market    open     value volume\n",
      "0  1.1588  1727527560000  1.1588  1.1588  WAVESUSDT  1.1588  1.309444   1.13\n",
      "1  1.1588  1727527620000  1.1588  1.1588  WAVESUSDT  1.1588         0      0\n",
      "      symbol                time   price  pct_change  volume\n",
      "0  WAVESUSDT 2024-09-28 12:46:00  1.1588         NaN    1.13\n",
      "1  WAVESUSDT 2024-09-28 12:47:00  1.1588         0.0    0.00\n"
     ]
    },
    {
     "name": "stderr",
     "output_type": "stream",
     "text": [
      " 30%|███████████████████████▎                                                       | 347/1174 [03:39<07:48,  1.77it/s]"
     ]
    },
    {
     "name": "stdout",
     "output_type": "stream",
     "text": [
      "    close     created_at    high     low    market    open           value  \\\n",
      "0  2.5427  1727527560000  2.5453  2.5427  ETHWUSDT  2.5453  3.964318851525   \n",
      "1  2.5427  1727527620000  2.5427  2.5427  ETHWUSDT  2.5427               0   \n",
      "\n",
      "       volume  \n",
      "0  1.55853575  \n",
      "1           0  \n",
      "     symbol                time   price  pct_change    volume\n",
      "0  ETHWUSDT 2024-09-28 12:46:00  2.5427         NaN  1.558536\n",
      "1  ETHWUSDT 2024-09-28 12:47:00  2.5427         0.0  0.000000\n"
     ]
    },
    {
     "name": "stderr",
     "output_type": "stream",
     "text": [
      " 30%|███████████████████████▍                                                       | 348/1174 [03:39<07:43,  1.78it/s]"
     ]
    },
    {
     "name": "stdout",
     "output_type": "stream",
     "text": [
      "        close     created_at        high         low    market        open  \\\n",
      "0  0.00024704  1727527560000  0.00024704  0.00024704  BORKUSDT  0.00024704   \n",
      "1  0.00024704  1727527620000  0.00024704  0.00024704  BORKUSDT  0.00024704   \n",
      "\n",
      "                value         volume  \n",
      "0  1.4008644190336256  5670.59755114  \n",
      "1                   0              0  \n",
      "     symbol                time     price  pct_change       volume\n",
      "0  BORKUSDT 2024-09-28 12:46:00  0.000247         NaN  5670.597551\n",
      "1  BORKUSDT 2024-09-28 12:47:00  0.000247         0.0     0.000000\n"
     ]
    },
    {
     "name": "stderr",
     "output_type": "stream",
     "text": [
      " 30%|███████████████████████▍                                                       | 349/1174 [03:40<07:42,  1.78it/s]"
     ]
    },
    {
     "name": "stdout",
     "output_type": "stream",
     "text": [
      "        close     created_at        high         low    market        open  \\\n",
      "0  0.00005685  1727527560000  0.00005685  0.00005685  TYBGUSDT  0.00005685   \n",
      "1  0.00005685  1727527620000  0.00005685  0.00005685  TYBGUSDT  0.00005685   \n",
      "\n",
      "    value volume  \n",
      "0  3.2973  58000  \n",
      "1       0      0  \n",
      "     symbol                time     price  pct_change   volume\n",
      "0  TYBGUSDT 2024-09-28 12:46:00  0.000057         NaN  58000.0\n",
      "1  TYBGUSDT 2024-09-28 12:47:00  0.000057         0.0      0.0\n"
     ]
    },
    {
     "name": "stderr",
     "output_type": "stream",
     "text": [
      " 30%|███████████████████████▌                                                       | 350/1174 [03:40<07:45,  1.77it/s]"
     ]
    },
    {
     "name": "stdout",
     "output_type": "stream",
     "text": [
      "   close     created_at   high    low   market   open     value  volume\n",
      "0  24.35  1727527560000  24.35  24.35  SSVUSDT  24.35  1.375775  0.0565\n",
      "1  24.35  1727527620000  24.35  24.35  SSVUSDT  24.35         0       0\n",
      "    symbol                time  price  pct_change  volume\n",
      "0  SSVUSDT 2024-09-28 12:46:00  24.35         NaN  0.0565\n",
      "1  SSVUSDT 2024-09-28 12:47:00  24.35         0.0  0.0000\n"
     ]
    },
    {
     "name": "stderr",
     "output_type": "stream",
     "text": [
      " 30%|███████████████████████▌                                                       | 351/1174 [03:41<07:46,  1.76it/s]"
     ]
    },
    {
     "name": "stdout",
     "output_type": "stream",
     "text": [
      "     close     created_at     high      low   market     open    value volume\n",
      "0  0.06443  1727527560000  0.06443  0.06443  VIAUSDT  0.06443  3.67251     57\n",
      "1  0.06443  1727527620000  0.06443  0.06443  VIAUSDT  0.06443        0      0\n",
      "    symbol                time    price  pct_change  volume\n",
      "0  VIAUSDT 2024-09-28 12:46:00  0.06443         NaN    57.0\n",
      "1  VIAUSDT 2024-09-28 12:47:00  0.06443         0.0     0.0\n"
     ]
    },
    {
     "name": "stderr",
     "output_type": "stream",
     "text": [
      " 30%|███████████████████████▋                                                       | 352/1174 [03:42<07:50,  1.75it/s]"
     ]
    },
    {
     "name": "stdout",
     "output_type": "stream",
     "text": [
      "    close     created_at    high     low    market    open     value volume\n",
      "0  3.1989  1727527560000  3.1989  3.1989  GAFIUSDT  3.1989  1.887351   0.59\n",
      "1  3.1989  1727527620000  3.1989  3.1989  GAFIUSDT  3.1989         0      0\n",
      "     symbol                time   price  pct_change  volume\n",
      "0  GAFIUSDT 2024-09-28 12:46:00  3.1989         NaN    0.59\n",
      "1  GAFIUSDT 2024-09-28 12:47:00  3.1989         0.0    0.00\n"
     ]
    },
    {
     "name": "stderr",
     "output_type": "stream",
     "text": [
      " 30%|███████████████████████▊                                                       | 353/1174 [03:42<07:46,  1.76it/s]"
     ]
    },
    {
     "name": "stdout",
     "output_type": "stream",
     "text": [
      "    close     created_at    high     low      market    open     value volume\n",
      "0   0.918  1727527560000   0.918   0.918  POPCATUSDT   0.918    5.3703   5.85\n",
      "1  0.9171  1727527620000  0.9171  0.9171  POPCATUSDT  0.9171  5.273325   5.75\n",
      "       symbol                time   price  pct_change  volume\n",
      "0  POPCATUSDT 2024-09-28 12:46:00  0.9180         NaN    5.85\n",
      "1  POPCATUSDT 2024-09-28 12:47:00  0.9171   -0.000981    5.75\n"
     ]
    },
    {
     "name": "stderr",
     "output_type": "stream",
     "text": [
      " 30%|███████████████████████▊                                                       | 354/1174 [03:43<07:40,  1.78it/s]"
     ]
    },
    {
     "name": "stdout",
     "output_type": "stream",
     "text": [
      "    close     created_at    high     low   market    open     value volume\n",
      "0  1.8352  1727527560000  1.8352  1.8352  DYMUSDT  1.8352  2.055424   1.12\n",
      "1  1.8352  1727527620000  1.8352  1.8352  DYMUSDT  1.8352         0      0\n",
      "    symbol                time   price  pct_change  volume\n",
      "0  DYMUSDT 2024-09-28 12:46:00  1.8352         NaN    1.12\n",
      "1  DYMUSDT 2024-09-28 12:47:00  1.8352         0.0    0.00\n"
     ]
    },
    {
     "name": "stderr",
     "output_type": "stream",
     "text": [
      " 30%|███████████████████████▉                                                       | 355/1174 [03:43<07:42,  1.77it/s]"
     ]
    },
    {
     "name": "stdout",
     "output_type": "stream",
     "text": [
      "    close     created_at    high     low    market    open    value volume\n",
      "0  0.7026  1727527560000  0.7026  0.7026  LRDSUSDT  0.7026  4.07508    5.8\n",
      "1  0.7026  1727527620000  0.7026  0.7026  LRDSUSDT  0.7026        0      0\n",
      "     symbol                time   price  pct_change  volume\n",
      "0  LRDSUSDT 2024-09-28 12:46:00  0.7026         NaN     5.8\n",
      "1  LRDSUSDT 2024-09-28 12:47:00  0.7026         0.0     0.0\n"
     ]
    },
    {
     "name": "stderr",
     "output_type": "stream",
     "text": [
      " 30%|███████████████████████▉                                                       | 356/1174 [03:44<07:42,  1.77it/s]"
     ]
    },
    {
     "name": "stdout",
     "output_type": "stream",
     "text": [
      "    close     created_at    high     low   market    open           value  \\\n",
      "0  0.4627  1727527560000  0.4627  0.4627  CTCUSDT  0.4627  2.430296779134   \n",
      "1  0.4627  1727527620000  0.4627  0.4627  CTCUSDT  0.4627               0   \n",
      "\n",
      "       volume  \n",
      "0  5.25242442  \n",
      "1           0  \n",
      "    symbol                time   price  pct_change    volume\n",
      "0  CTCUSDT 2024-09-28 12:46:00  0.4627         NaN  5.252424\n",
      "1  CTCUSDT 2024-09-28 12:47:00  0.4627         0.0  0.000000\n"
     ]
    },
    {
     "name": "stderr",
     "output_type": "stream",
     "text": [
      " 30%|████████████████████████                                                       | 357/1174 [03:44<07:57,  1.71it/s]"
     ]
    },
    {
     "name": "stdout",
     "output_type": "stream",
     "text": [
      "     close     created_at     high      low     market     open     value  \\\n",
      "0  0.35278  1727527560000  0.35278  0.35278  WQUILUSDT  0.35278  1.957929   \n",
      "1  0.35278  1727527620000  0.35278  0.35278  WQUILUSDT  0.35278         0   \n",
      "\n",
      "  volume  \n",
      "0   5.55  \n",
      "1      0  \n",
      "      symbol                time    price  pct_change  volume\n",
      "0  WQUILUSDT 2024-09-28 12:46:00  0.35278         NaN    5.55\n",
      "1  WQUILUSDT 2024-09-28 12:47:00  0.35278         0.0    0.00\n"
     ]
    },
    {
     "name": "stderr",
     "output_type": "stream",
     "text": [
      " 30%|████████████████████████                                                       | 358/1174 [03:45<07:51,  1.73it/s]"
     ]
    },
    {
     "name": "stdout",
     "output_type": "stream",
     "text": [
      "    close     created_at    high     low      market    open           value  \\\n",
      "0  0.2496  1727527560000   0.251  0.2496  DECHATUSDT   0.251  2.962141438762   \n",
      "1  0.2496  1727527620000  0.2496  0.2496  DECHATUSDT  0.2496               0   \n",
      "\n",
      "        volume  \n",
      "0  11.83476165  \n",
      "1            0  \n",
      "       symbol                time   price  pct_change     volume\n",
      "0  DECHATUSDT 2024-09-28 12:46:00  0.2496         NaN  11.834762\n",
      "1  DECHATUSDT 2024-09-28 12:47:00  0.2496         0.0   0.000000\n"
     ]
    },
    {
     "name": "stderr",
     "output_type": "stream",
     "text": [
      " 31%|████████████████████████▏                                                      | 359/1174 [03:46<07:57,  1.71it/s]"
     ]
    },
    {
     "name": "stdout",
     "output_type": "stream",
     "text": [
      "        close     created_at        high         low     market        open  \\\n",
      "0  0.00068757  1727527560000  0.00068757  0.00068757  ROCKYUSDT  0.00068757   \n",
      "1  0.00068757  1727527620000  0.00068757  0.00068757  ROCKYUSDT  0.00068757   \n",
      "\n",
      "       value volume  \n",
      "0  3.8847705   5650  \n",
      "1          0      0  \n",
      "      symbol                time     price  pct_change  volume\n",
      "0  ROCKYUSDT 2024-09-28 12:46:00  0.000688         NaN  5650.0\n",
      "1  ROCKYUSDT 2024-09-28 12:47:00  0.000688         0.0     0.0\n"
     ]
    },
    {
     "name": "stderr",
     "output_type": "stream",
     "text": [
      " 31%|████████████████████████▏                                                      | 360/1174 [03:46<07:52,  1.72it/s]"
     ]
    },
    {
     "name": "stdout",
     "output_type": "stream",
     "text": [
      "    close     created_at    high     low    market    open    value volume\n",
      "0  0.3868  1727527560000  0.3868  0.3868  REDOUSDT  0.3868  2.28212    5.9\n",
      "1  0.3868  1727527620000  0.3868  0.3868  REDOUSDT  0.3868  2.14674   5.55\n",
      "     symbol                time   price  pct_change  volume\n",
      "0  REDOUSDT 2024-09-28 12:46:00  0.3868         NaN    5.90\n",
      "1  REDOUSDT 2024-09-28 12:47:00  0.3868         0.0    5.55\n"
     ]
    },
    {
     "name": "stderr",
     "output_type": "stream",
     "text": [
      " 31%|████████████████████████▎                                                      | 361/1174 [03:47<07:50,  1.73it/s]"
     ]
    },
    {
     "name": "stdout",
     "output_type": "stream",
     "text": [
      "      close     created_at      high       low       market      open  \\\n",
      "0  0.006848  1727527560000  0.006848  0.006834  USEDCARUSDT  0.006834   \n",
      "1  0.006848  1727527620000  0.006848  0.006848  USEDCARUSDT  0.006848   \n",
      "\n",
      "              value         volume  \n",
      "0  7.60309373681186  1111.46875413  \n",
      "1                 0              0  \n",
      "        symbol                time     price  pct_change       volume\n",
      "0  USEDCARUSDT 2024-09-28 12:46:00  0.006848         NaN  1111.468754\n",
      "1  USEDCARUSDT 2024-09-28 12:47:00  0.006848         0.0     0.000000\n"
     ]
    },
    {
     "name": "stderr",
     "output_type": "stream",
     "text": [
      " 31%|████████████████████████▎                                                      | 362/1174 [03:47<07:50,  1.73it/s]"
     ]
    },
    {
     "name": "stdout",
     "output_type": "stream",
     "text": [
      "    close     created_at    high     low   market    open           value  \\\n",
      "0  0.4616  1727527560000  0.4616  0.4616  SLFUSDT  0.4616  2.570756364896   \n",
      "1  0.4616  1727527620000  0.4616  0.4616  SLFUSDT  0.4616               0   \n",
      "\n",
      "       volume  \n",
      "0  5.56922956  \n",
      "1           0  \n",
      "    symbol                time   price  pct_change   volume\n",
      "0  SLFUSDT 2024-09-28 12:46:00  0.4616         NaN  5.56923\n",
      "1  SLFUSDT 2024-09-28 12:47:00  0.4616         0.0  0.00000\n"
     ]
    },
    {
     "name": "stderr",
     "output_type": "stream",
     "text": [
      " 31%|████████████████████████▍                                                      | 363/1174 [03:48<07:53,  1.71it/s]"
     ]
    },
    {
     "name": "stdout",
     "output_type": "stream",
     "text": [
      "      close     created_at      high       low      market      open  \\\n",
      "0  0.000139  1727527560000  0.000139  0.000137  JENNERUSDT  0.000137   \n",
      "1  0.000139  1727527620000  0.000139  0.000139  JENNERUSDT  0.000139   \n",
      "\n",
      "              value          volume  \n",
      "0  3.00315884661872  21759.40798712  \n",
      "1                 0               0  \n",
      "       symbol                time     price  pct_change        volume\n",
      "0  JENNERUSDT 2024-09-28 12:46:00  0.000139         NaN  21759.407987\n",
      "1  JENNERUSDT 2024-09-28 12:47:00  0.000139         0.0      0.000000\n"
     ]
    },
    {
     "name": "stderr",
     "output_type": "stream",
     "text": [
      " 31%|████████████████████████▍                                                      | 364/1174 [03:49<07:57,  1.70it/s]"
     ]
    },
    {
     "name": "stdout",
     "output_type": "stream",
     "text": [
      "    close     created_at    high     low   market    open    value volume\n",
      "0   1.473  1727527560000   1.473   1.473  EWTUSDT   1.473  1.69395   1.15\n",
      "1  1.4738  1727527620000  1.4738  1.4738  EWTUSDT  1.4738  1.62118    1.1\n",
      "    symbol                time   price  pct_change  volume\n",
      "0  EWTUSDT 2024-09-28 12:46:00  1.4730         NaN    1.15\n",
      "1  EWTUSDT 2024-09-28 12:47:00  1.4738    0.000543    1.10\n"
     ]
    },
    {
     "name": "stderr",
     "output_type": "stream",
     "text": [
      " 31%|████████████████████████▌                                                      | 365/1174 [03:49<07:57,  1.69it/s]"
     ]
    },
    {
     "name": "stdout",
     "output_type": "stream",
     "text": [
      "      close     created_at      high       low   market      open      value  \\\n",
      "0   0.01956  1727527560000   0.01956   0.01956  ORBUSDT   0.01956     1.0758   \n",
      "1  0.019575  1727527620000  0.019575  0.019575  ORBUSDT  0.019575  1.1647125   \n",
      "\n",
      "  volume  \n",
      "0     55  \n",
      "1   59.5  \n",
      "    symbol                time     price  pct_change  volume\n",
      "0  ORBUSDT 2024-09-28 12:46:00  0.019560         NaN    55.0\n",
      "1  ORBUSDT 2024-09-28 12:47:00  0.019575    0.000767    59.5\n"
     ]
    },
    {
     "name": "stderr",
     "output_type": "stream",
     "text": [
      " 31%|████████████████████████▋                                                      | 366/1174 [03:50<07:54,  1.70it/s]"
     ]
    },
    {
     "name": "stdout",
     "output_type": "stream",
     "text": [
      "      close     created_at      high       low    market      open  \\\n",
      "0  0.039931  1727527560000  0.039931  0.039931  LOGXUSDT  0.039931   \n",
      "1  0.040244  1727527620000  0.040627  0.040244  LOGXUSDT  0.040244   \n",
      "\n",
      "               value         volume  \n",
      "0   2.26750730179387    56.78563777  \n",
      "1  64.14966494809254  1593.87594732  \n",
      "     symbol                time     price  pct_change       volume\n",
      "0  LOGXUSDT 2024-09-28 12:46:00  0.039931         NaN    56.785638\n",
      "1  LOGXUSDT 2024-09-28 12:47:00  0.040244    0.007808  1593.875947\n"
     ]
    },
    {
     "name": "stderr",
     "output_type": "stream",
     "text": [
      " 31%|████████████████████████▋                                                      | 367/1174 [03:50<07:55,  1.70it/s]"
     ]
    },
    {
     "name": "stdout",
     "output_type": "stream",
     "text": [
      "    close     created_at    high     low    market    open     value volume\n",
      "0  0.9651  1727527560000  0.9651  0.9651  AGLDUSDT  0.9651  5.549325   5.75\n",
      "1  0.9655  1727527620000  0.9655  0.9655  AGLDUSDT  0.9655  5.455075   5.65\n",
      "     symbol                time   price  pct_change  volume\n",
      "0  AGLDUSDT 2024-09-28 12:46:00  0.9651         NaN    5.75\n",
      "1  AGLDUSDT 2024-09-28 12:47:00  0.9655    0.000414    5.65\n"
     ]
    },
    {
     "name": "stderr",
     "output_type": "stream",
     "text": [
      " 31%|████████████████████████▊                                                      | 368/1174 [03:51<07:43,  1.74it/s]"
     ]
    },
    {
     "name": "stdout",
     "output_type": "stream",
     "text": [
      "    close     created_at    high     low      market    open           value  \\\n",
      "0  0.6751  1727527560000  0.6751  0.6751  UXLINKUSDT  0.6751  8.547699994099   \n",
      "1  0.6751  1727527620000  0.6751  0.6751  UXLINKUSDT  0.6751               0   \n",
      "\n",
      "        volume  \n",
      "0  12.66138349  \n",
      "1            0  \n",
      "       symbol                time   price  pct_change     volume\n",
      "0  UXLINKUSDT 2024-09-28 12:46:00  0.6751         NaN  12.661383\n",
      "1  UXLINKUSDT 2024-09-28 12:47:00  0.6751         0.0   0.000000\n"
     ]
    },
    {
     "name": "stderr",
     "output_type": "stream",
     "text": [
      " 31%|████████████████████████▊                                                      | 369/1174 [03:51<07:37,  1.76it/s]"
     ]
    },
    {
     "name": "stdout",
     "output_type": "stream",
     "text": [
      "    close     created_at    high     low     market    open    value volume\n",
      "0  0.3691  1727527560000  0.3691  0.3691  BOSONUSDT  0.3691  2.10387    5.7\n",
      "1  0.3693  1727527620000  0.3693  0.3693  BOSONUSDT  0.3693  2.14194    5.8\n",
      "      symbol                time   price  pct_change  volume\n",
      "0  BOSONUSDT 2024-09-28 12:46:00  0.3691         NaN     5.7\n",
      "1  BOSONUSDT 2024-09-28 12:47:00  0.3693    0.000542     5.8\n"
     ]
    },
    {
     "name": "stderr",
     "output_type": "stream",
     "text": [
      " 32%|████████████████████████▉                                                      | 370/1174 [03:52<07:50,  1.71it/s]"
     ]
    },
    {
     "name": "stdout",
     "output_type": "stream",
     "text": [
      "          close     created_at          high           low      market  \\\n",
      "0  0.0000094306  1727527560000  0.0000095232  0.0000094306  GLIZZYUSDT   \n",
      "1  0.0000094306  1727527620000  0.0000094306  0.0000094306  GLIZZYUSDT   \n",
      "\n",
      "           open                  value            volume  \n",
      "0  0.0000095232  20.973435050481388158  2222879.91003267  \n",
      "1  0.0000094306                      0                 0  \n",
      "       symbol                time     price  pct_change        volume\n",
      "0  GLIZZYUSDT 2024-09-28 12:46:00  0.000009         NaN  2.222880e+06\n",
      "1  GLIZZYUSDT 2024-09-28 12:47:00  0.000009         0.0  0.000000e+00\n"
     ]
    },
    {
     "name": "stderr",
     "output_type": "stream",
     "text": [
      " 32%|████████████████████████▉                                                      | 371/1174 [03:53<07:48,  1.71it/s]"
     ]
    },
    {
     "name": "stdout",
     "output_type": "stream",
     "text": [
      "    close     created_at    high     low   market    open     value volume\n",
      "0  0.6653  1727527560000  0.6653  0.6653  FTMUSDT  0.6653   3.85874    5.8\n",
      "1  0.6651  1727527620000  0.6651  0.6651  FTMUSDT  0.6651  3.890835   5.85\n",
      "    symbol                time   price  pct_change  volume\n",
      "0  FTMUSDT 2024-09-28 12:46:00  0.6653         NaN    5.80\n",
      "1  FTMUSDT 2024-09-28 12:47:00  0.6651   -0.000301    5.85\n"
     ]
    },
    {
     "name": "stderr",
     "output_type": "stream",
     "text": [
      " 32%|█████████████████████████                                                      | 372/1174 [03:53<07:41,  1.74it/s]"
     ]
    },
    {
     "name": "stdout",
     "output_type": "stream",
     "text": [
      "      close     created_at      high       low     market      open     value  \\\n",
      "0  0.007272  1727527560000  0.007272  0.007272  SWEATUSDT  0.007272   4.29048   \n",
      "1  0.007273  1727527620000  0.007273  0.007273  SWEATUSDT  0.007273  4.327435   \n",
      "\n",
      "  volume  \n",
      "0    590  \n",
      "1    595  \n",
      "      symbol                time     price  pct_change  volume\n",
      "0  SWEATUSDT 2024-09-28 12:46:00  0.007272         NaN   590.0\n",
      "1  SWEATUSDT 2024-09-28 12:47:00  0.007273    0.000138   595.0\n"
     ]
    },
    {
     "name": "stderr",
     "output_type": "stream",
     "text": [
      " 32%|█████████████████████████                                                      | 373/1174 [03:54<07:44,  1.72it/s]"
     ]
    },
    {
     "name": "stdout",
     "output_type": "stream",
     "text": [
      "    close     created_at    high     low   market    open     value volume\n",
      "0  0.3301  1727527560000  0.3301  0.3301  FJOUSDT  0.3301   1.94759    5.9\n",
      "1  0.3301  1727527620000  0.3301  0.3301  FJOUSDT  0.3301  1.898075   5.75\n",
      "    symbol                time   price  pct_change  volume\n",
      "0  FJOUSDT 2024-09-28 12:46:00  0.3301         NaN    5.90\n",
      "1  FJOUSDT 2024-09-28 12:47:00  0.3301         0.0    5.75\n"
     ]
    },
    {
     "name": "stderr",
     "output_type": "stream",
     "text": [
      " 32%|█████████████████████████▏                                                     | 374/1174 [03:55<08:53,  1.50it/s]"
     ]
    },
    {
     "name": "stdout",
     "output_type": "stream",
     "text": [
      "      close     created_at      high       low   market      open     value  \\\n",
      "0  0.039427  1727527560000  0.039427  0.039427  SQDUSDT  0.039427  2.168485   \n",
      "1  0.039391  1727527620000  0.039391  0.039391  SQDUSDT  0.039391  2.284678   \n",
      "\n",
      "  volume  \n",
      "0     55  \n",
      "1     58  \n",
      "    symbol                time     price  pct_change  volume\n",
      "0  SQDUSDT 2024-09-28 12:46:00  0.039427         NaN    55.0\n",
      "1  SQDUSDT 2024-09-28 12:47:00  0.039391   -0.000913    58.0\n"
     ]
    },
    {
     "name": "stderr",
     "output_type": "stream",
     "text": [
      " 32%|█████████████████████████▏                                                     | 375/1174 [03:55<08:24,  1.58it/s]"
     ]
    },
    {
     "name": "stdout",
     "output_type": "stream",
     "text": [
      "      close     created_at      high       low    market      open      value  \\\n",
      "0  0.033129  1727527560000  0.033129  0.033129  CEEKUSDT  0.033129  1.9711755   \n",
      "1  0.033105  1727527620000  0.033105  0.033105  CEEKUSDT  0.033105  1.8704325   \n",
      "\n",
      "  volume  \n",
      "0   59.5  \n",
      "1   56.5  \n",
      "     symbol                time     price  pct_change  volume\n",
      "0  CEEKUSDT 2024-09-28 12:46:00  0.033129         NaN    59.5\n",
      "1  CEEKUSDT 2024-09-28 12:47:00  0.033105   -0.000725    56.5\n"
     ]
    },
    {
     "name": "stderr",
     "output_type": "stream",
     "text": [
      " 32%|█████████████████████████▎                                                     | 376/1174 [03:56<08:10,  1.63it/s]"
     ]
    },
    {
     "name": "stdout",
     "output_type": "stream",
     "text": [
      "      close     created_at      high       low    market      open     value  \\\n",
      "0  0.013822  1727527560000  0.013822  0.013822  MFERUSDT  0.013822  1.630996   \n",
      "1  0.013822  1727527620000  0.013822  0.013822  MFERUSDT  0.013822  1.575708   \n",
      "\n",
      "  volume  \n",
      "0    118  \n",
      "1    114  \n",
      "     symbol                time     price  pct_change  volume\n",
      "0  MFERUSDT 2024-09-28 12:46:00  0.013822         NaN   118.0\n",
      "1  MFERUSDT 2024-09-28 12:47:00  0.013822         0.0   114.0\n"
     ]
    },
    {
     "name": "stderr",
     "output_type": "stream",
     "text": [
      " 32%|█████████████████████████▎                                                     | 377/1174 [03:56<08:06,  1.64it/s]"
     ]
    },
    {
     "name": "stdout",
     "output_type": "stream",
     "text": [
      "      close     created_at      high       low     market      open  \\\n",
      "0  0.021713  1727527560000  0.021713  0.021713  METALUSDT  0.021713   \n",
      "1  0.021713  1727527620000  0.021713  0.021713  METALUSDT  0.021713   \n",
      "\n",
      "       value volume  \n",
      "0   1.194215     55  \n",
      "1  1.2484975   57.5  \n",
      "      symbol                time     price  pct_change  volume\n",
      "0  METALUSDT 2024-09-28 12:46:00  0.021713         NaN    55.0\n",
      "1  METALUSDT 2024-09-28 12:47:00  0.021713         0.0    57.5\n"
     ]
    },
    {
     "name": "stderr",
     "output_type": "stream",
     "text": [
      " 32%|█████████████████████████▍                                                     | 378/1174 [03:58<12:05,  1.10it/s]"
     ]
    },
    {
     "name": "stdout",
     "output_type": "stream",
     "text": [
      "      close     created_at      high       low    market      open     value  \\\n",
      "0  0.013025  1727527560000  0.013025  0.013025  AIPGUSDT  0.013025  1.471825   \n",
      "1  0.013022  1727527620000  0.013022  0.013022  AIPGUSDT  0.013022  1.458464   \n",
      "\n",
      "  volume  \n",
      "0    113  \n",
      "1    112  \n",
      "     symbol                time     price  pct_change  volume\n",
      "0  AIPGUSDT 2024-09-28 12:46:00  0.013025         NaN   113.0\n",
      "1  AIPGUSDT 2024-09-28 12:47:00  0.013022    -0.00023   112.0\n"
     ]
    },
    {
     "name": "stderr",
     "output_type": "stream",
     "text": [
      " 32%|█████████████████████████▌                                                     | 379/1174 [03:59<10:48,  1.23it/s]"
     ]
    },
    {
     "name": "stdout",
     "output_type": "stream",
     "text": [
      "      close     created_at      high       low   market      open     value  \\\n",
      "0  0.014785  1727527560000  0.014785  0.014785  RJVUSDT  0.014785  1.700275   \n",
      "1  0.014795  1727527620000  0.014795  0.014795  RJVUSDT  0.014795   1.65704   \n",
      "\n",
      "  volume  \n",
      "0    115  \n",
      "1    112  \n",
      "    symbol                time     price  pct_change  volume\n",
      "0  RJVUSDT 2024-09-28 12:46:00  0.014785         NaN   115.0\n",
      "1  RJVUSDT 2024-09-28 12:47:00  0.014795    0.000676   112.0\n"
     ]
    },
    {
     "name": "stderr",
     "output_type": "stream",
     "text": [
      " 32%|█████████████████████████▌                                                     | 380/1174 [03:59<09:50,  1.35it/s]"
     ]
    },
    {
     "name": "stdout",
     "output_type": "stream",
     "text": [
      "      close     created_at      high       low     market      open     value  \\\n",
      "0  0.003355  1727527560000  0.003355  0.003355  COVALUSDT  0.003355  1.895575   \n",
      "1  0.003356  1727527620000  0.003356  0.003356  COVALUSDT  0.003356   1.86258   \n",
      "\n",
      "  volume  \n",
      "0    565  \n",
      "1    555  \n",
      "      symbol                time     price  pct_change  volume\n",
      "0  COVALUSDT 2024-09-28 12:46:00  0.003355         NaN   565.0\n",
      "1  COVALUSDT 2024-09-28 12:47:00  0.003356    0.000298   555.0\n"
     ]
    },
    {
     "name": "stderr",
     "output_type": "stream",
     "text": [
      " 32%|█████████████████████████▋                                                     | 381/1174 [04:00<09:00,  1.47it/s]"
     ]
    },
    {
     "name": "stdout",
     "output_type": "stream",
     "text": [
      "    close     created_at    high     low   market    open           value  \\\n",
      "0  0.7578  1727527560000  0.7586  0.7578  ERGUSDT  0.7586  8.018321600366   \n",
      "1  0.7578  1727527620000  0.7578  0.7578  ERGUSDT  0.7578               0   \n",
      "\n",
      "        volume  \n",
      "0  10.57541539  \n",
      "1            0  \n",
      "    symbol                time   price  pct_change     volume\n",
      "0  ERGUSDT 2024-09-28 12:46:00  0.7578         NaN  10.575415\n",
      "1  ERGUSDT 2024-09-28 12:47:00  0.7578         0.0   0.000000\n"
     ]
    },
    {
     "name": "stderr",
     "output_type": "stream",
     "text": [
      " 33%|█████████████████████████▋                                                     | 382/1174 [04:00<08:34,  1.54it/s]"
     ]
    },
    {
     "name": "stdout",
     "output_type": "stream",
     "text": [
      "      close     created_at      high       low    market      open  \\\n",
      "0  0.005715  1727527560000  0.005715  0.005712  IOSTUSDT  0.005712   \n",
      "1  0.005715  1727527620000  0.005715  0.005715  IOSTUSDT  0.005715   \n",
      "\n",
      "              value         volume  \n",
      "0  6.81207688213884  1192.27544204  \n",
      "1                 0              0  \n",
      "     symbol                time     price  pct_change       volume\n",
      "0  IOSTUSDT 2024-09-28 12:46:00  0.005715         NaN  1192.275442\n",
      "1  IOSTUSDT 2024-09-28 12:47:00  0.005715         0.0     0.000000\n"
     ]
    },
    {
     "name": "stderr",
     "output_type": "stream",
     "text": [
      " 33%|█████████████████████████▊                                                     | 383/1174 [04:01<08:17,  1.59it/s]"
     ]
    },
    {
     "name": "stdout",
     "output_type": "stream",
     "text": [
      "      close     created_at      high       low    market      open  \\\n",
      "0  0.128984  1727527560000  0.128984  0.128984  HARDUSDT  0.128984   \n",
      "1  0.128984  1727527620000  0.128984  0.128984  HARDUSDT  0.128984   \n",
      "\n",
      "             value      volume  \n",
      "0  1.4932482452408  11.5770037  \n",
      "1                0           0  \n",
      "     symbol                time     price  pct_change     volume\n",
      "0  HARDUSDT 2024-09-28 12:46:00  0.128984         NaN  11.577004\n",
      "1  HARDUSDT 2024-09-28 12:47:00  0.128984         0.0   0.000000\n"
     ]
    },
    {
     "name": "stderr",
     "output_type": "stream",
     "text": [
      " 33%|█████████████████████████▊                                                     | 384/1174 [04:01<08:04,  1.63it/s]"
     ]
    },
    {
     "name": "stdout",
     "output_type": "stream",
     "text": [
      "      close     created_at      high       low   market      open     value  \\\n",
      "0   0.01337  1727527560000   0.01337   0.01337  NLKUSDT   0.01337   1.48407   \n",
      "1  0.013368  1727527620000  0.013368  0.013368  NLKUSDT  0.013368  1.550688   \n",
      "\n",
      "  volume  \n",
      "0    111  \n",
      "1    116  \n",
      "    symbol                time     price  pct_change  volume\n",
      "0  NLKUSDT 2024-09-28 12:46:00  0.013370         NaN   111.0\n",
      "1  NLKUSDT 2024-09-28 12:47:00  0.013368    -0.00015   116.0\n"
     ]
    },
    {
     "name": "stderr",
     "output_type": "stream",
     "text": [
      " 33%|█████████████████████████▉                                                     | 385/1174 [04:02<07:50,  1.68it/s]"
     ]
    },
    {
     "name": "stdout",
     "output_type": "stream",
     "text": [
      "      close     created_at      high       low    market      open      value  \\\n",
      "0  0.031403  1727527560000  0.031403  0.031403  HGPTUSDT  0.031403  1.8684785   \n",
      "1  0.031424  1727527620000  0.031424  0.031424  HGPTUSDT  0.031424    1.80688   \n",
      "\n",
      "  volume  \n",
      "0   59.5  \n",
      "1   57.5  \n",
      "     symbol                time     price  pct_change  volume\n",
      "0  HGPTUSDT 2024-09-28 12:46:00  0.031403         NaN    59.5\n",
      "1  HGPTUSDT 2024-09-28 12:47:00  0.031424    0.000669    57.5\n"
     ]
    },
    {
     "name": "stderr",
     "output_type": "stream",
     "text": [
      " 33%|█████████████████████████▉                                                     | 386/1174 [04:03<07:45,  1.69it/s]"
     ]
    },
    {
     "name": "stdout",
     "output_type": "stream",
     "text": [
      "      close     created_at      high       low     market      open     value  \\\n",
      "0  0.044327  1727527560000  0.044327  0.044327  QUICKUSDT  0.044327  2.482312   \n",
      "1   0.04434  1727527620000   0.04434   0.04434  QUICKUSDT   0.04434   2.46087   \n",
      "\n",
      "  volume  \n",
      "0     56  \n",
      "1   55.5  \n",
      "      symbol                time     price  pct_change  volume\n",
      "0  QUICKUSDT 2024-09-28 12:46:00  0.044327         NaN    56.0\n",
      "1  QUICKUSDT 2024-09-28 12:47:00  0.044340    0.000293    55.5\n"
     ]
    },
    {
     "name": "stderr",
     "output_type": "stream",
     "text": [
      " 33%|██████████████████████████                                                     | 387/1174 [04:03<07:35,  1.73it/s]"
     ]
    },
    {
     "name": "stdout",
     "output_type": "stream",
     "text": [
      "      close     created_at      high       low   market      open     value  \\\n",
      "0  0.016649  1727527560000  0.016649  0.016649  LFTUSDT  0.016649  1.848039   \n",
      "1  0.016648  1727527620000  0.016648  0.016648  LFTUSDT  0.016648   1.83128   \n",
      "\n",
      "  volume  \n",
      "0    111  \n",
      "1    110  \n",
      "    symbol                time     price  pct_change  volume\n",
      "0  LFTUSDT 2024-09-28 12:46:00  0.016649         NaN   111.0\n",
      "1  LFTUSDT 2024-09-28 12:47:00  0.016648    -0.00006   110.0\n"
     ]
    },
    {
     "name": "stderr",
     "output_type": "stream",
     "text": [
      " 33%|██████████████████████████                                                     | 388/1174 [04:04<07:28,  1.75it/s]"
     ]
    },
    {
     "name": "stdout",
     "output_type": "stream",
     "text": [
      "      close     created_at      high       low    market      open      value  \\\n",
      "0  0.116218  1727527560000  0.116218  0.116218  MOCAUSDT  0.116218   1.278398   \n",
      "1  0.116218  1727527620000  0.116218  0.116218  MOCAUSDT  0.116218  1.3248852   \n",
      "\n",
      "  volume  \n",
      "0     11  \n",
      "1   11.4  \n",
      "     symbol                time     price  pct_change  volume\n",
      "0  MOCAUSDT 2024-09-28 12:46:00  0.116218         NaN    11.0\n",
      "1  MOCAUSDT 2024-09-28 12:47:00  0.116218         0.0    11.4\n"
     ]
    },
    {
     "name": "stderr",
     "output_type": "stream",
     "text": [
      " 33%|██████████████████████████▏                                                    | 389/1174 [04:04<07:38,  1.71it/s]"
     ]
    },
    {
     "name": "stdout",
     "output_type": "stream",
     "text": [
      "      close     created_at      high       low    market      open    value  \\\n",
      "0   0.00198  1727527560000   0.00198   0.00198  DOCKUSDT   0.00198   2.3166   \n",
      "1  0.001978  1727527620000  0.001978  0.001978  DOCKUSDT  0.001978  2.33404   \n",
      "\n",
      "  volume  \n",
      "0   1170  \n",
      "1   1180  \n",
      "     symbol                time     price  pct_change  volume\n",
      "0  DOCKUSDT 2024-09-28 12:46:00  0.001980         NaN  1170.0\n",
      "1  DOCKUSDT 2024-09-28 12:47:00  0.001978   -0.001011  1180.0\n"
     ]
    },
    {
     "name": "stderr",
     "output_type": "stream",
     "text": [
      " 33%|██████████████████████████▏                                                    | 390/1174 [04:05<07:37,  1.71it/s]"
     ]
    },
    {
     "name": "stdout",
     "output_type": "stream",
     "text": [
      "      close     created_at      high       low         market      open  \\\n",
      "0  0.750192  1727527560000  0.750192  0.750191  BELLSCOINUSDT  0.750191   \n",
      "1  0.750191  1727527620000  0.750192  0.750191  BELLSCOINUSDT  0.750192   \n",
      "\n",
      "               value       volume  \n",
      "0  15.22542897806151  20.29539561  \n",
      "1  10.98629791760775  14.64466025  \n",
      "          symbol                time     price  pct_change     volume\n",
      "0  BELLSCOINUSDT 2024-09-28 12:46:00  0.750192         NaN  20.295396\n",
      "1  BELLSCOINUSDT 2024-09-28 12:47:00  0.750191   -0.000001  14.644660\n"
     ]
    },
    {
     "name": "stderr",
     "output_type": "stream",
     "text": [
      " 33%|██████████████████████████▎                                                    | 391/1174 [04:05<07:24,  1.76it/s]"
     ]
    },
    {
     "name": "stdout",
     "output_type": "stream",
     "text": [
      "      close     created_at      high       low     market      open  \\\n",
      "0  0.052505  1727527560000  0.052505  0.052505  MENDIUSDT  0.052505   \n",
      "1  0.052526  1727527620000  0.052526  0.052526  MENDIUSDT  0.052526   \n",
      "\n",
      "       value volume  \n",
      "0  2.9140275   55.5  \n",
      "1   3.020245   57.5  \n",
      "      symbol                time     price  pct_change  volume\n",
      "0  MENDIUSDT 2024-09-28 12:46:00  0.052505         NaN    55.5\n",
      "1  MENDIUSDT 2024-09-28 12:47:00  0.052526      0.0004    57.5\n"
     ]
    },
    {
     "name": "stderr",
     "output_type": "stream",
     "text": [
      " 33%|██████████████████████████▍                                                    | 392/1174 [04:06<07:25,  1.75it/s]"
     ]
    },
    {
     "name": "stdout",
     "output_type": "stream",
     "text": [
      "    close     created_at    high     low    market    open           value  \\\n",
      "0  1.6768  1727527560000  1.6768  1.6768  ALPHUSDT  1.6768  1.990762204288   \n",
      "1  1.6768  1727527620000  1.6768  1.6768  ALPHUSDT  1.6768               0   \n",
      "\n",
      "       volume  \n",
      "0  1.18723891  \n",
      "1           0  \n",
      "     symbol                time   price  pct_change    volume\n",
      "0  ALPHUSDT 2024-09-28 12:46:00  1.6768         NaN  1.187239\n",
      "1  ALPHUSDT 2024-09-28 12:47:00  1.6768         0.0  0.000000\n"
     ]
    },
    {
     "name": "stderr",
     "output_type": "stream",
     "text": [
      " 33%|██████████████████████████▍                                                    | 393/1174 [04:07<07:31,  1.73it/s]"
     ]
    },
    {
     "name": "stdout",
     "output_type": "stream",
     "text": [
      "      close     created_at      high       low    market      open  \\\n",
      "0  0.244172  1727527560000  0.244172  0.244172  PRCLUSDT  0.244172   \n",
      "1  0.244269  1727527620000  0.244269  0.244269  PRCLUSDT  0.244269   \n",
      "\n",
      "        value volume  \n",
      "0   1.3673632    5.6  \n",
      "1  1.40454675   5.75  \n",
      "     symbol                time     price  pct_change  volume\n",
      "0  PRCLUSDT 2024-09-28 12:46:00  0.244172         NaN    5.60\n",
      "1  PRCLUSDT 2024-09-28 12:47:00  0.244269    0.000397    5.75\n"
     ]
    },
    {
     "name": "stderr",
     "output_type": "stream",
     "text": [
      " 34%|██████████████████████████▌                                                    | 394/1174 [04:07<07:35,  1.71it/s]"
     ]
    },
    {
     "name": "stdout",
     "output_type": "stream",
     "text": [
      "          close     created_at          high           low    market  \\\n",
      "0  0.0000006793  1727527560000  0.0000006793  0.0000006793  CWIFUSDT   \n",
      "1  0.0000006793  1727527620000  0.0000006793  0.0000006793  CWIFUSDT   \n",
      "\n",
      "           open     value   volume  \n",
      "0  0.0000006793   3.87201  5700000  \n",
      "1  0.0000006793  3.770115  5550000  \n",
      "     symbol                time         price  pct_change     volume\n",
      "0  CWIFUSDT 2024-09-28 12:46:00  6.793000e-07         NaN  5700000.0\n",
      "1  CWIFUSDT 2024-09-28 12:47:00  6.793000e-07         0.0  5550000.0\n"
     ]
    },
    {
     "name": "stderr",
     "output_type": "stream",
     "text": [
      " 34%|██████████████████████████▌                                                    | 395/1174 [04:08<07:34,  1.72it/s]"
     ]
    },
    {
     "name": "stdout",
     "output_type": "stream",
     "text": [
      "      close     created_at      high       low     market      open     value  \\\n",
      "0  0.049649  1727527560000  0.049649  0.049649  LOOKSUSDT  0.049649  2.929291   \n",
      "1  0.049658  1727527620000  0.049658  0.049658  LOOKSUSDT  0.049658  2.780848   \n",
      "\n",
      "  volume  \n",
      "0     59  \n",
      "1     56  \n",
      "      symbol                time     price  pct_change  volume\n",
      "0  LOOKSUSDT 2024-09-28 12:46:00  0.049649         NaN    59.0\n",
      "1  LOOKSUSDT 2024-09-28 12:47:00  0.049658    0.000181    56.0\n"
     ]
    },
    {
     "name": "stderr",
     "output_type": "stream",
     "text": [
      " 34%|██████████████████████████▋                                                    | 396/1174 [04:08<07:26,  1.74it/s]"
     ]
    },
    {
     "name": "stdout",
     "output_type": "stream",
     "text": [
      "    close     created_at    high     low      market    open     value volume\n",
      "0  0.9651  1727527560000  0.9651  0.9651  JETTONUSDT  0.9651  1.100214   1.14\n",
      "1  0.9654  1727527620000  0.9654  0.9654  JETTONUSDT  0.9654  1.071594   1.11\n",
      "       symbol                time   price  pct_change  volume\n",
      "0  JETTONUSDT 2024-09-28 12:46:00  0.9651         NaN    1.14\n",
      "1  JETTONUSDT 2024-09-28 12:47:00  0.9654    0.000311    1.11\n"
     ]
    },
    {
     "name": "stderr",
     "output_type": "stream",
     "text": [
      " 34%|██████████████████████████▋                                                    | 397/1174 [04:09<07:24,  1.75it/s]"
     ]
    },
    {
     "name": "stdout",
     "output_type": "stream",
     "text": [
      "    close     created_at    high     low   market    open     value volume\n",
      "0  0.2801  1727527560000  0.2801  0.2801  BZZUSDT  0.2801  1.666595   5.95\n",
      "1  0.2801  1727527620000  0.2801  0.2801  BZZUSDT  0.2801  1.582565   5.65\n",
      "    symbol                time   price  pct_change  volume\n",
      "0  BZZUSDT 2024-09-28 12:46:00  0.2801         NaN    5.95\n",
      "1  BZZUSDT 2024-09-28 12:47:00  0.2801         0.0    5.65\n"
     ]
    },
    {
     "name": "stderr",
     "output_type": "stream",
     "text": [
      " 34%|██████████████████████████▊                                                    | 398/1174 [04:09<07:22,  1.75it/s]"
     ]
    },
    {
     "name": "stdout",
     "output_type": "stream",
     "text": [
      "    close     created_at    high     low     market    open     value volume\n",
      "0  1.0041  1727527560000  1.0041  1.0041  SPACEUSDT  1.0041  1.194879   1.19\n",
      "1  1.0043  1727527620000  1.0043  1.0043  SPACEUSDT  1.0043  1.164988   1.16\n",
      "      symbol                time   price  pct_change  volume\n",
      "0  SPACEUSDT 2024-09-28 12:46:00  1.0041         NaN    1.19\n",
      "1  SPACEUSDT 2024-09-28 12:47:00  1.0043    0.000199    1.16\n"
     ]
    },
    {
     "name": "stderr",
     "output_type": "stream",
     "text": [
      " 34%|██████████████████████████▊                                                    | 399/1174 [04:10<07:26,  1.74it/s]"
     ]
    },
    {
     "name": "stdout",
     "output_type": "stream",
     "text": [
      "      close     created_at      high       low    market      open      value  \\\n",
      "0  0.159003  1727527560000  0.159003  0.159003  DUSTUSDT  0.159003  1.7808336   \n",
      "1  0.159003  1727527620000  0.159003  0.159003  DUSTUSDT  0.159003   1.749033   \n",
      "\n",
      "  volume  \n",
      "0   11.2  \n",
      "1     11  \n",
      "     symbol                time     price  pct_change  volume\n",
      "0  DUSTUSDT 2024-09-28 12:46:00  0.159003         NaN    11.2\n",
      "1  DUSTUSDT 2024-09-28 12:47:00  0.159003         0.0    11.0\n"
     ]
    },
    {
     "name": "stderr",
     "output_type": "stream",
     "text": [
      " 34%|██████████████████████████▉                                                    | 400/1174 [04:11<07:20,  1.76it/s]"
     ]
    },
    {
     "name": "stdout",
     "output_type": "stream",
     "text": [
      "      close     created_at      high       low      market      open    value  \\\n",
      "0  0.006938  1727527560000  0.006938  0.006938  IMGNAIUSDT  0.006938  3.85059   \n",
      "1  0.006933  1727527620000  0.006933  0.006933  IMGNAIUSDT  0.006933  3.88248   \n",
      "\n",
      "  volume  \n",
      "0    555  \n",
      "1    560  \n",
      "       symbol                time     price  pct_change  volume\n",
      "0  IMGNAIUSDT 2024-09-28 12:46:00  0.006938         NaN   555.0\n",
      "1  IMGNAIUSDT 2024-09-28 12:47:00  0.006933   -0.000721   560.0\n"
     ]
    },
    {
     "name": "stderr",
     "output_type": "stream",
     "text": [
      " 34%|██████████████████████████▉                                                    | 401/1174 [04:11<07:21,  1.75it/s]"
     ]
    },
    {
     "name": "stdout",
     "output_type": "stream",
     "text": [
      "      close     created_at      high       low   market      open      value  \\\n",
      "0  0.024953  1727527560000  0.024953  0.024953  SNTUSDT  0.024953  1.4347975   \n",
      "1  0.024957  1727527620000  0.024957  0.024957  SNTUSDT  0.024957   1.422549   \n",
      "\n",
      "  volume  \n",
      "0   57.5  \n",
      "1     57  \n",
      "    symbol                time     price  pct_change  volume\n",
      "0  SNTUSDT 2024-09-28 12:46:00  0.024953         NaN    57.5\n",
      "1  SNTUSDT 2024-09-28 12:47:00  0.024957     0.00016    57.0\n"
     ]
    },
    {
     "name": "stderr",
     "output_type": "stream",
     "text": [
      " 34%|███████████████████████████                                                    | 402/1174 [04:12<07:20,  1.75it/s]"
     ]
    },
    {
     "name": "stdout",
     "output_type": "stream",
     "text": [
      "      close     created_at      high       low   market      open  \\\n",
      "0  0.042893  1727527560000  0.042893  0.042893  RENUSDT  0.042893   \n",
      "1   0.04288  1727527620000  0.042893   0.04288  RENUSDT  0.042893   \n",
      "\n",
      "              value        volume  \n",
      "0  2.39198793526842   55.76639394  \n",
      "1  4.41356544569996  102.91229644  \n",
      "    symbol                time     price  pct_change      volume\n",
      "0  RENUSDT 2024-09-28 12:46:00  0.042893         NaN   55.766394\n",
      "1  RENUSDT 2024-09-28 12:47:00  0.042880   -0.000303  102.912296\n"
     ]
    },
    {
     "name": "stderr",
     "output_type": "stream",
     "text": [
      " 34%|███████████████████████████                                                    | 403/1174 [04:12<07:19,  1.76it/s]"
     ]
    },
    {
     "name": "stdout",
     "output_type": "stream",
     "text": [
      "      close     created_at      high       low    market      open     value  \\\n",
      "0  0.013245  1727527560000  0.013245  0.013245  CELRUSDT  0.013245   1.56291   \n",
      "1  0.013247  1727527620000  0.013247  0.013247  CELRUSDT  0.013247  1.523405   \n",
      "\n",
      "  volume  \n",
      "0    118  \n",
      "1    115  \n",
      "     symbol                time     price  pct_change  volume\n",
      "0  CELRUSDT 2024-09-28 12:46:00  0.013245         NaN   118.0\n",
      "1  CELRUSDT 2024-09-28 12:47:00  0.013247    0.000151   115.0\n"
     ]
    },
    {
     "name": "stderr",
     "output_type": "stream",
     "text": [
      " 34%|███████████████████████████▏                                                   | 404/1174 [04:13<07:15,  1.77it/s]"
     ]
    },
    {
     "name": "stdout",
     "output_type": "stream",
     "text": [
      "        close     created_at        high         low   market        open  \\\n",
      "0  0.00087175  1727527560000  0.00087175  0.00087175  XPRUSDT  0.00087175   \n",
      "1  0.00087162  1727527620000  0.00087175  0.00087162  XPRUSDT  0.00087175   \n",
      "\n",
      "                value          volume  \n",
      "0  4.6853285012995175   5374.62403361  \n",
      "1  9.7311334364034647  11163.55286536  \n",
      "    symbol                time     price  pct_change        volume\n",
      "0  XPRUSDT 2024-09-28 12:46:00  0.000872         NaN   5374.624034\n",
      "1  XPRUSDT 2024-09-28 12:47:00  0.000872   -0.000149  11163.552865\n"
     ]
    },
    {
     "name": "stderr",
     "output_type": "stream",
     "text": [
      " 34%|███████████████████████████▎                                                   | 405/1174 [04:13<07:31,  1.70it/s]"
     ]
    },
    {
     "name": "stdout",
     "output_type": "stream",
     "text": [
      "      close     created_at      high       low   market      open      value  \\\n",
      "0  0.169515  1727527560000  0.169515  0.169515  OCTUSDT  0.169515   1.932471   \n",
      "1  0.169498  1727527620000  0.169498  0.169498  OCTUSDT  0.169498  1.8983776   \n",
      "\n",
      "  volume  \n",
      "0   11.4  \n",
      "1   11.2  \n",
      "    symbol                time     price  pct_change  volume\n",
      "0  OCTUSDT 2024-09-28 12:46:00  0.169515         NaN    11.4\n",
      "1  OCTUSDT 2024-09-28 12:47:00  0.169498     -0.0001    11.2\n"
     ]
    },
    {
     "name": "stderr",
     "output_type": "stream",
     "text": [
      " 35%|███████████████████████████▎                                                   | 406/1174 [04:14<07:32,  1.70it/s]"
     ]
    },
    {
     "name": "stdout",
     "output_type": "stream",
     "text": [
      "    close     created_at    high     low   market    open    value volume\n",
      "0    2.35  1727527560000    2.35    2.35  FXSUSDT    2.35   2.7495   1.17\n",
      "1  2.3488  1727527620000  2.3488  2.3488  FXSUSDT  2.3488  2.58368    1.1\n",
      "    symbol                time   price  pct_change  volume\n",
      "0  FXSUSDT 2024-09-28 12:46:00  2.3500         NaN    1.17\n",
      "1  FXSUSDT 2024-09-28 12:47:00  2.3488   -0.000511    1.10\n"
     ]
    },
    {
     "name": "stderr",
     "output_type": "stream",
     "text": [
      " 35%|███████████████████████████▍                                                   | 407/1174 [04:15<07:21,  1.74it/s]"
     ]
    },
    {
     "name": "stdout",
     "output_type": "stream",
     "text": [
      "    close     created_at    high     low     market    open     value volume\n",
      "0  1.7166  1727527560000  1.7166  1.7166  MAVIAUSDT  1.7166  2.025588   1.18\n",
      "1  1.7162  1727527620000  1.7162  1.7162  MAVIAUSDT  1.7162  1.990792   1.16\n",
      "      symbol                time   price  pct_change  volume\n",
      "0  MAVIAUSDT 2024-09-28 12:46:00  1.7166         NaN    1.18\n",
      "1  MAVIAUSDT 2024-09-28 12:47:00  1.7162   -0.000233    1.16\n"
     ]
    },
    {
     "name": "stderr",
     "output_type": "stream",
     "text": [
      " 35%|███████████████████████████▍                                                   | 408/1174 [04:15<07:16,  1.76it/s]"
     ]
    },
    {
     "name": "stdout",
     "output_type": "stream",
     "text": [
      "   close     created_at   high    low     market   open         value  \\\n",
      "0  18.43  1727527560000  18.43  18.43  CREAMUSDT  18.43  2.0905478897   \n",
      "1  18.43  1727527620000  18.43  18.43  CREAMUSDT  18.43             0   \n",
      "\n",
      "       volume  \n",
      "0  0.11343179  \n",
      "1           0  \n",
      "      symbol                time  price  pct_change    volume\n",
      "0  CREAMUSDT 2024-09-28 12:46:00  18.43         NaN  0.113432\n",
      "1  CREAMUSDT 2024-09-28 12:47:00  18.43         0.0  0.000000\n"
     ]
    },
    {
     "name": "stderr",
     "output_type": "stream",
     "text": [
      " 35%|███████████████████████████▌                                                   | 409/1174 [04:16<07:10,  1.78it/s]"
     ]
    },
    {
     "name": "stdout",
     "output_type": "stream",
     "text": [
      "    close     created_at    high     low   market    open     value volume\n",
      "0  1.6898  1727527560000  1.6898  1.6898  SNXUSDT  1.6898  1.926372   1.14\n",
      "1  1.6903  1727527620000  1.6903  1.6903  SNXUSDT  1.6903  1.926942   1.14\n",
      "    symbol                time   price  pct_change  volume\n",
      "0  SNXUSDT 2024-09-28 12:46:00  1.6898         NaN    1.14\n",
      "1  SNXUSDT 2024-09-28 12:47:00  1.6903    0.000296    1.14\n"
     ]
    },
    {
     "name": "stderr",
     "output_type": "stream",
     "text": [
      " 35%|███████████████████████████▌                                                   | 410/1174 [04:16<07:17,  1.75it/s]"
     ]
    },
    {
     "name": "stdout",
     "output_type": "stream",
     "text": [
      "      close     created_at      high       low   market      open     value  \\\n",
      "0  0.072826  1727527560000  0.072826  0.072826  BSWUSDT  0.072826  4.041843   \n",
      "1  0.072812  1727527620000  0.072812  0.072812  BSWUSDT  0.072812  4.150284   \n",
      "\n",
      "  volume  \n",
      "0   55.5  \n",
      "1     57  \n",
      "    symbol                time     price  pct_change  volume\n",
      "0  BSWUSDT 2024-09-28 12:46:00  0.072826         NaN    55.5\n",
      "1  BSWUSDT 2024-09-28 12:47:00  0.072812   -0.000192    57.0\n"
     ]
    },
    {
     "name": "stderr",
     "output_type": "stream",
     "text": [
      " 35%|███████████████████████████▋                                                   | 411/1174 [04:17<07:17,  1.74it/s]"
     ]
    },
    {
     "name": "stdout",
     "output_type": "stream",
     "text": [
      "    close     created_at    high     low     market    open    value volume\n",
      "0  0.3927  1727527560000  0.3927  0.3927  LISTAUSDT  0.3927  2.23839    5.7\n",
      "1  0.3926  1727527620000  0.3926  0.3926  LISTAUSDT  0.3926  2.17893   5.55\n",
      "      symbol                time   price  pct_change  volume\n",
      "0  LISTAUSDT 2024-09-28 12:46:00  0.3927         NaN    5.70\n",
      "1  LISTAUSDT 2024-09-28 12:47:00  0.3926   -0.000255    5.55\n"
     ]
    },
    {
     "name": "stderr",
     "output_type": "stream",
     "text": [
      " 35%|███████████████████████████▋                                                   | 412/1174 [04:17<07:22,  1.72it/s]"
     ]
    },
    {
     "name": "stdout",
     "output_type": "stream",
     "text": [
      "    close     created_at    high     low      market    open      value volume\n",
      "0    6.14  1727527560000    6.14    6.14  UNIBOTUSDT    6.14     3.4691  0.565\n",
      "1  6.1369  1727527620000  6.1369  6.1369  UNIBOTUSDT  6.1369  3.4673485  0.565\n",
      "       symbol                time   price  pct_change  volume\n",
      "0  UNIBOTUSDT 2024-09-28 12:46:00  6.1400         NaN   0.565\n",
      "1  UNIBOTUSDT 2024-09-28 12:47:00  6.1369   -0.000505   0.565\n"
     ]
    },
    {
     "name": "stderr",
     "output_type": "stream",
     "text": [
      " 35%|███████████████████████████▊                                                   | 413/1174 [04:18<07:19,  1.73it/s]"
     ]
    },
    {
     "name": "stdout",
     "output_type": "stream",
     "text": [
      "      close     created_at      high       low     market      open    value  \\\n",
      "0  0.003717  1727527560000  0.003717  0.003717  ROOSTUSDT  0.003717  2.15586   \n",
      "1  0.003715  1727527620000  0.003715  0.003715  ROOSTUSDT  0.003715   2.0804   \n",
      "\n",
      "  volume  \n",
      "0    580  \n",
      "1    560  \n",
      "      symbol                time     price  pct_change  volume\n",
      "0  ROOSTUSDT 2024-09-28 12:46:00  0.003717         NaN   580.0\n",
      "1  ROOSTUSDT 2024-09-28 12:47:00  0.003715   -0.000538   560.0\n"
     ]
    },
    {
     "name": "stderr",
     "output_type": "stream",
     "text": [
      " 35%|███████████████████████████▊                                                   | 414/1174 [04:19<07:21,  1.72it/s]"
     ]
    },
    {
     "name": "stdout",
     "output_type": "stream",
     "text": [
      "    close     created_at    high     low   market    open           value  \\\n",
      "0  0.0658  1727527560000  0.0659  0.0658  BOXUSDT  0.0659  9.889934573661   \n",
      "1  0.0658  1727527620000  0.0658  0.0658  BOXUSDT  0.0658               0   \n",
      "\n",
      "         volume  \n",
      "0  150.22662479  \n",
      "1             0  \n",
      "    symbol                time   price  pct_change      volume\n",
      "0  BOXUSDT 2024-09-28 12:46:00  0.0658         NaN  150.226625\n",
      "1  BOXUSDT 2024-09-28 12:47:00  0.0658         0.0    0.000000\n"
     ]
    },
    {
     "name": "stderr",
     "output_type": "stream",
     "text": [
      " 35%|███████████████████████████▉                                                   | 415/1174 [04:19<07:55,  1.60it/s]"
     ]
    },
    {
     "name": "stdout",
     "output_type": "stream",
     "text": [
      "    close     created_at    high     low    market    open           value  \\\n",
      "0  1.4669  1727527560000  1.4669  1.4669  ARKMUSDT  1.4669  1.744949985522   \n",
      "1  1.4674  1727527620000  1.4674  1.4674  ARKMUSDT  1.4674  1.607059516194   \n",
      "\n",
      "       volume  \n",
      "0  1.18954938  \n",
      "1  1.09517481  \n",
      "     symbol                time   price  pct_change    volume\n",
      "0  ARKMUSDT 2024-09-28 12:46:00  1.4669         NaN  1.189549\n",
      "1  ARKMUSDT 2024-09-28 12:47:00  1.4674    0.000341  1.095175\n"
     ]
    },
    {
     "name": "stderr",
     "output_type": "stream",
     "text": [
      " 35%|███████████████████████████▉                                                   | 416/1174 [04:21<11:24,  1.11it/s]"
     ]
    },
    {
     "name": "stdout",
     "output_type": "stream",
     "text": [
      "      close     created_at      high       low     market      open  \\\n",
      "0  0.017881  1727527560000  0.017881  0.017881  CANTOUSDT  0.017881   \n",
      "1  0.017871  1727527620000  0.017871  0.017871  CANTOUSDT  0.017871   \n",
      "\n",
      "              value        volume  \n",
      "0   1.8325536054205   102.4860805  \n",
      "1  1.92582753051864  107.76271784  \n",
      "      symbol                time     price  pct_change      volume\n",
      "0  CANTOUSDT 2024-09-28 12:46:00  0.017881         NaN  102.486080\n",
      "1  CANTOUSDT 2024-09-28 12:47:00  0.017871   -0.000559  107.762718\n"
     ]
    },
    {
     "name": "stderr",
     "output_type": "stream",
     "text": [
      " 36%|████████████████████████████                                                   | 417/1174 [04:21<10:05,  1.25it/s]"
     ]
    },
    {
     "name": "stdout",
     "output_type": "stream",
     "text": [
      "    close     created_at    high     low   market    open           value  \\\n",
      "0   0.617  1727527560000   0.617  0.6169  BELUSDT  0.6169  32.66250449394   \n",
      "1  0.6189  1727527620000  0.6189  0.6189  BELUSDT  0.6189  3.692646865719   \n",
      "\n",
      "        volume  \n",
      "0  52.93856482  \n",
      "1   5.96646771  \n",
      "    symbol                time   price  pct_change     volume\n",
      "0  BELUSDT 2024-09-28 12:46:00  0.6170         NaN  52.938565\n",
      "1  BELUSDT 2024-09-28 12:47:00  0.6189    0.003075   5.966468\n"
     ]
    },
    {
     "name": "stderr",
     "output_type": "stream",
     "text": [
      " 36%|████████████████████████████▏                                                  | 418/1174 [04:22<09:08,  1.38it/s]"
     ]
    },
    {
     "name": "stdout",
     "output_type": "stream",
     "text": [
      "      close     created_at      high       low      market      open  \\\n",
      "0  0.113908  1727527560000  0.113908  0.113908  MOTHERUSDT  0.113908   \n",
      "1  0.113908  1727527620000  0.113908  0.113908  MOTHERUSDT  0.113908   \n",
      "\n",
      "              value        volume  \n",
      "0  16.5837681748842  145.58914365  \n",
      "1                 0             0  \n",
      "       symbol                time     price  pct_change      volume\n",
      "0  MOTHERUSDT 2024-09-28 12:46:00  0.113908         NaN  145.589144\n",
      "1  MOTHERUSDT 2024-09-28 12:47:00  0.113908         0.0    0.000000\n"
     ]
    },
    {
     "name": "stderr",
     "output_type": "stream",
     "text": [
      " 36%|████████████████████████████▏                                                  | 419/1174 [04:23<09:18,  1.35it/s]"
     ]
    },
    {
     "name": "stdout",
     "output_type": "stream",
     "text": [
      "        close     created_at        high         low      market        open  \\\n",
      "0  0.00253829  1727527620000  0.00253829  0.00253829  TURBOSUSDT  0.00253829   \n",
      "1  0.00253829  1727527680000  0.00253829  0.00253829  TURBOSUSDT  0.00253829   \n",
      "\n",
      "       value volume  \n",
      "0  1.4975911    590  \n",
      "1          0      0  \n",
      "       symbol                time     price  pct_change  volume\n",
      "0  TURBOSUSDT 2024-09-28 12:47:00  0.002538         NaN   590.0\n",
      "1  TURBOSUSDT 2024-09-28 12:48:00  0.002538         0.0     0.0\n"
     ]
    },
    {
     "name": "stderr",
     "output_type": "stream",
     "text": [
      " 36%|████████████████████████████▎                                                  | 420/1174 [04:23<08:38,  1.45it/s]"
     ]
    },
    {
     "name": "stdout",
     "output_type": "stream",
     "text": [
      "      close     created_at      high       low    market      open  \\\n",
      "0  0.011107  1727527620000  0.011107  0.011107  TAKIUSDT  0.011107   \n",
      "1  0.011107  1727527680000  0.011107  0.011107  TAKIUSDT  0.011107   \n",
      "\n",
      "              value        volume  \n",
      "0  1.16495843816937  104.88506691  \n",
      "1                 0             0  \n",
      "     symbol                time     price  pct_change      volume\n",
      "0  TAKIUSDT 2024-09-28 12:47:00  0.011107         NaN  104.885067\n",
      "1  TAKIUSDT 2024-09-28 12:48:00  0.011107         0.0    0.000000\n"
     ]
    },
    {
     "name": "stderr",
     "output_type": "stream",
     "text": [
      " 36%|████████████████████████████▎                                                  | 421/1174 [04:24<08:17,  1.51it/s]"
     ]
    },
    {
     "name": "stdout",
     "output_type": "stream",
     "text": [
      "      close     created_at      high       low     market      open    value  \\\n",
      "0  0.004836  1727527620000  0.004836  0.004836  SIDUSUSDT  0.004836  2.80488   \n",
      "1  0.004836  1727527680000  0.004836  0.004836  SIDUSUSDT  0.004836        0   \n",
      "\n",
      "  volume  \n",
      "0    580  \n",
      "1      0  \n",
      "      symbol                time     price  pct_change  volume\n",
      "0  SIDUSUSDT 2024-09-28 12:47:00  0.004836         NaN   580.0\n",
      "1  SIDUSUSDT 2024-09-28 12:48:00  0.004836         0.0     0.0\n"
     ]
    },
    {
     "name": "stderr",
     "output_type": "stream",
     "text": [
      " 36%|████████████████████████████▍                                                  | 422/1174 [04:25<08:19,  1.51it/s]"
     ]
    },
    {
     "name": "stdout",
     "output_type": "stream",
     "text": [
      "      close     created_at      high       low   market      open     value  \\\n",
      "0  0.013279  1727527620000  0.013279  0.013279  ALIUSDT  0.013279  1.580201   \n",
      "1  0.013279  1727527680000  0.013279  0.013279  ALIUSDT  0.013279         0   \n",
      "\n",
      "  volume  \n",
      "0    119  \n",
      "1      0  \n",
      "    symbol                time     price  pct_change  volume\n",
      "0  ALIUSDT 2024-09-28 12:47:00  0.013279         NaN   119.0\n",
      "1  ALIUSDT 2024-09-28 12:48:00  0.013279         0.0     0.0\n"
     ]
    },
    {
     "name": "stderr",
     "output_type": "stream",
     "text": [
      " 36%|████████████████████████████▍                                                  | 423/1174 [04:25<08:02,  1.56it/s]"
     ]
    },
    {
     "name": "stdout",
     "output_type": "stream",
     "text": [
      "    close     created_at    high     low   market    open           value  \\\n",
      "0  8.5259  1727527620000  8.5259  8.5259  ZENUSDT  8.5259  4.423884973659   \n",
      "1  8.5259  1727527680000  8.5259  8.5259  ZENUSDT  8.5259               0   \n",
      "\n",
      "       volume  \n",
      "0  0.51887601  \n",
      "1           0  \n",
      "    symbol                time   price  pct_change    volume\n",
      "0  ZENUSDT 2024-09-28 12:47:00  8.5259         NaN  0.518876\n",
      "1  ZENUSDT 2024-09-28 12:48:00  8.5259         0.0  0.000000\n"
     ]
    },
    {
     "name": "stderr",
     "output_type": "stream",
     "text": [
      " 36%|████████████████████████████▌                                                  | 424/1174 [04:26<07:50,  1.59it/s]"
     ]
    },
    {
     "name": "stdout",
     "output_type": "stream",
     "text": [
      "    close     created_at    high     low   market    open     value volume\n",
      "0  0.7407  1727527620000  0.7407  0.7407  XTZUSDT  0.7407  4.259025   5.75\n",
      "1  0.7407  1727527680000  0.7407  0.7407  XTZUSDT  0.7407         0      0\n",
      "    symbol                time   price  pct_change  volume\n",
      "0  XTZUSDT 2024-09-28 12:47:00  0.7407         NaN    5.75\n",
      "1  XTZUSDT 2024-09-28 12:48:00  0.7407         0.0    0.00\n"
     ]
    },
    {
     "name": "stderr",
     "output_type": "stream",
     "text": [
      " 36%|████████████████████████████▌                                                  | 425/1174 [04:26<07:38,  1.63it/s]"
     ]
    },
    {
     "name": "stdout",
     "output_type": "stream",
     "text": [
      "        close     created_at        high         low    market        open  \\\n",
      "0  0.00002365  1727527620000  0.00002365  0.00002365  NOGSUSDT  0.00002365   \n",
      "1  0.00002365  1727527680000  0.00002365  0.00002365  NOGSUSDT  0.00002365   \n",
      "\n",
      "     value volume  \n",
      "0  1.30075  55000  \n",
      "1        0      0  \n",
      "     symbol                time     price  pct_change   volume\n",
      "0  NOGSUSDT 2024-09-28 12:47:00  0.000024         NaN  55000.0\n",
      "1  NOGSUSDT 2024-09-28 12:48:00  0.000024         0.0      0.0\n"
     ]
    },
    {
     "name": "stderr",
     "output_type": "stream",
     "text": [
      " 36%|████████████████████████████▋                                                  | 426/1174 [04:27<07:28,  1.67it/s]"
     ]
    },
    {
     "name": "stdout",
     "output_type": "stream",
     "text": [
      "      close     created_at      high       low   market      open     value  \\\n",
      "0  0.037649  1727527620000  0.037649  0.037649  PBRUSDT  0.037649  2.145993   \n",
      "1  0.037649  1727527680000  0.037649  0.037649  PBRUSDT  0.037649         0   \n",
      "\n",
      "  volume  \n",
      "0     57  \n",
      "1      0  \n",
      "    symbol                time     price  pct_change  volume\n",
      "0  PBRUSDT 2024-09-28 12:47:00  0.037649         NaN    57.0\n",
      "1  PBRUSDT 2024-09-28 12:48:00  0.037649         0.0     0.0\n"
     ]
    },
    {
     "name": "stderr",
     "output_type": "stream",
     "text": [
      " 36%|████████████████████████████▋                                                  | 427/1174 [04:28<07:28,  1.66it/s]"
     ]
    },
    {
     "name": "stdout",
     "output_type": "stream",
     "text": [
      "    close     created_at    high     low   market    open      value volume\n",
      "0  1.9781  1727527620000  1.9781  1.9781  ELAUSDT  1.9781  1.1176265  0.565\n",
      "1  1.9781  1727527680000  1.9781  1.9781  ELAUSDT  1.9781          0      0\n",
      "    symbol                time   price  pct_change  volume\n",
      "0  ELAUSDT 2024-09-28 12:47:00  1.9781         NaN   0.565\n",
      "1  ELAUSDT 2024-09-28 12:48:00  1.9781         0.0   0.000\n"
     ]
    },
    {
     "name": "stderr",
     "output_type": "stream",
     "text": [
      " 36%|████████████████████████████▊                                                  | 428/1174 [04:28<07:21,  1.69it/s]"
     ]
    },
    {
     "name": "stdout",
     "output_type": "stream",
     "text": [
      "        close     created_at        high         low      market        open  \\\n",
      "0  0.00004675  1727527620000  0.00004675   0.0000467  CATDOGUSDT   0.0000467   \n",
      "1  0.00004675  1727527680000  0.00004675  0.00004675  CATDOGUSDT  0.00004675   \n",
      "\n",
      "                value           volume  \n",
      "0  5.0765237753567865  108649.19369186  \n",
      "1                   0                0  \n",
      "       symbol                time     price  pct_change         volume\n",
      "0  CATDOGUSDT 2024-09-28 12:47:00  0.000047         NaN  108649.193692\n",
      "1  CATDOGUSDT 2024-09-28 12:48:00  0.000047         0.0       0.000000\n"
     ]
    },
    {
     "name": "stderr",
     "output_type": "stream",
     "text": [
      " 37%|████████████████████████████▊                                                  | 429/1174 [04:29<07:21,  1.69it/s]"
     ]
    },
    {
     "name": "stdout",
     "output_type": "stream",
     "text": [
      "        close     created_at        high         low     market        open  \\\n",
      "0  0.00103992  1727527620000  0.00103992  0.00103992  NATIXUSDT  0.00103992   \n",
      "1  0.00103992  1727527680000  0.00103992  0.00103992  NATIXUSDT  0.00103992   \n",
      "\n",
      "      value volume  \n",
      "0  6.135528   5900  \n",
      "1         0      0  \n",
      "      symbol                time    price  pct_change  volume\n",
      "0  NATIXUSDT 2024-09-28 12:47:00  0.00104         NaN  5900.0\n",
      "1  NATIXUSDT 2024-09-28 12:48:00  0.00104         0.0     0.0\n"
     ]
    },
    {
     "name": "stderr",
     "output_type": "stream",
     "text": [
      " 37%|████████████████████████████▉                                                  | 430/1174 [04:29<07:18,  1.70it/s]"
     ]
    },
    {
     "name": "stdout",
     "output_type": "stream",
     "text": [
      "      close     created_at      high       low   market      open      value  \\\n",
      "0  0.075701  1727527620000  0.075701  0.075701  DHTUSDT  0.075701  4.3528075   \n",
      "1  0.075701  1727527680000  0.075701  0.075701  DHTUSDT  0.075701          0   \n",
      "\n",
      "  volume  \n",
      "0   57.5  \n",
      "1      0  \n",
      "    symbol                time     price  pct_change  volume\n",
      "0  DHTUSDT 2024-09-28 12:47:00  0.075701         NaN    57.5\n",
      "1  DHTUSDT 2024-09-28 12:48:00  0.075701         0.0     0.0\n"
     ]
    },
    {
     "name": "stderr",
     "output_type": "stream",
     "text": [
      " 37%|█████████████████████████████                                                  | 431/1174 [04:30<07:14,  1.71it/s]"
     ]
    },
    {
     "name": "stdout",
     "output_type": "stream",
     "text": [
      "       close     created_at       high        low   market       open  \\\n",
      "0  0.0034009  1727527620000  0.0034009  0.0034009  CCDUSDT  0.0034009   \n",
      "1  0.0034009  1727527680000  0.0034009  0.0034009  CCDUSDT  0.0034009   \n",
      "\n",
      "       value volume  \n",
      "0  1.9215085    565  \n",
      "1          0      0  \n",
      "    symbol                time     price  pct_change  volume\n",
      "0  CCDUSDT 2024-09-28 12:47:00  0.003401         NaN   565.0\n",
      "1  CCDUSDT 2024-09-28 12:48:00  0.003401         0.0     0.0\n"
     ]
    },
    {
     "name": "stderr",
     "output_type": "stream",
     "text": [
      " 37%|█████████████████████████████                                                  | 432/1174 [04:30<07:04,  1.75it/s]"
     ]
    },
    {
     "name": "stdout",
     "output_type": "stream",
     "text": [
      "      close     created_at      high       low   market      open     value  \\\n",
      "0  0.051741  1727527620000  0.051741  0.051741  PDAUSDT  0.051741  2.897496   \n",
      "1  0.051741  1727527680000  0.051741  0.051741  PDAUSDT  0.051741         0   \n",
      "\n",
      "  volume  \n",
      "0     56  \n",
      "1      0  \n",
      "    symbol                time     price  pct_change  volume\n",
      "0  PDAUSDT 2024-09-28 12:47:00  0.051741         NaN    56.0\n",
      "1  PDAUSDT 2024-09-28 12:48:00  0.051741         0.0     0.0\n"
     ]
    },
    {
     "name": "stderr",
     "output_type": "stream",
     "text": [
      " 37%|█████████████████████████████▏                                                 | 433/1174 [04:31<07:07,  1.73it/s]"
     ]
    },
    {
     "name": "stdout",
     "output_type": "stream",
     "text": [
      "            close     created_at            high             low    market  \\\n",
      "0  0.000000012431  1727527620000   0.00000001244  0.000000012431  VINUUSDT   \n",
      "1  0.000000012431  1727527680000  0.000000012431  0.000000012431  VINUUSDT   \n",
      "\n",
      "             open              value         volume  \n",
      "0   0.00000001244  15.22045691931165  1223982537.15  \n",
      "1  0.000000012431                  0              0  \n",
      "     symbol                time         price  pct_change        volume\n",
      "0  VINUUSDT 2024-09-28 12:47:00  1.243100e-08         NaN  1.223983e+09\n",
      "1  VINUUSDT 2024-09-28 12:48:00  1.243100e-08         0.0  0.000000e+00\n"
     ]
    },
    {
     "name": "stderr",
     "output_type": "stream",
     "text": [
      " 37%|█████████████████████████████▏                                                 | 434/1174 [04:32<07:04,  1.74it/s]"
     ]
    },
    {
     "name": "stdout",
     "output_type": "stream",
     "text": [
      "     close     created_at     high      low  market     open     value volume\n",
      "0  13.2385  1727527620000  13.2385  13.2385  FBUSDT  13.2385  1.482712  0.112\n",
      "1  13.2385  1727527680000  13.2385  13.2385  FBUSDT  13.2385         0      0\n",
      "   symbol                time    price  pct_change  volume\n",
      "0  FBUSDT 2024-09-28 12:47:00  13.2385         NaN   0.112\n",
      "1  FBUSDT 2024-09-28 12:48:00  13.2385         0.0   0.000\n"
     ]
    },
    {
     "name": "stderr",
     "output_type": "stream",
     "text": [
      " 37%|█████████████████████████████▎                                                 | 435/1174 [04:32<07:00,  1.76it/s]"
     ]
    },
    {
     "name": "stdout",
     "output_type": "stream",
     "text": [
      "        close     created_at        high         low    market        open  \\\n",
      "0  0.00126369  1727527620000  0.00126369  0.00126369  JULDUSDT  0.00126369   \n",
      "1  0.00126369  1727527680000  0.00126369  0.00126369  JULDUSDT  0.00126369   \n",
      "\n",
      "       value volume  \n",
      "0  1.4658804   1160  \n",
      "1          0      0  \n",
      "     symbol                time     price  pct_change  volume\n",
      "0  JULDUSDT 2024-09-28 12:47:00  0.001264         NaN  1160.0\n",
      "1  JULDUSDT 2024-09-28 12:48:00  0.001264         0.0     0.0\n"
     ]
    },
    {
     "name": "stderr",
     "output_type": "stream",
     "text": [
      " 37%|█████████████████████████████▎                                                 | 436/1174 [04:33<06:53,  1.78it/s]"
     ]
    },
    {
     "name": "stdout",
     "output_type": "stream",
     "text": [
      "      close     created_at      high       low   market      open  \\\n",
      "0  0.183405  1727527620000  0.183405  0.183405  CFXUSDT  0.183405   \n",
      "1  0.183405  1727527680000  0.183405  0.183405  CFXUSDT  0.183405   \n",
      "\n",
      "             value       volume  \n",
      "0  1.8611833501953  10.14794226  \n",
      "1                0            0  \n",
      "    symbol                time     price  pct_change     volume\n",
      "0  CFXUSDT 2024-09-28 12:47:00  0.183405         NaN  10.147942\n",
      "1  CFXUSDT 2024-09-28 12:48:00  0.183405         0.0   0.000000\n"
     ]
    },
    {
     "name": "stderr",
     "output_type": "stream",
     "text": [
      " 37%|█████████████████████████████▍                                                 | 437/1174 [04:33<06:46,  1.81it/s]"
     ]
    },
    {
     "name": "stdout",
     "output_type": "stream",
     "text": [
      "    close     created_at    high     low     market    open           value  \\\n",
      "0  3.9767  1727527620000  3.9781  3.9767  PIZZAUSDT  3.9781  4.166065225525   \n",
      "1  3.9767  1727527680000  3.9767  3.9767  PIZZAUSDT  3.9767               0   \n",
      "\n",
      "       volume  \n",
      "0  1.04742715  \n",
      "1           0  \n",
      "      symbol                time   price  pct_change    volume\n",
      "0  PIZZAUSDT 2024-09-28 12:47:00  3.9767         NaN  1.047427\n",
      "1  PIZZAUSDT 2024-09-28 12:48:00  3.9767         0.0  0.000000\n"
     ]
    },
    {
     "name": "stderr",
     "output_type": "stream",
     "text": [
      " 37%|█████████████████████████████▍                                                 | 438/1174 [04:34<06:53,  1.78it/s]"
     ]
    },
    {
     "name": "stdout",
     "output_type": "stream",
     "text": [
      "    close     created_at    high     low   market    open   value volume\n",
      "0  0.6226  1727527620000  0.6226  0.6226  KDAUSDT  0.6226  3.4243    5.5\n",
      "1  0.6226  1727527680000  0.6226  0.6226  KDAUSDT  0.6226       0      0\n",
      "    symbol                time   price  pct_change  volume\n",
      "0  KDAUSDT 2024-09-28 12:47:00  0.6226         NaN     5.5\n",
      "1  KDAUSDT 2024-09-28 12:48:00  0.6226         0.0     0.0\n"
     ]
    },
    {
     "name": "stderr",
     "output_type": "stream",
     "text": [
      " 37%|█████████████████████████████▌                                                 | 439/1174 [04:34<07:02,  1.74it/s]"
     ]
    },
    {
     "name": "stdout",
     "output_type": "stream",
     "text": [
      "  close     created_at  high   low    market  open  value volume\n",
      "0  0.98  1727527620000  0.98  0.98  SAFEUSDT  0.98  5.684    5.8\n",
      "1  0.98  1727527680000  0.98  0.98  SAFEUSDT  0.98      0      0\n",
      "     symbol                time  price  pct_change  volume\n",
      "0  SAFEUSDT 2024-09-28 12:47:00   0.98         NaN     5.8\n",
      "1  SAFEUSDT 2024-09-28 12:48:00   0.98         0.0     0.0\n"
     ]
    },
    {
     "name": "stderr",
     "output_type": "stream",
     "text": [
      " 37%|█████████████████████████████▌                                                 | 440/1174 [04:35<07:02,  1.74it/s]"
     ]
    },
    {
     "name": "stdout",
     "output_type": "stream",
     "text": [
      "    close     created_at    high     low   market    open     value volume\n",
      "0  0.7267  1727527620000  0.7267  0.7267  LITUSDT  0.7267  4.251195   5.85\n",
      "1  0.7267  1727527680000  0.7267  0.7267  LITUSDT  0.7267         0      0\n",
      "    symbol                time   price  pct_change  volume\n",
      "0  LITUSDT 2024-09-28 12:47:00  0.7267         NaN    5.85\n",
      "1  LITUSDT 2024-09-28 12:48:00  0.7267         0.0    0.00\n"
     ]
    },
    {
     "name": "stderr",
     "output_type": "stream",
     "text": [
      " 38%|█████████████████████████████▋                                                 | 441/1174 [04:36<06:53,  1.77it/s]"
     ]
    },
    {
     "name": "stdout",
     "output_type": "stream",
     "text": [
      "      close     created_at      high       low     market      open  \\\n",
      "0  0.002581  1727527620000  0.002581  0.002581  EDOGEUSDT  0.002581   \n",
      "1  0.002581  1727527680000  0.002581  0.002581  EDOGEUSDT  0.002581   \n",
      "\n",
      "              value        volume  \n",
      "0  1.37775524100426  533.80675746  \n",
      "1                 0             0  \n",
      "      symbol                time     price  pct_change      volume\n",
      "0  EDOGEUSDT 2024-09-28 12:47:00  0.002581         NaN  533.806757\n",
      "1  EDOGEUSDT 2024-09-28 12:48:00  0.002581         0.0    0.000000\n"
     ]
    },
    {
     "name": "stderr",
     "output_type": "stream",
     "text": [
      " 38%|█████████████████████████████▋                                                 | 442/1174 [04:36<06:53,  1.77it/s]"
     ]
    },
    {
     "name": "stdout",
     "output_type": "stream",
     "text": [
      "      close     created_at      high       low   market      open     value  \\\n",
      "0  0.034148  1727527620000  0.034148  0.034148  HMTUSDT  0.034148  1.912288   \n",
      "1  0.034148  1727527680000  0.034148  0.034148  HMTUSDT  0.034148         0   \n",
      "\n",
      "  volume  \n",
      "0     56  \n",
      "1      0  \n",
      "    symbol                time     price  pct_change  volume\n",
      "0  HMTUSDT 2024-09-28 12:47:00  0.034148         NaN    56.0\n",
      "1  HMTUSDT 2024-09-28 12:48:00  0.034148         0.0     0.0\n"
     ]
    },
    {
     "name": "stderr",
     "output_type": "stream",
     "text": [
      " 38%|█████████████████████████████▊                                                 | 443/1174 [04:37<06:56,  1.75it/s]"
     ]
    },
    {
     "name": "stdout",
     "output_type": "stream",
     "text": [
      "     close     created_at     high      low   market     open     value volume\n",
      "0  12.5398  1727527620000  12.5398  12.5398  DCRUSDT  12.5398  1.442077  0.115\n",
      "1  12.5398  1727527680000  12.5398  12.5398  DCRUSDT  12.5398         0      0\n",
      "    symbol                time    price  pct_change  volume\n",
      "0  DCRUSDT 2024-09-28 12:47:00  12.5398         NaN   0.115\n",
      "1  DCRUSDT 2024-09-28 12:48:00  12.5398         0.0   0.000\n"
     ]
    },
    {
     "name": "stderr",
     "output_type": "stream",
     "text": [
      " 38%|█████████████████████████████▉                                                 | 444/1174 [04:37<06:53,  1.76it/s]"
     ]
    },
    {
     "name": "stdout",
     "output_type": "stream",
     "text": [
      "          close     created_at          high           low    market  \\\n",
      "0  0.0000026493  1727527620000  0.0000026493  0.0000026493  NEXAUSDT   \n",
      "1  0.0000026015  1727527680000  0.0000026492  0.0000025833  NEXAUSDT   \n",
      "\n",
      "           open                   value            volume  \n",
      "0  0.0000026493    1.450394012003179107   547463.10799199  \n",
      "1  0.0000026492  216.484856153742542148  82946756.9374791  \n",
      "     symbol                time     price  pct_change        volume\n",
      "0  NEXAUSDT 2024-09-28 12:47:00  0.000003         NaN  5.474631e+05\n",
      "1  NEXAUSDT 2024-09-28 12:48:00  0.000003   -0.018207  8.294676e+07\n"
     ]
    },
    {
     "name": "stderr",
     "output_type": "stream",
     "text": [
      " 38%|█████████████████████████████▉                                                 | 445/1174 [04:38<07:01,  1.73it/s]"
     ]
    },
    {
     "name": "stdout",
     "output_type": "stream",
     "text": [
      "   close     created_at   high    low      market   open    value volume\n",
      "0  0.431  1727527620000  0.431  0.431  PUNDIXUSDT  0.431  2.39205   5.55\n",
      "1  0.431  1727527680000  0.431  0.431  PUNDIXUSDT  0.431        0      0\n",
      "       symbol                time  price  pct_change  volume\n",
      "0  PUNDIXUSDT 2024-09-28 12:47:00  0.431         NaN    5.55\n",
      "1  PUNDIXUSDT 2024-09-28 12:48:00  0.431         0.0    0.00\n"
     ]
    },
    {
     "name": "stderr",
     "output_type": "stream",
     "text": [
      " 38%|██████████████████████████████                                                 | 446/1174 [04:38<07:00,  1.73it/s]"
     ]
    },
    {
     "name": "stdout",
     "output_type": "stream",
     "text": [
      "      close     created_at      high       low       market      open  \\\n",
      "0  0.003197  1727527620000  0.003197  0.003197  PAJAMASUSDT  0.003197   \n",
      "1  0.003197  1727527680000  0.003197  0.003197  PAJAMASUSDT  0.003197   \n",
      "\n",
      "     value volume  \n",
      "0  1.85426    580  \n",
      "1        0      0  \n",
      "        symbol                time     price  pct_change  volume\n",
      "0  PAJAMASUSDT 2024-09-28 12:47:00  0.003197         NaN   580.0\n",
      "1  PAJAMASUSDT 2024-09-28 12:48:00  0.003197         0.0     0.0\n"
     ]
    },
    {
     "name": "stderr",
     "output_type": "stream",
     "text": [
      " 38%|██████████████████████████████                                                 | 447/1174 [04:39<07:09,  1.69it/s]"
     ]
    },
    {
     "name": "stdout",
     "output_type": "stream",
     "text": [
      "        close     created_at        high         low   market        open  \\\n",
      "0  0.00108234  1727527620000  0.00108234  0.00108234  XNAUSDT  0.00108234   \n",
      "1  0.00108261  1727527680000  0.00108261  0.00108261  XNAUSDT  0.00108261   \n",
      "\n",
      "       value volume  \n",
      "0   6.223455   5750  \n",
      "1  6.0084855   5550  \n",
      "    symbol                time     price  pct_change  volume\n",
      "0  XNAUSDT 2024-09-28 12:47:00  0.001082         NaN  5750.0\n",
      "1  XNAUSDT 2024-09-28 12:48:00  0.001083    0.000249  5550.0\n"
     ]
    },
    {
     "name": "stderr",
     "output_type": "stream",
     "text": [
      " 38%|██████████████████████████████▏                                                | 448/1174 [04:40<07:01,  1.72it/s]"
     ]
    },
    {
     "name": "stdout",
     "output_type": "stream",
     "text": [
      "   close     created_at   high    low   market   open     value  volume\n",
      "0  42.53  1727527620000  42.53  42.53  OKBUSDT  42.53  2.488005  0.0585\n",
      "1  42.53  1727527680000  42.53  42.53  OKBUSDT  42.53         0       0\n",
      "    symbol                time  price  pct_change  volume\n",
      "0  OKBUSDT 2024-09-28 12:47:00  42.53         NaN  0.0585\n",
      "1  OKBUSDT 2024-09-28 12:48:00  42.53         0.0  0.0000\n"
     ]
    },
    {
     "name": "stderr",
     "output_type": "stream",
     "text": [
      " 38%|██████████████████████████████▏                                                | 449/1174 [04:40<06:56,  1.74it/s]"
     ]
    },
    {
     "name": "stdout",
     "output_type": "stream",
     "text": [
      "    close     created_at    high     low     market    open      value volume\n",
      "0  3.1729  1727527620000  3.1729  3.1729  FORTHUSDT  3.1729  1.8878755  0.595\n",
      "1  3.1729  1727527680000  3.1729  3.1729  FORTHUSDT  3.1729          0      0\n",
      "      symbol                time   price  pct_change  volume\n",
      "0  FORTHUSDT 2024-09-28 12:47:00  3.1729         NaN   0.595\n",
      "1  FORTHUSDT 2024-09-28 12:48:00  3.1729         0.0   0.000\n"
     ]
    },
    {
     "name": "stderr",
     "output_type": "stream",
     "text": [
      " 38%|██████████████████████████████▎                                                | 450/1174 [04:41<06:54,  1.75it/s]"
     ]
    },
    {
     "name": "stdout",
     "output_type": "stream",
     "text": [
      "      close     created_at      high       low    market      open      value  \\\n",
      "0  0.131833  1727527620000  0.131833  0.131833  DODOUSDT  0.131833  1.5160795   \n",
      "1  0.131833  1727527680000  0.131833  0.131833  DODOUSDT  0.131833          0   \n",
      "\n",
      "  volume  \n",
      "0   11.5  \n",
      "1      0  \n",
      "     symbol                time     price  pct_change  volume\n",
      "0  DODOUSDT 2024-09-28 12:47:00  0.131833         NaN    11.5\n",
      "1  DODOUSDT 2024-09-28 12:48:00  0.131833         0.0     0.0\n"
     ]
    },
    {
     "name": "stderr",
     "output_type": "stream",
     "text": [
      " 38%|██████████████████████████████▎                                                | 451/1174 [04:41<06:52,  1.75it/s]"
     ]
    },
    {
     "name": "stdout",
     "output_type": "stream",
     "text": [
      "      close     created_at      high       low     market      open     value  \\\n",
      "0  0.067923  1727527620000  0.067923  0.067923  HONEYUSDT  0.067923  3.871611   \n",
      "1  0.067923  1727527680000  0.067923  0.067923  HONEYUSDT  0.067923         0   \n",
      "\n",
      "  volume  \n",
      "0     57  \n",
      "1      0  \n",
      "      symbol                time     price  pct_change  volume\n",
      "0  HONEYUSDT 2024-09-28 12:47:00  0.067923         NaN    57.0\n",
      "1  HONEYUSDT 2024-09-28 12:48:00  0.067923         0.0     0.0\n"
     ]
    },
    {
     "name": "stderr",
     "output_type": "stream",
     "text": [
      " 39%|██████████████████████████████▍                                                | 452/1174 [04:42<06:50,  1.76it/s]"
     ]
    },
    {
     "name": "stdout",
     "output_type": "stream",
     "text": [
      "      close     created_at      high       low    market      open      value  \\\n",
      "0  0.073475  1727527620000  0.073475  0.073475  SUKUUSDT  0.073475     4.1146   \n",
      "1  0.073511  1727527680000  0.073511  0.073511  SUKUUSDT  0.073511  4.0798605   \n",
      "\n",
      "  volume  \n",
      "0     56  \n",
      "1   55.5  \n",
      "     symbol                time     price  pct_change  volume\n",
      "0  SUKUUSDT 2024-09-28 12:47:00  0.073475         NaN    56.0\n",
      "1  SUKUUSDT 2024-09-28 12:48:00  0.073511     0.00049    55.5\n"
     ]
    },
    {
     "name": "stderr",
     "output_type": "stream",
     "text": [
      " 39%|██████████████████████████████▍                                                | 453/1174 [04:43<07:19,  1.64it/s]"
     ]
    },
    {
     "name": "stdout",
     "output_type": "stream",
     "text": [
      "     close     created_at     high      low    market     open   value volume\n",
      "0  0.00334  1727527620000  0.00334  0.00334  CAPSUSDT  0.00334  1.8537    555\n",
      "1  0.00334  1727527680000  0.00334  0.00334  CAPSUSDT  0.00334       0      0\n",
      "     symbol                time    price  pct_change  volume\n",
      "0  CAPSUSDT 2024-09-28 12:47:00  0.00334         NaN   555.0\n",
      "1  CAPSUSDT 2024-09-28 12:48:00  0.00334         0.0     0.0\n"
     ]
    },
    {
     "name": "stderr",
     "output_type": "stream",
     "text": [
      " 39%|██████████████████████████████▌                                                | 454/1174 [04:43<07:15,  1.65it/s]"
     ]
    },
    {
     "name": "stdout",
     "output_type": "stream",
     "text": [
      "      close     created_at      high       low   market      open    value  \\\n",
      "0  0.003777  1727527620000  0.003777  0.003777  JOYUSDT  0.003777  2.11512   \n",
      "1  0.003777  1727527680000  0.003777  0.003777  JOYUSDT  0.003777        0   \n",
      "\n",
      "  volume  \n",
      "0    560  \n",
      "1      0  \n",
      "    symbol                time     price  pct_change  volume\n",
      "0  JOYUSDT 2024-09-28 12:47:00  0.003777         NaN   560.0\n",
      "1  JOYUSDT 2024-09-28 12:48:00  0.003777         0.0     0.0\n"
     ]
    },
    {
     "name": "stderr",
     "output_type": "stream",
     "text": [
      " 39%|██████████████████████████████▌                                                | 455/1174 [04:44<07:06,  1.69it/s]"
     ]
    },
    {
     "name": "stdout",
     "output_type": "stream",
     "text": [
      "          close     created_at          high           low    market  \\\n",
      "0  0.0000075344  1727527620000  0.0000075344  0.0000075344  WOLFUSDT   \n",
      "1  0.0000075313  1727527680000  0.0000075313  0.0000075313  WOLFUSDT   \n",
      "\n",
      "           open     value  volume  \n",
      "0  0.0000075344  4.219264  560000  \n",
      "1  0.0000075313  4.142215  550000  \n",
      "     symbol                time     price  pct_change    volume\n",
      "0  WOLFUSDT 2024-09-28 12:47:00  0.000008         NaN  560000.0\n",
      "1  WOLFUSDT 2024-09-28 12:48:00  0.000008   -0.000412  550000.0\n"
     ]
    },
    {
     "name": "stderr",
     "output_type": "stream",
     "text": [
      " 39%|██████████████████████████████▋                                                | 456/1174 [04:44<07:22,  1.62it/s]"
     ]
    },
    {
     "name": "stdout",
     "output_type": "stream",
     "text": [
      "      close     created_at      high       low   market      open      value  \\\n",
      "0  0.029017  1727527620000  0.029017  0.029017  NPCUSDT  0.029017   1.624952   \n",
      "1  0.029017  1727527680000  0.029017  0.029017  NPCUSDT  0.029017  1.6974945   \n",
      "\n",
      "  volume  \n",
      "0     56  \n",
      "1   58.5  \n",
      "    symbol                time     price  pct_change  volume\n",
      "0  NPCUSDT 2024-09-28 12:47:00  0.029017         NaN    56.0\n",
      "1  NPCUSDT 2024-09-28 12:48:00  0.029017         0.0    58.5\n"
     ]
    },
    {
     "name": "stderr",
     "output_type": "stream",
     "text": [
      " 39%|██████████████████████████████▊                                                | 457/1174 [04:45<07:14,  1.65it/s]"
     ]
    },
    {
     "name": "stdout",
     "output_type": "stream",
     "text": [
      "      close     created_at      high       low    market      open  \\\n",
      "0  0.140351  1727527620000  0.140351  0.140338  ZEROUSDT  0.140338   \n",
      "1  0.140351  1727527680000  0.140351  0.140351  ZEROUSDT  0.140351   \n",
      "\n",
      "              value       volume  \n",
      "0  3.15954329316739  22.51279176  \n",
      "1                 0            0  \n",
      "     symbol                time     price  pct_change     volume\n",
      "0  ZEROUSDT 2024-09-28 12:47:00  0.140351         NaN  22.512792\n",
      "1  ZEROUSDT 2024-09-28 12:48:00  0.140351         0.0   0.000000\n"
     ]
    },
    {
     "name": "stderr",
     "output_type": "stream",
     "text": [
      " 39%|██████████████████████████████▊                                                | 458/1174 [04:46<07:10,  1.66it/s]"
     ]
    },
    {
     "name": "stdout",
     "output_type": "stream",
     "text": [
      "    close     created_at    high     low    market    open     value volume\n",
      "0  1.0514  1727527620000  1.0514  1.0514  NEXOUSDT  1.0514  1.251166   1.19\n",
      "1   1.051  1727527680000   1.051   1.051  NEXOUSDT   1.051    1.1561    1.1\n",
      "     symbol                time   price  pct_change  volume\n",
      "0  NEXOUSDT 2024-09-28 12:47:00  1.0514         NaN    1.19\n",
      "1  NEXOUSDT 2024-09-28 12:48:00  1.0510   -0.000381    1.10\n"
     ]
    },
    {
     "name": "stderr",
     "output_type": "stream",
     "text": [
      " 39%|██████████████████████████████▉                                                | 459/1174 [04:46<07:00,  1.70it/s]"
     ]
    },
    {
     "name": "stdout",
     "output_type": "stream",
     "text": [
      "        close     created_at        high         low    market        open  \\\n",
      "0  0.00115741  1727527620000  0.00115741  0.00115741  ZBCNUSDT  0.00115741   \n",
      "1  0.00115741  1727527680000  0.00115741  0.00115741  ZBCNUSDT  0.00115741   \n",
      "\n",
      "                value         volume  \n",
      "0  1.3492588843585939  1165.75706479  \n",
      "1                   0              0  \n",
      "     symbol                time     price  pct_change       volume\n",
      "0  ZBCNUSDT 2024-09-28 12:47:00  0.001157         NaN  1165.757065\n",
      "1  ZBCNUSDT 2024-09-28 12:48:00  0.001157         0.0     0.000000\n"
     ]
    },
    {
     "name": "stderr",
     "output_type": "stream",
     "text": [
      " 39%|██████████████████████████████▉                                                | 460/1174 [04:47<06:55,  1.72it/s]"
     ]
    },
    {
     "name": "stdout",
     "output_type": "stream",
     "text": [
      "    close     created_at    high     low   market    open             value  \\\n",
      "0  0.3926  1727527620000  0.3949  0.3926  CFGUSDT  0.3929  135.914469741587   \n",
      "1  0.3926  1727527680000  0.3926  0.3926  CFGUSDT  0.3926                 0   \n",
      "\n",
      "         volume  \n",
      "0  344.84182345  \n",
      "1             0  \n",
      "    symbol                time   price  pct_change      volume\n",
      "0  CFGUSDT 2024-09-28 12:47:00  0.3926         NaN  344.841823\n",
      "1  CFGUSDT 2024-09-28 12:48:00  0.3926         0.0    0.000000\n"
     ]
    },
    {
     "name": "stderr",
     "output_type": "stream",
     "text": [
      " 39%|███████████████████████████████                                                | 461/1174 [04:47<06:51,  1.73it/s]"
     ]
    },
    {
     "name": "stdout",
     "output_type": "stream",
     "text": [
      "      close     created_at      high       low   market      open      value  \\\n",
      "0  0.272346  1727527620000  0.272346  0.272346  RSCUSDT  0.272346  1.5115203   \n",
      "1  0.272291  1727527680000  0.272291  0.272291  RSCUSDT  0.272291  1.5248296   \n",
      "\n",
      "  volume  \n",
      "0   5.55  \n",
      "1    5.6  \n",
      "    symbol                time     price  pct_change  volume\n",
      "0  RSCUSDT 2024-09-28 12:47:00  0.272346         NaN    5.55\n",
      "1  RSCUSDT 2024-09-28 12:48:00  0.272291   -0.000202    5.60\n"
     ]
    },
    {
     "name": "stderr",
     "output_type": "stream",
     "text": [
      " 39%|███████████████████████████████                                                | 462/1174 [04:48<06:43,  1.76it/s]"
     ]
    },
    {
     "name": "stdout",
     "output_type": "stream",
     "text": [
      "    close     created_at    high     low    market    open     value volume\n",
      "0  1.5184  1727527620000  1.5184  1.5184  ZEPHUSDT  1.5184  1.685424   1.11\n",
      "1  1.5173  1727527680000  1.5173  1.5173  ZEPHUSDT  1.5173  1.760068   1.16\n",
      "     symbol                time   price  pct_change  volume\n",
      "0  ZEPHUSDT 2024-09-28 12:47:00  1.5184         NaN    1.11\n",
      "1  ZEPHUSDT 2024-09-28 12:48:00  1.5173   -0.000725    1.16\n"
     ]
    },
    {
     "name": "stderr",
     "output_type": "stream",
     "text": [
      " 39%|███████████████████████████████▏                                               | 463/1174 [04:48<06:42,  1.76it/s]"
     ]
    },
    {
     "name": "stdout",
     "output_type": "stream",
     "text": [
      "        close     created_at        high         low     market        open  \\\n",
      "0  0.00012171  1727527620000  0.00012171  0.00012171  HOPPYUSDT  0.00012171   \n",
      "1  0.00012171  1727527680000  0.00012171  0.00012171  HOPPYUSDT  0.00012171   \n",
      "\n",
      "                value          volume  \n",
      "0  1.2994788493534593  10676.84536483  \n",
      "1                   0               0  \n",
      "      symbol                time     price  pct_change        volume\n",
      "0  HOPPYUSDT 2024-09-28 12:47:00  0.000122         NaN  10676.845365\n",
      "1  HOPPYUSDT 2024-09-28 12:48:00  0.000122         0.0      0.000000\n"
     ]
    },
    {
     "name": "stderr",
     "output_type": "stream",
     "text": [
      " 40%|███████████████████████████████▏                                               | 464/1174 [04:49<06:48,  1.74it/s]"
     ]
    },
    {
     "name": "stdout",
     "output_type": "stream",
     "text": [
      "    close     created_at    high     low   market    open    value volume\n",
      "0  0.5466  1727527620000  0.5466  0.5466  SOVUSDT  0.5466  3.03363   5.55\n",
      "1  0.5466  1727527680000  0.5466  0.5466  SOVUSDT  0.5466  3.25227   5.95\n",
      "    symbol                time   price  pct_change  volume\n",
      "0  SOVUSDT 2024-09-28 12:47:00  0.5466         NaN    5.55\n",
      "1  SOVUSDT 2024-09-28 12:48:00  0.5466         0.0    5.95\n"
     ]
    },
    {
     "name": "stderr",
     "output_type": "stream",
     "text": [
      " 40%|███████████████████████████████▎                                               | 465/1174 [04:49<06:44,  1.75it/s]"
     ]
    },
    {
     "name": "stdout",
     "output_type": "stream",
     "text": [
      "      close     created_at      high       low   market      open      value  \\\n",
      "0  0.028859  1727527620000  0.028859  0.028859  YUPUSDT  0.028859  1.6016745   \n",
      "1  0.028867  1727527680000  0.028867  0.028867  YUPUSDT  0.028867   1.703153   \n",
      "\n",
      "  volume  \n",
      "0   55.5  \n",
      "1     59  \n",
      "    symbol                time     price  pct_change  volume\n",
      "0  YUPUSDT 2024-09-28 12:47:00  0.028859         NaN    55.5\n",
      "1  YUPUSDT 2024-09-28 12:48:00  0.028867    0.000277    59.0\n"
     ]
    },
    {
     "name": "stderr",
     "output_type": "stream",
     "text": [
      " 40%|███████████████████████████████▎                                               | 466/1174 [04:50<06:38,  1.78it/s]"
     ]
    },
    {
     "name": "stdout",
     "output_type": "stream",
     "text": [
      "            close     created_at            high             low   market  \\\n",
      "0  0.000000010403  1727527620000  0.000000010403  0.000000010403  BADUSDT   \n",
      "1  0.000000010397  1727527680000  0.000000010397  0.000000010397  BADUSDT   \n",
      "\n",
      "             open    value     volume  \n",
      "0  0.000000010403  5.72165  550000000  \n",
      "1  0.000000010397  5.82232  560000000  \n",
      "    symbol                time         price  pct_change       volume\n",
      "0  BADUSDT 2024-09-28 12:47:00  1.040300e-08         NaN  550000000.0\n",
      "1  BADUSDT 2024-09-28 12:48:00  1.039700e-08   -0.000577  560000000.0\n"
     ]
    },
    {
     "name": "stderr",
     "output_type": "stream",
     "text": [
      " 40%|███████████████████████████████▍                                               | 467/1174 [04:51<06:36,  1.78it/s]"
     ]
    },
    {
     "name": "stdout",
     "output_type": "stream",
     "text": [
      "    close     created_at    high     low     market    open    value volume\n",
      "0  0.2678  1727527620000  0.2678  0.2678  POLYXUSDT  0.2678   1.4729    5.5\n",
      "1  0.2679  1727527680000  0.2679  0.2679  POLYXUSDT  0.2679  1.58061    5.9\n",
      "      symbol                time   price  pct_change  volume\n",
      "0  POLYXUSDT 2024-09-28 12:47:00  0.2678         NaN     5.5\n",
      "1  POLYXUSDT 2024-09-28 12:48:00  0.2679    0.000373     5.9\n"
     ]
    },
    {
     "name": "stderr",
     "output_type": "stream",
     "text": [
      " 40%|███████████████████████████████▍                                               | 468/1174 [04:51<06:33,  1.79it/s]"
     ]
    },
    {
     "name": "stdout",
     "output_type": "stream",
     "text": [
      "    close     created_at    high     low    market    open     value volume\n",
      "0  2.0962  1727527620000  2.0962  2.0962  CITYUSDT  2.0962  1.247239  0.595\n",
      "1  2.0962  1727527680000  2.0962  2.0962  CITYUSDT  2.0962  1.236758   0.59\n",
      "     symbol                time   price  pct_change  volume\n",
      "0  CITYUSDT 2024-09-28 12:47:00  2.0962         NaN   0.595\n",
      "1  CITYUSDT 2024-09-28 12:48:00  2.0962         0.0   0.590\n"
     ]
    },
    {
     "name": "stderr",
     "output_type": "stream",
     "text": [
      " 40%|███████████████████████████████▌                                               | 469/1174 [04:52<06:31,  1.80it/s]"
     ]
    },
    {
     "name": "stdout",
     "output_type": "stream",
     "text": [
      "      close     created_at      high       low   market      open      value  \\\n",
      "0   0.17168  1727527620000   0.17168   0.17168  DARUSDT   0.17168    1.88848   \n",
      "1  0.171399  1727527680000  0.171399  0.171399  DARUSDT  0.171399  1.9710885   \n",
      "\n",
      "  volume  \n",
      "0     11  \n",
      "1   11.5  \n",
      "    symbol                time     price  pct_change  volume\n",
      "0  DARUSDT 2024-09-28 12:47:00  0.171680         NaN    11.0\n",
      "1  DARUSDT 2024-09-28 12:48:00  0.171399   -0.001638    11.5\n"
     ]
    },
    {
     "name": "stderr",
     "output_type": "stream",
     "text": [
      " 40%|███████████████████████████████▋                                               | 470/1174 [04:52<06:34,  1.78it/s]"
     ]
    },
    {
     "name": "stdout",
     "output_type": "stream",
     "text": [
      "      close     created_at      high       low     market      open  \\\n",
      "0  0.029867  1727527620000  0.029867  0.029867  SHARKUSDT  0.029867   \n",
      "1  0.029893  1727527680000  0.029893  0.029893  SHARKUSDT  0.029893   \n",
      "\n",
      "       value volume  \n",
      "0  1.7173525   57.5  \n",
      "1  1.7188475   57.5  \n",
      "      symbol                time     price  pct_change  volume\n",
      "0  SHARKUSDT 2024-09-28 12:47:00  0.029867         NaN    57.5\n",
      "1  SHARKUSDT 2024-09-28 12:48:00  0.029893     0.00087    57.5\n"
     ]
    },
    {
     "name": "stderr",
     "output_type": "stream",
     "text": [
      " 40%|███████████████████████████████▋                                               | 471/1174 [04:53<06:34,  1.78it/s]"
     ]
    },
    {
     "name": "stdout",
     "output_type": "stream",
     "text": [
      "          close     created_at          high           low      market  \\\n",
      "0  0.0000028779  1727527620000   0.000002878  0.0000028779  GINNANUSDT   \n",
      "1  0.0000028576  1727527680000  0.0000028779  0.0000028576  GINNANUSDT   \n",
      "\n",
      "           open                   value             volume  \n",
      "0   0.000002878    45.36272532999998262  15761911.51146629  \n",
      "1  0.0000028779  182.438710539777491682  63401342.70230946  \n",
      "       symbol                time     price  pct_change        volume\n",
      "0  GINNANUSDT 2024-09-28 12:47:00  0.000003         NaN  1.576191e+07\n",
      "1  GINNANUSDT 2024-09-28 12:48:00  0.000003   -0.007079  6.340134e+07\n"
     ]
    },
    {
     "name": "stderr",
     "output_type": "stream",
     "text": [
      " 40%|███████████████████████████████▊                                               | 472/1174 [04:53<06:34,  1.78it/s]"
     ]
    },
    {
     "name": "stdout",
     "output_type": "stream",
     "text": [
      "      close     created_at      high       low    market      open    value  \\\n",
      "0  0.006142  1727527620000  0.006142  0.006142  STFXUSDT  0.006142   3.3781   \n",
      "1  0.006143  1727527680000  0.006143  0.006143  STFXUSDT  0.006143  3.44008   \n",
      "\n",
      "  volume  \n",
      "0    550  \n",
      "1    560  \n",
      "     symbol                time     price  pct_change  volume\n",
      "0  STFXUSDT 2024-09-28 12:47:00  0.006142         NaN   550.0\n",
      "1  STFXUSDT 2024-09-28 12:48:00  0.006143    0.000163   560.0\n"
     ]
    },
    {
     "name": "stderr",
     "output_type": "stream",
     "text": [
      " 40%|███████████████████████████████▊                                               | 473/1174 [04:54<06:32,  1.79it/s]"
     ]
    },
    {
     "name": "stdout",
     "output_type": "stream",
     "text": [
      "    close     created_at    high     low   market    open     value volume\n",
      "0  0.9373  1727527620000  0.9373  0.9373  LSKUSDT  0.9373  5.576935   5.95\n",
      "1  0.9373  1727527680000  0.9373  0.9373  LSKUSDT  0.9373   5.43634    5.8\n",
      "    symbol                time   price  pct_change  volume\n",
      "0  LSKUSDT 2024-09-28 12:47:00  0.9373         NaN    5.95\n",
      "1  LSKUSDT 2024-09-28 12:48:00  0.9373         0.0    5.80\n"
     ]
    },
    {
     "name": "stderr",
     "output_type": "stream",
     "text": [
      " 40%|███████████████████████████████▉                                               | 474/1174 [04:55<06:33,  1.78it/s]"
     ]
    },
    {
     "name": "stdout",
     "output_type": "stream",
     "text": [
      "      close     created_at      high       low   market      open  \\\n",
      "0  0.005864  1727527620000  0.005864  0.005864  MEWUSDT  0.005864   \n",
      "1  0.005865  1727527680000  0.005865  0.005865  MEWUSDT  0.005865   \n",
      "\n",
      "              value         volume  \n",
      "0  9.83746856586136  1677.60377999  \n",
      "1           3.34305            570  \n",
      "    symbol                time     price  pct_change      volume\n",
      "0  MEWUSDT 2024-09-28 12:47:00  0.005864         NaN  1677.60378\n",
      "1  MEWUSDT 2024-09-28 12:48:00  0.005865    0.000171   570.00000\n"
     ]
    },
    {
     "name": "stderr",
     "output_type": "stream",
     "text": [
      " 40%|███████████████████████████████▉                                               | 475/1174 [04:55<06:32,  1.78it/s]"
     ]
    },
    {
     "name": "stdout",
     "output_type": "stream",
     "text": [
      "      close     created_at      high       low    market      open  \\\n",
      "0  0.002941  1727527620000  0.002941  0.002941  BABYUSDT  0.002941   \n",
      "1  0.002941  1727527680000  0.002941  0.002941  BABYUSDT  0.002941   \n",
      "\n",
      "              value        volume  \n",
      "0  1.62168305779577  551.40532397  \n",
      "1                 0             0  \n",
      "     symbol                time     price  pct_change      volume\n",
      "0  BABYUSDT 2024-09-28 12:47:00  0.002941         NaN  551.405324\n",
      "1  BABYUSDT 2024-09-28 12:48:00  0.002941         0.0    0.000000\n"
     ]
    },
    {
     "name": "stderr",
     "output_type": "stream",
     "text": [
      " 41%|████████████████████████████████                                               | 476/1174 [04:56<06:35,  1.77it/s]"
     ]
    },
    {
     "name": "stdout",
     "output_type": "stream",
     "text": [
      "      close     created_at      high       low    market      open     value  \\\n",
      "0  0.022312  1727527620000  0.022312  0.022312  ZENTUSDT  0.022312  2.476632   \n",
      "1  0.022312  1727527680000  0.022312  0.022312  ZENTUSDT  0.022312  2.498944   \n",
      "\n",
      "  volume  \n",
      "0    111  \n",
      "1    112  \n",
      "     symbol                time     price  pct_change  volume\n",
      "0  ZENTUSDT 2024-09-28 12:47:00  0.022312         NaN   111.0\n",
      "1  ZENTUSDT 2024-09-28 12:48:00  0.022312         0.0   112.0\n"
     ]
    },
    {
     "name": "stderr",
     "output_type": "stream",
     "text": [
      " 41%|████████████████████████████████                                               | 477/1174 [04:56<06:28,  1.79it/s]"
     ]
    },
    {
     "name": "stdout",
     "output_type": "stream",
     "text": [
      "      close     created_at      high       low      market      open  \\\n",
      "0  0.019198  1727527620000  0.019198  0.019198  SEILORUSDT  0.019198   \n",
      "1  0.019195  1727527680000  0.019195  0.019195  SEILORUSDT  0.019195   \n",
      "\n",
      "       value volume  \n",
      "0    1.05589     55  \n",
      "1  1.1229075   58.5  \n",
      "       symbol                time     price  pct_change  volume\n",
      "0  SEILORUSDT 2024-09-28 12:47:00  0.019198         NaN    55.0\n",
      "1  SEILORUSDT 2024-09-28 12:48:00  0.019195   -0.000156    58.5\n"
     ]
    },
    {
     "name": "stderr",
     "output_type": "stream",
     "text": [
      " 41%|████████████████████████████████▏                                              | 478/1174 [04:57<06:25,  1.81it/s]"
     ]
    },
    {
     "name": "stdout",
     "output_type": "stream",
     "text": [
      "     close     created_at     high      low   market     open      value  \\\n",
      "0  14.7514  1727527620000  14.7514  14.7514  LPTUSDT  14.7514  1.7406652   \n",
      "1  14.7558  1727527680000  14.7558  14.7558  LPTUSDT  14.7558  1.7559402   \n",
      "\n",
      "  volume  \n",
      "0  0.118  \n",
      "1  0.119  \n",
      "    symbol                time    price  pct_change  volume\n",
      "0  LPTUSDT 2024-09-28 12:47:00  14.7514         NaN   0.118\n",
      "1  LPTUSDT 2024-09-28 12:48:00  14.7558    0.000298   0.119\n"
     ]
    },
    {
     "name": "stderr",
     "output_type": "stream",
     "text": [
      " 41%|████████████████████████████████▏                                              | 479/1174 [04:57<06:55,  1.67it/s]"
     ]
    },
    {
     "name": "stdout",
     "output_type": "stream",
     "text": [
      "    close     created_at    high     low     market    open     value volume\n",
      "0  3.2402  1727527620000  3.2402  3.2402  INDEXUSDT  3.2402  1.927919  0.595\n",
      "1  3.2402  1727527680000  3.2402  3.2402  INDEXUSDT  3.2402  1.927919  0.595\n",
      "      symbol                time   price  pct_change  volume\n",
      "0  INDEXUSDT 2024-09-28 12:47:00  3.2402         NaN   0.595\n",
      "1  INDEXUSDT 2024-09-28 12:48:00  3.2402         0.0   0.595\n"
     ]
    },
    {
     "name": "stderr",
     "output_type": "stream",
     "text": [
      " 41%|████████████████████████████████▎                                              | 480/1174 [04:58<06:45,  1.71it/s]"
     ]
    },
    {
     "name": "stdout",
     "output_type": "stream",
     "text": [
      "      close     created_at      high       low   market      open     value  \\\n",
      "0  0.014544  1727527620000  0.014544  0.014544  DVIUSDT  0.014544   1.59984   \n",
      "1  0.014554  1727527680000  0.014554  0.014554  DVIUSDT  0.014554  1.644602   \n",
      "\n",
      "  volume  \n",
      "0    110  \n",
      "1    113  \n",
      "    symbol                time     price  pct_change  volume\n",
      "0  DVIUSDT 2024-09-28 12:47:00  0.014544         NaN   110.0\n",
      "1  DVIUSDT 2024-09-28 12:48:00  0.014554    0.000687   113.0\n"
     ]
    },
    {
     "name": "stderr",
     "output_type": "stream",
     "text": [
      " 41%|████████████████████████████████▎                                              | 481/1174 [04:59<06:44,  1.71it/s]"
     ]
    },
    {
     "name": "stdout",
     "output_type": "stream",
     "text": [
      "     close     created_at     high      low   market     open    value volume\n",
      "0  0.00429  1727527620000  0.00429  0.00429  AMPUSDT  0.00429  2.55255    595\n",
      "1  0.00429  1727527680000  0.00429  0.00429  AMPUSDT  0.00429   2.4024    560\n",
      "    symbol                time    price  pct_change  volume\n",
      "0  AMPUSDT 2024-09-28 12:47:00  0.00429         NaN   595.0\n",
      "1  AMPUSDT 2024-09-28 12:48:00  0.00429         0.0   560.0\n"
     ]
    },
    {
     "name": "stderr",
     "output_type": "stream",
     "text": [
      " 41%|████████████████████████████████▍                                              | 482/1174 [04:59<06:40,  1.73it/s]"
     ]
    },
    {
     "name": "stdout",
     "output_type": "stream",
     "text": [
      "      close     created_at      high       low     market      open    value  \\\n",
      "0   0.00104  1727527620000   0.00104   0.00104  MONGYUSDT   0.00104   1.1752   \n",
      "1  0.001039  1727527680000  0.001039  0.001039  MONGYUSDT  0.001039  1.21563   \n",
      "\n",
      "  volume  \n",
      "0   1130  \n",
      "1   1170  \n",
      "      symbol                time     price  pct_change  volume\n",
      "0  MONGYUSDT 2024-09-28 12:47:00  0.001040         NaN  1130.0\n",
      "1  MONGYUSDT 2024-09-28 12:48:00  0.001039   -0.000962  1170.0\n"
     ]
    },
    {
     "name": "stderr",
     "output_type": "stream",
     "text": [
      " 41%|████████████████████████████████▌                                              | 483/1174 [05:00<06:47,  1.70it/s]"
     ]
    },
    {
     "name": "stdout",
     "output_type": "stream",
     "text": [
      "        close     created_at        high         low    market        open  \\\n",
      "0    0.002083  1727527620000    0.002083    0.002083  1CATUSDT    0.002083   \n",
      "1  0.00207475  1727527680000  0.00207475  0.00207475  1CATUSDT  0.00207475   \n",
      "\n",
      "                value          volume  \n",
      "0             1.16648             560  \n",
      "1  31.342352911596595  15106.56845962  \n",
      "     symbol                time     price  pct_change       volume\n",
      "0  1CATUSDT 2024-09-28 12:47:00  0.002083         NaN    560.00000\n",
      "1  1CATUSDT 2024-09-28 12:48:00  0.002075   -0.003968  15106.56846\n"
     ]
    },
    {
     "name": "stderr",
     "output_type": "stream",
     "text": [
      " 41%|████████████████████████████████▌                                              | 484/1174 [05:00<06:46,  1.70it/s]"
     ]
    },
    {
     "name": "stdout",
     "output_type": "stream",
     "text": [
      "      close     created_at      high       low      market      open  \\\n",
      "0  0.020452  1727527620000  0.020452  0.020452  TOOKERUSDT  0.020452   \n",
      "1  0.020452  1727527680000  0.020452  0.020452  TOOKERUSDT  0.020452   \n",
      "\n",
      "              value       volume  \n",
      "0  1.12219196563156  54.86954653  \n",
      "1                 0            0  \n",
      "       symbol                time     price  pct_change     volume\n",
      "0  TOOKERUSDT 2024-09-28 12:47:00  0.020452         NaN  54.869547\n",
      "1  TOOKERUSDT 2024-09-28 12:48:00  0.020452         0.0   0.000000\n"
     ]
    },
    {
     "name": "stderr",
     "output_type": "stream",
     "text": [
      " 41%|████████████████████████████████▋                                              | 485/1174 [05:01<06:56,  1.65it/s]"
     ]
    },
    {
     "name": "stdout",
     "output_type": "stream",
     "text": [
      "      close     created_at      high       low     market      open     value  \\\n",
      "0  0.065118  1727527620000  0.065118  0.065118  XDEFIUSDT  0.065118  3.614049   \n",
      "1  0.065059  1727527680000  0.065059  0.065059  XDEFIUSDT  0.065059  3.838481   \n",
      "\n",
      "  volume  \n",
      "0   55.5  \n",
      "1     59  \n",
      "      symbol                time     price  pct_change  volume\n",
      "0  XDEFIUSDT 2024-09-28 12:47:00  0.065118         NaN    55.5\n",
      "1  XDEFIUSDT 2024-09-28 12:48:00  0.065059   -0.000906    59.0\n"
     ]
    },
    {
     "name": "stderr",
     "output_type": "stream",
     "text": [
      " 41%|████████████████████████████████▋                                              | 486/1174 [05:02<06:46,  1.69it/s]"
     ]
    },
    {
     "name": "stdout",
     "output_type": "stream",
     "text": [
      "    close     created_at    high     low   market    open    value volume\n",
      "0  0.4012  1727527620000  0.4012  0.4012  DNXUSDT  0.4012  2.32696    5.8\n",
      "1  0.4015  1727527680000  0.4015  0.4015  DNXUSDT  0.4015  2.36885    5.9\n",
      "    symbol                time   price  pct_change  volume\n",
      "0  DNXUSDT 2024-09-28 12:47:00  0.4012         NaN     5.8\n",
      "1  DNXUSDT 2024-09-28 12:48:00  0.4015    0.000747     5.9\n"
     ]
    },
    {
     "name": "stderr",
     "output_type": "stream",
     "text": [
      " 41%|████████████████████████████████▊                                              | 487/1174 [05:02<06:36,  1.73it/s]"
     ]
    },
    {
     "name": "stdout",
     "output_type": "stream",
     "text": [
      "    close     created_at    high     low     market    open    value volume\n",
      "0  1.4545  1727527620000  1.4545  1.4545  THETAUSDT  1.4545  1.59995    1.1\n",
      "1  1.4546  1727527680000  1.4546  1.4546  THETAUSDT  1.4546  1.67279   1.15\n",
      "      symbol                time   price  pct_change  volume\n",
      "0  THETAUSDT 2024-09-28 12:47:00  1.4545         NaN    1.10\n",
      "1  THETAUSDT 2024-09-28 12:48:00  1.4546    0.000069    1.15\n"
     ]
    },
    {
     "name": "stderr",
     "output_type": "stream",
     "text": [
      " 42%|████████████████████████████████▊                                              | 488/1174 [05:03<06:30,  1.76it/s]"
     ]
    },
    {
     "name": "stdout",
     "output_type": "stream",
     "text": [
      "    close     created_at    high     low   market    open          value  \\\n",
      "0  6.2799  1727527620000  6.2799  6.2799  TIAUSDT  6.2799  3.40533166611   \n",
      "1  6.2799  1727527680000  6.2799  6.2799  TIAUSDT  6.2799              0   \n",
      "\n",
      "      volume  \n",
      "0  0.5422589  \n",
      "1          0  \n",
      "    symbol                time   price  pct_change    volume\n",
      "0  TIAUSDT 2024-09-28 12:47:00  6.2799         NaN  0.542259\n",
      "1  TIAUSDT 2024-09-28 12:48:00  6.2799         0.0  0.000000\n"
     ]
    },
    {
     "name": "stderr",
     "output_type": "stream",
     "text": [
      " 42%|████████████████████████████████▉                                              | 489/1174 [05:03<06:23,  1.79it/s]"
     ]
    },
    {
     "name": "stdout",
     "output_type": "stream",
     "text": [
      "   close     created_at   high    low   market   open          value  \\\n",
      "0  74.72  1727527620000  74.72  74.72  TRBUSDT  74.72   8.7623195056   \n",
      "1  74.54  1727527680000  74.54  74.54  TRBUSDT  74.54  71.7699996796   \n",
      "\n",
      "       volume  \n",
      "0  0.11726873  \n",
      "1  0.96283874  \n",
      "    symbol                time  price  pct_change    volume\n",
      "0  TRBUSDT 2024-09-28 12:47:00  74.72         NaN  0.117269\n",
      "1  TRBUSDT 2024-09-28 12:48:00  74.54   -0.002412  0.962839\n"
     ]
    },
    {
     "name": "stderr",
     "output_type": "stream",
     "text": [
      " 42%|████████████████████████████████▉                                              | 490/1174 [05:04<06:24,  1.78it/s]"
     ]
    },
    {
     "name": "stdout",
     "output_type": "stream",
     "text": [
      "    close     created_at    high     low     market    open           value  \\\n",
      "0  0.4648  1727527620000  0.4648  0.4648  COMBOUSDT  0.4648  2.678350463768   \n",
      "1  0.4648  1727527680000  0.4648  0.4648  COMBOUSDT  0.4648               0   \n",
      "\n",
      "       volume  \n",
      "0  5.76237191  \n",
      "1           0  \n",
      "      symbol                time   price  pct_change    volume\n",
      "0  COMBOUSDT 2024-09-28 12:47:00  0.4648         NaN  5.762372\n",
      "1  COMBOUSDT 2024-09-28 12:48:00  0.4648         0.0  0.000000\n"
     ]
    },
    {
     "name": "stderr",
     "output_type": "stream",
     "text": [
      " 42%|█████████████████████████████████                                              | 491/1174 [05:04<06:26,  1.76it/s]"
     ]
    },
    {
     "name": "stdout",
     "output_type": "stream",
     "text": [
      "      close     created_at      high       low     market      open  \\\n",
      "0  0.180397  1727527620000  0.180397  0.180397  VOXELUSDT  0.180397   \n",
      "1   0.18027  1727527680000   0.18027   0.18027  VOXELUSDT   0.18027   \n",
      "\n",
      "       value volume  \n",
      "0  2.0204464   11.2  \n",
      "1   2.019024   11.2  \n",
      "      symbol                time     price  pct_change  volume\n",
      "0  VOXELUSDT 2024-09-28 12:47:00  0.180397         NaN    11.2\n",
      "1  VOXELUSDT 2024-09-28 12:48:00  0.180270   -0.000704    11.2\n"
     ]
    },
    {
     "name": "stderr",
     "output_type": "stream",
     "text": [
      " 42%|█████████████████████████████████                                              | 492/1174 [05:05<06:27,  1.76it/s]"
     ]
    },
    {
     "name": "stdout",
     "output_type": "stream",
     "text": [
      "    close     created_at    high     low    market    open            value  \\\n",
      "0  0.8152  1727527620000  0.8152  0.8152  ONDOUSDT  0.8152          4.56512   \n",
      "1  0.8146  1727527680000  0.8146  0.8145  ONDOUSDT  0.8145  51.358409982334   \n",
      "\n",
      "        volume  \n",
      "0          5.6  \n",
      "1  63.04807879  \n",
      "     symbol                time   price  pct_change     volume\n",
      "0  ONDOUSDT 2024-09-28 12:47:00  0.8152         NaN   5.600000\n",
      "1  ONDOUSDT 2024-09-28 12:48:00  0.8146   -0.000736  63.048079\n"
     ]
    },
    {
     "name": "stderr",
     "output_type": "stream",
     "text": [
      " 42%|█████████████████████████████████▏                                             | 493/1174 [05:05<06:25,  1.77it/s]"
     ]
    },
    {
     "name": "stdout",
     "output_type": "stream",
     "text": [
      "   close     created_at   high    low      market   open    value  volume\n",
      "0  41.86  1727527620000  41.86  41.86  BANANAUSDT  41.86   2.3023   0.055\n",
      "1  41.82  1727527680000  41.82  41.82  BANANAUSDT  41.82  2.40465  0.0575\n",
      "       symbol                time  price  pct_change  volume\n",
      "0  BANANAUSDT 2024-09-28 12:47:00  41.86         NaN  0.0550\n",
      "1  BANANAUSDT 2024-09-28 12:48:00  41.82   -0.000956  0.0575\n"
     ]
    },
    {
     "name": "stderr",
     "output_type": "stream",
     "text": [
      " 42%|█████████████████████████████████▏                                             | 494/1174 [05:06<06:24,  1.77it/s]"
     ]
    },
    {
     "name": "stdout",
     "output_type": "stream",
     "text": [
      "    close     created_at    high     low        market    open  \\\n",
      "0  0.0037  1727527620000  0.0037  0.0037  RUNECOINUSDT  0.0037   \n",
      "1  0.0037  1727527680000  0.0037  0.0037  RUNECOINUSDT  0.0037   \n",
      "\n",
      "            value        volume  \n",
      "0  1.968813405477  532.11173121  \n",
      "1               0             0  \n",
      "         symbol                time   price  pct_change      volume\n",
      "0  RUNECOINUSDT 2024-09-28 12:47:00  0.0037         NaN  532.111731\n",
      "1  RUNECOINUSDT 2024-09-28 12:48:00  0.0037         0.0    0.000000\n"
     ]
    },
    {
     "name": "stderr",
     "output_type": "stream",
     "text": [
      " 42%|█████████████████████████████████▎                                             | 495/1174 [05:07<06:26,  1.76it/s]"
     ]
    },
    {
     "name": "stdout",
     "output_type": "stream",
     "text": [
      "    close     created_at    high     low     market    open    value volume\n",
      "0  0.1645  1727527620000  0.1645  0.1645  TREMPUSDT  0.1645   1.8095     11\n",
      "1  0.1645  1727527680000  0.1645  0.1645  TREMPUSDT  0.1645  1.89175   11.5\n",
      "      symbol                time   price  pct_change  volume\n",
      "0  TREMPUSDT 2024-09-28 12:47:00  0.1645         NaN    11.0\n",
      "1  TREMPUSDT 2024-09-28 12:48:00  0.1645         0.0    11.5\n"
     ]
    },
    {
     "name": "stderr",
     "output_type": "stream",
     "text": [
      " 42%|█████████████████████████████████▍                                             | 496/1174 [05:07<06:22,  1.77it/s]"
     ]
    },
    {
     "name": "stdout",
     "output_type": "stream",
     "text": [
      "      close     created_at      high       low    market      open    value  \\\n",
      "0  0.008636  1727527620000  0.008636  0.008636  KAMAUSDT  0.008636  4.83616   \n",
      "1  0.008638  1727527680000  0.008638  0.008638  KAMAUSDT  0.008638  4.96685   \n",
      "\n",
      "  volume  \n",
      "0    560  \n",
      "1    575  \n",
      "     symbol                time     price  pct_change  volume\n",
      "0  KAMAUSDT 2024-09-28 12:47:00  0.008636         NaN   560.0\n",
      "1  KAMAUSDT 2024-09-28 12:48:00  0.008638    0.000232   575.0\n"
     ]
    },
    {
     "name": "stderr",
     "output_type": "stream",
     "text": [
      " 42%|█████████████████████████████████▍                                             | 497/1174 [05:08<06:21,  1.77it/s]"
     ]
    },
    {
     "name": "stdout",
     "output_type": "stream",
     "text": [
      "    close     created_at    high     low   market    open    value volume\n",
      "0  0.2444  1727527620000  0.2444  0.2444  THEUSDT  0.2444  2.78616   11.4\n",
      "1  0.2444  1727527680000  0.2444  0.2444  THEUSDT  0.2444  2.90836   11.9\n",
      "    symbol                time   price  pct_change  volume\n",
      "0  THEUSDT 2024-09-28 12:47:00  0.2444         NaN    11.4\n",
      "1  THEUSDT 2024-09-28 12:48:00  0.2444         0.0    11.9\n"
     ]
    },
    {
     "name": "stderr",
     "output_type": "stream",
     "text": [
      " 42%|█████████████████████████████████▌                                             | 498/1174 [05:08<06:24,  1.76it/s]"
     ]
    },
    {
     "name": "stdout",
     "output_type": "stream",
     "text": [
      "     close     created_at     high      low   market     open  \\\n",
      "0  0.19625  1727527620000  0.19625  0.19625  AGIUSDT  0.19625   \n",
      "1  0.19625  1727527680000  0.19625  0.19625  AGIUSDT  0.19625   \n",
      "\n",
      "             value       volume  \n",
      "0  2.1579614616125  10.99598197  \n",
      "1                0            0  \n",
      "    symbol                time    price  pct_change     volume\n",
      "0  AGIUSDT 2024-09-28 12:47:00  0.19625         NaN  10.995982\n",
      "1  AGIUSDT 2024-09-28 12:48:00  0.19625         0.0   0.000000\n"
     ]
    },
    {
     "name": "stderr",
     "output_type": "stream",
     "text": [
      " 43%|█████████████████████████████████▌                                             | 499/1174 [05:09<06:25,  1.75it/s]"
     ]
    },
    {
     "name": "stdout",
     "output_type": "stream",
     "text": [
      "      close     created_at      high       low    market      open     value  \\\n",
      "0  0.038367  1727527620000  0.038367  0.038367  POKTUSDT  0.038367  2.263653   \n",
      "1  0.038386  1727527680000  0.038386  0.038386  POKTUSDT  0.038386  2.168809   \n",
      "\n",
      "  volume  \n",
      "0     59  \n",
      "1   56.5  \n",
      "     symbol                time     price  pct_change  volume\n",
      "0  POKTUSDT 2024-09-28 12:47:00  0.038367         NaN    59.0\n",
      "1  POKTUSDT 2024-09-28 12:48:00  0.038386    0.000495    56.5\n"
     ]
    },
    {
     "name": "stderr",
     "output_type": "stream",
     "text": [
      " 43%|█████████████████████████████████▋                                             | 500/1174 [05:09<06:28,  1.74it/s]"
     ]
    },
    {
     "name": "stdout",
     "output_type": "stream",
     "text": [
      "   close     created_at   high    low   market   open     value  volume\n",
      "0  54.05  1727527620000  54.05  54.05  DMTUSDT  54.05  3.215975  0.0595\n",
      "1  54.07  1727527680000  54.07  54.07  DMTUSDT  54.07  3.054955  0.0565\n",
      "    symbol                time  price  pct_change  volume\n",
      "0  DMTUSDT 2024-09-28 12:47:00  54.05         NaN  0.0595\n",
      "1  DMTUSDT 2024-09-28 12:48:00  54.07     0.00037  0.0565\n"
     ]
    },
    {
     "name": "stderr",
     "output_type": "stream",
     "text": [
      " 43%|█████████████████████████████████▋                                             | 501/1174 [05:10<06:22,  1.76it/s]"
     ]
    },
    {
     "name": "stdout",
     "output_type": "stream",
     "text": [
      "    close     created_at    high     low    market    open           value  \\\n",
      "0  0.6072  1727527620000  0.6072  0.6072  FLOWUSDT  0.6072   3.41051892588   \n",
      "1  0.6065  1727527680000  0.6072  0.6065  FLOWUSDT  0.6072  6.832401084757   \n",
      "\n",
      "        volume  \n",
      "0   5.61679665  \n",
      "1  11.25865392  \n",
      "     symbol                time   price  pct_change     volume\n",
      "0  FLOWUSDT 2024-09-28 12:47:00  0.6072         NaN   5.616797\n",
      "1  FLOWUSDT 2024-09-28 12:48:00  0.6065   -0.001153  11.258654\n"
     ]
    },
    {
     "name": "stderr",
     "output_type": "stream",
     "text": [
      " 43%|█████████████████████████████████▊                                             | 502/1174 [05:11<06:18,  1.78it/s]"
     ]
    },
    {
     "name": "stdout",
     "output_type": "stream",
     "text": [
      "          close     created_at          high           low     market  \\\n",
      "0  0.0000008978  1727527620000  0.0000008978  0.0000008978  STARLUSDT   \n",
      "1  0.0000008978  1727527680000  0.0000008978  0.0000008978  STARLUSDT   \n",
      "\n",
      "           open    value   volume  \n",
      "0  0.0000008978  5.11746  5700000  \n",
      "1  0.0000008978   4.9379  5500000  \n",
      "      symbol                time         price  pct_change     volume\n",
      "0  STARLUSDT 2024-09-28 12:47:00  8.978000e-07         NaN  5700000.0\n",
      "1  STARLUSDT 2024-09-28 12:48:00  8.978000e-07         0.0  5500000.0\n"
     ]
    },
    {
     "name": "stderr",
     "output_type": "stream",
     "text": [
      " 43%|█████████████████████████████████▊                                             | 503/1174 [05:11<06:25,  1.74it/s]"
     ]
    },
    {
     "name": "stdout",
     "output_type": "stream",
     "text": [
      "    close     created_at    high     low   market    open      value volume\n",
      "0  3.0075  1727527620000  3.0075  3.0075  PYRUSDT  3.0075  1.7894625  0.595\n",
      "1   3.009  1727527680000   3.009   3.009  PYRUSDT   3.009    1.71513   0.57\n",
      "    symbol                time   price  pct_change  volume\n",
      "0  PYRUSDT 2024-09-28 12:47:00  3.0075         NaN   0.595\n",
      "1  PYRUSDT 2024-09-28 12:48:00  3.0090    0.000499   0.570\n"
     ]
    },
    {
     "name": "stderr",
     "output_type": "stream",
     "text": [
      " 43%|█████████████████████████████████▉                                             | 504/1174 [05:12<06:23,  1.75it/s]"
     ]
    },
    {
     "name": "stdout",
     "output_type": "stream",
     "text": [
      "    close     created_at    high     low   market    open           value  \\\n",
      "0  7.6468  1727527620000  7.6481  7.6468  HNTUSDT  7.6481  8.972220370654   \n",
      "1  7.6468  1727527680000  7.6468  7.6468  HNTUSDT  7.6468               0   \n",
      "\n",
      "       volume  \n",
      "0  1.17323236  \n",
      "1           0  \n",
      "    symbol                time   price  pct_change    volume\n",
      "0  HNTUSDT 2024-09-28 12:47:00  7.6468         NaN  1.173232\n",
      "1  HNTUSDT 2024-09-28 12:48:00  7.6468         0.0  0.000000\n"
     ]
    },
    {
     "name": "stderr",
     "output_type": "stream",
     "text": [
      " 43%|█████████████████████████████████▉                                             | 505/1174 [05:12<06:17,  1.77it/s]"
     ]
    },
    {
     "name": "stdout",
     "output_type": "stream",
     "text": [
      "      close     created_at      high       low   market      open    value  \\\n",
      "0  0.007136  1727527620000  0.007136  0.007136  RSRUSDT  0.007136  4.17456   \n",
      "1   0.00714  1727527680000   0.00714   0.00714  RSRUSDT   0.00714   4.1412   \n",
      "\n",
      "  volume  \n",
      "0    585  \n",
      "1    580  \n",
      "    symbol                time     price  pct_change  volume\n",
      "0  RSRUSDT 2024-09-28 12:47:00  0.007136         NaN   585.0\n",
      "1  RSRUSDT 2024-09-28 12:48:00  0.007140     0.00056   580.0\n"
     ]
    },
    {
     "name": "stderr",
     "output_type": "stream",
     "text": [
      " 43%|██████████████████████████████████                                             | 506/1174 [05:13<06:15,  1.78it/s]"
     ]
    },
    {
     "name": "stdout",
     "output_type": "stream",
     "text": [
      "      close     created_at      high       low    market      open     value  \\\n",
      "0  0.007551  1727527620000  0.007551  0.007551  POLCUSDT  0.007551  4.190805   \n",
      "1  0.007547  1727527680000  0.007547  0.007547  POLCUSDT  0.007547  4.188585   \n",
      "\n",
      "  volume  \n",
      "0    555  \n",
      "1    555  \n",
      "     symbol                time     price  pct_change  volume\n",
      "0  POLCUSDT 2024-09-28 12:47:00  0.007551         NaN   555.0\n",
      "1  POLCUSDT 2024-09-28 12:48:00  0.007547    -0.00053   555.0\n"
     ]
    },
    {
     "name": "stderr",
     "output_type": "stream",
     "text": [
      " 43%|██████████████████████████████████                                             | 507/1174 [05:13<06:22,  1.74it/s]"
     ]
    },
    {
     "name": "stdout",
     "output_type": "stream",
     "text": [
      "      close     created_at      high       low    market      open  \\\n",
      "0  0.106354  1727527620000  0.106354  0.106354  DMTRUSDT  0.106354   \n",
      "1  0.106354  1727527680000  0.106354  0.106354  DMTRUSDT  0.106354   \n",
      "\n",
      "              value       volume  \n",
      "0  1.10469311981442  10.38694473  \n",
      "1                 0            0  \n",
      "     symbol                time     price  pct_change     volume\n",
      "0  DMTRUSDT 2024-09-28 12:47:00  0.106354         NaN  10.386945\n",
      "1  DMTRUSDT 2024-09-28 12:48:00  0.106354         0.0   0.000000\n"
     ]
    },
    {
     "name": "stderr",
     "output_type": "stream",
     "text": [
      " 43%|██████████████████████████████████▏                                            | 508/1174 [05:14<06:25,  1.73it/s]"
     ]
    },
    {
     "name": "stdout",
     "output_type": "stream",
     "text": [
      "      close     created_at      high       low   market      open     value  \\\n",
      "0  0.017438  1727527620000  0.017438  0.017438  MINUSDT  0.017438  1.987932   \n",
      "1  0.017438  1727527680000  0.017438  0.017438  MINUSDT  0.017438  2.075122   \n",
      "\n",
      "  volume  \n",
      "0    114  \n",
      "1    119  \n",
      "    symbol                time     price  pct_change  volume\n",
      "0  MINUSDT 2024-09-28 12:47:00  0.017438         NaN   114.0\n",
      "1  MINUSDT 2024-09-28 12:48:00  0.017438         0.0   119.0\n"
     ]
    },
    {
     "name": "stderr",
     "output_type": "stream",
     "text": [
      " 43%|██████████████████████████████████▎                                            | 509/1174 [05:15<06:44,  1.64it/s]"
     ]
    },
    {
     "name": "stdout",
     "output_type": "stream",
     "text": [
      "      close     created_at      high       low    market      open     value  \\\n",
      "0   0.01082  1727527620000   0.01082   0.01082  DERIUSDT   0.01082   1.28758   \n",
      "1  0.010826  1727527680000  0.010826  0.010826  DERIUSDT  0.010826  1.201686   \n",
      "\n",
      "  volume  \n",
      "0    119  \n",
      "1    111  \n",
      "     symbol                time     price  pct_change  volume\n",
      "0  DERIUSDT 2024-09-28 12:47:00  0.010820         NaN   119.0\n",
      "1  DERIUSDT 2024-09-28 12:48:00  0.010826    0.000554   111.0\n"
     ]
    },
    {
     "name": "stderr",
     "output_type": "stream",
     "text": [
      " 43%|██████████████████████████████████▎                                            | 510/1174 [05:15<06:37,  1.67it/s]"
     ]
    },
    {
     "name": "stdout",
     "output_type": "stream",
     "text": [
      "          close     created_at          high           low    market  \\\n",
      "0  0.0000195752  1727527620000  0.0000196223  0.0000195685  SHIBUSDT   \n",
      "1  0.0000195882  1727527680000  0.0000196078  0.0000195882  SHIBUSDT   \n",
      "\n",
      "           open                    value              volume  \n",
      "0  0.0000196072  4908.762753047179282454  250358939.06999978  \n",
      "1  0.0000196078  2460.588962428042125082  125558569.99999997  \n",
      "     symbol                time    price  pct_change        volume\n",
      "0  SHIBUSDT 2024-09-28 12:47:00  0.00002         NaN  2.503589e+08\n",
      "1  SHIBUSDT 2024-09-28 12:48:00  0.00002    0.000664  1.255586e+08\n"
     ]
    },
    {
     "name": "stderr",
     "output_type": "stream",
     "text": [
      " 44%|██████████████████████████████████▍                                            | 511/1174 [05:16<06:27,  1.71it/s]"
     ]
    },
    {
     "name": "stdout",
     "output_type": "stream",
     "text": [
      "      close     created_at      high       low    market      open      value  \\\n",
      "0  0.117711  1727527620000  0.117711  0.117711  NAVXUSDT  0.117711  1.3183632   \n",
      "1  0.117781  1727527680000  0.117781  0.117781  NAVXUSDT  0.117781   1.295591   \n",
      "\n",
      "  volume  \n",
      "0   11.2  \n",
      "1     11  \n",
      "     symbol                time     price  pct_change  volume\n",
      "0  NAVXUSDT 2024-09-28 12:47:00  0.117711         NaN    11.2\n",
      "1  NAVXUSDT 2024-09-28 12:48:00  0.117781    0.000595    11.0\n"
     ]
    },
    {
     "name": "stderr",
     "output_type": "stream",
     "text": [
      " 44%|██████████████████████████████████▍                                            | 512/1174 [05:16<06:24,  1.72it/s]"
     ]
    },
    {
     "name": "stdout",
     "output_type": "stream",
     "text": [
      "    close     created_at    high     low    market    open    value volume\n",
      "0   0.607  1727527620000   0.607   0.607  TRACUSDT   0.607  3.55095   5.85\n",
      "1  0.6068  1727527680000  0.6068  0.6068  TRACUSDT  0.6068  3.54978   5.85\n",
      "     symbol                time   price  pct_change  volume\n",
      "0  TRACUSDT 2024-09-28 12:47:00  0.6070         NaN    5.85\n",
      "1  TRACUSDT 2024-09-28 12:48:00  0.6068    -0.00033    5.85\n"
     ]
    },
    {
     "name": "stderr",
     "output_type": "stream",
     "text": [
      " 44%|██████████████████████████████████▌                                            | 513/1174 [05:17<06:19,  1.74it/s]"
     ]
    },
    {
     "name": "stdout",
     "output_type": "stream",
     "text": [
      "    close     created_at    high     low    market    open    value volume\n",
      "0  0.4161  1727527620000  0.4161  0.4161  TNSRUSDT  0.4161  2.45499    5.9\n",
      "1  0.4161  1727527680000  0.4161  0.4161  TNSRUSDT  0.4161  2.41338    5.8\n",
      "     symbol                time   price  pct_change  volume\n",
      "0  TNSRUSDT 2024-09-28 12:47:00  0.4161         NaN     5.9\n",
      "1  TNSRUSDT 2024-09-28 12:48:00  0.4161         0.0     5.8\n"
     ]
    },
    {
     "name": "stderr",
     "output_type": "stream",
     "text": [
      " 44%|██████████████████████████████████▌                                            | 514/1174 [05:18<06:17,  1.75it/s]"
     ]
    },
    {
     "name": "stdout",
     "output_type": "stream",
     "text": [
      "      close     created_at      high       low   market      open     value  \\\n",
      "0  0.042284  1727527620000  0.042284  0.042284  HTRUSDT  0.042284  2.515898   \n",
      "1  0.042284  1727527680000  0.042284  0.042284  HTRUSDT  0.042284  2.473614   \n",
      "\n",
      "  volume  \n",
      "0   59.5  \n",
      "1   58.5  \n",
      "    symbol                time     price  pct_change  volume\n",
      "0  HTRUSDT 2024-09-28 12:47:00  0.042284         NaN    59.5\n",
      "1  HTRUSDT 2024-09-28 12:48:00  0.042284         0.0    58.5\n"
     ]
    },
    {
     "name": "stderr",
     "output_type": "stream",
     "text": [
      " 44%|██████████████████████████████████▋                                            | 515/1174 [05:18<06:13,  1.77it/s]"
     ]
    },
    {
     "name": "stdout",
     "output_type": "stream",
     "text": [
      "      close     created_at      high       low       market      open  \\\n",
      "0  0.144481  1727527620000  0.144481  0.144481  BIGTIMEUSDT  0.144481   \n",
      "1  0.144553  1727527680000  0.144553  0.144553  BIGTIMEUSDT  0.144553   \n",
      "\n",
      "       value volume  \n",
      "0  1.6326353   11.3  \n",
      "1  1.6623595   11.5  \n",
      "        symbol                time     price  pct_change  volume\n",
      "0  BIGTIMEUSDT 2024-09-28 12:47:00  0.144481         NaN    11.3\n",
      "1  BIGTIMEUSDT 2024-09-28 12:48:00  0.144553    0.000498    11.5\n"
     ]
    },
    {
     "name": "stderr",
     "output_type": "stream",
     "text": [
      " 44%|██████████████████████████████████▋                                            | 516/1174 [05:19<06:17,  1.74it/s]"
     ]
    },
    {
     "name": "stdout",
     "output_type": "stream",
     "text": [
      "    close     created_at    high     low    market    open     value volume\n",
      "0  0.9055  1727527620000  0.9055  0.9055  RAILUSDT  0.9055  1.005105   1.11\n",
      "1  0.9055  1727527680000  0.9055  0.9055  RAILUSDT  0.9055   1.05038   1.16\n",
      "     symbol                time   price  pct_change  volume\n",
      "0  RAILUSDT 2024-09-28 12:47:00  0.9055         NaN    1.11\n",
      "1  RAILUSDT 2024-09-28 12:48:00  0.9055         0.0    1.16\n"
     ]
    },
    {
     "name": "stderr",
     "output_type": "stream",
     "text": [
      " 44%|██████████████████████████████████▊                                            | 517/1174 [05:19<06:10,  1.77it/s]"
     ]
    },
    {
     "name": "stdout",
     "output_type": "stream",
     "text": [
      "    close     created_at    high     low    market    open    value volume\n",
      "0  0.3992  1727527620000  0.3992  0.3992  NULSUSDT  0.3992  2.27544    5.7\n",
      "1  0.3994  1727527680000  0.3994  0.3994  NULSUSDT  0.3994  2.25661   5.65\n",
      "     symbol                time   price  pct_change  volume\n",
      "0  NULSUSDT 2024-09-28 12:47:00  0.3992         NaN    5.70\n",
      "1  NULSUSDT 2024-09-28 12:48:00  0.3994    0.000501    5.65\n"
     ]
    },
    {
     "name": "stderr",
     "output_type": "stream",
     "text": [
      " 44%|██████████████████████████████████▊                                            | 518/1174 [05:20<06:14,  1.75it/s]"
     ]
    },
    {
     "name": "stdout",
     "output_type": "stream",
     "text": [
      "      close     created_at      high       low     market      open     value  \\\n",
      "0  0.050852  1727527620000  0.050852  0.050852  BLOCKUSDT  0.050852  2.949416   \n",
      "1  0.050826  1727527680000  0.050826  0.050826  BLOCKUSDT  0.050826  3.024147   \n",
      "\n",
      "  volume  \n",
      "0     58  \n",
      "1   59.5  \n",
      "      symbol                time     price  pct_change  volume\n",
      "0  BLOCKUSDT 2024-09-28 12:47:00  0.050852         NaN    58.0\n",
      "1  BLOCKUSDT 2024-09-28 12:48:00  0.050826   -0.000511    59.5\n"
     ]
    },
    {
     "name": "stderr",
     "output_type": "stream",
     "text": [
      " 44%|██████████████████████████████████▉                                            | 519/1174 [05:20<06:16,  1.74it/s]"
     ]
    },
    {
     "name": "stdout",
     "output_type": "stream",
     "text": [
      "      close     created_at      high       low    market      open     value  \\\n",
      "0  0.059517  1727527620000  0.059517  0.059517  XPETUSDT  0.059517  3.332952   \n",
      "1  0.059517  1727527680000  0.059517  0.059517  XPETUSDT  0.059517  3.511503   \n",
      "\n",
      "  volume  \n",
      "0     56  \n",
      "1     59  \n",
      "     symbol                time     price  pct_change  volume\n",
      "0  XPETUSDT 2024-09-28 12:47:00  0.059517         NaN    56.0\n",
      "1  XPETUSDT 2024-09-28 12:48:00  0.059517         0.0    59.0\n"
     ]
    },
    {
     "name": "stderr",
     "output_type": "stream",
     "text": [
      " 44%|██████████████████████████████████▉                                            | 520/1174 [05:21<06:14,  1.74it/s]"
     ]
    },
    {
     "name": "stdout",
     "output_type": "stream",
     "text": [
      "    close     created_at    high     low    market    open    value volume\n",
      "0  0.4849  1727527620000  0.4849  0.4849  BONEUSDT  0.4849  2.81242    5.8\n",
      "1  0.4849  1727527680000  0.4849  0.4849  BONEUSDT  0.4849  2.66695    5.5\n",
      "     symbol                time   price  pct_change  volume\n",
      "0  BONEUSDT 2024-09-28 12:47:00  0.4849         NaN     5.8\n",
      "1  BONEUSDT 2024-09-28 12:48:00  0.4849         0.0     5.5\n"
     ]
    },
    {
     "name": "stderr",
     "output_type": "stream",
     "text": [
      " 44%|███████████████████████████████████                                            | 521/1174 [05:21<06:10,  1.76it/s]"
     ]
    },
    {
     "name": "stdout",
     "output_type": "stream",
     "text": [
      "      close     created_at      high       low  market      open     value  \\\n",
      "0  0.013065  1727527620000  0.013065  0.013065  O3USDT  0.013065  1.528605   \n",
      "1  0.013067  1727527680000  0.013067  0.013067  O3USDT  0.013067  1.515772   \n",
      "\n",
      "  volume  \n",
      "0    117  \n",
      "1    116  \n",
      "   symbol                time     price  pct_change  volume\n",
      "0  O3USDT 2024-09-28 12:47:00  0.013065         NaN   117.0\n",
      "1  O3USDT 2024-09-28 12:48:00  0.013067    0.000153   116.0\n"
     ]
    },
    {
     "name": "stderr",
     "output_type": "stream",
     "text": [
      " 44%|███████████████████████████████████▏                                           | 522/1174 [05:22<06:07,  1.77it/s]"
     ]
    },
    {
     "name": "stdout",
     "output_type": "stream",
     "text": [
      "      close     created_at      high       low    market      open     value  \\\n",
      "0  0.012982  1727527620000  0.012982  0.012982  PONDUSDT  0.012982  1.479948   \n",
      "1   0.01298  1727527680000   0.01298   0.01298  PONDUSDT   0.01298    1.4278   \n",
      "\n",
      "  volume  \n",
      "0    114  \n",
      "1    110  \n",
      "     symbol                time     price  pct_change  volume\n",
      "0  PONDUSDT 2024-09-28 12:47:00  0.012982         NaN   114.0\n",
      "1  PONDUSDT 2024-09-28 12:48:00  0.012980   -0.000154   110.0\n"
     ]
    },
    {
     "name": "stderr",
     "output_type": "stream",
     "text": [
      " 45%|███████████████████████████████████▏                                           | 523/1174 [05:23<06:08,  1.77it/s]"
     ]
    },
    {
     "name": "stdout",
     "output_type": "stream",
     "text": [
      "    close     created_at    high     low     market    open     value volume\n",
      "0  3.7061  1727527680000  3.7061  3.7061  CYBERUSDT  3.7061  2.149538   0.58\n",
      "1  3.7061  1727527740000  3.7061  3.7061  CYBERUSDT  3.7061         0      0\n",
      "      symbol                time   price  pct_change  volume\n",
      "0  CYBERUSDT 2024-09-28 12:48:00  3.7061         NaN    0.58\n",
      "1  CYBERUSDT 2024-09-28 12:49:00  3.7061         0.0    0.00\n"
     ]
    },
    {
     "name": "stderr",
     "output_type": "stream",
     "text": [
      " 45%|███████████████████████████████████▎                                           | 524/1174 [05:23<06:10,  1.76it/s]"
     ]
    },
    {
     "name": "stdout",
     "output_type": "stream",
     "text": [
      "      close     created_at      high       low    market      open  \\\n",
      "0  0.131683  1727527680000  0.131683  0.131683  OORTUSDT  0.131683   \n",
      "1  0.131683  1727527740000  0.131683  0.131683  OORTUSDT  0.131683   \n",
      "\n",
      "              value       volume  \n",
      "0  1.56476470525889  11.88281483  \n",
      "1                 0            0  \n",
      "     symbol                time     price  pct_change     volume\n",
      "0  OORTUSDT 2024-09-28 12:48:00  0.131683         NaN  11.882815\n",
      "1  OORTUSDT 2024-09-28 12:49:00  0.131683         0.0   0.000000\n"
     ]
    },
    {
     "name": "stderr",
     "output_type": "stream",
     "text": [
      " 45%|███████████████████████████████████▎                                           | 525/1174 [05:24<06:10,  1.75it/s]"
     ]
    },
    {
     "name": "stdout",
     "output_type": "stream",
     "text": [
      "      close     created_at      high       low     market      open  \\\n",
      "0  0.017181  1727527680000  0.017181  0.017181  MSTARUSDT  0.017181   \n",
      "1  0.017181  1727527740000  0.017181  0.017181  MSTARUSDT  0.017181   \n",
      "\n",
      "              value        volume  \n",
      "0  2.03803523656686  118.62145606  \n",
      "1                 0             0  \n",
      "      symbol                time     price  pct_change      volume\n",
      "0  MSTARUSDT 2024-09-28 12:48:00  0.017181         NaN  118.621456\n",
      "1  MSTARUSDT 2024-09-28 12:49:00  0.017181         0.0    0.000000\n"
     ]
    },
    {
     "name": "stderr",
     "output_type": "stream",
     "text": [
      " 45%|███████████████████████████████████▍                                           | 526/1174 [05:24<06:08,  1.76it/s]"
     ]
    },
    {
     "name": "stdout",
     "output_type": "stream",
     "text": [
      "      close     created_at      high       low   market      open     value  \\\n",
      "0  0.009644  1727527680000  0.009644  0.009644  RBXUSDT  0.009644  1.128348   \n",
      "1  0.009644  1727527740000  0.009644  0.009644  RBXUSDT  0.009644         0   \n",
      "\n",
      "  volume  \n",
      "0    117  \n",
      "1      0  \n",
      "    symbol                time     price  pct_change  volume\n",
      "0  RBXUSDT 2024-09-28 12:48:00  0.009644         NaN   117.0\n",
      "1  RBXUSDT 2024-09-28 12:49:00  0.009644         0.0     0.0\n"
     ]
    },
    {
     "name": "stderr",
     "output_type": "stream",
     "text": [
      " 45%|███████████████████████████████████▍                                           | 527/1174 [05:25<06:06,  1.76it/s]"
     ]
    },
    {
     "name": "stdout",
     "output_type": "stream",
     "text": [
      "      close     created_at      high       low   market      open     value  \\\n",
      "0  0.019211  1727527680000  0.019211  0.019211  XEMUSDT  0.019211  2.286109   \n",
      "1  0.019211  1727527740000  0.019211  0.019211  XEMUSDT  0.019211         0   \n",
      "\n",
      "  volume  \n",
      "0    119  \n",
      "1      0  \n",
      "    symbol                time     price  pct_change  volume\n",
      "0  XEMUSDT 2024-09-28 12:48:00  0.019211         NaN   119.0\n",
      "1  XEMUSDT 2024-09-28 12:49:00  0.019211         0.0     0.0\n"
     ]
    },
    {
     "name": "stderr",
     "output_type": "stream",
     "text": [
      " 45%|███████████████████████████████████▌                                           | 528/1174 [05:25<06:08,  1.76it/s]"
     ]
    },
    {
     "name": "stdout",
     "output_type": "stream",
     "text": [
      "      close     created_at      high       low     market      open    value  \\\n",
      "0  0.010828  1727527680000  0.010828  0.010828  SILLYUSDT  0.010828  1.24522   \n",
      "1  0.010828  1727527740000  0.010828  0.010828  SILLYUSDT  0.010828        0   \n",
      "\n",
      "  volume  \n",
      "0    115  \n",
      "1      0  \n",
      "      symbol                time     price  pct_change  volume\n",
      "0  SILLYUSDT 2024-09-28 12:48:00  0.010828         NaN   115.0\n",
      "1  SILLYUSDT 2024-09-28 12:49:00  0.010828         0.0     0.0\n"
     ]
    },
    {
     "name": "stderr",
     "output_type": "stream",
     "text": [
      " 45%|███████████████████████████████████▌                                           | 529/1174 [05:26<06:02,  1.78it/s]"
     ]
    },
    {
     "name": "stdout",
     "output_type": "stream",
     "text": [
      "      close     created_at      high       low    market      open    value  \\\n",
      "0  0.004454  1727527680000  0.004454  0.004454  LINAUSDT  0.004454  2.49424   \n",
      "1  0.004454  1727527740000  0.004454  0.004454  LINAUSDT  0.004454        0   \n",
      "\n",
      "  volume  \n",
      "0    560  \n",
      "1      0  \n",
      "     symbol                time     price  pct_change  volume\n",
      "0  LINAUSDT 2024-09-28 12:48:00  0.004454         NaN   560.0\n",
      "1  LINAUSDT 2024-09-28 12:49:00  0.004454         0.0     0.0\n"
     ]
    },
    {
     "name": "stderr",
     "output_type": "stream",
     "text": [
      " 45%|███████████████████████████████████▋                                           | 530/1174 [05:27<06:02,  1.78it/s]"
     ]
    },
    {
     "name": "stdout",
     "output_type": "stream",
     "text": [
      "    close     created_at    high     low    market    open     value volume\n",
      "0  2.0354  1727527680000  2.0354  2.0354  RARIUSDT  2.0354  2.401772   1.18\n",
      "1  2.0354  1727527740000  2.0354  2.0354  RARIUSDT  2.0354         0      0\n",
      "     symbol                time   price  pct_change  volume\n",
      "0  RARIUSDT 2024-09-28 12:48:00  2.0354         NaN    1.18\n",
      "1  RARIUSDT 2024-09-28 12:49:00  2.0354         0.0    0.00\n"
     ]
    },
    {
     "name": "stderr",
     "output_type": "stream",
     "text": [
      " 45%|███████████████████████████████████▋                                           | 531/1174 [05:27<06:13,  1.72it/s]"
     ]
    },
    {
     "name": "stdout",
     "output_type": "stream",
     "text": [
      "        close     created_at        high         low   market        open  \\\n",
      "0  0.00186319  1727527680000  0.00186319  0.00186319  HOTUSDT  0.00186319   \n",
      "1  0.00186319  1727527740000  0.00186319  0.00186319  HOTUSDT  0.00186319   \n",
      "\n",
      "                value         volume  \n",
      "0  2.1748697594506876  1167.28286404  \n",
      "1                   0              0  \n",
      "    symbol                time     price  pct_change       volume\n",
      "0  HOTUSDT 2024-09-28 12:48:00  0.001863         NaN  1167.282864\n",
      "1  HOTUSDT 2024-09-28 12:49:00  0.001863         0.0     0.000000\n"
     ]
    },
    {
     "name": "stderr",
     "output_type": "stream",
     "text": [
      " 45%|███████████████████████████████████▊                                           | 532/1174 [05:28<06:13,  1.72it/s]"
     ]
    },
    {
     "name": "stdout",
     "output_type": "stream",
     "text": [
      "        close     created_at        high         low     market        open  \\\n",
      "0  0.00013159  1727527680000  0.00013159  0.00013159  NOTAIUSDT  0.00013159   \n",
      "1  0.00013159  1727527740000  0.00013159  0.00013159  NOTAIUSDT  0.00013159   \n",
      "\n",
      "               value         volume  \n",
      "0  1.443356709056407  10968.5896273  \n",
      "1                  0              0  \n",
      "      symbol                time     price  pct_change        volume\n",
      "0  NOTAIUSDT 2024-09-28 12:48:00  0.000132         NaN  10968.589627\n",
      "1  NOTAIUSDT 2024-09-28 12:49:00  0.000132         0.0      0.000000\n"
     ]
    },
    {
     "name": "stderr",
     "output_type": "stream",
     "text": [
      " 45%|███████████████████████████████████▊                                           | 533/1174 [05:28<06:07,  1.74it/s]"
     ]
    },
    {
     "name": "stdout",
     "output_type": "stream",
     "text": [
      "    close     created_at    high     low   market    open    value volume\n",
      "0  0.9182  1727527680000  0.9182  0.9182  JUPUSDT  0.9182  5.32556    5.8\n",
      "1  0.9182  1727527740000  0.9182  0.9182  JUPUSDT  0.9182        0      0\n",
      "    symbol                time   price  pct_change  volume\n",
      "0  JUPUSDT 2024-09-28 12:48:00  0.9182         NaN     5.8\n",
      "1  JUPUSDT 2024-09-28 12:49:00  0.9182         0.0     0.0\n"
     ]
    },
    {
     "name": "stderr",
     "output_type": "stream",
     "text": [
      " 45%|███████████████████████████████████▉                                           | 534/1174 [05:29<06:15,  1.70it/s]"
     ]
    },
    {
     "name": "stdout",
     "output_type": "stream",
     "text": [
      "      close     created_at      high       low     market      open    value  \\\n",
      "0  0.004838  1727527680000  0.004838  0.004838  DEGENUSDT  0.004838  2.80604   \n",
      "1  0.004838  1727527740000  0.004838  0.004838  DEGENUSDT  0.004838        0   \n",
      "\n",
      "  volume  \n",
      "0    580  \n",
      "1      0  \n",
      "      symbol                time     price  pct_change  volume\n",
      "0  DEGENUSDT 2024-09-28 12:48:00  0.004838         NaN   580.0\n",
      "1  DEGENUSDT 2024-09-28 12:49:00  0.004838         0.0     0.0\n"
     ]
    },
    {
     "name": "stderr",
     "output_type": "stream",
     "text": [
      " 46%|████████████████████████████████████                                           | 535/1174 [05:30<06:12,  1.71it/s]"
     ]
    },
    {
     "name": "stdout",
     "output_type": "stream",
     "text": [
      "        close     created_at        high         low             market  \\\n",
      "0  0.00034024  1727527680000  0.00034024  0.00034024  DECENTRALIZEDUSDT   \n",
      "1  0.00034024  1727527740000  0.00034024  0.00034024  DECENTRALIZEDUSDT   \n",
      "\n",
      "         open               value         volume  \n",
      "0  0.00034024  1.7387731426675936  5110.43129164  \n",
      "1  0.00034024                   0              0  \n",
      "              symbol                time    price  pct_change       volume\n",
      "0  DECENTRALIZEDUSDT 2024-09-28 12:48:00  0.00034         NaN  5110.431292\n",
      "1  DECENTRALIZEDUSDT 2024-09-28 12:49:00  0.00034         0.0     0.000000\n"
     ]
    },
    {
     "name": "stderr",
     "output_type": "stream",
     "text": [
      " 46%|████████████████████████████████████                                           | 536/1174 [05:30<06:41,  1.59it/s]"
     ]
    },
    {
     "name": "stdout",
     "output_type": "stream",
     "text": [
      "      close     created_at      high       low      market      open  \\\n",
      "0  0.024572  1727527680000  0.024572  0.024572  PRISMAUSDT  0.024572   \n",
      "1  0.024572  1727527740000  0.024572  0.024572  PRISMAUSDT  0.024572   \n",
      "\n",
      "      value volume  \n",
      "0  1.449748     59  \n",
      "1         0      0  \n",
      "       symbol                time     price  pct_change  volume\n",
      "0  PRISMAUSDT 2024-09-28 12:48:00  0.024572         NaN    59.0\n",
      "1  PRISMAUSDT 2024-09-28 12:49:00  0.024572         0.0     0.0\n"
     ]
    },
    {
     "name": "stderr",
     "output_type": "stream",
     "text": [
      " 46%|████████████████████████████████████▏                                          | 537/1174 [05:31<06:50,  1.55it/s]"
     ]
    },
    {
     "name": "stdout",
     "output_type": "stream",
     "text": [
      "      close     created_at      high       low     market      open  \\\n",
      "0  0.169859  1727527680000  0.169859  0.169859  SLERFUSDT  0.169859   \n",
      "1  0.169859  1727527740000  0.169859  0.169859  SLERFUSDT  0.169859   \n",
      "\n",
      "       value volume  \n",
      "0  1.9703644   11.6  \n",
      "1          0      0  \n",
      "      symbol                time     price  pct_change  volume\n",
      "0  SLERFUSDT 2024-09-28 12:48:00  0.169859         NaN    11.6\n",
      "1  SLERFUSDT 2024-09-28 12:49:00  0.169859         0.0     0.0\n"
     ]
    },
    {
     "name": "stderr",
     "output_type": "stream",
     "text": [
      " 46%|████████████████████████████████████▏                                          | 538/1174 [05:32<07:06,  1.49it/s]"
     ]
    },
    {
     "name": "stdout",
     "output_type": "stream",
     "text": [
      "    close     created_at    high     low   market    open     value volume\n",
      "0  1.5925  1727527680000  1.5925  1.5925  FETUSDT  1.5925  1.895075   1.19\n",
      "1  1.5925  1727527740000  1.5925  1.5925  FETUSDT  1.5925         0      0\n",
      "    symbol                time   price  pct_change  volume\n",
      "0  FETUSDT 2024-09-28 12:48:00  1.5925         NaN    1.19\n",
      "1  FETUSDT 2024-09-28 12:49:00  1.5925         0.0    0.00\n"
     ]
    },
    {
     "name": "stderr",
     "output_type": "stream",
     "text": [
      " 46%|████████████████████████████████████▎                                          | 539/1174 [05:32<06:43,  1.57it/s]"
     ]
    },
    {
     "name": "stdout",
     "output_type": "stream",
     "text": [
      "      close     created_at      high       low    market      open     value  \\\n",
      "0  0.052412  1727527680000  0.052412  0.052412  MARSUSDT  0.052412  3.092308   \n",
      "1  0.052412  1727527740000  0.052412  0.052412  MARSUSDT  0.052412         0   \n",
      "\n",
      "  volume  \n",
      "0     59  \n",
      "1      0  \n",
      "     symbol                time     price  pct_change  volume\n",
      "0  MARSUSDT 2024-09-28 12:48:00  0.052412         NaN    59.0\n",
      "1  MARSUSDT 2024-09-28 12:49:00  0.052412         0.0     0.0\n"
     ]
    },
    {
     "name": "stderr",
     "output_type": "stream",
     "text": [
      " 46%|████████████████████████████████████▎                                          | 540/1174 [05:33<06:26,  1.64it/s]"
     ]
    },
    {
     "name": "stdout",
     "output_type": "stream",
     "text": [
      "      close     created_at      high       low   market      open  \\\n",
      "0  0.012434  1727527680000  0.012434  0.012434  NUBUSDT  0.012434   \n",
      "1  0.012434  1727527740000  0.012434  0.012434  NUBUSDT  0.012434   \n",
      "\n",
      "             value        volume  \n",
      "0  1.3201070749477  106.16913905  \n",
      "1                0             0  \n",
      "    symbol                time     price  pct_change      volume\n",
      "0  NUBUSDT 2024-09-28 12:48:00  0.012434         NaN  106.169139\n",
      "1  NUBUSDT 2024-09-28 12:49:00  0.012434         0.0    0.000000\n"
     ]
    },
    {
     "name": "stderr",
     "output_type": "stream",
     "text": [
      " 46%|████████████████████████████████████▍                                          | 541/1174 [05:33<06:18,  1.67it/s]"
     ]
    },
    {
     "name": "stdout",
     "output_type": "stream",
     "text": [
      "      close     created_at      high       low   market      open  \\\n",
      "0  0.068612  1727527680000  0.068612  0.068612  ACAUSDT  0.068612   \n",
      "1  0.068612  1727527740000  0.068612  0.068612  ACAUSDT  0.068612   \n",
      "\n",
      "             value      volume  \n",
      "0  3.8599958998684  56.2583207  \n",
      "1                0           0  \n",
      "    symbol                time     price  pct_change     volume\n",
      "0  ACAUSDT 2024-09-28 12:48:00  0.068612         NaN  56.258321\n",
      "1  ACAUSDT 2024-09-28 12:49:00  0.068612         0.0   0.000000\n"
     ]
    },
    {
     "name": "stderr",
     "output_type": "stream",
     "text": [
      " 46%|████████████████████████████████████▍                                          | 542/1174 [05:34<06:10,  1.71it/s]"
     ]
    },
    {
     "name": "stdout",
     "output_type": "stream",
     "text": [
      "        close     created_at        high         low   market        open  \\\n",
      "0  0.00005323  1727527680000  0.00005323  0.00005323  SRKUSDT  0.00005323   \n",
      "1  0.00005323  1727527740000  0.00005323  0.00005323  SRKUSDT  0.00005323   \n",
      "\n",
      "      value volume  \n",
      "0  3.167185  59500  \n",
      "1         0      0  \n",
      "    symbol                time     price  pct_change   volume\n",
      "0  SRKUSDT 2024-09-28 12:48:00  0.000053         NaN  59500.0\n",
      "1  SRKUSDT 2024-09-28 12:49:00  0.000053         0.0      0.0\n"
     ]
    },
    {
     "name": "stderr",
     "output_type": "stream",
     "text": [
      " 46%|████████████████████████████████████▌                                          | 543/1174 [05:34<06:07,  1.72it/s]"
     ]
    },
    {
     "name": "stdout",
     "output_type": "stream",
     "text": [
      "          close     created_at          high           low    market  \\\n",
      "0  0.0000056551  1727527680000  0.0000056551  0.0000056551  IQ50USDT   \n",
      "1  0.0000056551  1727527740000  0.0000056551  0.0000056551  IQ50USDT   \n",
      "\n",
      "           open      value  volume  \n",
      "0  0.0000056551  3.1951315  565000  \n",
      "1  0.0000056551          0       0  \n",
      "     symbol                time     price  pct_change    volume\n",
      "0  IQ50USDT 2024-09-28 12:48:00  0.000006         NaN  565000.0\n",
      "1  IQ50USDT 2024-09-28 12:49:00  0.000006         0.0       0.0\n"
     ]
    },
    {
     "name": "stderr",
     "output_type": "stream",
     "text": [
      " 46%|████████████████████████████████████▌                                          | 544/1174 [05:35<06:03,  1.73it/s]"
     ]
    },
    {
     "name": "stdout",
     "output_type": "stream",
     "text": [
      "   close     created_at   high    low   market   open    value volume\n",
      "0  44.64  1727527680000  44.64  44.64  ILVUSDT  44.64  2.49984  0.056\n",
      "1  44.64  1727527740000  44.64  44.64  ILVUSDT  44.64        0      0\n",
      "    symbol                time  price  pct_change  volume\n",
      "0  ILVUSDT 2024-09-28 12:48:00  44.64         NaN   0.056\n",
      "1  ILVUSDT 2024-09-28 12:49:00  44.64         0.0   0.000\n"
     ]
    },
    {
     "name": "stderr",
     "output_type": "stream",
     "text": [
      " 46%|████████████████████████████████████▋                                          | 545/1174 [05:36<06:04,  1.73it/s]"
     ]
    },
    {
     "name": "stdout",
     "output_type": "stream",
     "text": [
      "    close     created_at    high     low    market    open           value  \\\n",
      "0  1.7162  1727527680000  1.7162  1.7162  FIREUSDT  1.7162  2.055261533536   \n",
      "1  1.7162  1727527740000  1.7162  1.7162  FIREUSDT  1.7162               0   \n",
      "\n",
      "       volume  \n",
      "0  1.19756528  \n",
      "1           0  \n",
      "     symbol                time   price  pct_change    volume\n",
      "0  FIREUSDT 2024-09-28 12:48:00  1.7162         NaN  1.197565\n",
      "1  FIREUSDT 2024-09-28 12:49:00  1.7162         0.0  0.000000\n"
     ]
    },
    {
     "name": "stderr",
     "output_type": "stream",
     "text": [
      " 47%|████████████████████████████████████▋                                          | 546/1174 [05:36<05:58,  1.75it/s]"
     ]
    },
    {
     "name": "stdout",
     "output_type": "stream",
     "text": [
      "      close     created_at      high       low      market      open  \\\n",
      "0  0.007449  1727527680000  0.007449  0.007449  SOCIALUSDT  0.007449   \n",
      "1  0.007449  1727527740000  0.007449  0.007449  SOCIALUSDT  0.007449   \n",
      "\n",
      "              value        volume  \n",
      "0  3.75502631232534  504.09804166  \n",
      "1                 0             0  \n",
      "       symbol                time     price  pct_change      volume\n",
      "0  SOCIALUSDT 2024-09-28 12:48:00  0.007449         NaN  504.098042\n",
      "1  SOCIALUSDT 2024-09-28 12:49:00  0.007449         0.0    0.000000\n"
     ]
    },
    {
     "name": "stderr",
     "output_type": "stream",
     "text": [
      " 47%|████████████████████████████████████▊                                          | 547/1174 [05:37<05:55,  1.77it/s]"
     ]
    },
    {
     "name": "stdout",
     "output_type": "stream",
     "text": [
      "        close     created_at        high         low   market        open  \\\n",
      "0  0.00253363  1727527680000  0.00253363  0.00253363  BAGUSDT  0.00253363   \n",
      "1  0.00253363  1727527740000  0.00253363  0.00253363  BAGUSDT  0.00253363   \n",
      "\n",
      "        value volume  \n",
      "0  1.43150095    565  \n",
      "1           0      0  \n",
      "    symbol                time     price  pct_change  volume\n",
      "0  BAGUSDT 2024-09-28 12:48:00  0.002534         NaN   565.0\n",
      "1  BAGUSDT 2024-09-28 12:49:00  0.002534         0.0     0.0\n"
     ]
    },
    {
     "name": "stderr",
     "output_type": "stream",
     "text": [
      " 47%|████████████████████████████████████▉                                          | 548/1174 [05:37<05:57,  1.75it/s]"
     ]
    },
    {
     "name": "stdout",
     "output_type": "stream",
     "text": [
      "    close     created_at    high     low   market    open     value volume\n",
      "0  0.2997  1727527680000  0.2997  0.2997  OMGUSDT  0.2997  1.783215   5.95\n",
      "1  0.2997  1727527740000  0.2997  0.2997  OMGUSDT  0.2997         0      0\n",
      "    symbol                time   price  pct_change  volume\n",
      "0  OMGUSDT 2024-09-28 12:48:00  0.2997         NaN    5.95\n",
      "1  OMGUSDT 2024-09-28 12:49:00  0.2997         0.0    0.00\n"
     ]
    },
    {
     "name": "stderr",
     "output_type": "stream",
     "text": [
      " 47%|████████████████████████████████████▉                                          | 549/1174 [05:38<05:56,  1.75it/s]"
     ]
    },
    {
     "name": "stdout",
     "output_type": "stream",
     "text": [
      "     close     created_at     high      low   market     open   value volume\n",
      "0  0.00648  1727527680000  0.00648  0.00648  JPGUSDT  0.00648  3.7908    585\n",
      "1  0.00648  1727527740000  0.00648  0.00648  JPGUSDT  0.00648       0      0\n",
      "    symbol                time    price  pct_change  volume\n",
      "0  JPGUSDT 2024-09-28 12:48:00  0.00648         NaN   585.0\n",
      "1  JPGUSDT 2024-09-28 12:49:00  0.00648         0.0     0.0\n"
     ]
    },
    {
     "name": "stderr",
     "output_type": "stream",
     "text": [
      " 47%|█████████████████████████████████████                                          | 550/1174 [05:38<05:57,  1.75it/s]"
     ]
    },
    {
     "name": "stdout",
     "output_type": "stream",
     "text": [
      "    close     created_at    high     low    market    open     value volume\n",
      "0  0.6337  1727527680000  0.6337  0.6337  CELOUSDT  0.6337  3.707145   5.85\n",
      "1  0.6337  1727527740000  0.6337  0.6337  CELOUSDT  0.6337         0      0\n",
      "     symbol                time   price  pct_change  volume\n",
      "0  CELOUSDT 2024-09-28 12:48:00  0.6337         NaN    5.85\n",
      "1  CELOUSDT 2024-09-28 12:49:00  0.6337         0.0    0.00\n"
     ]
    },
    {
     "name": "stderr",
     "output_type": "stream",
     "text": [
      " 47%|█████████████████████████████████████                                          | 551/1174 [05:39<05:51,  1.77it/s]"
     ]
    },
    {
     "name": "stdout",
     "output_type": "stream",
     "text": [
      "      close     created_at      high       low    market      open  \\\n",
      "0  0.234804  1727527680000  0.234804  0.234804  BLURUSDT  0.234804   \n",
      "1  0.234804  1727527740000  0.234804  0.234804  BLURUSDT  0.234804   \n",
      "\n",
      "              value      volume  \n",
      "0  1.18721060074428  5.05617707  \n",
      "1                 0           0  \n",
      "     symbol                time     price  pct_change    volume\n",
      "0  BLURUSDT 2024-09-28 12:48:00  0.234804         NaN  5.056177\n",
      "1  BLURUSDT 2024-09-28 12:49:00  0.234804         0.0  0.000000\n"
     ]
    },
    {
     "name": "stderr",
     "output_type": "stream",
     "text": [
      " 47%|█████████████████████████████████████▏                                         | 552/1174 [05:40<05:52,  1.77it/s]"
     ]
    },
    {
     "name": "stdout",
     "output_type": "stream",
     "text": [
      "        close     created_at        high         low    market        open  \\\n",
      "0  0.00094742  1727527680000  0.00094742  0.00094742  DENTUSDT  0.00094742   \n",
      "1  0.00094742  1727527740000  0.00094742  0.00094742  DENTUSDT  0.00094742   \n",
      "\n",
      "      value volume  \n",
      "0  5.305552   5600  \n",
      "1         0      0  \n",
      "     symbol                time     price  pct_change  volume\n",
      "0  DENTUSDT 2024-09-28 12:48:00  0.000947         NaN  5600.0\n",
      "1  DENTUSDT 2024-09-28 12:49:00  0.000947         0.0     0.0\n"
     ]
    },
    {
     "name": "stderr",
     "output_type": "stream",
     "text": [
      " 47%|█████████████████████████████████████▏                                         | 553/1174 [05:40<05:50,  1.77it/s]"
     ]
    },
    {
     "name": "stdout",
     "output_type": "stream",
     "text": [
      "      close     created_at      high       low   market      open     value  \\\n",
      "0  0.025876  1727527680000  0.025876  0.025876  VETUSDT  0.025876  1.513746   \n",
      "1  0.025876  1727527740000  0.025876  0.025876  VETUSDT  0.025876         0   \n",
      "\n",
      "  volume  \n",
      "0   58.5  \n",
      "1      0  \n",
      "    symbol                time     price  pct_change  volume\n",
      "0  VETUSDT 2024-09-28 12:48:00  0.025876         NaN    58.5\n",
      "1  VETUSDT 2024-09-28 12:49:00  0.025876         0.0     0.0\n"
     ]
    },
    {
     "name": "stderr",
     "output_type": "stream",
     "text": [
      " 47%|█████████████████████████████████████▎                                         | 554/1174 [05:41<05:54,  1.75it/s]"
     ]
    },
    {
     "name": "stdout",
     "output_type": "stream",
     "text": [
      "    close     created_at    high     low     market    open     value volume\n",
      "0  1.0594  1727527680000  1.0594  1.0594  SUPERUSDT  1.0594  1.186528   1.12\n",
      "1  1.0594  1727527740000  1.0594  1.0594  SUPERUSDT  1.0594         0      0\n",
      "      symbol                time   price  pct_change  volume\n",
      "0  SUPERUSDT 2024-09-28 12:48:00  1.0594         NaN    1.12\n",
      "1  SUPERUSDT 2024-09-28 12:49:00  1.0594         0.0    0.00\n"
     ]
    },
    {
     "name": "stderr",
     "output_type": "stream",
     "text": [
      " 47%|█████████████████████████████████████▎                                         | 555/1174 [05:41<05:55,  1.74it/s]"
     ]
    },
    {
     "name": "stdout",
     "output_type": "stream",
     "text": [
      "      close     created_at      high       low   market      open  \\\n",
      "0  0.015956  1727527680000  0.015956  0.015897  SNSUSDT  0.015897   \n",
      "1  0.015963  1727527740000  0.015963  0.015963  SNSUSDT  0.015963   \n",
      "\n",
      "                value          volume  \n",
      "0  206.06425738015722  12922.76760452  \n",
      "1            1.803819             113  \n",
      "    symbol                time     price  pct_change        volume\n",
      "0  SNSUSDT 2024-09-28 12:48:00  0.015956         NaN  12922.767605\n",
      "1  SNSUSDT 2024-09-28 12:49:00  0.015963    0.000439    113.000000\n"
     ]
    },
    {
     "name": "stderr",
     "output_type": "stream",
     "text": [
      " 47%|█████████████████████████████████████▍                                         | 556/1174 [05:42<05:49,  1.77it/s]"
     ]
    },
    {
     "name": "stdout",
     "output_type": "stream",
     "text": [
      "    close     created_at    high     low   market    open    value volume\n",
      "0  0.5592  1727527680000  0.5592  0.5592  SMHUSDT  0.5592  3.32724   5.95\n",
      "1  0.5592  1727527740000  0.5592  0.5592  SMHUSDT  0.5592        0      0\n",
      "    symbol                time   price  pct_change  volume\n",
      "0  SMHUSDT 2024-09-28 12:48:00  0.5592         NaN    5.95\n",
      "1  SMHUSDT 2024-09-28 12:49:00  0.5592         0.0    0.00\n"
     ]
    },
    {
     "name": "stderr",
     "output_type": "stream",
     "text": [
      " 47%|█████████████████████████████████████▍                                         | 557/1174 [05:42<05:44,  1.79it/s]"
     ]
    },
    {
     "name": "stdout",
     "output_type": "stream",
     "text": [
      "    close     created_at    high     low   market    open     value volume\n",
      "0  8.1596  1727527680000  8.1596  8.1596  XVSUSDT  8.1596  4.732568   0.58\n",
      "1  8.1596  1727527740000  8.1596  8.1596  XVSUSDT  8.1596         0      0\n",
      "    symbol                time   price  pct_change  volume\n",
      "0  XVSUSDT 2024-09-28 12:48:00  8.1596         NaN    0.58\n",
      "1  XVSUSDT 2024-09-28 12:49:00  8.1596         0.0    0.00\n"
     ]
    },
    {
     "name": "stderr",
     "output_type": "stream",
     "text": [
      " 48%|█████████████████████████████████████▌                                         | 558/1174 [05:43<05:43,  1.79it/s]"
     ]
    },
    {
     "name": "stdout",
     "output_type": "stream",
     "text": [
      "     close     created_at     high      low    market     open      value  \\\n",
      "0  0.39985  1727527680000  0.39985  0.39985  THORUSDT  0.39985  2.3791075   \n",
      "1  0.39985  1727527740000  0.39985  0.39985  THORUSDT  0.39985          0   \n",
      "\n",
      "  volume  \n",
      "0   5.95  \n",
      "1      0  \n",
      "     symbol                time    price  pct_change  volume\n",
      "0  THORUSDT 2024-09-28 12:48:00  0.39985         NaN    5.95\n",
      "1  THORUSDT 2024-09-28 12:49:00  0.39985         0.0    0.00\n"
     ]
    },
    {
     "name": "stderr",
     "output_type": "stream",
     "text": [
      " 48%|█████████████████████████████████████▌                                         | 559/1174 [05:44<06:42,  1.53it/s]"
     ]
    },
    {
     "name": "stdout",
     "output_type": "stream",
     "text": [
      "    close     created_at    high     low    market    open      value volume\n",
      "0  5.9733  1727527680000  5.9733  5.9733  ZANOUSDT  5.9733  3.5541135  0.595\n",
      "1  5.9733  1727527740000  5.9733  5.9733  ZANOUSDT  5.9733          0      0\n",
      "     symbol                time   price  pct_change  volume\n",
      "0  ZANOUSDT 2024-09-28 12:48:00  5.9733         NaN   0.595\n",
      "1  ZANOUSDT 2024-09-28 12:49:00  5.9733         0.0   0.000\n"
     ]
    },
    {
     "name": "stderr",
     "output_type": "stream",
     "text": [
      " 48%|█████████████████████████████████████▋                                         | 560/1174 [05:44<06:35,  1.55it/s]"
     ]
    },
    {
     "name": "stdout",
     "output_type": "stream",
     "text": [
      "    close     created_at    high     low     market    open         value  \\\n",
      "0  1.6835  1727527680000  1.6835  1.6835  ETHFIUSDT  1.6835  1.7565915094   \n",
      "1  1.6835  1727527740000  1.6835  1.6835  ETHFIUSDT  1.6835             0   \n",
      "\n",
      "      volume  \n",
      "0  1.0434164  \n",
      "1          0  \n",
      "      symbol                time   price  pct_change    volume\n",
      "0  ETHFIUSDT 2024-09-28 12:48:00  1.6835         NaN  1.043416\n",
      "1  ETHFIUSDT 2024-09-28 12:49:00  1.6835         0.0  0.000000\n"
     ]
    },
    {
     "name": "stderr",
     "output_type": "stream",
     "text": [
      " 48%|█████████████████████████████████████▊                                         | 561/1174 [05:45<06:20,  1.61it/s]"
     ]
    },
    {
     "name": "stdout",
     "output_type": "stream",
     "text": [
      "    close     created_at    high     low    market    open    value volume\n",
      "0  0.2936  1727527680000  0.2936  0.2936  AURYUSDT  0.2936  1.70288    5.8\n",
      "1  0.2936  1727527740000  0.2936  0.2936  AURYUSDT  0.2936        0      0\n",
      "     symbol                time   price  pct_change  volume\n",
      "0  AURYUSDT 2024-09-28 12:48:00  0.2936         NaN     5.8\n",
      "1  AURYUSDT 2024-09-28 12:49:00  0.2936         0.0     0.0\n"
     ]
    },
    {
     "name": "stderr",
     "output_type": "stream",
     "text": [
      " 48%|█████████████████████████████████████▊                                         | 562/1174 [05:46<06:06,  1.67it/s]"
     ]
    },
    {
     "name": "stdout",
     "output_type": "stream",
     "text": [
      "      close     created_at      high       low     market      open    value  \\\n",
      "0  0.010938  1727527680000  0.010938  0.010938  BLASTUSDT  0.010938  6.28935   \n",
      "1  0.010938  1727527740000  0.010938  0.010938  BLASTUSDT  0.010938        0   \n",
      "\n",
      "  volume  \n",
      "0    575  \n",
      "1      0  \n",
      "      symbol                time     price  pct_change  volume\n",
      "0  BLASTUSDT 2024-09-28 12:48:00  0.010938         NaN   575.0\n",
      "1  BLASTUSDT 2024-09-28 12:49:00  0.010938         0.0     0.0\n"
     ]
    },
    {
     "name": "stderr",
     "output_type": "stream",
     "text": [
      " 48%|█████████████████████████████████████▉                                         | 563/1174 [05:46<05:55,  1.72it/s]"
     ]
    },
    {
     "name": "stdout",
     "output_type": "stream",
     "text": [
      "      close     created_at      high       low     market      open     value  \\\n",
      "0  0.017377  1727527680000  0.017377  0.017377  BREEDUSDT  0.017377  1.963601   \n",
      "1  0.017371  1727527740000  0.017371  0.017371  BREEDUSDT  0.017371  1.997665   \n",
      "\n",
      "  volume  \n",
      "0    113  \n",
      "1    115  \n",
      "      symbol                time     price  pct_change  volume\n",
      "0  BREEDUSDT 2024-09-28 12:48:00  0.017377         NaN   113.0\n",
      "1  BREEDUSDT 2024-09-28 12:49:00  0.017371   -0.000345   115.0\n"
     ]
    },
    {
     "name": "stderr",
     "output_type": "stream",
     "text": [
      " 48%|█████████████████████████████████████▉                                         | 564/1174 [05:47<05:54,  1.72it/s]"
     ]
    },
    {
     "name": "stdout",
     "output_type": "stream",
     "text": [
      "    close     created_at    high     low   market    open           value  \\\n",
      "0  0.3603  1727527680000  0.3603  0.3603  CELUSDT  0.3603        2.143785   \n",
      "1  0.3582  1727527740000  0.3582  0.3582  CELUSDT  0.3582  33.64343201556   \n",
      "\n",
      "       volume  \n",
      "0        5.95  \n",
      "1  93.9235958  \n",
      "    symbol                time   price  pct_change     volume\n",
      "0  CELUSDT 2024-09-28 12:48:00  0.3603         NaN   5.950000\n",
      "1  CELUSDT 2024-09-28 12:49:00  0.3582   -0.005846  93.923596\n"
     ]
    },
    {
     "name": "stderr",
     "output_type": "stream",
     "text": [
      " 48%|██████████████████████████████████████                                         | 565/1174 [05:47<05:55,  1.71it/s]"
     ]
    },
    {
     "name": "stdout",
     "output_type": "stream",
     "text": [
      "        close     created_at        high         low    market        open  \\\n",
      "0  0.00217583  1727527680000  0.00217583  0.00217583  HEROUSDT  0.00217583   \n",
      "1  0.00217387  1727527740000  0.00217387  0.00217387  HEROUSDT  0.00217387   \n",
      "\n",
      "        value volume  \n",
      "0  1.20758565    555  \n",
      "1   1.1956285    550  \n",
      "     symbol                time     price  pct_change  volume\n",
      "0  HEROUSDT 2024-09-28 12:48:00  0.002176         NaN   555.0\n",
      "1  HEROUSDT 2024-09-28 12:49:00  0.002174   -0.000901   550.0\n"
     ]
    },
    {
     "name": "stderr",
     "output_type": "stream",
     "text": [
      " 48%|██████████████████████████████████████                                         | 566/1174 [05:48<05:49,  1.74it/s]"
     ]
    },
    {
     "name": "stdout",
     "output_type": "stream",
     "text": [
      "      close     created_at      high       low   market      open     value  \\\n",
      "0  0.078186  1727527680000  0.078186  0.078186  OXTUSDT  0.078186  4.612974   \n",
      "1  0.078256  1727527740000  0.078256  0.078256  OXTUSDT  0.078256   4.49972   \n",
      "\n",
      "  volume  \n",
      "0     59  \n",
      "1   57.5  \n",
      "    symbol                time     price  pct_change  volume\n",
      "0  OXTUSDT 2024-09-28 12:48:00  0.078186         NaN    59.0\n",
      "1  OXTUSDT 2024-09-28 12:49:00  0.078256    0.000895    57.5\n"
     ]
    },
    {
     "name": "stderr",
     "output_type": "stream",
     "text": [
      " 48%|██████████████████████████████████████▏                                        | 567/1174 [05:48<05:44,  1.76it/s]"
     ]
    },
    {
     "name": "stdout",
     "output_type": "stream",
     "text": [
      "      close     created_at      high       low   market      open     value  \\\n",
      "0  0.016439  1727527680000  0.016439  0.016439  PNKUSDT  0.016439  1.906924   \n",
      "1  0.016434  1727527740000  0.016434  0.016434  PNKUSDT  0.016434  1.955646   \n",
      "\n",
      "  volume  \n",
      "0    116  \n",
      "1    119  \n",
      "    symbol                time     price  pct_change  volume\n",
      "0  PNKUSDT 2024-09-28 12:48:00  0.016439         NaN   116.0\n",
      "1  PNKUSDT 2024-09-28 12:49:00  0.016434   -0.000304   119.0\n"
     ]
    },
    {
     "name": "stderr",
     "output_type": "stream",
     "text": [
      " 48%|██████████████████████████████████████▏                                        | 568/1174 [05:49<05:53,  1.71it/s]"
     ]
    },
    {
     "name": "stdout",
     "output_type": "stream",
     "text": [
      "    close     created_at    high     low    market    open    value volume\n",
      "0  0.4148  1727527680000  0.4148  0.4148  SHDWUSDT  0.4148  2.42658   5.85\n",
      "1  0.4148  1727527740000  0.4148  0.4148  SHDWUSDT  0.4148  2.44732    5.9\n",
      "     symbol                time   price  pct_change  volume\n",
      "0  SHDWUSDT 2024-09-28 12:48:00  0.4148         NaN    5.85\n",
      "1  SHDWUSDT 2024-09-28 12:49:00  0.4148         0.0    5.90\n"
     ]
    },
    {
     "name": "stderr",
     "output_type": "stream",
     "text": [
      " 48%|██████████████████████████████████████▎                                        | 569/1174 [05:50<05:51,  1.72it/s]"
     ]
    },
    {
     "name": "stdout",
     "output_type": "stream",
     "text": [
      "      close     created_at      high       low  market      open     value  \\\n",
      "0  0.015324  1727527680000  0.015324  0.015324  QIUSDT  0.015324  1.777584   \n",
      "1  0.015317  1727527740000  0.015317  0.015317  QIUSDT  0.015317  1.792089   \n",
      "\n",
      "  volume  \n",
      "0    116  \n",
      "1    117  \n",
      "   symbol                time     price  pct_change  volume\n",
      "0  QIUSDT 2024-09-28 12:48:00  0.015324         NaN   116.0\n",
      "1  QIUSDT 2024-09-28 12:49:00  0.015317   -0.000457   117.0\n"
     ]
    },
    {
     "name": "stderr",
     "output_type": "stream",
     "text": [
      " 49%|██████████████████████████████████████▎                                        | 570/1174 [05:50<05:51,  1.72it/s]"
     ]
    },
    {
     "name": "stdout",
     "output_type": "stream",
     "text": [
      "      close     created_at      high       low    market      open  \\\n",
      "0  0.224661  1727527680000  0.224661  0.224661  POWRUSDT  0.224661   \n",
      "1  0.224689  1727527740000  0.224689  0.224689  POWRUSDT  0.224689   \n",
      "\n",
      "        value volume  \n",
      "0  1.24686855   5.55  \n",
      "1   1.2807273    5.7  \n",
      "     symbol                time     price  pct_change  volume\n",
      "0  POWRUSDT 2024-09-28 12:48:00  0.224661         NaN    5.55\n",
      "1  POWRUSDT 2024-09-28 12:49:00  0.224689    0.000125    5.70\n"
     ]
    },
    {
     "name": "stderr",
     "output_type": "stream",
     "text": [
      " 49%|██████████████████████████████████████▍                                        | 571/1174 [05:51<05:45,  1.74it/s]"
     ]
    },
    {
     "name": "stdout",
     "output_type": "stream",
     "text": [
      "      close     created_at      high       low       market      open  \\\n",
      "0  0.009532  1727527680000  0.009532  0.009439  EPIKSOLUSDT  0.009439   \n",
      "1  0.009532  1727527740000  0.009532  0.009532  EPIKSOLUSDT  0.009532   \n",
      "\n",
      "               value         volume  \n",
      "0  46.67892721638048  4902.49079064  \n",
      "1                  0              0  \n",
      "        symbol                time     price  pct_change       volume\n",
      "0  EPIKSOLUSDT 2024-09-28 12:48:00  0.009532         NaN  4902.490791\n",
      "1  EPIKSOLUSDT 2024-09-28 12:49:00  0.009532         0.0     0.000000\n"
     ]
    },
    {
     "name": "stderr",
     "output_type": "stream",
     "text": [
      " 49%|██████████████████████████████████████▍                                        | 572/1174 [05:51<05:42,  1.76it/s]"
     ]
    },
    {
     "name": "stdout",
     "output_type": "stream",
     "text": [
      "     close     created_at     high      low   market     open           value  \\\n",
      "0  21.7457  1727527680000  21.7471  21.7457  KSMUSDT  21.7471  2.362119031839   \n",
      "1  21.7457  1727527740000  21.7457  21.7457  KSMUSDT  21.7457               0   \n",
      "\n",
      "       volume  \n",
      "0  0.10862089  \n",
      "1           0  \n",
      "    symbol                time    price  pct_change    volume\n",
      "0  KSMUSDT 2024-09-28 12:48:00  21.7457         NaN  0.108621\n",
      "1  KSMUSDT 2024-09-28 12:49:00  21.7457         0.0  0.000000\n"
     ]
    },
    {
     "name": "stderr",
     "output_type": "stream",
     "text": [
      " 49%|██████████████████████████████████████▌                                        | 573/1174 [05:52<05:49,  1.72it/s]"
     ]
    },
    {
     "name": "stdout",
     "output_type": "stream",
     "text": [
      "          close     created_at          high           low     market  \\\n",
      "0   0.000002322  1727527680000   0.000002322   0.000002322  QUBICUSDT   \n",
      "1  0.0000023215  1727527740000  0.0000023215  0.0000023215  QUBICUSDT   \n",
      "\n",
      "           open      value  volume  \n",
      "0   0.000002322    1.34676  580000  \n",
      "1  0.0000023215  1.3348625  575000  \n",
      "      symbol                time     price  pct_change    volume\n",
      "0  QUBICUSDT 2024-09-28 12:48:00  0.000002         NaN  580000.0\n",
      "1  QUBICUSDT 2024-09-28 12:49:00  0.000002   -0.000215  575000.0\n"
     ]
    },
    {
     "name": "stderr",
     "output_type": "stream",
     "text": [
      " 49%|██████████████████████████████████████▋                                        | 574/1174 [05:52<05:42,  1.75it/s]"
     ]
    },
    {
     "name": "stdout",
     "output_type": "stream",
     "text": [
      "     close     created_at     high      low     market     open      value  \\\n",
      "0  10.7535  1727527680000  10.7535  10.7535  PRIMEUSDT  10.7535  1.2151455   \n",
      "1  10.7535  1727527740000  10.7535  10.7535  PRIMEUSDT  10.7535   1.204392   \n",
      "\n",
      "  volume  \n",
      "0  0.113  \n",
      "1  0.112  \n",
      "      symbol                time    price  pct_change  volume\n",
      "0  PRIMEUSDT 2024-09-28 12:48:00  10.7535         NaN   0.113\n",
      "1  PRIMEUSDT 2024-09-28 12:49:00  10.7535         0.0   0.112\n"
     ]
    },
    {
     "name": "stderr",
     "output_type": "stream",
     "text": [
      " 49%|██████████████████████████████████████▋                                        | 575/1174 [05:53<05:41,  1.76it/s]"
     ]
    },
    {
     "name": "stdout",
     "output_type": "stream",
     "text": [
      "      close     created_at      high       low   market      open     value  \\\n",
      "0  0.063457  1727527680000  0.063457  0.063457  SCFUSDT  0.063457  3.490135   \n",
      "1  0.063488  1727527740000  0.063488  0.063488  SCFUSDT  0.063488   3.65056   \n",
      "\n",
      "  volume  \n",
      "0     55  \n",
      "1   57.5  \n",
      "    symbol                time     price  pct_change  volume\n",
      "0  SCFUSDT 2024-09-28 12:48:00  0.063457         NaN    55.0\n",
      "1  SCFUSDT 2024-09-28 12:49:00  0.063488    0.000488    57.5\n"
     ]
    },
    {
     "name": "stderr",
     "output_type": "stream",
     "text": [
      " 49%|██████████████████████████████████████▊                                        | 576/1174 [05:54<05:37,  1.77it/s]"
     ]
    },
    {
     "name": "stdout",
     "output_type": "stream",
     "text": [
      "      close     created_at      high       low    market      open     value  \\\n",
      "0  0.076682  1727527680000  0.076682  0.076682  ROSEUSDT  0.076682  4.255851   \n",
      "1  0.076705  1727527740000  0.076705  0.076705  ROSEUSDT  0.076705   4.29548   \n",
      "\n",
      "  volume  \n",
      "0   55.5  \n",
      "1     56  \n",
      "     symbol                time     price  pct_change  volume\n",
      "0  ROSEUSDT 2024-09-28 12:48:00  0.076682         NaN    55.5\n",
      "1  ROSEUSDT 2024-09-28 12:49:00  0.076705      0.0003    56.0\n"
     ]
    },
    {
     "name": "stderr",
     "output_type": "stream",
     "text": [
      " 49%|██████████████████████████████████████▊                                        | 577/1174 [05:54<05:36,  1.77it/s]"
     ]
    },
    {
     "name": "stdout",
     "output_type": "stream",
     "text": [
      "    close     created_at    high     low    market    open     value volume\n",
      "0  2.3706  1727527680000  2.3706  2.3706  MASKUSDT  2.3706  1.315683  0.555\n",
      "1  2.3708  1727527740000  2.3708  2.3708  MASKUSDT  2.3708  1.339502  0.565\n",
      "     symbol                time   price  pct_change  volume\n",
      "0  MASKUSDT 2024-09-28 12:48:00  2.3706         NaN   0.555\n",
      "1  MASKUSDT 2024-09-28 12:49:00  2.3708    0.000084   0.565\n"
     ]
    },
    {
     "name": "stderr",
     "output_type": "stream",
     "text": [
      " 49%|██████████████████████████████████████▉                                        | 578/1174 [05:55<05:36,  1.77it/s]"
     ]
    },
    {
     "name": "stdout",
     "output_type": "stream",
     "text": [
      "     close     created_at      high      low    market      open  \\\n",
      "0  0.08952  1727527680000  0.089533  0.08952  MYROUSDT  0.089533   \n",
      "1  0.08952  1727527740000   0.08952  0.08952  MYROUSDT   0.08952   \n",
      "\n",
      "               value        volume  \n",
      "0  10.01428343363435  111.85802979  \n",
      "1                  0             0  \n",
      "     symbol                time    price  pct_change     volume\n",
      "0  MYROUSDT 2024-09-28 12:48:00  0.08952         NaN  111.85803\n",
      "1  MYROUSDT 2024-09-28 12:49:00  0.08952         0.0    0.00000\n"
     ]
    },
    {
     "name": "stderr",
     "output_type": "stream",
     "text": [
      " 49%|██████████████████████████████████████▉                                        | 579/1174 [05:55<05:33,  1.79it/s]"
     ]
    },
    {
     "name": "stdout",
     "output_type": "stream",
     "text": [
      "    close     created_at    high     low   market    open     value  volume\n",
      "0  167.18  1727527680000  167.18  167.18  GNOUSDT  167.18  1.956006  0.0117\n",
      "1  167.14  1727527740000  167.14  167.14  GNOUSDT  167.14  1.855254  0.0111\n",
      "    symbol                time   price  pct_change  volume\n",
      "0  GNOUSDT 2024-09-28 12:48:00  167.18         NaN  0.0117\n",
      "1  GNOUSDT 2024-09-28 12:49:00  167.14   -0.000239  0.0111\n"
     ]
    },
    {
     "name": "stderr",
     "output_type": "stream",
     "text": [
      " 49%|███████████████████████████████████████                                        | 580/1174 [05:56<05:41,  1.74it/s]"
     ]
    },
    {
     "name": "stdout",
     "output_type": "stream",
     "text": [
      "         close     created_at         high          low      market  \\\n",
      "0  0.000018615  1727527680000  0.000018615  0.000018615  CHONKYUSDT   \n",
      "1  0.000018615  1727527740000  0.000018615  0.000018615  CHONKYUSDT   \n",
      "\n",
      "          open    value  volume  \n",
      "0  0.000018615  2.08488  112000  \n",
      "1  0.000018615  2.15934  116000  \n",
      "       symbol                time     price  pct_change    volume\n",
      "0  CHONKYUSDT 2024-09-28 12:48:00  0.000019         NaN  112000.0\n",
      "1  CHONKYUSDT 2024-09-28 12:49:00  0.000019         0.0  116000.0\n"
     ]
    },
    {
     "name": "stderr",
     "output_type": "stream",
     "text": [
      " 49%|███████████████████████████████████████                                        | 581/1174 [05:56<05:40,  1.74it/s]"
     ]
    },
    {
     "name": "stdout",
     "output_type": "stream",
     "text": [
      "      close     created_at      high       low   market      open     value  \\\n",
      "0  0.015561  1727527680000  0.015561  0.015561  FLRUSDT  0.015561  1.820637   \n",
      "1  0.015548  1727527740000  0.015548  0.015548  FLRUSDT  0.015548  1.850212   \n",
      "\n",
      "  volume  \n",
      "0    117  \n",
      "1    119  \n",
      "    symbol                time     price  pct_change  volume\n",
      "0  FLRUSDT 2024-09-28 12:48:00  0.015561         NaN   117.0\n",
      "1  FLRUSDT 2024-09-28 12:49:00  0.015548   -0.000836   119.0\n"
     ]
    },
    {
     "name": "stderr",
     "output_type": "stream",
     "text": [
      " 50%|███████████████████████████████████████▏                                       | 582/1174 [05:57<05:41,  1.73it/s]"
     ]
    },
    {
     "name": "stdout",
     "output_type": "stream",
     "text": [
      "      close     created_at      high       low    market      open    value  \\\n",
      "0  0.001783  1727527680000  0.001783  0.001783  COOKUSDT  0.001783  2.10394   \n",
      "1  0.001783  1727527740000  0.001783  0.001783  COOKUSDT  0.001783   1.9613   \n",
      "\n",
      "  volume  \n",
      "0   1180  \n",
      "1   1100  \n",
      "     symbol                time     price  pct_change  volume\n",
      "0  COOKUSDT 2024-09-28 12:48:00  0.001783         NaN  1180.0\n",
      "1  COOKUSDT 2024-09-28 12:49:00  0.001783         0.0  1100.0\n"
     ]
    },
    {
     "name": "stderr",
     "output_type": "stream",
     "text": [
      " 50%|███████████████████████████████████████▏                                       | 583/1174 [05:58<05:39,  1.74it/s]"
     ]
    },
    {
     "name": "stdout",
     "output_type": "stream",
     "text": [
      "    close     created_at    high     low   market    open    value volume\n",
      "0  0.1782  1727527680000  0.1782  0.1782  SCPUSDT  0.1782  2.01366   11.3\n",
      "1  0.1782  1727527740000  0.1782  0.1782  SCPUSDT  0.1782   1.9602     11\n",
      "    symbol                time   price  pct_change  volume\n",
      "0  SCPUSDT 2024-09-28 12:48:00  0.1782         NaN    11.3\n",
      "1  SCPUSDT 2024-09-28 12:49:00  0.1782         0.0    11.0\n"
     ]
    },
    {
     "name": "stderr",
     "output_type": "stream",
     "text": [
      " 50%|███████████████████████████████████████▎                                       | 584/1174 [05:58<05:37,  1.75it/s]"
     ]
    },
    {
     "name": "stdout",
     "output_type": "stream",
     "text": [
      "      close     created_at      high       low   market      open     value  \\\n",
      "0  0.035712  1727527680000  0.035712  0.035712  NOMUSDT  0.035712  1.999872   \n",
      "1  0.035712  1727527740000  0.035712  0.035712  NOMUSDT  0.035712  2.017728   \n",
      "\n",
      "  volume  \n",
      "0     56  \n",
      "1   56.5  \n",
      "    symbol                time     price  pct_change  volume\n",
      "0  NOMUSDT 2024-09-28 12:48:00  0.035712         NaN    56.0\n",
      "1  NOMUSDT 2024-09-28 12:49:00  0.035712         0.0    56.5\n"
     ]
    },
    {
     "name": "stderr",
     "output_type": "stream",
     "text": [
      " 50%|███████████████████████████████████████▎                                       | 585/1174 [05:59<05:39,  1.74it/s]"
     ]
    },
    {
     "name": "stdout",
     "output_type": "stream",
     "text": [
      "      close     created_at      high       low    market      open     value  \\\n",
      "0  0.039291  1727527680000  0.039291  0.039291  EVERUSDT  0.039291  2.200296   \n",
      "1  0.039282  1727527740000  0.039282  0.039282  EVERUSDT  0.039282  2.239074   \n",
      "\n",
      "  volume  \n",
      "0     56  \n",
      "1     57  \n",
      "     symbol                time     price  pct_change  volume\n",
      "0  EVERUSDT 2024-09-28 12:48:00  0.039291         NaN    56.0\n",
      "1  EVERUSDT 2024-09-28 12:49:00  0.039282   -0.000229    57.0\n"
     ]
    },
    {
     "name": "stderr",
     "output_type": "stream",
     "text": [
      " 50%|███████████████████████████████████████▍                                       | 586/1174 [05:59<05:34,  1.76it/s]"
     ]
    },
    {
     "name": "stdout",
     "output_type": "stream",
     "text": [
      "      close     created_at      high       low    market      open     value  \\\n",
      "0  0.001792  1727527680000  0.001792  0.001792  BRWLUSDT  0.001792   1.04832   \n",
      "1  0.001793  1727527740000  0.001793  0.001793  BRWLUSDT  0.001793  1.030975   \n",
      "\n",
      "  volume  \n",
      "0    585  \n",
      "1    575  \n",
      "     symbol                time     price  pct_change  volume\n",
      "0  BRWLUSDT 2024-09-28 12:48:00  0.001792         NaN   585.0\n",
      "1  BRWLUSDT 2024-09-28 12:49:00  0.001793    0.000558   575.0\n"
     ]
    },
    {
     "name": "stderr",
     "output_type": "stream",
     "text": [
      " 50%|███████████████████████████████████████▌                                       | 587/1174 [06:00<05:30,  1.78it/s]"
     ]
    },
    {
     "name": "stdout",
     "output_type": "stream",
     "text": [
      "            close     created_at            high             low   market  \\\n",
      "0  0.000000012957  1727527680000  0.000000012957  0.000000012957  PAWUSDT   \n",
      "1  0.000000012962  1727527740000  0.000000012962  0.000000012962  PAWUSDT   \n",
      "\n",
      "             open     value     volume  \n",
      "0  0.000000012957  1.464141  113000000  \n",
      "1  0.000000012962  1.529516  118000000  \n",
      "    symbol                time         price  pct_change       volume\n",
      "0  PAWUSDT 2024-09-28 12:48:00  1.295700e-08         NaN  113000000.0\n",
      "1  PAWUSDT 2024-09-28 12:49:00  1.296200e-08    0.000386  118000000.0\n"
     ]
    },
    {
     "name": "stderr",
     "output_type": "stream",
     "text": [
      " 50%|███████████████████████████████████████▌                                       | 588/1174 [06:00<05:28,  1.78it/s]"
     ]
    },
    {
     "name": "stdout",
     "output_type": "stream",
     "text": [
      "      close     created_at      high       low     market      open    value  \\\n",
      "0  0.006198  1727527680000  0.006198  0.006198  PUNDUUSDT  0.006198  3.65682   \n",
      "1  0.006198  1727527740000  0.006198  0.006198  PUNDUUSDT  0.006198   3.4089   \n",
      "\n",
      "  volume  \n",
      "0    590  \n",
      "1    550  \n",
      "      symbol                time     price  pct_change  volume\n",
      "0  PUNDUUSDT 2024-09-28 12:48:00  0.006198         NaN   590.0\n",
      "1  PUNDUUSDT 2024-09-28 12:49:00  0.006198         0.0   550.0\n"
     ]
    },
    {
     "name": "stderr",
     "output_type": "stream",
     "text": [
      " 50%|███████████████████████████████████████▋                                       | 589/1174 [06:01<05:27,  1.79it/s]"
     ]
    },
    {
     "name": "stdout",
     "output_type": "stream",
     "text": [
      "      close     created_at      high       low    market      open  \\\n",
      "0  0.075134  1727527680000  0.075134  0.075134  TRUFUSDT  0.075134   \n",
      "1  0.075134  1727527740000  0.075134  0.075134  TRUFUSDT  0.075134   \n",
      "\n",
      "              value       volume  \n",
      "0  3.98774423957246  53.07509569  \n",
      "1                 0            0  \n",
      "     symbol                time     price  pct_change     volume\n",
      "0  TRUFUSDT 2024-09-28 12:48:00  0.075134         NaN  53.075096\n",
      "1  TRUFUSDT 2024-09-28 12:49:00  0.075134         0.0   0.000000\n"
     ]
    },
    {
     "name": "stderr",
     "output_type": "stream",
     "text": [
      " 50%|███████████████████████████████████████▋                                       | 590/1174 [06:02<05:29,  1.77it/s]"
     ]
    },
    {
     "name": "stdout",
     "output_type": "stream",
     "text": [
      "    close     created_at    high     low   market    open    value volume\n",
      "0  0.4206  1727527680000  0.4206  0.4206  POLUSDT  0.4206   2.3133    5.5\n",
      "1  0.4209  1727527740000  0.4209  0.4209  POLUSDT  0.4209  2.48331    5.9\n",
      "    symbol                time   price  pct_change  volume\n",
      "0  POLUSDT 2024-09-28 12:48:00  0.4206         NaN     5.5\n",
      "1  POLUSDT 2024-09-28 12:49:00  0.4209    0.000713     5.9\n"
     ]
    },
    {
     "name": "stderr",
     "output_type": "stream",
     "text": [
      " 50%|███████████████████████████████████████▊                                       | 591/1174 [06:02<05:30,  1.76it/s]"
     ]
    },
    {
     "name": "stdout",
     "output_type": "stream",
     "text": [
      "      close     created_at      high       low   market      open  \\\n",
      "0  0.011303  1727527680000  0.011303   0.01129  VLXUSDT   0.01129   \n",
      "1  0.011303  1727527740000  0.011303  0.011303  VLXUSDT  0.011303   \n",
      "\n",
      "              value        volume  \n",
      "0  2.45418335309573  217.25437961  \n",
      "1                 0             0  \n",
      "    symbol                time     price  pct_change     volume\n",
      "0  VLXUSDT 2024-09-28 12:48:00  0.011303         NaN  217.25438\n",
      "1  VLXUSDT 2024-09-28 12:49:00  0.011303         0.0    0.00000\n"
     ]
    },
    {
     "name": "stderr",
     "output_type": "stream",
     "text": [
      " 50%|███████████████████████████████████████▊                                       | 592/1174 [06:03<05:39,  1.71it/s]"
     ]
    },
    {
     "name": "stdout",
     "output_type": "stream",
     "text": [
      "    close     created_at    high     low   market    open     value volume\n",
      "0  1.7516  1727527680000  1.7516  1.7516  BARUSDT  1.7516  2.031856   1.16\n",
      "1  1.7526  1727527740000  1.7526  1.7526  BARUSDT  1.7526  1.945386   1.11\n",
      "    symbol                time   price  pct_change  volume\n",
      "0  BARUSDT 2024-09-28 12:48:00  1.7516         NaN    1.16\n",
      "1  BARUSDT 2024-09-28 12:49:00  1.7526    0.000571    1.11\n"
     ]
    },
    {
     "name": "stderr",
     "output_type": "stream",
     "text": [
      " 51%|███████████████████████████████████████▉                                       | 593/1174 [06:03<05:37,  1.72it/s]"
     ]
    },
    {
     "name": "stdout",
     "output_type": "stream",
     "text": [
      "    close     created_at    high     low   market    open     value volume\n",
      "0  1.7037  1727527680000  1.7037  1.7037  LYXUSDT  1.7037         0      0\n",
      "1  1.7043  1727527740000  1.7043  1.7043  LYXUSDT  1.7043  2.011074   1.18\n",
      "    symbol                time   price  pct_change  volume\n",
      "0  LYXUSDT 2024-09-28 12:48:00  1.7037         NaN    0.00\n",
      "1  LYXUSDT 2024-09-28 12:49:00  1.7043    0.000352    1.18\n"
     ]
    },
    {
     "name": "stderr",
     "output_type": "stream",
     "text": [
      " 51%|███████████████████████████████████████▉                                       | 594/1174 [06:04<05:29,  1.76it/s]"
     ]
    },
    {
     "name": "stdout",
     "output_type": "stream",
     "text": [
      "            close     created_at            high             low   market  \\\n",
      "0  0.000000430888  1727527680000  0.000000430902  0.000000430888  FUDUSDT   \n",
      "1  0.000000430888  1727527740000  0.000000430888  0.000000430888  FUDUSDT   \n",
      "\n",
      "             open             value       volume  \n",
      "0  0.000000430902  4.99413408997806  11590141.46  \n",
      "1  0.000000430888                 0            0  \n",
      "    symbol                time         price  pct_change       volume\n",
      "0  FUDUSDT 2024-09-28 12:48:00  4.308880e-07         NaN  11590141.46\n",
      "1  FUDUSDT 2024-09-28 12:49:00  4.308880e-07         0.0         0.00\n"
     ]
    },
    {
     "name": "stderr",
     "output_type": "stream",
     "text": [
      " 51%|████████████████████████████████████████                                       | 595/1174 [06:04<05:29,  1.76it/s]"
     ]
    },
    {
     "name": "stdout",
     "output_type": "stream",
     "text": [
      "    close     created_at    high     low   market    open           value  \\\n",
      "0  0.2262  1727527680000  0.2262  0.2255  BUZUSDT  0.2255  15.73212253362   \n",
      "1  0.2262  1727527740000  0.2262  0.2262  BUZUSDT  0.2262               0   \n",
      "\n",
      "        volume  \n",
      "0  69.56590924  \n",
      "1            0  \n",
      "    symbol                time   price  pct_change     volume\n",
      "0  BUZUSDT 2024-09-28 12:48:00  0.2262         NaN  69.565909\n",
      "1  BUZUSDT 2024-09-28 12:49:00  0.2262         0.0   0.000000\n"
     ]
    },
    {
     "name": "stderr",
     "output_type": "stream",
     "text": [
      " 51%|████████████████████████████████████████                                       | 596/1174 [06:05<05:28,  1.76it/s]"
     ]
    },
    {
     "name": "stdout",
     "output_type": "stream",
     "text": [
      "    close     created_at    high     low     market    open     value volume\n",
      "0  0.3417  1727527680000  0.3417  0.3417  PONKEUSDT  0.3417   1.98186    5.8\n",
      "1  0.3415  1727527740000  0.3415  0.3415  PONKEUSDT  0.3415  1.929475   5.65\n",
      "      symbol                time   price  pct_change  volume\n",
      "0  PONKEUSDT 2024-09-28 12:48:00  0.3417         NaN    5.80\n",
      "1  PONKEUSDT 2024-09-28 12:49:00  0.3415   -0.000585    5.65\n"
     ]
    },
    {
     "name": "stderr",
     "output_type": "stream",
     "text": [
      " 51%|████████████████████████████████████████▏                                      | 597/1174 [06:06<05:26,  1.77it/s]"
     ]
    },
    {
     "name": "stdout",
     "output_type": "stream",
     "text": [
      "      close     created_at      high       low   market      open      value  \\\n",
      "0  0.045077  1727527680000  0.045077  0.045077  RWAUSDT  0.045077  2.5468505   \n",
      "1  0.045077  1727527740000  0.045077  0.045077  RWAUSDT  0.045077  2.5919275   \n",
      "\n",
      "  volume  \n",
      "0   56.5  \n",
      "1   57.5  \n",
      "    symbol                time     price  pct_change  volume\n",
      "0  RWAUSDT 2024-09-28 12:48:00  0.045077         NaN    56.5\n",
      "1  RWAUSDT 2024-09-28 12:49:00  0.045077         0.0    57.5\n"
     ]
    },
    {
     "name": "stderr",
     "output_type": "stream",
     "text": [
      " 51%|████████████████████████████████████████▏                                      | 598/1174 [06:06<05:26,  1.76it/s]"
     ]
    },
    {
     "name": "stdout",
     "output_type": "stream",
     "text": [
      "        close     created_at        high         low    market        open  \\\n",
      "0  0.00152942  1727527680000  0.00152942  0.00152942  CSASUSDT  0.00152942   \n",
      "1  0.00152819  1727527740000  0.00152819  0.00152819  CSASUSDT  0.00152819   \n",
      "\n",
      "       value volume  \n",
      "0  1.7894214   1170  \n",
      "1  1.7879823   1170  \n",
      "     symbol                time     price  pct_change  volume\n",
      "0  CSASUSDT 2024-09-28 12:48:00  0.001529         NaN  1170.0\n",
      "1  CSASUSDT 2024-09-28 12:49:00  0.001528   -0.000805  1170.0\n"
     ]
    },
    {
     "name": "stderr",
     "output_type": "stream",
     "text": [
      " 51%|████████████████████████████████████████▎                                      | 599/1174 [06:07<05:32,  1.73it/s]"
     ]
    },
    {
     "name": "stdout",
     "output_type": "stream",
     "text": [
      "          close     created_at          high           low       market  \\\n",
      "0  0.0000011868  1727527680000  0.0000011868  0.0000011868  PAWZONEUSDT   \n",
      "1  0.0000011871  1727527740000  0.0000011871  0.0000011871  PAWZONEUSDT   \n",
      "\n",
      "           open     value   volume  \n",
      "0  0.0000011868  1.400424  1180000  \n",
      "1  0.0000011871  1.388907  1170000  \n",
      "        symbol                time     price  pct_change     volume\n",
      "0  PAWZONEUSDT 2024-09-28 12:48:00  0.000001         NaN  1180000.0\n",
      "1  PAWZONEUSDT 2024-09-28 12:49:00  0.000001    0.000253  1170000.0\n"
     ]
    },
    {
     "name": "stderr",
     "output_type": "stream",
     "text": [
      " 51%|████████████████████████████████████████▎                                      | 600/1174 [06:07<05:26,  1.76it/s]"
     ]
    },
    {
     "name": "stdout",
     "output_type": "stream",
     "text": [
      "     close     created_at     high      low     market     open  \\\n",
      "0  0.00176  1727527680000  0.00176  0.00176  JASONUSDT  0.00176   \n",
      "1  0.00176  1727527740000  0.00176  0.00176  JASONUSDT  0.00176   \n",
      "\n",
      "             value         volume  \n",
      "0  3.7792568318208  2147.30501808  \n",
      "1                0              0  \n",
      "      symbol                time    price  pct_change       volume\n",
      "0  JASONUSDT 2024-09-28 12:48:00  0.00176         NaN  2147.305018\n",
      "1  JASONUSDT 2024-09-28 12:49:00  0.00176         0.0     0.000000\n"
     ]
    },
    {
     "name": "stderr",
     "output_type": "stream",
     "text": [
      " 51%|████████████████████████████████████████▍                                      | 601/1174 [06:08<05:26,  1.76it/s]"
     ]
    },
    {
     "name": "stdout",
     "output_type": "stream",
     "text": [
      "      close     created_at      high       low    market      open      value  \\\n",
      "0  0.142161  1727527680000  0.142161  0.142161  CTSIUSDT  0.142161  1.6206354   \n",
      "1  0.142075  1727527740000  0.142075  0.142075  CTSIUSDT  0.142075  1.6906925   \n",
      "\n",
      "  volume  \n",
      "0   11.4  \n",
      "1   11.9  \n",
      "     symbol                time     price  pct_change  volume\n",
      "0  CTSIUSDT 2024-09-28 12:48:00  0.142161         NaN    11.4\n",
      "1  CTSIUSDT 2024-09-28 12:49:00  0.142075   -0.000605    11.9\n"
     ]
    },
    {
     "name": "stderr",
     "output_type": "stream",
     "text": [
      " 51%|████████████████████████████████████████▌                                      | 602/1174 [06:08<05:26,  1.75it/s]"
     ]
    },
    {
     "name": "stdout",
     "output_type": "stream",
     "text": [
      "    close     created_at    high     low   market    open     value volume\n",
      "0  5.0944  1727527680000  5.0944  5.0944  FLXUSDT  5.0944  2.980224  0.585\n",
      "1  5.0924  1727527740000  5.0924  5.0924  FLXUSDT  5.0924  2.902668   0.57\n",
      "    symbol                time   price  pct_change  volume\n",
      "0  FLXUSDT 2024-09-28 12:48:00  5.0944         NaN   0.585\n",
      "1  FLXUSDT 2024-09-28 12:49:00  5.0924   -0.000393   0.570\n"
     ]
    },
    {
     "name": "stderr",
     "output_type": "stream",
     "text": [
      " 51%|████████████████████████████████████████▌                                      | 603/1174 [06:09<05:30,  1.73it/s]"
     ]
    },
    {
     "name": "stdout",
     "output_type": "stream",
     "text": [
      "    close     created_at    high     low    market    open     value volume\n",
      "0  1.1943  1727527680000  1.1943  1.1943  INSTUSDT  1.1943  1.325673   1.11\n",
      "1  1.1941  1727527740000  1.1941  1.1941  INSTUSDT  1.1941  1.420979   1.19\n",
      "     symbol                time   price  pct_change  volume\n",
      "0  INSTUSDT 2024-09-28 12:48:00  1.1943         NaN    1.11\n",
      "1  INSTUSDT 2024-09-28 12:49:00  1.1941   -0.000167    1.19\n"
     ]
    },
    {
     "name": "stderr",
     "output_type": "stream",
     "text": [
      " 51%|████████████████████████████████████████▋                                      | 604/1174 [06:10<05:42,  1.66it/s]"
     ]
    },
    {
     "name": "stdout",
     "output_type": "stream",
     "text": [
      "    close     created_at    high     low    market    open           value  \\\n",
      "0  0.6787  1727527680000  0.6787  0.6777  CATIUSDT  0.6777  34.22944884385   \n",
      "1  0.6789  1727527740000  0.6789  0.6789  CATIUSDT  0.6789        4.039455   \n",
      "\n",
      "       volume  \n",
      "0  50.4425355  \n",
      "1        5.95  \n",
      "     symbol                time   price  pct_change     volume\n",
      "0  CATIUSDT 2024-09-28 12:48:00  0.6787         NaN  50.442535\n",
      "1  CATIUSDT 2024-09-28 12:49:00  0.6789    0.000295   5.950000\n"
     ]
    },
    {
     "name": "stderr",
     "output_type": "stream",
     "text": [
      " 52%|████████████████████████████████████████▋                                      | 605/1174 [06:10<05:59,  1.58it/s]"
     ]
    },
    {
     "name": "stdout",
     "output_type": "stream",
     "text": [
      "      close     created_at      high       low   market      open     value  \\\n",
      "0  0.042116  1727527680000  0.042116  0.042116  NRNUSDT  0.042116  2.358496   \n",
      "1  0.042082  1727527740000  0.042082  0.042082  NRNUSDT  0.042082  2.503879   \n",
      "\n",
      "  volume  \n",
      "0     56  \n",
      "1   59.5  \n",
      "    symbol                time     price  pct_change  volume\n",
      "0  NRNUSDT 2024-09-28 12:48:00  0.042116         NaN    56.0\n",
      "1  NRNUSDT 2024-09-28 12:49:00  0.042082   -0.000808    59.5\n"
     ]
    },
    {
     "name": "stderr",
     "output_type": "stream",
     "text": [
      " 52%|████████████████████████████████████████▊                                      | 606/1174 [06:11<05:51,  1.61it/s]"
     ]
    },
    {
     "name": "stdout",
     "output_type": "stream",
     "text": [
      "    close     created_at    high     low   market    open    value volume\n",
      "0  0.2893  1727527680000  0.2893  0.2893  PNGUSDT  0.2893  1.59115    5.5\n",
      "1  0.2894  1727527740000  0.2894  0.2894  PNGUSDT  0.2894  1.62064    5.6\n",
      "    symbol                time   price  pct_change  volume\n",
      "0  PNGUSDT 2024-09-28 12:48:00  0.2893         NaN     5.5\n",
      "1  PNGUSDT 2024-09-28 12:49:00  0.2894    0.000346     5.6\n"
     ]
    },
    {
     "name": "stderr",
     "output_type": "stream",
     "text": [
      " 52%|████████████████████████████████████████▊                                      | 607/1174 [06:12<05:47,  1.63it/s]"
     ]
    },
    {
     "name": "stdout",
     "output_type": "stream",
     "text": [
      "      close     created_at      high       low    market      open      value  \\\n",
      "0  0.062147  1727527680000  0.062147  0.062147  NSTRUSDT  0.062147   3.666673   \n",
      "1  0.062153  1727527740000  0.062153  0.062153  NSTRUSDT  0.062153  3.6981035   \n",
      "\n",
      "  volume  \n",
      "0     59  \n",
      "1   59.5  \n",
      "     symbol                time     price  pct_change  volume\n",
      "0  NSTRUSDT 2024-09-28 12:48:00  0.062147         NaN    59.0\n",
      "1  NSTRUSDT 2024-09-28 12:49:00  0.062153    0.000097    59.5\n"
     ]
    },
    {
     "name": "stderr",
     "output_type": "stream",
     "text": [
      " 52%|████████████████████████████████████████▉                                      | 608/1174 [06:12<05:37,  1.68it/s]"
     ]
    },
    {
     "name": "stdout",
     "output_type": "stream",
     "text": [
      "    close     created_at    high     low   market    open    value volume\n",
      "0  0.3152  1727527680000  0.3152  0.3152  MAXUSDT  0.3152  1.82816    5.8\n",
      "1  0.3152  1727527740000  0.3152  0.3152  MAXUSDT  0.3152  1.79664    5.7\n",
      "    symbol                time   price  pct_change  volume\n",
      "0  MAXUSDT 2024-09-28 12:48:00  0.3152         NaN     5.8\n",
      "1  MAXUSDT 2024-09-28 12:49:00  0.3152         0.0     5.7\n"
     ]
    },
    {
     "name": "stderr",
     "output_type": "stream",
     "text": [
      " 52%|████████████████████████████████████████▉                                      | 609/1174 [06:13<05:31,  1.71it/s]"
     ]
    },
    {
     "name": "stdout",
     "output_type": "stream",
     "text": [
      "     close     created_at     high      low  market     open      value  \\\n",
      "0  22.3752  1727527680000  22.3752  22.3752  ARUSDT  22.3752  1.2418236   \n",
      "1  22.3996  1727527740000  22.3996  22.3996  ARUSDT  22.3996  1.2431778   \n",
      "\n",
      "   volume  \n",
      "0  0.0555  \n",
      "1  0.0555  \n",
      "   symbol                time    price  pct_change  volume\n",
      "0  ARUSDT 2024-09-28 12:48:00  22.3752         NaN  0.0555\n",
      "1  ARUSDT 2024-09-28 12:49:00  22.3996     0.00109  0.0555\n"
     ]
    },
    {
     "name": "stderr",
     "output_type": "stream",
     "text": [
      " 52%|█████████████████████████████████████████                                      | 610/1174 [06:13<05:24,  1.74it/s]"
     ]
    },
    {
     "name": "stdout",
     "output_type": "stream",
     "text": [
      "        close     created_at        high         low    market        open  \\\n",
      "0  0.00048773  1727527680000  0.00048773  0.00048773  BENDUSDT  0.00048773   \n",
      "1  0.00048773  1727527740000  0.00048773  0.00048773  BENDUSDT  0.00048773   \n",
      "\n",
      "       value volume  \n",
      "0  2.7069015   5550  \n",
      "1  2.8532205   5850  \n",
      "     symbol                time     price  pct_change  volume\n",
      "0  BENDUSDT 2024-09-28 12:48:00  0.000488         NaN  5550.0\n",
      "1  BENDUSDT 2024-09-28 12:49:00  0.000488         0.0  5850.0\n"
     ]
    },
    {
     "name": "stderr",
     "output_type": "stream",
     "text": [
      " 52%|█████████████████████████████████████████                                      | 611/1174 [06:14<05:29,  1.71it/s]"
     ]
    },
    {
     "name": "stdout",
     "output_type": "stream",
     "text": [
      "     close     created_at     high      low    market     open  \\\n",
      "0  0.05561  1727527680000  0.05561  0.05561  NOTEUSDT  0.05561   \n",
      "1  0.05561  1727527740000  0.05561  0.05561  NOTEUSDT  0.05561   \n",
      "\n",
      "             value       volume  \n",
      "0  3.1845321021409  57.26545769  \n",
      "1                0            0  \n",
      "     symbol                time    price  pct_change     volume\n",
      "0  NOTEUSDT 2024-09-28 12:48:00  0.05561         NaN  57.265458\n",
      "1  NOTEUSDT 2024-09-28 12:49:00  0.05561         0.0   0.000000\n"
     ]
    },
    {
     "name": "stderr",
     "output_type": "stream",
     "text": [
      " 52%|█████████████████████████████████████████▏                                     | 612/1174 [06:14<05:22,  1.74it/s]"
     ]
    },
    {
     "name": "stdout",
     "output_type": "stream",
     "text": [
      "        close     created_at        high         low    market        open  \\\n",
      "0  0.00139459  1727527680000  0.00139459  0.00139459  DUKOUSDT  0.00139459   \n",
      "1  0.00139417  1727527740000  0.00139417  0.00139417  DUKOUSDT  0.00139417   \n",
      "\n",
      "       value volume  \n",
      "0  1.6595621   1190  \n",
      "1  1.5614704   1120  \n",
      "     symbol                time     price  pct_change  volume\n",
      "0  DUKOUSDT 2024-09-28 12:48:00  0.001395         NaN  1190.0\n",
      "1  DUKOUSDT 2024-09-28 12:49:00  0.001394   -0.000301  1120.0\n"
     ]
    },
    {
     "name": "stderr",
     "output_type": "stream",
     "text": [
      " 52%|█████████████████████████████████████████▏                                     | 613/1174 [06:15<05:19,  1.75it/s]"
     ]
    },
    {
     "name": "stdout",
     "output_type": "stream",
     "text": [
      "    close     created_at    high     low    market    open     value volume\n",
      "0   1.408  1727527680000   1.408   1.408  DEROUSDT   1.408    1.6192   1.15\n",
      "1  1.4071  1727527740000  1.4071  1.4071  DEROUSDT  1.4071  1.632236   1.16\n",
      "     symbol                time   price  pct_change  volume\n",
      "0  DEROUSDT 2024-09-28 12:48:00  1.4080         NaN    1.15\n",
      "1  DEROUSDT 2024-09-28 12:49:00  1.4071   -0.000639    1.16\n"
     ]
    },
    {
     "name": "stderr",
     "output_type": "stream",
     "text": [
      " 52%|█████████████████████████████████████████▎                                     | 614/1174 [06:15<05:20,  1.75it/s]"
     ]
    },
    {
     "name": "stdout",
     "output_type": "stream",
     "text": [
      "        close     created_at        high         low   market        open  \\\n",
      "0  0.00076388  1727527680000  0.00076388  0.00076388  KANUSDT  0.00076388   \n",
      "1  0.00076395  1727527740000  0.00076395  0.00076395  KANUSDT  0.00076395   \n",
      "\n",
      "       value volume  \n",
      "0   4.277728   5600  \n",
      "1  4.3163175   5650  \n",
      "    symbol                time     price  pct_change  volume\n",
      "0  KANUSDT 2024-09-28 12:48:00  0.000764         NaN  5600.0\n",
      "1  KANUSDT 2024-09-28 12:49:00  0.000764    0.000092  5650.0\n"
     ]
    },
    {
     "name": "stderr",
     "output_type": "stream",
     "text": [
      " 52%|█████████████████████████████████████████▍                                     | 615/1174 [06:16<05:19,  1.75it/s]"
     ]
    },
    {
     "name": "stdout",
     "output_type": "stream",
     "text": [
      "    close     created_at    high     low    market    open     value volume\n",
      "0  2.1615  1727527680000  2.1615  2.1615  ORCAUSDT  2.1615  2.528955   1.17\n",
      "1  2.1611  1727527740000  2.1611  2.1611  ORCAUSDT  2.1611  2.398821   1.11\n",
      "     symbol                time   price  pct_change  volume\n",
      "0  ORCAUSDT 2024-09-28 12:48:00  2.1615         NaN    1.17\n",
      "1  ORCAUSDT 2024-09-28 12:49:00  2.1611   -0.000185    1.11\n"
     ]
    },
    {
     "name": "stderr",
     "output_type": "stream",
     "text": [
      " 52%|█████████████████████████████████████████▍                                     | 616/1174 [06:17<05:19,  1.75it/s]"
     ]
    },
    {
     "name": "stdout",
     "output_type": "stream",
     "text": [
      "    close     created_at    high     low   market    open    value volume\n",
      "0  0.7432  1727527680000  0.7432  0.7432  SFPUSDT  0.7432  4.38488    5.9\n",
      "1  0.7425  1727527740000  0.7425  0.7425  SFPUSDT  0.7425  4.23225    5.7\n",
      "    symbol                time   price  pct_change  volume\n",
      "0  SFPUSDT 2024-09-28 12:48:00  0.7432         NaN     5.9\n",
      "1  SFPUSDT 2024-09-28 12:49:00  0.7425   -0.000942     5.7\n"
     ]
    },
    {
     "name": "stderr",
     "output_type": "stream",
     "text": [
      " 53%|█████████████████████████████████████████▌                                     | 617/1174 [06:17<05:14,  1.77it/s]"
     ]
    },
    {
     "name": "stdout",
     "output_type": "stream",
     "text": [
      "      close     created_at      high       low    market      open     value  \\\n",
      "0  0.072956  1727527680000  0.072956  0.072956  NIBIUSDT  0.072956   4.19497   \n",
      "1   0.07289  1727527740000   0.07289   0.07289  NIBIUSDT   0.07289  4.264065   \n",
      "\n",
      "  volume  \n",
      "0   57.5  \n",
      "1   58.5  \n",
      "     symbol                time     price  pct_change  volume\n",
      "0  NIBIUSDT 2024-09-28 12:48:00  0.072956         NaN    57.5\n",
      "1  NIBIUSDT 2024-09-28 12:49:00  0.072890   -0.000905    58.5\n"
     ]
    },
    {
     "name": "stderr",
     "output_type": "stream",
     "text": [
      " 53%|█████████████████████████████████████████▌                                     | 618/1174 [06:18<05:16,  1.76it/s]"
     ]
    },
    {
     "name": "stdout",
     "output_type": "stream",
     "text": [
      "            close     created_at            high             low    market  \\\n",
      "0  0.000000022841  1727527680000  0.000000022841  0.000000022841  FISHUSDT   \n",
      "1  0.000000022841  1727527740000  0.000000022841  0.000000022841  FISHUSDT   \n",
      "\n",
      "             open      value    volume  \n",
      "0  0.000000022841   1.301937  57000000  \n",
      "1  0.000000022841  1.3590395  59500000  \n",
      "     symbol                time         price  pct_change      volume\n",
      "0  FISHUSDT 2024-09-28 12:48:00  2.284100e-08         NaN  57000000.0\n",
      "1  FISHUSDT 2024-09-28 12:49:00  2.284100e-08         0.0  59500000.0\n"
     ]
    },
    {
     "name": "stderr",
     "output_type": "stream",
     "text": [
      " 53%|█████████████████████████████████████████▋                                     | 619/1174 [06:18<05:13,  1.77it/s]"
     ]
    },
    {
     "name": "stdout",
     "output_type": "stream",
     "text": [
      "    close     created_at    high     low   market    open    value volume\n",
      "0  0.3686  1727527680000  0.3686  0.3686  FLTUSDT  0.3686  2.13788    5.8\n",
      "1  0.3684  1727527740000  0.3684  0.3684  FLTUSDT  0.3684  2.04462   5.55\n",
      "    symbol                time   price  pct_change  volume\n",
      "0  FLTUSDT 2024-09-28 12:48:00  0.3686         NaN    5.80\n",
      "1  FLTUSDT 2024-09-28 12:49:00  0.3684   -0.000543    5.55\n"
     ]
    },
    {
     "name": "stderr",
     "output_type": "stream",
     "text": [
      " 53%|█████████████████████████████████████████▋                                     | 620/1174 [06:19<05:13,  1.77it/s]"
     ]
    },
    {
     "name": "stdout",
     "output_type": "stream",
     "text": [
      "   close     created_at   high    low      market   open    value  volume\n",
      "0   35.1  1727527680000   35.1   35.1  KWENTAUSDT   35.1  1.98315  0.0565\n",
      "1  35.06  1727527740000  35.06  35.06  KWENTAUSDT  35.06  2.03348   0.058\n",
      "       symbol                time  price  pct_change  volume\n",
      "0  KWENTAUSDT 2024-09-28 12:48:00  35.10         NaN  0.0565\n",
      "1  KWENTAUSDT 2024-09-28 12:49:00  35.06    -0.00114  0.0580\n"
     ]
    },
    {
     "name": "stderr",
     "output_type": "stream",
     "text": [
      " 53%|█████████████████████████████████████████▊                                     | 621/1174 [06:19<05:11,  1.77it/s]"
     ]
    },
    {
     "name": "stdout",
     "output_type": "stream",
     "text": [
      "      close     created_at      high       low    market      open  \\\n",
      "0  0.023965  1727527680000  0.023965  0.023965  VITEUSDT  0.023965   \n",
      "1  0.023951  1727527740000  0.023965  0.023951  VITEUSDT  0.023965   \n",
      "\n",
      "              value        volume  \n",
      "0  2.59221611749755  108.16674807  \n",
      "1  2.70439275481441  112.88212935  \n",
      "     symbol                time     price  pct_change      volume\n",
      "0  VITEUSDT 2024-09-28 12:48:00  0.023965         NaN  108.166748\n",
      "1  VITEUSDT 2024-09-28 12:49:00  0.023951   -0.000584  112.882129\n"
     ]
    },
    {
     "name": "stderr",
     "output_type": "stream",
     "text": [
      " 53%|█████████████████████████████████████████▊                                     | 622/1174 [06:20<05:12,  1.77it/s]"
     ]
    },
    {
     "name": "stdout",
     "output_type": "stream",
     "text": [
      "    close     created_at    high     low    market    open    value volume\n",
      "0  0.4378  1727527680000  0.4378  0.4378  SEALUSDT  0.4378  2.58302    5.9\n",
      "1  0.4378  1727527740000  0.4378  0.4378  SEALUSDT  0.4378  2.49546    5.7\n",
      "     symbol                time   price  pct_change  volume\n",
      "0  SEALUSDT 2024-09-28 12:48:00  0.4378         NaN     5.9\n",
      "1  SEALUSDT 2024-09-28 12:49:00  0.4378         0.0     5.7\n"
     ]
    },
    {
     "name": "stderr",
     "output_type": "stream",
     "text": [
      " 53%|█████████████████████████████████████████▉                                     | 623/1174 [06:21<05:12,  1.76it/s]"
     ]
    },
    {
     "name": "stdout",
     "output_type": "stream",
     "text": [
      "      close     created_at      high       low    market      open  \\\n",
      "0  0.012532  1727527680000  0.012545  0.012532  ASTOUSDT  0.012545   \n",
      "1  0.012521  1727527740000  0.012521  0.012521  ASTOUSDT  0.012521   \n",
      "\n",
      "              value        volume  \n",
      "0  2.86428673832158  228.44481253  \n",
      "1  1.45372231563586  116.10273266  \n",
      "     symbol                time     price  pct_change      volume\n",
      "0  ASTOUSDT 2024-09-28 12:48:00  0.012532         NaN  228.444813\n",
      "1  ASTOUSDT 2024-09-28 12:49:00  0.012521   -0.000878  116.102733\n"
     ]
    },
    {
     "name": "stderr",
     "output_type": "stream",
     "text": [
      " 53%|█████████████████████████████████████████▉                                     | 624/1174 [06:21<05:08,  1.78it/s]"
     ]
    },
    {
     "name": "stdout",
     "output_type": "stream",
     "text": [
      "      close     created_at      high       low    market      open      value  \\\n",
      "0   0.08928  1727527680000   0.08928   0.08928  AZURUSDT   0.08928    5.31216   \n",
      "1  0.089351  1727527740000  0.089351  0.089351  AZURUSDT  0.089351  5.3163845   \n",
      "\n",
      "  volume  \n",
      "0   59.5  \n",
      "1   59.5  \n",
      "     symbol                time     price  pct_change  volume\n",
      "0  AZURUSDT 2024-09-28 12:48:00  0.089280         NaN    59.5\n",
      "1  AZURUSDT 2024-09-28 12:49:00  0.089351    0.000795    59.5\n"
     ]
    },
    {
     "name": "stderr",
     "output_type": "stream",
     "text": [
      " 53%|██████████████████████████████████████████                                     | 625/1174 [06:22<05:11,  1.76it/s]"
     ]
    },
    {
     "name": "stdout",
     "output_type": "stream",
     "text": [
      "      close     created_at      high       low     market      open  \\\n",
      "0   0.03294  1727527680000   0.03294   0.03294  DUREVUSDT   0.03294   \n",
      "1  0.032944  1727527740000  0.032944  0.032944  DUREVUSDT  0.032944   \n",
      "\n",
      "              value       volume  \n",
      "0   1.7120518073676  51.97485754  \n",
      "1  1.86498731331936  56.61083394  \n",
      "      symbol                time     price  pct_change     volume\n",
      "0  DUREVUSDT 2024-09-28 12:48:00  0.032940         NaN  51.974858\n",
      "1  DUREVUSDT 2024-09-28 12:49:00  0.032944    0.000121  56.610834\n"
     ]
    },
    {
     "name": "stderr",
     "output_type": "stream",
     "text": [
      " 53%|██████████████████████████████████████████                                     | 626/1174 [06:22<05:14,  1.74it/s]"
     ]
    },
    {
     "name": "stdout",
     "output_type": "stream",
     "text": [
      "    close     created_at    high     low    market    open      value volume\n",
      "0  1.5785  1727527680000  1.5785  1.5785  SEAMUSDT  1.5785  0.8760675  0.555\n",
      "1  1.5783  1727527740000  1.5783  1.5783  SEAMUSDT  1.5783  0.8759565  0.555\n",
      "     symbol                time   price  pct_change  volume\n",
      "0  SEAMUSDT 2024-09-28 12:48:00  1.5785         NaN   0.555\n",
      "1  SEAMUSDT 2024-09-28 12:49:00  1.5783   -0.000127   0.555\n"
     ]
    },
    {
     "name": "stderr",
     "output_type": "stream",
     "text": [
      " 53%|██████████████████████████████████████████▏                                    | 627/1174 [06:23<05:10,  1.76it/s]"
     ]
    },
    {
     "name": "stdout",
     "output_type": "stream",
     "text": [
      "      close     created_at      high       low   market      open     value  \\\n",
      "0  0.014029  1727527740000  0.014029  0.014029  HECUSDT  0.014029  1.599306   \n",
      "1  0.014029  1727527800000  0.014029  0.014029  HECUSDT  0.014029         0   \n",
      "\n",
      "  volume  \n",
      "0    114  \n",
      "1      0  \n",
      "    symbol                time     price  pct_change  volume\n",
      "0  HECUSDT 2024-09-28 12:49:00  0.014029         NaN   114.0\n",
      "1  HECUSDT 2024-09-28 12:50:00  0.014029         0.0     0.0\n"
     ]
    },
    {
     "name": "stderr",
     "output_type": "stream",
     "text": [
      " 53%|██████████████████████████████████████████▎                                    | 628/1174 [06:23<05:04,  1.79it/s]"
     ]
    },
    {
     "name": "stdout",
     "output_type": "stream",
     "text": [
      "      close     created_at      high       low   market      open     value  \\\n",
      "0  0.040354  1727527740000  0.040354  0.040354  FOXUSDT  0.040354  2.401063   \n",
      "1  0.040354  1727527800000  0.040354  0.040354  FOXUSDT  0.040354         0   \n",
      "\n",
      "  volume  \n",
      "0   59.5  \n",
      "1      0  \n",
      "    symbol                time     price  pct_change  volume\n",
      "0  FOXUSDT 2024-09-28 12:49:00  0.040354         NaN    59.5\n",
      "1  FOXUSDT 2024-09-28 12:50:00  0.040354         0.0     0.0\n"
     ]
    },
    {
     "name": "stderr",
     "output_type": "stream",
     "text": [
      " 54%|██████████████████████████████████████████▎                                    | 629/1174 [06:24<05:07,  1.77it/s]"
     ]
    },
    {
     "name": "stdout",
     "output_type": "stream",
     "text": [
      "    close     created_at    high     low   market    open     value volume\n",
      "0  0.3275  1727527740000  0.3275  0.3275  ONGUSDT  0.3275  1.883125   5.75\n",
      "1  0.3275  1727527800000  0.3275  0.3275  ONGUSDT  0.3275         0      0\n",
      "    symbol                time   price  pct_change  volume\n",
      "0  ONGUSDT 2024-09-28 12:49:00  0.3275         NaN    5.75\n",
      "1  ONGUSDT 2024-09-28 12:50:00  0.3275         0.0    0.00\n"
     ]
    },
    {
     "name": "stderr",
     "output_type": "stream",
     "text": [
      " 54%|██████████████████████████████████████████▍                                    | 630/1174 [06:25<05:12,  1.74it/s]"
     ]
    },
    {
     "name": "stdout",
     "output_type": "stream",
     "text": [
      "      close     created_at      high       low     market      open     value  \\\n",
      "0  0.070347  1727527740000  0.070347  0.070347  TFUELUSDT  0.070347  3.869085   \n",
      "1  0.070347  1727527800000  0.070347  0.070347  TFUELUSDT  0.070347         0   \n",
      "\n",
      "  volume  \n",
      "0     55  \n",
      "1      0  \n",
      "      symbol                time     price  pct_change  volume\n",
      "0  TFUELUSDT 2024-09-28 12:49:00  0.070347         NaN    55.0\n",
      "1  TFUELUSDT 2024-09-28 12:50:00  0.070347         0.0     0.0\n"
     ]
    },
    {
     "name": "stderr",
     "output_type": "stream",
     "text": [
      " 54%|██████████████████████████████████████████▍                                    | 631/1174 [06:25<05:07,  1.76it/s]"
     ]
    },
    {
     "name": "stdout",
     "output_type": "stream",
     "text": [
      "      close     created_at      high       low    market      open  \\\n",
      "0  0.000852  1727527740000  0.000852  0.000852  OPAIUSDT  0.000852   \n",
      "1  0.000852  1727527800000  0.000852  0.000852  OPAIUSDT  0.000852   \n",
      "\n",
      "              value         volume  \n",
      "0  4.36862049139884  5127.48883967  \n",
      "1                 0              0  \n",
      "     symbol                time     price  pct_change      volume\n",
      "0  OPAIUSDT 2024-09-28 12:49:00  0.000852         NaN  5127.48884\n",
      "1  OPAIUSDT 2024-09-28 12:50:00  0.000852         0.0     0.00000\n"
     ]
    },
    {
     "name": "stderr",
     "output_type": "stream",
     "text": [
      " 54%|██████████████████████████████████████████▌                                    | 632/1174 [06:26<05:08,  1.75it/s]"
     ]
    },
    {
     "name": "stdout",
     "output_type": "stream",
     "text": [
      "       close     created_at       high        low      market       open  \\\n",
      "0  0.0000404  1727527740000  0.0000404  0.0000404  ANALOSUSDT  0.0000404   \n",
      "1  0.0000404  1727527800000  0.0000404  0.0000404  ANALOSUSDT  0.0000404   \n",
      "\n",
      "    value volume  \n",
      "0  2.4038  59500  \n",
      "1       0      0  \n",
      "       symbol                time    price  pct_change   volume\n",
      "0  ANALOSUSDT 2024-09-28 12:49:00  0.00004         NaN  59500.0\n",
      "1  ANALOSUSDT 2024-09-28 12:50:00  0.00004         0.0      0.0\n"
     ]
    },
    {
     "name": "stderr",
     "output_type": "stream",
     "text": [
      " 54%|██████████████████████████████████████████▌                                    | 633/1174 [06:26<05:07,  1.76it/s]"
     ]
    },
    {
     "name": "stdout",
     "output_type": "stream",
     "text": [
      "            close     created_at            high             low     market  \\\n",
      "0  0.000000095132  1727527740000  0.000000095132  0.000000095132  LADYSUSDT   \n",
      "1  0.000000095132  1727527800000  0.000000095132  0.000000095132  LADYSUSDT   \n",
      "\n",
      "             open     value    volume  \n",
      "0  0.000000095132  5.422524  57000000  \n",
      "1  0.000000095132         0         0  \n",
      "      symbol                time         price  pct_change      volume\n",
      "0  LADYSUSDT 2024-09-28 12:49:00  9.513200e-08         NaN  57000000.0\n",
      "1  LADYSUSDT 2024-09-28 12:50:00  9.513200e-08         0.0         0.0\n"
     ]
    },
    {
     "name": "stderr",
     "output_type": "stream",
     "text": [
      " 54%|██████████████████████████████████████████▋                                    | 634/1174 [06:27<05:27,  1.65it/s]"
     ]
    },
    {
     "name": "stdout",
     "output_type": "stream",
     "text": [
      "      close     created_at      high       low   market      open     value  \\\n",
      "0  0.016067  1727527740000  0.016067  0.016067  SHUUSDT  0.016067  1.879839   \n",
      "1  0.016067  1727527800000  0.016067  0.016067  SHUUSDT  0.016067         0   \n",
      "\n",
      "  volume  \n",
      "0    117  \n",
      "1      0  \n",
      "    symbol                time     price  pct_change  volume\n",
      "0  SHUUSDT 2024-09-28 12:49:00  0.016067         NaN   117.0\n",
      "1  SHUUSDT 2024-09-28 12:50:00  0.016067         0.0     0.0\n"
     ]
    },
    {
     "name": "stderr",
     "output_type": "stream",
     "text": [
      " 54%|██████████████████████████████████████████▋                                    | 635/1174 [06:28<05:23,  1.66it/s]"
     ]
    },
    {
     "name": "stdout",
     "output_type": "stream",
     "text": [
      "    close     created_at    high     low    market    open    value volume\n",
      "0  0.3182  1727527740000  0.3182  0.3182  SDAOUSDT  0.3182  1.82965   5.75\n",
      "1  0.3182  1727527800000  0.3182  0.3182  SDAOUSDT  0.3182        0      0\n",
      "     symbol                time   price  pct_change  volume\n",
      "0  SDAOUSDT 2024-09-28 12:49:00  0.3182         NaN    5.75\n",
      "1  SDAOUSDT 2024-09-28 12:50:00  0.3182         0.0    0.00\n"
     ]
    },
    {
     "name": "stderr",
     "output_type": "stream",
     "text": [
      " 54%|██████████████████████████████████████████▊                                    | 636/1174 [06:28<05:22,  1.67it/s]"
     ]
    },
    {
     "name": "stdout",
     "output_type": "stream",
     "text": [
      "     close     created_at     high      low    market     open     value  \\\n",
      "0  0.33719  1727527740000  0.33719  0.33719  ZEUSUSDT  0.33719  1.955702   \n",
      "1  0.33719  1727527800000  0.33719  0.33719  ZEUSUSDT  0.33719         0   \n",
      "\n",
      "  volume  \n",
      "0    5.8  \n",
      "1      0  \n",
      "     symbol                time    price  pct_change  volume\n",
      "0  ZEUSUSDT 2024-09-28 12:49:00  0.33719         NaN     5.8\n",
      "1  ZEUSUSDT 2024-09-28 12:50:00  0.33719         0.0     0.0\n"
     ]
    },
    {
     "name": "stderr",
     "output_type": "stream",
     "text": [
      " 54%|██████████████████████████████████████████▊                                    | 637/1174 [06:29<05:18,  1.68it/s]"
     ]
    },
    {
     "name": "stdout",
     "output_type": "stream",
     "text": [
      "    close     created_at    high     low   market    open     value volume\n",
      "0  11.711  1727527740000  11.711  11.711  RPLUSDT  11.711  1.393609  0.119\n",
      "1  11.711  1727527800000  11.711  11.711  RPLUSDT  11.711         0      0\n",
      "    symbol                time   price  pct_change  volume\n",
      "0  RPLUSDT 2024-09-28 12:49:00  11.711         NaN   0.119\n",
      "1  RPLUSDT 2024-09-28 12:50:00  11.711         0.0   0.000\n"
     ]
    },
    {
     "name": "stderr",
     "output_type": "stream",
     "text": [
      " 54%|██████████████████████████████████████████▉                                    | 638/1174 [06:29<05:14,  1.70it/s]"
     ]
    },
    {
     "name": "stdout",
     "output_type": "stream",
     "text": [
      "      close     created_at      high       low   market      open  \\\n",
      "0  0.006211  1727527740000  0.006224  0.006211  MCGUSDT  0.006224   \n",
      "1  0.006211  1727527800000  0.006211  0.006211  MCGUSDT  0.006211   \n",
      "\n",
      "              value         volume  \n",
      "0  6.69404096565414  1076.66545293  \n",
      "1                 0              0  \n",
      "    symbol                time     price  pct_change       volume\n",
      "0  MCGUSDT 2024-09-28 12:49:00  0.006211         NaN  1076.665453\n",
      "1  MCGUSDT 2024-09-28 12:50:00  0.006211         0.0     0.000000\n"
     ]
    },
    {
     "name": "stderr",
     "output_type": "stream",
     "text": [
      " 54%|██████████████████████████████████████████▉                                    | 639/1174 [06:30<05:12,  1.71it/s]"
     ]
    },
    {
     "name": "stdout",
     "output_type": "stream",
     "text": [
      "      close     created_at      high       low    market      open  \\\n",
      "0  0.008364  1727527740000  0.008364  0.008364  FOXYUSDT  0.008364   \n",
      "1  0.008364  1727527800000  0.008364  0.008364  FOXYUSDT  0.008364   \n",
      "\n",
      "              value        volume  \n",
      "0  4.52634804318132  541.17025863  \n",
      "1                 0             0  \n",
      "     symbol                time     price  pct_change      volume\n",
      "0  FOXYUSDT 2024-09-28 12:49:00  0.008364         NaN  541.170259\n",
      "1  FOXYUSDT 2024-09-28 12:50:00  0.008364         0.0    0.000000\n"
     ]
    },
    {
     "name": "stderr",
     "output_type": "stream",
     "text": [
      " 55%|███████████████████████████████████████████                                    | 640/1174 [06:31<05:39,  1.57it/s]"
     ]
    },
    {
     "name": "stdout",
     "output_type": "stream",
     "text": [
      "      close     created_at      high       low   market      open    value  \\\n",
      "0  0.005825  1727527740000  0.005825  0.005825  XYOUSDT  0.005825  3.32025   \n",
      "1  0.005825  1727527800000  0.005825  0.005825  XYOUSDT  0.005825        0   \n",
      "\n",
      "  volume  \n",
      "0    570  \n",
      "1      0  \n",
      "    symbol                time     price  pct_change  volume\n",
      "0  XYOUSDT 2024-09-28 12:49:00  0.005825         NaN   570.0\n",
      "1  XYOUSDT 2024-09-28 12:50:00  0.005825         0.0     0.0\n"
     ]
    },
    {
     "name": "stderr",
     "output_type": "stream",
     "text": [
      " 55%|███████████████████████████████████████████▏                                   | 641/1174 [06:31<05:25,  1.64it/s]"
     ]
    },
    {
     "name": "stdout",
     "output_type": "stream",
     "text": [
      "    close     created_at    high     low    market    open    value volume\n",
      "0  0.2264  1727527740000  0.2264  0.2264  SCRTUSDT  0.2264  1.31312    5.8\n",
      "1  0.2264  1727527800000  0.2264  0.2264  SCRTUSDT  0.2264        0      0\n",
      "     symbol                time   price  pct_change  volume\n",
      "0  SCRTUSDT 2024-09-28 12:49:00  0.2264         NaN     5.8\n",
      "1  SCRTUSDT 2024-09-28 12:50:00  0.2264         0.0     0.0\n"
     ]
    },
    {
     "name": "stderr",
     "output_type": "stream",
     "text": [
      " 55%|███████████████████████████████████████████▏                                   | 642/1174 [06:32<05:22,  1.65it/s]"
     ]
    },
    {
     "name": "stdout",
     "output_type": "stream",
     "text": [
      "      close     created_at      high       low   market      open      value  \\\n",
      "0  0.161376  1727527740000  0.161376  0.161376  OVRUSDT  0.161376  1.9042368   \n",
      "1  0.161376  1727527800000  0.161376  0.161376  OVRUSDT  0.161376          0   \n",
      "\n",
      "  volume  \n",
      "0   11.8  \n",
      "1      0  \n",
      "    symbol                time     price  pct_change  volume\n",
      "0  OVRUSDT 2024-09-28 12:49:00  0.161376         NaN    11.8\n",
      "1  OVRUSDT 2024-09-28 12:50:00  0.161376         0.0     0.0\n"
     ]
    },
    {
     "name": "stderr",
     "output_type": "stream",
     "text": [
      " 55%|███████████████████████████████████████████▎                                   | 643/1174 [06:32<05:18,  1.67it/s]"
     ]
    },
    {
     "name": "stdout",
     "output_type": "stream",
     "text": [
      "      close     created_at      high       low    market      open  \\\n",
      "0  0.034609  1727527740000  0.034609  0.034609  MUBIUSDT  0.034609   \n",
      "1  0.034609  1727527800000  0.034609  0.034609  MUBIUSDT  0.034609   \n",
      "\n",
      "              value       volume  \n",
      "0  1.79632295951103  51.90334767  \n",
      "1                 0            0  \n",
      "     symbol                time     price  pct_change     volume\n",
      "0  MUBIUSDT 2024-09-28 12:49:00  0.034609         NaN  51.903348\n",
      "1  MUBIUSDT 2024-09-28 12:50:00  0.034609         0.0   0.000000\n"
     ]
    },
    {
     "name": "stderr",
     "output_type": "stream",
     "text": [
      " 55%|███████████████████████████████████████████▎                                   | 644/1174 [06:33<05:12,  1.69it/s]"
     ]
    },
    {
     "name": "stdout",
     "output_type": "stream",
     "text": [
      "    close     created_at    high     low   market    open     value volume\n",
      "0  2.3303  1727527740000  2.3303  2.3303  TAPUSDT  2.3303  2.749754   1.18\n",
      "1  2.3303  1727527800000  2.3303  2.3303  TAPUSDT  2.3303         0      0\n",
      "    symbol                time   price  pct_change  volume\n",
      "0  TAPUSDT 2024-09-28 12:49:00  2.3303         NaN    1.18\n",
      "1  TAPUSDT 2024-09-28 12:50:00  2.3303         0.0    0.00\n"
     ]
    },
    {
     "name": "stderr",
     "output_type": "stream",
     "text": [
      " 55%|███████████████████████████████████████████▍                                   | 645/1174 [06:33<05:07,  1.72it/s]"
     ]
    },
    {
     "name": "stdout",
     "output_type": "stream",
     "text": [
      "    close     created_at    high     low   market    open     value volume\n",
      "0  0.7771  1727527740000  0.7771  0.7771  ARGUSDT  0.7771  4.390615   5.65\n",
      "1  0.7771  1727527800000  0.7771  0.7771  ARGUSDT  0.7771         0      0\n",
      "    symbol                time   price  pct_change  volume\n",
      "0  ARGUSDT 2024-09-28 12:49:00  0.7771         NaN    5.65\n",
      "1  ARGUSDT 2024-09-28 12:50:00  0.7771         0.0    0.00\n"
     ]
    },
    {
     "name": "stderr",
     "output_type": "stream",
     "text": [
      " 55%|███████████████████████████████████████████▍                                   | 646/1174 [06:34<05:07,  1.72it/s]"
     ]
    },
    {
     "name": "stdout",
     "output_type": "stream",
     "text": [
      "   close     created_at   high    low    market   open    value volume\n",
      "0  48.51  1727527740000  48.51  48.51  COMPUSDT  48.51  2.76507  0.057\n",
      "1  48.51  1727527800000  48.51  48.51  COMPUSDT  48.51        0      0\n",
      "     symbol                time  price  pct_change  volume\n",
      "0  COMPUSDT 2024-09-28 12:49:00  48.51         NaN   0.057\n",
      "1  COMPUSDT 2024-09-28 12:50:00  48.51         0.0   0.000\n"
     ]
    },
    {
     "name": "stderr",
     "output_type": "stream",
     "text": [
      " 55%|███████████████████████████████████████████▌                                   | 647/1174 [06:35<05:02,  1.74it/s]"
     ]
    },
    {
     "name": "stdout",
     "output_type": "stream",
     "text": [
      "        close     created_at        high         low   market        open  \\\n",
      "0  0.00054691  1727527740000  0.00054691  0.00054691  DFLUSDT  0.00054691   \n",
      "1  0.00054691  1727527800000  0.00054691  0.00054691  DFLUSDT  0.00054691   \n",
      "\n",
      "      value volume  \n",
      "0  3.226769   5900  \n",
      "1         0      0  \n",
      "    symbol                time     price  pct_change  volume\n",
      "0  DFLUSDT 2024-09-28 12:49:00  0.000547         NaN  5900.0\n",
      "1  DFLUSDT 2024-09-28 12:50:00  0.000547         0.0     0.0\n"
     ]
    },
    {
     "name": "stderr",
     "output_type": "stream",
     "text": [
      " 55%|███████████████████████████████████████████▌                                   | 648/1174 [06:35<05:02,  1.74it/s]"
     ]
    },
    {
     "name": "stdout",
     "output_type": "stream",
     "text": [
      "         close     created_at         high          low    market  \\\n",
      "0  0.000023402  1727527740000  0.000023402  0.000023402  BONKUSDT   \n",
      "1  0.000023402  1727527800000  0.000023402  0.000023402  BONKUSDT   \n",
      "\n",
      "          open     value  volume  \n",
      "0  0.000023402  2.738034  117000  \n",
      "1  0.000023402         0       0  \n",
      "     symbol                time     price  pct_change    volume\n",
      "0  BONKUSDT 2024-09-28 12:49:00  0.000023         NaN  117000.0\n",
      "1  BONKUSDT 2024-09-28 12:50:00  0.000023         0.0       0.0\n"
     ]
    },
    {
     "name": "stderr",
     "output_type": "stream",
     "text": [
      " 55%|███████████████████████████████████████████▋                                   | 649/1174 [06:36<05:05,  1.72it/s]"
     ]
    },
    {
     "name": "stdout",
     "output_type": "stream",
     "text": [
      "      close     created_at      high       low     market      open  \\\n",
      "0  0.188953  1727527740000  0.188953  0.188953  MICHIUSDT  0.188953   \n",
      "1  0.188953  1727527800000  0.188953  0.188953  MICHIUSDT  0.188953   \n",
      "\n",
      "       value volume  \n",
      "0  2.1351689   11.3  \n",
      "1          0      0  \n",
      "      symbol                time     price  pct_change  volume\n",
      "0  MICHIUSDT 2024-09-28 12:49:00  0.188953         NaN    11.3\n",
      "1  MICHIUSDT 2024-09-28 12:50:00  0.188953         0.0     0.0\n"
     ]
    },
    {
     "name": "stderr",
     "output_type": "stream",
     "text": [
      " 55%|███████████████████████████████████████████▋                                   | 650/1174 [06:36<05:04,  1.72it/s]"
     ]
    },
    {
     "name": "stdout",
     "output_type": "stream",
     "text": [
      "    close     created_at    high     low    market    open     value volume\n",
      "0  1.0514  1727527740000  1.0514  1.0514  DYDXUSDT  1.0514  1.167054   1.11\n",
      "1  1.0514  1727527800000  1.0514  1.0514  DYDXUSDT  1.0514         0      0\n",
      "     symbol                time   price  pct_change  volume\n",
      "0  DYDXUSDT 2024-09-28 12:49:00  1.0514         NaN    1.11\n",
      "1  DYDXUSDT 2024-09-28 12:50:00  1.0514         0.0    0.00\n"
     ]
    },
    {
     "name": "stderr",
     "output_type": "stream",
     "text": [
      " 55%|███████████████████████████████████████████▊                                   | 651/1174 [06:37<05:01,  1.74it/s]"
     ]
    },
    {
     "name": "stdout",
     "output_type": "stream",
     "text": [
      "    close     created_at    high     low      market    open      value volume\n",
      "0  4.4861  1727527740000  4.4861  4.4861  PENDLEUSDT  4.4861  2.5795075  0.575\n",
      "1  4.4861  1727527800000  4.4861  4.4861  PENDLEUSDT  4.4861          0      0\n",
      "       symbol                time   price  pct_change  volume\n",
      "0  PENDLEUSDT 2024-09-28 12:49:00  4.4861         NaN   0.575\n",
      "1  PENDLEUSDT 2024-09-28 12:50:00  4.4861         0.0   0.000\n"
     ]
    },
    {
     "name": "stderr",
     "output_type": "stream",
     "text": [
      " 56%|███████████████████████████████████████████▊                                   | 652/1174 [06:37<04:56,  1.76it/s]"
     ]
    },
    {
     "name": "stdout",
     "output_type": "stream",
     "text": [
      "    close     created_at    high     low    market    open    value volume\n",
      "0  0.5294  1727527740000  0.5294  0.5294  AIOZUSDT  0.5294  3.12346    5.9\n",
      "1  0.5294  1727527800000  0.5294  0.5294  AIOZUSDT  0.5294        0      0\n",
      "     symbol                time   price  pct_change  volume\n",
      "0  AIOZUSDT 2024-09-28 12:49:00  0.5294         NaN     5.9\n",
      "1  AIOZUSDT 2024-09-28 12:50:00  0.5294         0.0     0.0\n"
     ]
    },
    {
     "name": "stderr",
     "output_type": "stream",
     "text": [
      " 56%|███████████████████████████████████████████▉                                   | 653/1174 [06:38<04:53,  1.77it/s]"
     ]
    },
    {
     "name": "stdout",
     "output_type": "stream",
     "text": [
      "      close     created_at      high       low  market      open  \\\n",
      "0  0.063993  1727527740000  0.063993  0.063993  L3USDT  0.063993   \n",
      "1  0.063993  1727527800000  0.063993  0.063993  L3USDT  0.063993   \n",
      "\n",
      "              value       volume  \n",
      "0  3.61943909366544  56.55992208  \n",
      "1                 0            0  \n",
      "   symbol                time     price  pct_change     volume\n",
      "0  L3USDT 2024-09-28 12:49:00  0.063993         NaN  56.559922\n",
      "1  L3USDT 2024-09-28 12:50:00  0.063993         0.0   0.000000\n"
     ]
    },
    {
     "name": "stderr",
     "output_type": "stream",
     "text": [
      " 56%|████████████████████████████████████████████                                   | 654/1174 [06:39<04:54,  1.77it/s]"
     ]
    },
    {
     "name": "stdout",
     "output_type": "stream",
     "text": [
      "      close     created_at      high       low     market      open     value  \\\n",
      "0  0.066501  1727527740000  0.066501  0.066501  ALPHAUSDT  0.066501  3.923559   \n",
      "1  0.066501  1727527800000  0.066501  0.066501  ALPHAUSDT  0.066501         0   \n",
      "\n",
      "  volume  \n",
      "0     59  \n",
      "1      0  \n",
      "      symbol                time     price  pct_change  volume\n",
      "0  ALPHAUSDT 2024-09-28 12:49:00  0.066501         NaN    59.0\n",
      "1  ALPHAUSDT 2024-09-28 12:50:00  0.066501         0.0     0.0\n"
     ]
    },
    {
     "name": "stderr",
     "output_type": "stream",
     "text": [
      " 56%|████████████████████████████████████████████                                   | 655/1174 [06:39<05:07,  1.69it/s]"
     ]
    },
    {
     "name": "stdout",
     "output_type": "stream",
     "text": [
      "        close     created_at        high         low    market        open  \\\n",
      "0  0.00213001  1727527740000  0.00213001  0.00213001  VTHOUSDT  0.00213001   \n",
      "1   0.0021295  1727527800000   0.0021295   0.0021295  VTHOUSDT   0.0021295   \n",
      "\n",
      "        value volume  \n",
      "0  1.24605585    585  \n",
      "1   1.2031675    565  \n",
      "     symbol                time     price  pct_change  volume\n",
      "0  VTHOUSDT 2024-09-28 12:49:00  0.002130         NaN   585.0\n",
      "1  VTHOUSDT 2024-09-28 12:50:00  0.002129   -0.000239   565.0\n"
     ]
    },
    {
     "name": "stderr",
     "output_type": "stream",
     "text": [
      " 56%|████████████████████████████████████████████▏                                  | 656/1174 [06:40<05:08,  1.68it/s]"
     ]
    },
    {
     "name": "stdout",
     "output_type": "stream",
     "text": [
      "      close     created_at      high       low    market      open     value  \\\n",
      "0  0.003119  1727527740000  0.003119  0.003119  GRAMUSDT  0.003119  1.762235   \n",
      "1  0.003119  1727527800000  0.003119  0.003119  GRAMUSDT  0.003119         0   \n",
      "\n",
      "  volume  \n",
      "0    565  \n",
      "1      0  \n",
      "     symbol                time     price  pct_change  volume\n",
      "0  GRAMUSDT 2024-09-28 12:49:00  0.003119         NaN   565.0\n",
      "1  GRAMUSDT 2024-09-28 12:50:00  0.003119         0.0     0.0\n"
     ]
    },
    {
     "name": "stderr",
     "output_type": "stream",
     "text": [
      " 56%|████████████████████████████████████████████▏                                  | 657/1174 [06:40<04:59,  1.73it/s]"
     ]
    },
    {
     "name": "stdout",
     "output_type": "stream",
     "text": [
      "        close     created_at        high         low    market        open  \\\n",
      "0  0.00021873  1727527740000  0.00021873  0.00021873  RACAUSDT  0.00021873   \n",
      "1  0.00021873  1727527800000  0.00021873  0.00021873  RACAUSDT  0.00021873   \n",
      "\n",
      "                value         volume  \n",
      "0  1.2930711295794846  5911.72280702  \n",
      "1                   0              0  \n",
      "     symbol                time     price  pct_change       volume\n",
      "0  RACAUSDT 2024-09-28 12:49:00  0.000219         NaN  5911.722807\n",
      "1  RACAUSDT 2024-09-28 12:50:00  0.000219         0.0     0.000000\n"
     ]
    },
    {
     "name": "stderr",
     "output_type": "stream",
     "text": [
      " 56%|████████████████████████████████████████████▎                                  | 658/1174 [06:41<04:57,  1.74it/s]"
     ]
    },
    {
     "name": "stdout",
     "output_type": "stream",
     "text": [
      "       close     created_at       high        low    market       open  \\\n",
      "0  0.0008227  1727527740000  0.0008227  0.0008227  NEOXUSDT  0.0008227   \n",
      "1  0.0008227  1727527800000  0.0008227  0.0008227  NEOXUSDT  0.0008227   \n",
      "\n",
      "     value volume  \n",
      "0  4.68939   5700  \n",
      "1        0      0  \n",
      "     symbol                time     price  pct_change  volume\n",
      "0  NEOXUSDT 2024-09-28 12:49:00  0.000823         NaN  5700.0\n",
      "1  NEOXUSDT 2024-09-28 12:50:00  0.000823         0.0     0.0\n"
     ]
    },
    {
     "name": "stderr",
     "output_type": "stream",
     "text": [
      " 56%|████████████████████████████████████████████▎                                  | 659/1174 [06:42<04:50,  1.78it/s]"
     ]
    },
    {
     "name": "stdout",
     "output_type": "stream",
     "text": [
      "      close     created_at      high       low   market      open     value  \\\n",
      "0  0.043154  1727527740000  0.043154  0.043154  SKLUSDT  0.043154  2.438201   \n",
      "1  0.043115  1727527800000  0.043115  0.043115  SKLUSDT  0.043115   2.50067   \n",
      "\n",
      "  volume  \n",
      "0   56.5  \n",
      "1     58  \n",
      "    symbol                time     price  pct_change  volume\n",
      "0  SKLUSDT 2024-09-28 12:49:00  0.043154         NaN    56.5\n",
      "1  SKLUSDT 2024-09-28 12:50:00  0.043115   -0.000904    58.0\n"
     ]
    },
    {
     "name": "stderr",
     "output_type": "stream",
     "text": [
      " 56%|████████████████████████████████████████████▍                                  | 660/1174 [06:42<04:51,  1.77it/s]"
     ]
    },
    {
     "name": "stdout",
     "output_type": "stream",
     "text": [
      "    close     created_at    high     low    market    open     value volume\n",
      "0  1.6021  1727527740000  1.6021  1.6021  XIHSUSDT  1.6021  1.890478   1.18\n",
      "1  1.6021  1727527800000  1.6021  1.6021  XIHSUSDT  1.6021         0      0\n",
      "     symbol                time   price  pct_change  volume\n",
      "0  XIHSUSDT 2024-09-28 12:49:00  1.6021         NaN    1.18\n",
      "1  XIHSUSDT 2024-09-28 12:50:00  1.6021         0.0    0.00\n"
     ]
    },
    {
     "name": "stderr",
     "output_type": "stream",
     "text": [
      " 56%|████████████████████████████████████████████▍                                  | 661/1174 [06:43<04:51,  1.76it/s]"
     ]
    },
    {
     "name": "stdout",
     "output_type": "stream",
     "text": [
      "      close     created_at      high       low     market      open value  \\\n",
      "0  0.021249  1727527740000  0.021249  0.021249  EVMOSUSDT  0.021249     0   \n",
      "1  0.021249  1727527800000  0.021249  0.021249  EVMOSUSDT  0.021249     0   \n",
      "\n",
      "  volume  \n",
      "0      0  \n",
      "1      0  \n",
      "      symbol                time     price  pct_change  volume\n",
      "0  EVMOSUSDT 2024-09-28 12:49:00  0.021249         NaN     0.0\n",
      "1  EVMOSUSDT 2024-09-28 12:50:00  0.021249         0.0     0.0\n"
     ]
    },
    {
     "name": "stderr",
     "output_type": "stream",
     "text": [
      " 56%|████████████████████████████████████████████▌                                  | 662/1174 [06:43<04:50,  1.76it/s]"
     ]
    },
    {
     "name": "stdout",
     "output_type": "stream",
     "text": [
      "      close     created_at      high       low    market      open     value  \\\n",
      "0  0.016056  1727527740000  0.016056  0.016056  IRISUSDT  0.016056  1.782216   \n",
      "1  0.016056  1727527800000  0.016056  0.016056  IRISUSDT  0.016056         0   \n",
      "\n",
      "  volume  \n",
      "0    111  \n",
      "1      0  \n",
      "     symbol                time     price  pct_change  volume\n",
      "0  IRISUSDT 2024-09-28 12:49:00  0.016056         NaN   111.0\n",
      "1  IRISUSDT 2024-09-28 12:50:00  0.016056         0.0     0.0\n"
     ]
    },
    {
     "name": "stderr",
     "output_type": "stream",
     "text": [
      " 56%|████████████████████████████████████████████▌                                  | 663/1174 [06:44<04:48,  1.77it/s]"
     ]
    },
    {
     "name": "stdout",
     "output_type": "stream",
     "text": [
      "      close     created_at      high       low   market      open     value  \\\n",
      "0  0.085805  1727527740000  0.085805  0.085805  ASTUSDT  0.085805  5.062495   \n",
      "1   0.08583  1727527800000   0.08583   0.08583  ASTUSDT   0.08583   4.80648   \n",
      "\n",
      "  volume  \n",
      "0     59  \n",
      "1     56  \n",
      "    symbol                time     price  pct_change  volume\n",
      "0  ASTUSDT 2024-09-28 12:49:00  0.085805         NaN    59.0\n",
      "1  ASTUSDT 2024-09-28 12:50:00  0.085830    0.000291    56.0\n"
     ]
    },
    {
     "name": "stderr",
     "output_type": "stream",
     "text": [
      " 57%|████████████████████████████████████████████▋                                  | 664/1174 [06:44<04:49,  1.76it/s]"
     ]
    },
    {
     "name": "stdout",
     "output_type": "stream",
     "text": [
      "      close     created_at      high       low   market      open     value  \\\n",
      "0  0.159873  1727527740000  0.159873  0.159873  SDNUSDT  0.159873  1.758603   \n",
      "1  0.159873  1727527800000  0.159873  0.159873  SDNUSDT  0.159873         0   \n",
      "\n",
      "  volume  \n",
      "0     11  \n",
      "1      0  \n",
      "    symbol                time     price  pct_change  volume\n",
      "0  SDNUSDT 2024-09-28 12:49:00  0.159873         NaN    11.0\n",
      "1  SDNUSDT 2024-09-28 12:50:00  0.159873         0.0     0.0\n"
     ]
    },
    {
     "name": "stderr",
     "output_type": "stream",
     "text": [
      " 57%|████████████████████████████████████████████▋                                  | 665/1174 [06:45<04:45,  1.78it/s]"
     ]
    },
    {
     "name": "stdout",
     "output_type": "stream",
     "text": [
      "      close     created_at      high       low    market      open      value  \\\n",
      "0  0.328083  1727527740000  0.328083  0.328083  MERLUSDT  0.328083  1.8044565   \n",
      "1  0.328181  1727527800000  0.328181  0.328181  MERLUSDT  0.328181  1.9034498   \n",
      "\n",
      "  volume  \n",
      "0    5.5  \n",
      "1    5.8  \n",
      "     symbol                time     price  pct_change  volume\n",
      "0  MERLUSDT 2024-09-28 12:49:00  0.328083         NaN     5.5\n",
      "1  MERLUSDT 2024-09-28 12:50:00  0.328181    0.000299     5.8\n"
     ]
    },
    {
     "name": "stderr",
     "output_type": "stream",
     "text": [
      " 57%|████████████████████████████████████████████▊                                  | 666/1174 [06:45<04:47,  1.77it/s]"
     ]
    },
    {
     "name": "stdout",
     "output_type": "stream",
     "text": [
      "      close     created_at      high       low   market      open     value  \\\n",
      "0  0.018401  1727527740000  0.018401  0.018401  GFTUSDT  0.018401  2.097714   \n",
      "1  0.018384  1727527800000  0.018384  0.018384  GFTUSDT  0.018384  2.169312   \n",
      "\n",
      "  volume  \n",
      "0    114  \n",
      "1    118  \n",
      "    symbol                time     price  pct_change  volume\n",
      "0  GFTUSDT 2024-09-28 12:49:00  0.018401         NaN   114.0\n",
      "1  GFTUSDT 2024-09-28 12:50:00  0.018384   -0.000924   118.0\n"
     ]
    },
    {
     "name": "stderr",
     "output_type": "stream",
     "text": [
      " 57%|████████████████████████████████████████████▉                                  | 667/1174 [06:46<04:45,  1.78it/s]"
     ]
    },
    {
     "name": "stdout",
     "output_type": "stream",
     "text": [
      "      close     created_at      high       low    market      open      value  \\\n",
      "0  0.144021  1727527740000  0.144021  0.144021  KLAYUSDT  0.144021  1.5986331   \n",
      "1  0.143934  1727527800000  0.143934  0.143934  KLAYUSDT  0.143934  1.6408476   \n",
      "\n",
      "  volume  \n",
      "0   11.1  \n",
      "1   11.4  \n",
      "     symbol                time     price  pct_change  volume\n",
      "0  KLAYUSDT 2024-09-28 12:49:00  0.144021         NaN    11.1\n",
      "1  KLAYUSDT 2024-09-28 12:50:00  0.143934   -0.000604    11.4\n"
     ]
    },
    {
     "name": "stderr",
     "output_type": "stream",
     "text": [
      " 57%|████████████████████████████████████████████▉                                  | 668/1174 [06:47<04:44,  1.78it/s]"
     ]
    },
    {
     "name": "stdout",
     "output_type": "stream",
     "text": [
      "      close     created_at      high       low   market      open  \\\n",
      "0  0.003541  1727527740000  0.003541   0.00354  GMEUSDT   0.00354   \n",
      "1  0.003541  1727527800000  0.003541  0.003541  GMEUSDT  0.003541   \n",
      "\n",
      "              value         volume  \n",
      "0  11.6831007804536  3300.15276284  \n",
      "1          2.071485            585  \n",
      "    symbol                time     price  pct_change       volume\n",
      "0  GMEUSDT 2024-09-28 12:49:00  0.003541         NaN  3300.152763\n",
      "1  GMEUSDT 2024-09-28 12:50:00  0.003541         0.0   585.000000\n"
     ]
    },
    {
     "name": "stderr",
     "output_type": "stream",
     "text": [
      " 57%|█████████████████████████████████████████████                                  | 669/1174 [06:47<04:47,  1.76it/s]"
     ]
    },
    {
     "name": "stdout",
     "output_type": "stream",
     "text": [
      "      close     created_at      high       low       market      open  \\\n",
      "0  0.026386  1727527740000  0.026386  0.026386  HARAMBEUSDT  0.026386   \n",
      "1  0.026386  1727527800000  0.026386  0.026386  HARAMBEUSDT  0.026386   \n",
      "\n",
      "      value volume  \n",
      "0  1.504002     57  \n",
      "1         0      0  \n",
      "        symbol                time     price  pct_change  volume\n",
      "0  HARAMBEUSDT 2024-09-28 12:49:00  0.026386         NaN    57.0\n",
      "1  HARAMBEUSDT 2024-09-28 12:50:00  0.026386         0.0     0.0\n"
     ]
    },
    {
     "name": "stderr",
     "output_type": "stream",
     "text": [
      " 57%|█████████████████████████████████████████████                                  | 670/1174 [06:48<04:44,  1.77it/s]"
     ]
    },
    {
     "name": "stdout",
     "output_type": "stream",
     "text": [
      "      close     created_at      high       low    market      open     value  \\\n",
      "0  0.006189  1727527740000  0.006189  0.006189  GROKUSDT  0.006189   3.58962   \n",
      "1  0.006193  1727527800000  0.006193  0.006193  GROKUSDT  0.006193  3.560975   \n",
      "\n",
      "  volume  \n",
      "0    580  \n",
      "1    575  \n",
      "     symbol                time     price  pct_change  volume\n",
      "0  GROKUSDT 2024-09-28 12:49:00  0.006189         NaN   580.0\n",
      "1  GROKUSDT 2024-09-28 12:50:00  0.006193    0.000646   575.0\n"
     ]
    },
    {
     "name": "stderr",
     "output_type": "stream",
     "text": [
      " 57%|█████████████████████████████████████████████▏                                 | 671/1174 [06:48<04:43,  1.78it/s]"
     ]
    },
    {
     "name": "stdout",
     "output_type": "stream",
     "text": [
      "      close     created_at      high       low   market      open  \\\n",
      "0  0.273636  1727527740000  0.273636  0.273636  COWUSDT  0.273636   \n",
      "1  0.273636  1727527800000  0.273636  0.273636  COWUSDT  0.273636   \n",
      "\n",
      "             value     volume  \n",
      "0  1.5833361285324  5.7862859  \n",
      "1                0          0  \n",
      "    symbol                time     price  pct_change    volume\n",
      "0  COWUSDT 2024-09-28 12:49:00  0.273636         NaN  5.786286\n",
      "1  COWUSDT 2024-09-28 12:50:00  0.273636         0.0  0.000000\n"
     ]
    },
    {
     "name": "stderr",
     "output_type": "stream",
     "text": [
      " 57%|█████████████████████████████████████████████▏                                 | 672/1174 [06:49<04:42,  1.78it/s]"
     ]
    },
    {
     "name": "stdout",
     "output_type": "stream",
     "text": [
      "          close     created_at          high           low   market  \\\n",
      "0  0.0000152223  1727527740000  0.0000152223  0.0000152223  KINUSDT   \n",
      "1  0.0000152116  1727527800000  0.0000152116  0.0000152116  KINUSDT   \n",
      "\n",
      "           open      value  volume  \n",
      "0  0.0000152223  1.6896753  111000  \n",
      "1  0.0000152116  1.7949688  118000  \n",
      "    symbol                time     price  pct_change    volume\n",
      "0  KINUSDT 2024-09-28 12:49:00  0.000015         NaN  111000.0\n",
      "1  KINUSDT 2024-09-28 12:50:00  0.000015   -0.000703  118000.0\n"
     ]
    },
    {
     "name": "stderr",
     "output_type": "stream",
     "text": [
      " 57%|█████████████████████████████████████████████▎                                 | 673/1174 [06:49<04:38,  1.80it/s]"
     ]
    },
    {
     "name": "stdout",
     "output_type": "stream",
     "text": [
      "      close     created_at      high       low   market      open    value  \\\n",
      "0  0.009467  1727527740000  0.009467  0.009467  QKCUSDT  0.009467  5.39619   \n",
      "1  0.009466  1727527800000  0.009466  0.009466  QKCUSDT  0.009466  5.39562   \n",
      "\n",
      "  volume  \n",
      "0    570  \n",
      "1    570  \n",
      "    symbol                time     price  pct_change  volume\n",
      "0  QKCUSDT 2024-09-28 12:49:00  0.009467         NaN   570.0\n",
      "1  QKCUSDT 2024-09-28 12:50:00  0.009466   -0.000106   570.0\n"
     ]
    },
    {
     "name": "stderr",
     "output_type": "stream",
     "text": [
      " 57%|█████████████████████████████████████████████▎                                 | 674/1174 [06:50<04:38,  1.80it/s]"
     ]
    },
    {
     "name": "stdout",
     "output_type": "stream",
     "text": [
      "        close     created_at        high         low   market        open  \\\n",
      "0  0.00031465  1727527740000  0.00031465  0.00031465  APUUSDT  0.00031465   \n",
      "1  0.00031458  1727527800000  0.00031458  0.00031458  APUUSDT  0.00031458   \n",
      "\n",
      "      value volume  \n",
      "0   1.76204   5600  \n",
      "1  1.745919   5550  \n",
      "    symbol                time     price  pct_change  volume\n",
      "0  APUUSDT 2024-09-28 12:49:00  0.000315         NaN  5600.0\n",
      "1  APUUSDT 2024-09-28 12:50:00  0.000315   -0.000222  5550.0\n"
     ]
    },
    {
     "name": "stderr",
     "output_type": "stream",
     "text": [
      " 57%|█████████████████████████████████████████████▍                                 | 675/1174 [06:51<04:43,  1.76it/s]"
     ]
    },
    {
     "name": "stdout",
     "output_type": "stream",
     "text": [
      "      close     created_at      high       low   market      open    value  \\\n",
      "0  0.006474  1727527740000  0.006474  0.006474  IGUUSDT  0.006474  3.72255   \n",
      "1  0.006479  1727527800000  0.006479  0.006479  IGUUSDT  0.006479  3.62824   \n",
      "\n",
      "  volume  \n",
      "0    575  \n",
      "1    560  \n",
      "    symbol                time     price  pct_change  volume\n",
      "0  IGUUSDT 2024-09-28 12:49:00  0.006474         NaN   575.0\n",
      "1  IGUUSDT 2024-09-28 12:50:00  0.006479    0.000772   560.0\n"
     ]
    },
    {
     "name": "stderr",
     "output_type": "stream",
     "text": [
      " 58%|█████████████████████████████████████████████▍                                 | 676/1174 [06:51<04:45,  1.75it/s]"
     ]
    },
    {
     "name": "stdout",
     "output_type": "stream",
     "text": [
      "      close     created_at      high       low   market      open      value  \\\n",
      "0  0.199196  1727527740000  0.199196  0.199196  SISUSDT  0.199196  2.3106736   \n",
      "1  0.199092  1727527800000  0.199092  0.199092  SISUSDT  0.199092  2.3492856   \n",
      "\n",
      "  volume  \n",
      "0   11.6  \n",
      "1   11.8  \n",
      "    symbol                time     price  pct_change  volume\n",
      "0  SISUSDT 2024-09-28 12:49:00  0.199196         NaN    11.6\n",
      "1  SISUSDT 2024-09-28 12:50:00  0.199092   -0.000522    11.8\n"
     ]
    },
    {
     "name": "stderr",
     "output_type": "stream",
     "text": [
      " 58%|█████████████████████████████████████████████▌                                 | 677/1174 [06:52<04:42,  1.76it/s]"
     ]
    },
    {
     "name": "stdout",
     "output_type": "stream",
     "text": [
      "        close     created_at        high         low    market        open  \\\n",
      "0  0.00093845  1727527740000  0.00093845  0.00093845  SYLOUSDT  0.00093845   \n",
      "1   0.0009392  1727527800000   0.0009392   0.0009392  SYLOUSDT   0.0009392   \n",
      "\n",
      "      value volume  \n",
      "0  5.161475   5500  \n",
      "1   5.21256   5550  \n",
      "     symbol                time     price  pct_change  volume\n",
      "0  SYLOUSDT 2024-09-28 12:49:00  0.000938         NaN  5500.0\n",
      "1  SYLOUSDT 2024-09-28 12:50:00  0.000939    0.000799  5550.0\n"
     ]
    },
    {
     "name": "stderr",
     "output_type": "stream",
     "text": [
      " 58%|█████████████████████████████████████████████▌                                 | 678/1174 [06:52<04:39,  1.77it/s]"
     ]
    },
    {
     "name": "stdout",
     "output_type": "stream",
     "text": [
      "      close     created_at      high       low   market      open    value  \\\n",
      "0  0.009878  1727527740000  0.009878  0.009878  MXMUSDT  0.009878  5.58107   \n",
      "1  0.009878  1727527800000  0.009878  0.009878  MXMUSDT  0.009878  5.58107   \n",
      "\n",
      "  volume  \n",
      "0    565  \n",
      "1    565  \n",
      "    symbol                time     price  pct_change  volume\n",
      "0  MXMUSDT 2024-09-28 12:49:00  0.009878         NaN   565.0\n",
      "1  MXMUSDT 2024-09-28 12:50:00  0.009878         0.0   565.0\n"
     ]
    },
    {
     "name": "stderr",
     "output_type": "stream",
     "text": [
      " 58%|█████████████████████████████████████████████▋                                 | 679/1174 [06:53<04:38,  1.78it/s]"
     ]
    },
    {
     "name": "stdout",
     "output_type": "stream",
     "text": [
      "      close     created_at      high       low    market      open     value  \\\n",
      "0  0.083122  1727527740000  0.083122  0.083122  ARDRUSDT  0.083122  4.779515   \n",
      "1  0.083097  1727527800000  0.083097  0.083097  ARDRUSDT  0.083097  4.819626   \n",
      "\n",
      "  volume  \n",
      "0   57.5  \n",
      "1     58  \n",
      "     symbol                time     price  pct_change  volume\n",
      "0  ARDRUSDT 2024-09-28 12:49:00  0.083122         NaN    57.5\n",
      "1  ARDRUSDT 2024-09-28 12:50:00  0.083097   -0.000301    58.0\n"
     ]
    },
    {
     "name": "stderr",
     "output_type": "stream",
     "text": [
      " 58%|█████████████████████████████████████████████▊                                 | 680/1174 [06:53<04:40,  1.76it/s]"
     ]
    },
    {
     "name": "stdout",
     "output_type": "stream",
     "text": [
      "      close     created_at      high       low     market      open  \\\n",
      "0  0.164627  1727527740000  0.164627  0.164627  PIXELUSDT  0.164627   \n",
      "1  0.164561  1727527800000  0.164561  0.164561  PIXELUSDT  0.164561   \n",
      "\n",
      "       value volume  \n",
      "0  1.8273597   11.1  \n",
      "1   1.810171     11  \n",
      "      symbol                time     price  pct_change  volume\n",
      "0  PIXELUSDT 2024-09-28 12:49:00  0.164627         NaN    11.1\n",
      "1  PIXELUSDT 2024-09-28 12:50:00  0.164561   -0.000401    11.0\n"
     ]
    },
    {
     "name": "stderr",
     "output_type": "stream",
     "text": [
      " 58%|█████████████████████████████████████████████▊                                 | 681/1174 [06:54<04:35,  1.79it/s]"
     ]
    },
    {
     "name": "stdout",
     "output_type": "stream",
     "text": [
      "      close     created_at      high       low    market      open     value  \\\n",
      "0  0.057994  1727527740000  0.057994  0.057994  HOPRUSDT  0.057994  3.421646   \n",
      "1  0.057894  1727527800000  0.057894  0.057894  HOPRUSDT  0.057894  3.271011   \n",
      "\n",
      "  volume  \n",
      "0     59  \n",
      "1   56.5  \n",
      "     symbol                time     price  pct_change  volume\n",
      "0  HOPRUSDT 2024-09-28 12:49:00  0.057994         NaN    59.0\n",
      "1  HOPRUSDT 2024-09-28 12:50:00  0.057894   -0.001726    56.5\n"
     ]
    },
    {
     "name": "stderr",
     "output_type": "stream",
     "text": [
      " 58%|█████████████████████████████████████████████▉                                 | 682/1174 [06:54<04:34,  1.79it/s]"
     ]
    },
    {
     "name": "stdout",
     "output_type": "stream",
     "text": [
      "            close     created_at            high             low     market  \\\n",
      "0  0.000000035539  1727527740000  0.000000035539  0.000000035539  PEPE2USDT   \n",
      "1  0.000000035539  1727527800000  0.000000035539  0.000000035539  PEPE2USDT   \n",
      "\n",
      "             open            value      volume  \n",
      "0  0.000000035539  2.1180938968763  59599141.7  \n",
      "1  0.000000035539                0           0  \n",
      "      symbol                time         price  pct_change      volume\n",
      "0  PEPE2USDT 2024-09-28 12:49:00  3.553900e-08         NaN  59599141.7\n",
      "1  PEPE2USDT 2024-09-28 12:50:00  3.553900e-08         0.0         0.0\n"
     ]
    },
    {
     "name": "stderr",
     "output_type": "stream",
     "text": [
      " 58%|█████████████████████████████████████████████▉                                 | 683/1174 [06:55<04:36,  1.78it/s]"
     ]
    },
    {
     "name": "stdout",
     "output_type": "stream",
     "text": [
      "      close     created_at      high       low   market      open     value  \\\n",
      "0  0.008463  1727527740000  0.008463  0.008463  UNAUSDT  0.008463  4.781595   \n",
      "1  0.008463  1727527800000  0.008463  0.008463  UNAUSDT  0.008463   4.99317   \n",
      "\n",
      "  volume  \n",
      "0    565  \n",
      "1    590  \n",
      "    symbol                time     price  pct_change  volume\n",
      "0  UNAUSDT 2024-09-28 12:49:00  0.008463         NaN   565.0\n",
      "1  UNAUSDT 2024-09-28 12:50:00  0.008463         0.0   590.0\n"
     ]
    },
    {
     "name": "stderr",
     "output_type": "stream",
     "text": [
      " 58%|██████████████████████████████████████████████                                 | 684/1174 [06:56<04:38,  1.76it/s]"
     ]
    },
    {
     "name": "stdout",
     "output_type": "stream",
     "text": [
      "     close     created_at     high      low   market     open      value  \\\n",
      "0  10.8595  1727527740000  10.8595  10.8595  NEOUSDT  10.8595   1.281421   \n",
      "1  10.8584  1727527800000  10.8584  10.8584  NEOUSDT  10.8584  1.2704328   \n",
      "\n",
      "  volume  \n",
      "0  0.118  \n",
      "1  0.117  \n",
      "    symbol                time    price  pct_change  volume\n",
      "0  NEOUSDT 2024-09-28 12:49:00  10.8595         NaN   0.118\n",
      "1  NEOUSDT 2024-09-28 12:50:00  10.8584   -0.000101   0.117\n"
     ]
    },
    {
     "name": "stderr",
     "output_type": "stream",
     "text": [
      " 58%|██████████████████████████████████████████████                                 | 685/1174 [06:56<04:39,  1.75it/s]"
     ]
    },
    {
     "name": "stdout",
     "output_type": "stream",
     "text": [
      "            close     created_at            high             low   market  \\\n",
      "0  0.000000094414  1727527740000  0.000000094414  0.000000094414  XENUSDT   \n",
      "1   0.00000009447  1727527800000   0.00000009447   0.00000009447  XENUSDT   \n",
      "\n",
      "             open      value    volume  \n",
      "0  0.000000094414  1.0763196  11400000  \n",
      "1   0.00000009447   1.124193  11900000  \n",
      "    symbol                time         price  pct_change      volume\n",
      "0  XENUSDT 2024-09-28 12:49:00  9.441400e-08         NaN  11400000.0\n",
      "1  XENUSDT 2024-09-28 12:50:00  9.447000e-08    0.000593  11900000.0\n"
     ]
    },
    {
     "name": "stderr",
     "output_type": "stream",
     "text": [
      " 58%|██████████████████████████████████████████████▏                                | 686/1174 [06:57<04:37,  1.76it/s]"
     ]
    },
    {
     "name": "stdout",
     "output_type": "stream",
     "text": [
      "      close     created_at      high       low   market      open     value  \\\n",
      "0  0.003751  1727527740000  0.003751  0.003751  VRAUSDT  0.003751  2.194335   \n",
      "1   0.00375  1727527800000   0.00375   0.00375  VRAUSDT   0.00375   2.19375   \n",
      "\n",
      "  volume  \n",
      "0    585  \n",
      "1    585  \n",
      "    symbol                time     price  pct_change  volume\n",
      "0  VRAUSDT 2024-09-28 12:49:00  0.003751         NaN   585.0\n",
      "1  VRAUSDT 2024-09-28 12:50:00  0.003750   -0.000267   585.0\n"
     ]
    },
    {
     "name": "stderr",
     "output_type": "stream",
     "text": [
      " 59%|██████████████████████████████████████████████▏                                | 687/1174 [06:57<04:36,  1.76it/s]"
     ]
    },
    {
     "name": "stdout",
     "output_type": "stream",
     "text": [
      "    close     created_at    high     low   market    open    value volume\n",
      "0   0.583  1727527740000   0.583   0.583  IXSUSDT   0.583  3.29395   5.65\n",
      "1  0.5831  1727527800000  0.5831  0.5831  IXSUSDT  0.5831  3.26536    5.6\n",
      "    symbol                time   price  pct_change  volume\n",
      "0  IXSUSDT 2024-09-28 12:49:00  0.5830         NaN    5.65\n",
      "1  IXSUSDT 2024-09-28 12:50:00  0.5831    0.000172    5.60\n"
     ]
    },
    {
     "name": "stderr",
     "output_type": "stream",
     "text": [
      " 59%|██████████████████████████████████████████████▎                                | 688/1174 [06:58<04:36,  1.76it/s]"
     ]
    },
    {
     "name": "stdout",
     "output_type": "stream",
     "text": [
      "      close     created_at      high       low   market      open      value  \\\n",
      "0  0.021781  1727527740000  0.021781  0.021781  ZYNUSDT  0.021781  1.2306265   \n",
      "1  0.021761  1727527800000  0.021761  0.021761  ZYNUSDT  0.021761  1.2512575   \n",
      "\n",
      "  volume  \n",
      "0   56.5  \n",
      "1   57.5  \n",
      "    symbol                time     price  pct_change  volume\n",
      "0  ZYNUSDT 2024-09-28 12:49:00  0.021781         NaN    56.5\n",
      "1  ZYNUSDT 2024-09-28 12:50:00  0.021761   -0.000919    57.5\n"
     ]
    },
    {
     "name": "stderr",
     "output_type": "stream",
     "text": [
      " 59%|██████████████████████████████████████████████▎                                | 689/1174 [06:58<04:32,  1.78it/s]"
     ]
    },
    {
     "name": "stdout",
     "output_type": "stream",
     "text": [
      "      close     created_at      high       low   market      open  \\\n",
      "0  0.004072  1727527740000  0.004077  0.004072  DOGUSDT  0.004077   \n",
      "1   0.00407  1727527800000  0.004071  0.004068  DOGUSDT  0.004071   \n",
      "\n",
      "                value          volume  \n",
      "0    4.29619320530629   1054.42209682  \n",
      "1  216.14768197416972  53106.66152611  \n",
      "    symbol                time     price  pct_change        volume\n",
      "0  DOGUSDT 2024-09-28 12:49:00  0.004072         NaN   1054.422097\n",
      "1  DOGUSDT 2024-09-28 12:50:00  0.004070   -0.000491  53106.661526\n"
     ]
    },
    {
     "name": "stderr",
     "output_type": "stream",
     "text": [
      " 59%|██████████████████████████████████████████████▍                                | 690/1174 [06:59<04:32,  1.78it/s]"
     ]
    },
    {
     "name": "stdout",
     "output_type": "stream",
     "text": [
      "      close     created_at      high       low   market      open      value  \\\n",
      "0  0.215951  1727527740000  0.215951  0.215951  CHRUSDT  0.215951  1.2093256   \n",
      "1  0.215886  1727527800000  0.215886  0.215886  CHRUSDT  0.215886  1.2521388   \n",
      "\n",
      "  volume  \n",
      "0    5.6  \n",
      "1    5.8  \n",
      "    symbol                time     price  pct_change  volume\n",
      "0  CHRUSDT 2024-09-28 12:49:00  0.215951         NaN     5.6\n",
      "1  CHRUSDT 2024-09-28 12:50:00  0.215886   -0.000301     5.8\n"
     ]
    },
    {
     "name": "stderr",
     "output_type": "stream",
     "text": [
      " 59%|██████████████████████████████████████████████▍                                | 691/1174 [07:00<04:32,  1.77it/s]"
     ]
    },
    {
     "name": "stdout",
     "output_type": "stream",
     "text": [
      "      close     created_at      high       low    market      open     value  \\\n",
      "0  0.078114  1727527740000  0.078114  0.078114  KMNOUSDT  0.078114  4.569669   \n",
      "1   0.07809  1727527800000   0.07809   0.07809  KMNOUSDT   0.07809  4.646355   \n",
      "\n",
      "  volume  \n",
      "0   58.5  \n",
      "1   59.5  \n",
      "     symbol                time     price  pct_change  volume\n",
      "0  KMNOUSDT 2024-09-28 12:49:00  0.078114         NaN    58.5\n",
      "1  KMNOUSDT 2024-09-28 12:50:00  0.078090   -0.000307    59.5\n"
     ]
    },
    {
     "name": "stderr",
     "output_type": "stream",
     "text": [
      " 59%|██████████████████████████████████████████████▌                                | 692/1174 [07:00<04:32,  1.77it/s]"
     ]
    },
    {
     "name": "stdout",
     "output_type": "stream",
     "text": [
      "    close     created_at    high     low   market    open           value  \\\n",
      "0  0.5351  1727527740000  0.5351  0.5351  EOSUSDT  0.5351  2.782257763543   \n",
      "1  0.5351  1727527800000  0.5351  0.5351  EOSUSDT  0.5351               0   \n",
      "\n",
      "       volume  \n",
      "0  5.19950993  \n",
      "1           0  \n",
      "    symbol                time   price  pct_change   volume\n",
      "0  EOSUSDT 2024-09-28 12:49:00  0.5351         NaN  5.19951\n",
      "1  EOSUSDT 2024-09-28 12:50:00  0.5351         0.0  0.00000\n"
     ]
    },
    {
     "name": "stderr",
     "output_type": "stream",
     "text": [
      " 59%|██████████████████████████████████████████████▋                                | 693/1174 [07:01<04:30,  1.78it/s]"
     ]
    },
    {
     "name": "stdout",
     "output_type": "stream",
     "text": [
      "      close     created_at      high       low    market      open  \\\n",
      "0  0.021944  1727527740000  0.022166  0.021944  HEHEUSDT  0.022166   \n",
      "1  0.021944  1727527800000  0.021944  0.021944  HEHEUSDT  0.021944   \n",
      "\n",
      "               value         volume  \n",
      "0  59.17929704242664  2687.27537382  \n",
      "1                  0              0  \n",
      "     symbol                time     price  pct_change       volume\n",
      "0  HEHEUSDT 2024-09-28 12:49:00  0.021944         NaN  2687.275374\n",
      "1  HEHEUSDT 2024-09-28 12:50:00  0.021944         0.0     0.000000\n"
     ]
    },
    {
     "name": "stderr",
     "output_type": "stream",
     "text": [
      " 59%|██████████████████████████████████████████████▋                                | 694/1174 [07:01<04:27,  1.80it/s]"
     ]
    },
    {
     "name": "stdout",
     "output_type": "stream",
     "text": [
      "      close     created_at      high       low      market      open  \\\n",
      "0   0.00508  1727527740000   0.00508   0.00508  SUNCATUSDT   0.00508   \n",
      "1  0.005079  1727527800000  0.005079  0.005078  SUNCATUSDT  0.005078   \n",
      "\n",
      "         value   volume  \n",
      "0       2.9972      590  \n",
      "1  11.89737918  2342.81  \n",
      "       symbol                time     price  pct_change   volume\n",
      "0  SUNCATUSDT 2024-09-28 12:49:00  0.005080         NaN   590.00\n",
      "1  SUNCATUSDT 2024-09-28 12:50:00  0.005079   -0.000197  2342.81\n"
     ]
    },
    {
     "name": "stderr",
     "output_type": "stream",
     "text": [
      " 59%|██████████████████████████████████████████████▊                                | 695/1174 [07:02<04:24,  1.81it/s]"
     ]
    },
    {
     "name": "stdout",
     "output_type": "stream",
     "text": [
      "    close     created_at    high     low  market    open     value volume\n",
      "0  1.2273  1727527740000  1.2273  1.2273  OMUSDT  1.2273  1.423668   1.16\n",
      "1  1.2273  1727527800000  1.2273  1.2273  OMUSDT  1.2273  1.448214   1.18\n",
      "   symbol                time   price  pct_change  volume\n",
      "0  OMUSDT 2024-09-28 12:49:00  1.2273         NaN    1.16\n",
      "1  OMUSDT 2024-09-28 12:50:00  1.2273         0.0    1.18\n"
     ]
    },
    {
     "name": "stderr",
     "output_type": "stream",
     "text": [
      " 59%|██████████████████████████████████████████████▊                                | 696/1174 [07:02<04:26,  1.80it/s]"
     ]
    },
    {
     "name": "stdout",
     "output_type": "stream",
     "text": [
      "      close     created_at      high       low     market      open     value  \\\n",
      "0  0.037737  1727527740000  0.037737  0.037737  SNIFTUSDT  0.037737  4.226544   \n",
      "1  0.037725  1727527800000  0.037725  0.037725  SNIFTUSDT  0.037725    4.2252   \n",
      "\n",
      "  volume  \n",
      "0    112  \n",
      "1    112  \n",
      "      symbol                time     price  pct_change  volume\n",
      "0  SNIFTUSDT 2024-09-28 12:49:00  0.037737         NaN   112.0\n",
      "1  SNIFTUSDT 2024-09-28 12:50:00  0.037725   -0.000318   112.0\n"
     ]
    },
    {
     "name": "stderr",
     "output_type": "stream",
     "text": [
      " 59%|██████████████████████████████████████████████▉                                | 697/1174 [07:03<04:24,  1.80it/s]"
     ]
    },
    {
     "name": "stdout",
     "output_type": "stream",
     "text": [
      "        close     created_at        high         low    market        open  \\\n",
      "0  0.00039384  1727527740000  0.00039384  0.00039384  GWGWUSDT  0.00039384   \n",
      "1  0.00039368  1727527800000  0.00039368  0.00039368  GWGWUSDT  0.00039368   \n",
      "\n",
      "      value volume  \n",
      "0   2.16612   5500  \n",
      "1  2.342396   5950  \n",
      "     symbol                time     price  pct_change  volume\n",
      "0  GWGWUSDT 2024-09-28 12:49:00  0.000394         NaN  5500.0\n",
      "1  GWGWUSDT 2024-09-28 12:50:00  0.000394   -0.000406  5950.0\n"
     ]
    },
    {
     "name": "stderr",
     "output_type": "stream",
     "text": [
      " 59%|██████████████████████████████████████████████▉                                | 698/1174 [07:03<04:24,  1.80it/s]"
     ]
    },
    {
     "name": "stdout",
     "output_type": "stream",
     "text": [
      "      close     created_at      high       low   market      open    value  \\\n",
      "0  0.007965  1727527740000  0.007965  0.007965  SPSUSDT  0.007965   4.6197   \n",
      "1  0.007967  1727527800000  0.007967  0.007967  SPSUSDT  0.007967  4.54119   \n",
      "\n",
      "  volume  \n",
      "0    580  \n",
      "1    570  \n",
      "    symbol                time     price  pct_change  volume\n",
      "0  SPSUSDT 2024-09-28 12:49:00  0.007965         NaN   580.0\n",
      "1  SPSUSDT 2024-09-28 12:50:00  0.007967    0.000251   570.0\n"
     ]
    },
    {
     "name": "stderr",
     "output_type": "stream",
     "text": [
      " 60%|███████████████████████████████████████████████                                | 699/1174 [07:04<04:24,  1.80it/s]"
     ]
    },
    {
     "name": "stdout",
     "output_type": "stream",
     "text": [
      "    close     created_at    high     low        market    open  \\\n",
      "0  0.2754  1727527740000  0.2754  0.2754  TERMINUSUSDT  0.2754   \n",
      "1  0.2754  1727527800000  0.2754  0.2754  TERMINUSUSDT  0.2754   \n",
      "\n",
      "            value      volume  \n",
      "0  1.453641908724  5.27829306  \n",
      "1               0           0  \n",
      "         symbol                time   price  pct_change    volume\n",
      "0  TERMINUSUSDT 2024-09-28 12:49:00  0.2754         NaN  5.278293\n",
      "1  TERMINUSUSDT 2024-09-28 12:50:00  0.2754         0.0  0.000000\n"
     ]
    },
    {
     "name": "stderr",
     "output_type": "stream",
     "text": [
      " 60%|███████████████████████████████████████████████                                | 700/1174 [07:05<04:27,  1.77it/s]"
     ]
    },
    {
     "name": "stdout",
     "output_type": "stream",
     "text": [
      "    close     created_at    high     low    market    open     value volume\n",
      "0  1.0254  1727527740000  1.0254  1.0254  CHATUSDT  1.0254  1.138194   1.11\n",
      "1  1.0257  1727527800000  1.0257  1.0257  CHATUSDT  1.0257  1.220583   1.19\n",
      "     symbol                time   price  pct_change  volume\n",
      "0  CHATUSDT 2024-09-28 12:49:00  1.0254         NaN    1.11\n",
      "1  CHATUSDT 2024-09-28 12:50:00  1.0257    0.000293    1.19\n"
     ]
    },
    {
     "name": "stderr",
     "output_type": "stream",
     "text": [
      " 60%|███████████████████████████████████████████████▏                               | 701/1174 [07:05<04:25,  1.78it/s]"
     ]
    },
    {
     "name": "stdout",
     "output_type": "stream",
     "text": [
      "    close     created_at    high     low   market    open     value volume\n",
      "0  0.5349  1727527740000  0.5349  0.5349  BNTUSDT  0.5349  3.022185   5.65\n",
      "1  0.5346  1727527800000  0.5346  0.5346  BNTUSDT  0.5346   3.04722    5.7\n",
      "    symbol                time   price  pct_change  volume\n",
      "0  BNTUSDT 2024-09-28 12:49:00  0.5349         NaN    5.65\n",
      "1  BNTUSDT 2024-09-28 12:50:00  0.5346   -0.000561    5.70\n"
     ]
    },
    {
     "name": "stderr",
     "output_type": "stream",
     "text": [
      " 60%|███████████████████████████████████████████████▏                               | 702/1174 [07:06<04:23,  1.79it/s]"
     ]
    },
    {
     "name": "stdout",
     "output_type": "stream",
     "text": [
      "      close     created_at      high       low   market      open      value  \\\n",
      "0  0.187052  1727527740000  0.187052  0.187052  WOOUSDT  0.187052  2.1136876   \n",
      "1  0.187238  1727527800000  0.187238  0.187238  WOOUSDT  0.187238   2.153237   \n",
      "\n",
      "  volume  \n",
      "0   11.3  \n",
      "1   11.5  \n",
      "    symbol                time     price  pct_change  volume\n",
      "0  WOOUSDT 2024-09-28 12:49:00  0.187052         NaN    11.3\n",
      "1  WOOUSDT 2024-09-28 12:50:00  0.187238    0.000994    11.5\n"
     ]
    },
    {
     "name": "stderr",
     "output_type": "stream",
     "text": [
      " 60%|███████████████████████████████████████████████▎                               | 703/1174 [07:06<04:27,  1.76it/s]"
     ]
    },
    {
     "name": "stdout",
     "output_type": "stream",
     "text": [
      "      close     created_at      high       low    market      open  \\\n",
      "0   0.03003  1727527740000   0.03003  0.029691  PBUXUSDT  0.029691   \n",
      "1  0.030631  1727527800000  0.030631  0.030631  PBUXUSDT  0.030631   \n",
      "\n",
      "                value         volume  \n",
      "0  112.78180196164603  3756.29714527  \n",
      "1    24.3684255562252    795.5478292  \n",
      "     symbol                time     price  pct_change       volume\n",
      "0  PBUXUSDT 2024-09-28 12:49:00  0.030030         NaN  3756.297145\n",
      "1  PBUXUSDT 2024-09-28 12:50:00  0.030631    0.019816   795.547829\n"
     ]
    },
    {
     "name": "stderr",
     "output_type": "stream",
     "text": [
      " 60%|███████████████████████████████████████████████▎                               | 704/1174 [07:07<04:26,  1.76it/s]"
     ]
    },
    {
     "name": "stdout",
     "output_type": "stream",
     "text": [
      "     close     created_at     high      low    market     open  \\\n",
      "0  0.00329  1727527740000  0.00329  0.00329  MICEUSDT  0.00329   \n",
      "1  0.00329  1727527800000  0.00329  0.00329  MICEUSDT  0.00329   \n",
      "\n",
      "             value        volume  \n",
      "0  1.8618618929113  565.91546897  \n",
      "1                0             0  \n",
      "     symbol                time    price  pct_change      volume\n",
      "0  MICEUSDT 2024-09-28 12:49:00  0.00329         NaN  565.915469\n",
      "1  MICEUSDT 2024-09-28 12:50:00  0.00329         0.0    0.000000\n"
     ]
    },
    {
     "name": "stderr",
     "output_type": "stream",
     "text": [
      " 60%|███████████████████████████████████████████████▍                               | 705/1174 [07:07<04:28,  1.75it/s]"
     ]
    },
    {
     "name": "stdout",
     "output_type": "stream",
     "text": [
      "    close     created_at    high     low    market    open     value volume\n",
      "0  0.4673  1727527740000  0.4673  0.4673  CUBEUSDT  0.4673   2.57015    5.5\n",
      "1  0.4671  1727527800000  0.4671  0.4671  CUBEUSDT  0.4671  2.779245   5.95\n",
      "     symbol                time   price  pct_change  volume\n",
      "0  CUBEUSDT 2024-09-28 12:49:00  0.4673         NaN    5.50\n",
      "1  CUBEUSDT 2024-09-28 12:50:00  0.4671   -0.000428    5.95\n"
     ]
    },
    {
     "name": "stderr",
     "output_type": "stream",
     "text": [
      " 60%|███████████████████████████████████████████████▌                               | 706/1174 [07:08<04:24,  1.77it/s]"
     ]
    },
    {
     "name": "stdout",
     "output_type": "stream",
     "text": [
      "      close     created_at      high       low        market      open  \\\n",
      "0  0.058497  1727527740000  0.058497  0.058497  RETARDIOUSDT  0.058497   \n",
      "1   0.05845  1727527800000   0.05845   0.05845  RETARDIOUSDT   0.05845   \n",
      "\n",
      "       value volume  \n",
      "0  3.4220745   58.5  \n",
      "1   3.243975   55.5  \n",
      "         symbol                time     price  pct_change  volume\n",
      "0  RETARDIOUSDT 2024-09-28 12:49:00  0.058497         NaN    58.5\n",
      "1  RETARDIOUSDT 2024-09-28 12:50:00  0.058450   -0.000804    55.5\n"
     ]
    },
    {
     "name": "stderr",
     "output_type": "stream",
     "text": [
      " 60%|███████████████████████████████████████████████▌                               | 707/1174 [07:09<04:23,  1.77it/s]"
     ]
    },
    {
     "name": "stdout",
     "output_type": "stream",
     "text": [
      "      close     created_at      high       low     market      open     value  \\\n",
      "0  0.097999  1727527740000  0.097999  0.097999  GAMMAUSDT  0.097999  5.683942   \n",
      "1  0.097999  1727527800000  0.097999  0.097999  GAMMAUSDT  0.097999  5.389945   \n",
      "\n",
      "  volume  \n",
      "0     58  \n",
      "1     55  \n",
      "      symbol                time     price  pct_change  volume\n",
      "0  GAMMAUSDT 2024-09-28 12:49:00  0.097999         NaN    58.0\n",
      "1  GAMMAUSDT 2024-09-28 12:50:00  0.097999         0.0    55.0\n"
     ]
    },
    {
     "name": "stderr",
     "output_type": "stream",
     "text": [
      " 60%|███████████████████████████████████████████████▋                               | 708/1174 [07:09<04:22,  1.77it/s]"
     ]
    },
    {
     "name": "stdout",
     "output_type": "stream",
     "text": [
      "    close     created_at    high     low   market    open     value volume\n",
      "0  2.3005  1727527740000  2.3005  2.3005  GFIUSDT  2.3005   1.33429   0.58\n",
      "1  2.3005  1727527800000  2.3005  2.3005  GFIUSDT  2.3005  1.311285   0.57\n",
      "    symbol                time   price  pct_change  volume\n",
      "0  GFIUSDT 2024-09-28 12:49:00  2.3005         NaN    0.58\n",
      "1  GFIUSDT 2024-09-28 12:50:00  2.3005         0.0    0.57\n"
     ]
    },
    {
     "name": "stderr",
     "output_type": "stream",
     "text": [
      " 60%|███████████████████████████████████████████████▋                               | 709/1174 [07:10<04:20,  1.78it/s]"
     ]
    },
    {
     "name": "stdout",
     "output_type": "stream",
     "text": [
      "    close     created_at    high     low   market    open           value  \\\n",
      "0  0.4363  1727527740000  0.4363  0.4363  SEIUSDT  0.4363  2.302219070386   \n",
      "1   0.436  1727527800000  0.4363   0.436  SEIUSDT  0.4363  4.799413700599   \n",
      "\n",
      "       volume  \n",
      "0  5.27668822  \n",
      "1  11.0037109  \n",
      "    symbol                time   price  pct_change     volume\n",
      "0  SEIUSDT 2024-09-28 12:49:00  0.4363         NaN   5.276688\n",
      "1  SEIUSDT 2024-09-28 12:50:00  0.4360   -0.000688  11.003711\n"
     ]
    },
    {
     "name": "stderr",
     "output_type": "stream",
     "text": [
      " 60%|███████████████████████████████████████████████▊                               | 710/1174 [07:10<04:21,  1.77it/s]"
     ]
    },
    {
     "name": "stdout",
     "output_type": "stream",
     "text": [
      "    close     created_at    high     low   market    open    value volume\n",
      "0  0.3455  1727527740000  0.3455  0.3455  GRSUSDT  0.3455  2.03845    5.9\n",
      "1  0.3456  1727527800000  0.3456  0.3456  GRSUSDT  0.3456  2.03904    5.9\n",
      "    symbol                time   price  pct_change  volume\n",
      "0  GRSUSDT 2024-09-28 12:49:00  0.3455         NaN     5.9\n",
      "1  GRSUSDT 2024-09-28 12:50:00  0.3456    0.000289     5.9\n"
     ]
    },
    {
     "name": "stderr",
     "output_type": "stream",
     "text": [
      " 61%|███████████████████████████████████████████████▊                               | 711/1174 [07:11<04:21,  1.77it/s]"
     ]
    },
    {
     "name": "stdout",
     "output_type": "stream",
     "text": [
      "    close     created_at    high     low  market    open     value volume\n",
      "0  2.1298  1727527740000  2.1298  2.1298  IOUSDT  2.1298  1.224635  0.575\n",
      "1  2.1307  1727527800000  2.1307  2.1307  IOUSDT  2.1307  1.235806   0.58\n",
      "   symbol                time   price  pct_change  volume\n",
      "0  IOUSDT 2024-09-28 12:49:00  2.1298         NaN   0.575\n",
      "1  IOUSDT 2024-09-28 12:50:00  2.1307    0.000422   0.580\n"
     ]
    },
    {
     "name": "stderr",
     "output_type": "stream",
     "text": [
      " 61%|███████████████████████████████████████████████▉                               | 712/1174 [07:11<04:20,  1.77it/s]"
     ]
    },
    {
     "name": "stdout",
     "output_type": "stream",
     "text": [
      "      close     created_at      high       low    market      open  \\\n",
      "0  0.166388  1727527740000  0.166388  0.166388  HERBUSDT  0.166388   \n",
      "1  0.166388  1727527800000  0.166388  0.166388  HERBUSDT  0.166388   \n",
      "\n",
      "              value       volume  \n",
      "0  1.76645482099584  10.61647968  \n",
      "1                 0            0  \n",
      "     symbol                time     price  pct_change    volume\n",
      "0  HERBUSDT 2024-09-28 12:49:00  0.166388         NaN  10.61648\n",
      "1  HERBUSDT 2024-09-28 12:50:00  0.166388         0.0   0.00000\n"
     ]
    },
    {
     "name": "stderr",
     "output_type": "stream",
     "text": [
      " 61%|███████████████████████████████████████████████▉                               | 713/1174 [07:12<04:22,  1.76it/s]"
     ]
    },
    {
     "name": "stdout",
     "output_type": "stream",
     "text": [
      "      close     created_at      high       low   market      open     value  \\\n",
      "0  0.044753  1727527740000  0.044753  0.044753  REZUSDT  0.044753  2.506168   \n",
      "1   0.04473  1727527800000   0.04473   0.04473  REZUSDT   0.04473   2.63907   \n",
      "\n",
      "  volume  \n",
      "0     56  \n",
      "1     59  \n",
      "    symbol                time     price  pct_change  volume\n",
      "0  REZUSDT 2024-09-28 12:49:00  0.044753         NaN    56.0\n",
      "1  REZUSDT 2024-09-28 12:50:00  0.044730   -0.000514    59.0\n"
     ]
    },
    {
     "name": "stderr",
     "output_type": "stream",
     "text": [
      " 61%|████████████████████████████████████████████████                               | 714/1174 [07:13<04:21,  1.76it/s]"
     ]
    },
    {
     "name": "stdout",
     "output_type": "stream",
     "text": [
      "        close     created_at        high         low   market        open  \\\n",
      "0  0.00243939  1727527740000  0.00243939  0.00243939  ETNUSDT  0.00243939   \n",
      "1  0.00244109  1727527800000  0.00244109  0.00244109  ETNUSDT  0.00244109   \n",
      "\n",
      "       value volume  \n",
      "0  2.8296924   1160  \n",
      "1   2.685199   1100  \n",
      "    symbol                time     price  pct_change  volume\n",
      "0  ETNUSDT 2024-09-28 12:49:00  0.002439         NaN  1160.0\n",
      "1  ETNUSDT 2024-09-28 12:50:00  0.002441    0.000697  1100.0\n"
     ]
    },
    {
     "name": "stderr",
     "output_type": "stream",
     "text": [
      " 61%|████████████████████████████████████████████████                               | 715/1174 [07:13<04:24,  1.73it/s]"
     ]
    },
    {
     "name": "stdout",
     "output_type": "stream",
     "text": [
      "      close     created_at      high       low    market      open  \\\n",
      "0  0.143202  1727527740000  0.143202  0.143202  RAREUSDT  0.143202   \n",
      "1  0.143202  1727527800000  0.143202  0.143202  RAREUSDT  0.143202   \n",
      "\n",
      "              value       volume  \n",
      "0  1.54022485319586  10.75560993  \n",
      "1                 0            0  \n",
      "     symbol                time     price  pct_change    volume\n",
      "0  RAREUSDT 2024-09-28 12:49:00  0.143202         NaN  10.75561\n",
      "1  RAREUSDT 2024-09-28 12:50:00  0.143202         0.0   0.00000\n"
     ]
    },
    {
     "name": "stderr",
     "output_type": "stream",
     "text": [
      " 61%|████████████████████████████████████████████████▏                              | 716/1174 [07:14<04:23,  1.74it/s]"
     ]
    },
    {
     "name": "stdout",
     "output_type": "stream",
     "text": [
      "      close     created_at      high       low    market      open  \\\n",
      "0  0.153125  1727527740000  0.153125  0.153111  ZENDUSDT  0.153111   \n",
      "1   0.15297  1727527800000   0.15297   0.15297  ZENDUSDT   0.15297   \n",
      "\n",
      "              value       volume  \n",
      "0  3.36514429956586  21.97737472  \n",
      "1   1.8162393671217  11.87317361  \n",
      "     symbol                time     price  pct_change     volume\n",
      "0  ZENDUSDT 2024-09-28 12:49:00  0.153125         NaN  21.977375\n",
      "1  ZENDUSDT 2024-09-28 12:50:00  0.152970   -0.001013  11.873174\n"
     ]
    },
    {
     "name": "stderr",
     "output_type": "stream",
     "text": [
      " 61%|████████████████████████████████████████████████▏                              | 717/1174 [07:14<04:22,  1.74it/s]"
     ]
    },
    {
     "name": "stdout",
     "output_type": "stream",
     "text": [
      "      close     created_at      high       low    market      open  \\\n",
      "0  0.029006  1727527740000  0.029006  0.029006  BCUTUSDT  0.029006   \n",
      "1  0.029006  1727527800000  0.029006  0.029006  BCUTUSDT  0.029006   \n",
      "\n",
      "             value       volume  \n",
      "0  1.6634805440459  57.34953265  \n",
      "1                0            0  \n",
      "     symbol                time     price  pct_change     volume\n",
      "0  BCUTUSDT 2024-09-28 12:49:00  0.029006         NaN  57.349533\n",
      "1  BCUTUSDT 2024-09-28 12:50:00  0.029006         0.0   0.000000\n"
     ]
    },
    {
     "name": "stderr",
     "output_type": "stream",
     "text": [
      " 61%|████████████████████████████████████████████████▎                              | 718/1174 [07:15<04:19,  1.76it/s]"
     ]
    },
    {
     "name": "stdout",
     "output_type": "stream",
     "text": [
      "    close     created_at    high     low    market    open            value  \\\n",
      "0  1.8703  1727527740000  1.8703  1.8633  OCTAUSDT  1.8633  91.620274401528   \n",
      "1  1.8703  1727527800000  1.8703  1.8703  OCTAUSDT  1.8703                0   \n",
      "\n",
      "        volume  \n",
      "0  49.02241892  \n",
      "1            0  \n",
      "     symbol                time   price  pct_change     volume\n",
      "0  OCTAUSDT 2024-09-28 12:49:00  1.8703         NaN  49.022419\n",
      "1  OCTAUSDT 2024-09-28 12:50:00  1.8703         0.0   0.000000\n"
     ]
    },
    {
     "name": "stderr",
     "output_type": "stream",
     "text": [
      " 61%|████████████████████████████████████████████████▍                              | 719/1174 [07:15<04:21,  1.74it/s]"
     ]
    },
    {
     "name": "stdout",
     "output_type": "stream",
     "text": [
      "     close     created_at     high      low   market     open  \\\n",
      "0  2660.68  1727527740000  2660.76  2660.32  ETHUSDT  2660.68   \n",
      "1  2660.68  1727527800000  2660.68  2660.68  ETHUSDT  2660.68   \n",
      "\n",
      "              value       volume  \n",
      "0  86568.8922349605  32.53812092  \n",
      "1                 0            0  \n",
      "    symbol                time    price  pct_change     volume\n",
      "0  ETHUSDT 2024-09-28 12:49:00  2660.68         NaN  32.538121\n",
      "1  ETHUSDT 2024-09-28 12:50:00  2660.68         0.0   0.000000\n"
     ]
    },
    {
     "name": "stderr",
     "output_type": "stream",
     "text": [
      " 61%|████████████████████████████████████████████████▍                              | 720/1174 [07:16<04:21,  1.74it/s]"
     ]
    },
    {
     "name": "stdout",
     "output_type": "stream",
     "text": [
      "   close     created_at   high    low     market   open          value  \\\n",
      "0  1.522  1727527740000  1.522  1.522  SFUNDUSDT  1.522  1.75819812982   \n",
      "1  1.522  1727527800000  1.522  1.522  SFUNDUSDT  1.522              0   \n",
      "\n",
      "       volume  \n",
      "0  1.15518931  \n",
      "1           0  \n",
      "      symbol                time  price  pct_change    volume\n",
      "0  SFUNDUSDT 2024-09-28 12:49:00  1.522         NaN  1.155189\n",
      "1  SFUNDUSDT 2024-09-28 12:50:00  1.522         0.0  0.000000\n"
     ]
    },
    {
     "name": "stderr",
     "output_type": "stream",
     "text": [
      " 61%|████████████████████████████████████████████████▌                              | 721/1174 [07:17<04:17,  1.76it/s]"
     ]
    },
    {
     "name": "stdout",
     "output_type": "stream",
     "text": [
      "    close     created_at    high     low    market    open    value volume\n",
      "0  0.3202  1727527740000  0.3202  0.3202  POLSUSDT  0.3202  1.85716    5.8\n",
      "1  0.3202  1727527800000  0.3202  0.3202  POLSUSDT  0.3202  1.88918    5.9\n",
      "     symbol                time   price  pct_change  volume\n",
      "0  POLSUSDT 2024-09-28 12:49:00  0.3202         NaN     5.8\n",
      "1  POLSUSDT 2024-09-28 12:50:00  0.3202         0.0     5.9\n"
     ]
    },
    {
     "name": "stderr",
     "output_type": "stream",
     "text": [
      " 61%|████████████████████████████████████████████████▌                              | 721/1174 [07:17<04:34,  1.65it/s]"
     ]
    },
    {
     "name": "stdout",
     "output_type": "stream",
     "text": [
      "Empty DataFrame\n",
      "Columns: []\n",
      "Index: []\n"
     ]
    },
    {
     "name": "stderr",
     "output_type": "stream",
     "text": [
      "\n"
     ]
    },
    {
     "ename": "KeyError",
     "evalue": "'created_at'",
     "output_type": "error",
     "traceback": [
      "\u001b[1;31m---------------------------------------------------------------------------\u001b[0m",
      "\u001b[1;31mKeyError\u001b[0m                                  Traceback (most recent call last)",
      "Cell \u001b[1;32mIn[44], line 1\u001b[0m\n\u001b[1;32m----> 1\u001b[0m \u001b[43mcoinex\u001b[49m\u001b[38;5;241;43m.\u001b[39;49m\u001b[43mget_spot_pctchange\u001b[49m\u001b[43m(\u001b[49m\u001b[38;5;124;43m\"\u001b[39;49m\u001b[38;5;124;43m1min\u001b[39;49m\u001b[38;5;124;43m\"\u001b[39;49m\u001b[43m,\u001b[49m\u001b[38;5;241;43m2\u001b[39;49m\u001b[43m)\u001b[49m\n",
      "File \u001b[1;32m~\\Desktop\\fr\\Coinex_API_Class.py:177\u001b[0m, in \u001b[0;36mCoinex_API.get_spot_pctchange\u001b[1;34m(self, period, limit)\u001b[0m\n\u001b[0;32m    175\u001b[0m df \u001b[38;5;241m=\u001b[39m pd\u001b[38;5;241m.\u001b[39mDataFrame()\n\u001b[0;32m    176\u001b[0m \u001b[38;5;28;01mfor\u001b[39;00m symbol \u001b[38;5;129;01min\u001b[39;00m tqdm(markets) :\n\u001b[1;32m--> 177\u001b[0m     data\u001b[38;5;241m=\u001b[39m\u001b[38;5;28;43mself\u001b[39;49m\u001b[38;5;241;43m.\u001b[39;49m\u001b[43mget_spot_kline\u001b[49m\u001b[43m(\u001b[49m\u001b[43msymbol\u001b[49m\u001b[43m,\u001b[49m\u001b[43mperiod\u001b[49m\u001b[43m,\u001b[49m\u001b[43mlimit\u001b[49m\u001b[43m)\u001b[49m\u001b[38;5;241m.\u001b[39mcopy()\n\u001b[0;32m    178\u001b[0m     df[\u001b[38;5;124m'\u001b[39m\u001b[38;5;124msymbol\u001b[39m\u001b[38;5;124m'\u001b[39m] \u001b[38;5;241m=\u001b[39m symbol\n\u001b[0;32m    179\u001b[0m     df[\u001b[38;5;124m'\u001b[39m\u001b[38;5;124mtime\u001b[39m\u001b[38;5;124m'\u001b[39m] \u001b[38;5;241m=\u001b[39m data[\u001b[38;5;124m'\u001b[39m\u001b[38;5;124mTime\u001b[39m\u001b[38;5;124m'\u001b[39m]\n",
      "File \u001b[1;32m~\\Desktop\\fr\\Coinex_API_Class.py:160\u001b[0m, in \u001b[0;36mCoinex_API.get_spot_kline\u001b[1;34m(self, ticker, period, limit)\u001b[0m\n\u001b[0;32m    158\u001b[0m \u001b[38;5;28mprint\u001b[39m(df)\n\u001b[0;32m    159\u001b[0m \u001b[38;5;66;03m#df2['Time'] = np.where(df['created_at']>0 ,pd.to_datetime(df['created_at'], unit='ms'),df['created_at'].fillna(method='ffill'))\u001b[39;00m\n\u001b[1;32m--> 160\u001b[0m df2[\u001b[38;5;124m'\u001b[39m\u001b[38;5;124mTime\u001b[39m\u001b[38;5;124m'\u001b[39m] \u001b[38;5;241m=\u001b[39m pd\u001b[38;5;241m.\u001b[39mto_datetime(\u001b[43mdf\u001b[49m\u001b[43m[\u001b[49m\u001b[38;5;124;43m'\u001b[39;49m\u001b[38;5;124;43mcreated_at\u001b[39;49m\u001b[38;5;124;43m'\u001b[39;49m\u001b[43m]\u001b[49m, unit\u001b[38;5;241m=\u001b[39m\u001b[38;5;124m'\u001b[39m\u001b[38;5;124mms\u001b[39m\u001b[38;5;124m'\u001b[39m)\n\u001b[0;32m    161\u001b[0m df2[\u001b[38;5;124m'\u001b[39m\u001b[38;5;124mOpen\u001b[39m\u001b[38;5;124m'\u001b[39m] \u001b[38;5;241m=\u001b[39m df[\u001b[38;5;124m\"\u001b[39m\u001b[38;5;124mopen\u001b[39m\u001b[38;5;124m\"\u001b[39m]\u001b[38;5;241m.\u001b[39mastype(\u001b[38;5;28mfloat\u001b[39m)\n\u001b[0;32m    162\u001b[0m df2[\u001b[38;5;124m'\u001b[39m\u001b[38;5;124mHigh\u001b[39m\u001b[38;5;124m'\u001b[39m] \u001b[38;5;241m=\u001b[39m df[\u001b[38;5;124m\"\u001b[39m\u001b[38;5;124mhigh\u001b[39m\u001b[38;5;124m\"\u001b[39m]\u001b[38;5;241m.\u001b[39mastype(\u001b[38;5;28mfloat\u001b[39m)\n",
      "File \u001b[1;32m~\\AppData\\Local\\Programs\\Python\\Python312\\Lib\\site-packages\\pandas\\core\\frame.py:4102\u001b[0m, in \u001b[0;36mDataFrame.__getitem__\u001b[1;34m(self, key)\u001b[0m\n\u001b[0;32m   4100\u001b[0m \u001b[38;5;28;01mif\u001b[39;00m \u001b[38;5;28mself\u001b[39m\u001b[38;5;241m.\u001b[39mcolumns\u001b[38;5;241m.\u001b[39mnlevels \u001b[38;5;241m>\u001b[39m \u001b[38;5;241m1\u001b[39m:\n\u001b[0;32m   4101\u001b[0m     \u001b[38;5;28;01mreturn\u001b[39;00m \u001b[38;5;28mself\u001b[39m\u001b[38;5;241m.\u001b[39m_getitem_multilevel(key)\n\u001b[1;32m-> 4102\u001b[0m indexer \u001b[38;5;241m=\u001b[39m \u001b[38;5;28;43mself\u001b[39;49m\u001b[38;5;241;43m.\u001b[39;49m\u001b[43mcolumns\u001b[49m\u001b[38;5;241;43m.\u001b[39;49m\u001b[43mget_loc\u001b[49m\u001b[43m(\u001b[49m\u001b[43mkey\u001b[49m\u001b[43m)\u001b[49m\n\u001b[0;32m   4103\u001b[0m \u001b[38;5;28;01mif\u001b[39;00m is_integer(indexer):\n\u001b[0;32m   4104\u001b[0m     indexer \u001b[38;5;241m=\u001b[39m [indexer]\n",
      "File \u001b[1;32m~\\AppData\\Local\\Programs\\Python\\Python312\\Lib\\site-packages\\pandas\\core\\indexes\\range.py:417\u001b[0m, in \u001b[0;36mRangeIndex.get_loc\u001b[1;34m(self, key)\u001b[0m\n\u001b[0;32m    415\u001b[0m         \u001b[38;5;28;01mraise\u001b[39;00m \u001b[38;5;167;01mKeyError\u001b[39;00m(key) \u001b[38;5;28;01mfrom\u001b[39;00m \u001b[38;5;21;01merr\u001b[39;00m\n\u001b[0;32m    416\u001b[0m \u001b[38;5;28;01mif\u001b[39;00m \u001b[38;5;28misinstance\u001b[39m(key, Hashable):\n\u001b[1;32m--> 417\u001b[0m     \u001b[38;5;28;01mraise\u001b[39;00m \u001b[38;5;167;01mKeyError\u001b[39;00m(key)\n\u001b[0;32m    418\u001b[0m \u001b[38;5;28mself\u001b[39m\u001b[38;5;241m.\u001b[39m_check_indexing_error(key)\n\u001b[0;32m    419\u001b[0m \u001b[38;5;28;01mraise\u001b[39;00m \u001b[38;5;167;01mKeyError\u001b[39;00m(key)\n",
      "\u001b[1;31mKeyError\u001b[0m: 'created_at'"
     ]
    }
   ],
   "source": [
    "coinex.get_spot_pctchange(\"1min\",2)"
   ]
  },
  {
   "cell_type": "code",
   "execution_count": null,
   "id": "3f3d2e78-ebb7-4f8b-bba9-27cc490207a6",
   "metadata": {},
   "outputs": [],
   "source": []
  }
 ],
 "metadata": {
  "kernelspec": {
   "display_name": "Python 3 (ipykernel)",
   "language": "python",
   "name": "python3"
  },
  "language_info": {
   "codemirror_mode": {
    "name": "ipython",
    "version": 3
   },
   "file_extension": ".py",
   "mimetype": "text/x-python",
   "name": "python",
   "nbconvert_exporter": "python",
   "pygments_lexer": "ipython3",
   "version": "3.12.6"
  }
 },
 "nbformat": 4,
 "nbformat_minor": 5
}
