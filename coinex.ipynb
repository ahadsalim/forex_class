{
 "cells": [
  {
   "cell_type": "code",
   "execution_count": 9,
   "id": "720268cd-41d3-4b2f-b739-2c9a5a91e499",
   "metadata": {},
   "outputs": [
    {
     "name": "stdout",
     "output_type": "stream",
     "text": [
      "{'RECOMMENDATION': 'NEUTRAL', 'BUY': 7, 'SELL': 10, 'NEUTRAL': 9}\n"
     ]
    }
   ],
   "source": [
    "from tradingview_ta import TA_Handler, Interval, Exchange , TradingView\n",
    "\n",
    "tesla = TA_Handler(\n",
    "    symbol=\"BTCUSDT\",\n",
    "    screener=\"crypto\",\n",
    "    exchange=\"COINEX\",\n",
    "    interval=Interval.INTERVAL_1_MINUTE\n",
    ")\n",
    "print(tesla.get_analysis().summary)\n",
    "# Example output: {\"RECOMMENDATION\": \"BUY\", \"BUY\": 8, \"NEUTRAL\": 6, \"SELL\": 3}"
   ]
  },
  {
   "cell_type": "code",
   "execution_count": 26,
   "id": "54968104-cf0f-48a8-aaa6-619e93bb2189",
   "metadata": {},
   "outputs": [],
   "source": [
    "%reload_ext autoreload\n",
    "%autoreload 2\n",
    "import pprint\n",
    "import Coinex_API_Class as CoinexAPI"
   ]
  },
  {
   "cell_type": "code",
   "execution_count": 28,
   "id": "7d1c0d1c-c8f9-4727-98c4-4bb087a3f0ce",
   "metadata": {},
   "outputs": [
    {
     "name": "stdout",
     "output_type": "stream",
     "text": [
      "     base_ccy  base_ccy_precision  is_amm_available  ...  quote_ccy quote_ccy_precision taker_fee_rate\n",
      "0       RADAR                   8              True  ...       USDT                   6          0.003\n",
      "1       TREMP                   8              True  ...       USDT                   4          0.003\n",
      "2        BIFI                   8              True  ...       USDT                   2          0.003\n",
      "3         PSG                   8              True  ...       USDT                   4          0.003\n",
      "4        DOCK                   8              True  ...        BTC                  10          0.003\n",
      "...       ...                 ...               ...  ...        ...                 ...            ...\n",
      "1490     PIVX                   8              True  ...       USDT                   6          0.003\n",
      "1491     DYDX                   8             False  ...       USDC                   4          0.002\n",
      "1492     AVAX                   8             False  ...        BTC                   8          0.002\n",
      "1493     BONK                   2             False  ...        BTC                  12          0.002\n",
      "1494     ELON                   2              True  ...       USDT                  12          0.003\n",
      "\n",
      "[1495 rows x 10 columns]\n"
     ]
    }
   ],
   "source": [
    "api_key = \"47D7C4B286224298BB3D88A9D7161A45\"\n",
    "api_secret = \"F0F2D4156F6892ED2F03576FEE74CFA658C5F8271DCE102D\"\n",
    "coinex = CoinexAPI.Coinex_API(api_key,api_secret)\n",
    "df = coinex.get_spot_market(\")\n",
    "print (df)"
   ]
  },
  {
   "cell_type": "code",
   "execution_count": null,
   "id": "1321f0fa-b84e-4a6a-a496-aff06ea515c8",
   "metadata": {},
   "outputs": [],
   "source": []
  }
 ],
 "metadata": {
  "kernelspec": {
   "display_name": "Python 3 (ipykernel)",
   "language": "python",
   "name": "python3"
  },
  "language_info": {
   "codemirror_mode": {
    "name": "ipython",
    "version": 3
   },
   "file_extension": ".py",
   "mimetype": "text/x-python",
   "name": "python",
   "nbconvert_exporter": "python",
   "pygments_lexer": "ipython3",
   "version": "3.12.6"
  }
 },
 "nbformat": 4,
 "nbformat_minor": 5
}
