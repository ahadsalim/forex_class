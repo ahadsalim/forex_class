{
 "cells": [
  {
   "cell_type": "code",
   "execution_count": null,
   "id": "6cc1def7-4b69-452d-bfff-8ca9d3794f8b",
   "metadata": {},
   "outputs": [],
   "source": [
    "import Coinex_API_Class as CoinexAPI\n",
    "\n",
    "%reload_ext autoreload\n",
    "%autoreload 2\n",
    "    \n",
    "api_key = \"47D7C4B286224298BB3D88A9D7161A45\"\n",
    "api_secret = \"F0F2D4156F6892ED2F03576FEE74CFA658C5F8271DCE102D\"\n",
    "coinex = CoinexAPI.Coinex_API(api_key,api_secret)"
   ]
  },
  {
   "cell_type": "code",
   "execution_count": null,
   "id": "253e263e-15cf-4e5c-8dd4-34631e98b852",
   "metadata": {},
   "outputs": [],
   "source": [
    "df= coinex.get_ta_filtered_tickers(\"15min\",48)\n",
    "df.to_csv(\"data.csv\")"
   ]
  },
  {
   "cell_type": "code",
   "execution_count": null,
   "id": "42e3bba4-a77e-40f5-9bec-2ce2807e4150",
   "metadata": {},
   "outputs": [],
   "source": [
    "import pandas as pd\n",
    "df = pd.read_csv(\"data.csv\")\n",
    "df = df.sort_values(['Cum_Return'],ascending=False)\n",
    "df.shape"
   ]
  },
  {
   "cell_type": "code",
   "execution_count": null,
   "id": "844e36b8-175a-4fd1-b4cc-8258d889fd5b",
   "metadata": {},
   "outputs": [],
   "source": [
    "df2 = df[(df['Recomandation'] == \"STRONG_BUY\") | (df['Recomandation'] == \"STRONG_SELL\")]"
   ]
  },
  {
   "cell_type": "code",
   "execution_count": null,
   "id": "fe3d7880-e6fa-4278-ae8c-e844a1322cc7",
   "metadata": {},
   "outputs": [],
   "source": [
    "df2"
   ]
  },
  {
   "cell_type": "code",
   "execution_count": null,
   "id": "c6980eb9-9b99-44cc-aae5-32bb0f1c9d72",
   "metadata": {},
   "outputs": [],
   "source": [
    "ticker=\"SLNUSDT\"\n",
    "side= \"buy\"\n",
    "type_order=\"limit\"\n",
    "res=coinex.put_spot_order(ticker,side,type_order,amount,price,is_hide)"
   ]
  }
 ],
 "metadata": {
  "kernelspec": {
   "display_name": "Python 3 (ipykernel)",
   "language": "python",
   "name": "python3"
  },
  "language_info": {
   "codemirror_mode": {
    "name": "ipython",
    "version": 3
   },
   "file_extension": ".py",
   "mimetype": "text/x-python",
   "name": "python",
   "nbconvert_exporter": "python",
   "pygments_lexer": "ipython3",
   "version": "3.11.10"
  }
 },
 "nbformat": 4,
 "nbformat_minor": 5
}
